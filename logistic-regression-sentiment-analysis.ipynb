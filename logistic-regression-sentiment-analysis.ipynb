{
 "cells": [
  {
   "cell_type": "code",
   "execution_count": 1,
   "metadata": {
    "execution": {
     "iopub.execute_input": "2020-08-31T21:14:07.518694Z",
     "iopub.status.busy": "2020-08-31T21:14:07.517880Z",
     "iopub.status.idle": "2020-08-31T21:14:10.240880Z",
     "shell.execute_reply": "2020-08-31T21:14:10.240024Z"
    },
    "papermill": {
     "duration": 2.75427,
     "end_time": "2020-08-31T21:14:10.241014",
     "exception": false,
     "start_time": "2020-08-31T21:14:07.486744",
     "status": "completed"
    },
    "tags": []
   },
   "outputs": [],
   "source": [
    "import pandas as pd\n",
    "import nltk\n",
    "import pickle\n",
    "from sklearn.pipeline import Pipeline\n",
    "from sklearn.linear_model import LogisticRegression\n",
    "from sklearn.feature_extraction.text import TfidfVectorizer\n",
    "from sklearn.model_selection import GridSearchCV\n",
    "from nltk.corpus import stopwords\n",
    "from sklearn.feature_extraction.text import TfidfTransformer\n",
    "import numpy as np\n",
    "from nltk.stem.porter import PorterStemmer\n",
    "from sklearn.feature_extraction.text import CountVectorizer\n",
    "import re"
   ]
  },
  {
   "cell_type": "code",
   "execution_count": 2,
   "metadata": {
    "execution": {
     "iopub.execute_input": "2020-08-31T21:14:10.301593Z",
     "iopub.status.busy": "2020-08-31T21:14:10.290675Z",
     "iopub.status.idle": "2020-08-31T21:14:11.440003Z",
     "shell.execute_reply": "2020-08-31T21:14:11.439293Z"
    },
    "papermill": {
     "duration": 1.178605,
     "end_time": "2020-08-31T21:14:11.440133",
     "exception": false,
     "start_time": "2020-08-31T21:14:10.261528",
     "status": "completed"
    },
    "tags": []
   },
   "outputs": [],
   "source": [
    "movie_dataset = pd.read_csv('../input/imdb-movie-reviews-dataset/movie_data.csv')"
   ]
  },
  {
   "cell_type": "code",
   "execution_count": 3,
   "metadata": {
    "execution": {
     "iopub.execute_input": "2020-08-31T21:14:11.497034Z",
     "iopub.status.busy": "2020-08-31T21:14:11.489687Z",
     "iopub.status.idle": "2020-08-31T21:14:11.508316Z",
     "shell.execute_reply": "2020-08-31T21:14:11.507689Z"
    },
    "papermill": {
     "duration": 0.047662,
     "end_time": "2020-08-31T21:14:11.508450",
     "exception": false,
     "start_time": "2020-08-31T21:14:11.460788",
     "status": "completed"
    },
    "tags": []
   },
   "outputs": [
    {
     "data": {
      "text/html": [
       "<div>\n",
       "<style scoped>\n",
       "    .dataframe tbody tr th:only-of-type {\n",
       "        vertical-align: middle;\n",
       "    }\n",
       "\n",
       "    .dataframe tbody tr th {\n",
       "        vertical-align: top;\n",
       "    }\n",
       "\n",
       "    .dataframe thead th {\n",
       "        text-align: right;\n",
       "    }\n",
       "</style>\n",
       "<table border=\"1\" class=\"dataframe\">\n",
       "  <thead>\n",
       "    <tr style=\"text-align: right;\">\n",
       "      <th></th>\n",
       "      <th>review</th>\n",
       "      <th>sentiment</th>\n",
       "    </tr>\n",
       "  </thead>\n",
       "  <tbody>\n",
       "    <tr>\n",
       "      <th>0</th>\n",
       "      <td>In 1974, the teenager Martha Moxley (Maggie Gr...</td>\n",
       "      <td>1</td>\n",
       "    </tr>\n",
       "    <tr>\n",
       "      <th>1</th>\n",
       "      <td>OK... so... I really like Kris Kristofferson a...</td>\n",
       "      <td>0</td>\n",
       "    </tr>\n",
       "    <tr>\n",
       "      <th>2</th>\n",
       "      <td>***SPOILER*** Do not read this, if you think a...</td>\n",
       "      <td>0</td>\n",
       "    </tr>\n",
       "    <tr>\n",
       "      <th>3</th>\n",
       "      <td>hi for all the people who have seen this wonde...</td>\n",
       "      <td>1</td>\n",
       "    </tr>\n",
       "    <tr>\n",
       "      <th>4</th>\n",
       "      <td>I recently bought the DVD, forgetting just how...</td>\n",
       "      <td>0</td>\n",
       "    </tr>\n",
       "  </tbody>\n",
       "</table>\n",
       "</div>"
      ],
      "text/plain": [
       "                                              review  sentiment\n",
       "0  In 1974, the teenager Martha Moxley (Maggie Gr...          1\n",
       "1  OK... so... I really like Kris Kristofferson a...          0\n",
       "2  ***SPOILER*** Do not read this, if you think a...          0\n",
       "3  hi for all the people who have seen this wonde...          1\n",
       "4  I recently bought the DVD, forgetting just how...          0"
      ]
     },
     "execution_count": 3,
     "metadata": {},
     "output_type": "execute_result"
    }
   ],
   "source": [
    "movie_dataset.head()"
   ]
  },
  {
   "cell_type": "code",
   "execution_count": 4,
   "metadata": {
    "execution": {
     "iopub.execute_input": "2020-08-31T21:14:11.563631Z",
     "iopub.status.busy": "2020-08-31T21:14:11.562619Z",
     "iopub.status.idle": "2020-08-31T21:14:11.568127Z",
     "shell.execute_reply": "2020-08-31T21:14:11.567494Z"
    },
    "papermill": {
     "duration": 0.036865,
     "end_time": "2020-08-31T21:14:11.568296",
     "exception": false,
     "start_time": "2020-08-31T21:14:11.531431",
     "status": "completed"
    },
    "tags": []
   },
   "outputs": [],
   "source": [
    "count = CountVectorizer()\n",
    "docs = np.array([\n",
    "        'The sun is shining',\n",
    "        'The weather is sweet',\n",
    "        'The sun is shining, the weather is sweet, and one and one is two'])\n",
    "bag = count.fit_transform(docs)"
   ]
  },
  {
   "cell_type": "code",
   "execution_count": 5,
   "metadata": {
    "execution": {
     "iopub.execute_input": "2020-08-31T21:14:11.617761Z",
     "iopub.status.busy": "2020-08-31T21:14:11.616674Z",
     "iopub.status.idle": "2020-08-31T21:14:11.620448Z",
     "shell.execute_reply": "2020-08-31T21:14:11.621224Z"
    },
    "papermill": {
     "duration": 0.031895,
     "end_time": "2020-08-31T21:14:11.621446",
     "exception": false,
     "start_time": "2020-08-31T21:14:11.589551",
     "status": "completed"
    },
    "tags": []
   },
   "outputs": [
    {
     "name": "stdout",
     "output_type": "stream",
     "text": [
      "{'the': 6, 'sun': 4, 'is': 1, 'shining': 3, 'weather': 8, 'sweet': 5, 'and': 0, 'one': 2, 'two': 7}\n",
      "\n",
      "[[0 1 0 1 1 0 1 0 0]\n",
      " [0 1 0 0 0 1 1 0 1]\n",
      " [2 3 2 1 1 1 2 1 1]]\n"
     ]
    }
   ],
   "source": [
    "print(count.vocabulary_)\n",
    "print()\n",
    "print(bag.toarray())"
   ]
  },
  {
   "cell_type": "code",
   "execution_count": 6,
   "metadata": {
    "execution": {
     "iopub.execute_input": "2020-08-31T21:14:11.693712Z",
     "iopub.status.busy": "2020-08-31T21:14:11.692661Z",
     "iopub.status.idle": "2020-08-31T21:14:11.697299Z",
     "shell.execute_reply": "2020-08-31T21:14:11.697851Z"
    },
    "papermill": {
     "duration": 0.047996,
     "end_time": "2020-08-31T21:14:11.698035",
     "exception": false,
     "start_time": "2020-08-31T21:14:11.650039",
     "status": "completed"
    },
    "tags": []
   },
   "outputs": [
    {
     "name": "stdout",
     "output_type": "stream",
     "text": [
      "[[0.   0.43 0.   0.56 0.56 0.   0.43 0.   0.  ]\n",
      " [0.   0.43 0.   0.   0.   0.56 0.43 0.   0.56]\n",
      " [0.5  0.45 0.5  0.19 0.19 0.19 0.3  0.25 0.19]]\n"
     ]
    }
   ],
   "source": [
    "np.set_printoptions(precision=2)\n",
    "tfidf = TfidfTransformer(use_idf=True, norm='l2', smooth_idf=True)\n",
    "print(tfidf.fit_transform(count.fit_transform(docs)).toarray())"
   ]
  },
  {
   "cell_type": "code",
   "execution_count": 7,
   "metadata": {
    "execution": {
     "iopub.execute_input": "2020-08-31T21:14:11.751560Z",
     "iopub.status.busy": "2020-08-31T21:14:11.750547Z",
     "iopub.status.idle": "2020-08-31T21:14:11.754932Z",
     "shell.execute_reply": "2020-08-31T21:14:11.754175Z"
    },
    "papermill": {
     "duration": 0.034637,
     "end_time": "2020-08-31T21:14:11.755057",
     "exception": false,
     "start_time": "2020-08-31T21:14:11.720420",
     "status": "completed"
    },
    "tags": []
   },
   "outputs": [
    {
     "name": "stdout",
     "output_type": "stream",
     "text": [
      "tf-idf of term \"is\" = 3.00\n"
     ]
    }
   ],
   "source": [
    "tf_is = 3\n",
    "n_docs = 3\n",
    "idf_is = np.log((n_docs+1) / (3+1))\n",
    "tfidf_is = tf_is * (idf_is + 1)\n",
    "print('tf-idf of term \"is\" = %.2f' % tfidf_is)"
   ]
  },
  {
   "cell_type": "code",
   "execution_count": 8,
   "metadata": {
    "execution": {
     "iopub.execute_input": "2020-08-31T21:14:11.812550Z",
     "iopub.status.busy": "2020-08-31T21:14:11.811434Z",
     "iopub.status.idle": "2020-08-31T21:14:11.816196Z",
     "shell.execute_reply": "2020-08-31T21:14:11.815379Z"
    },
    "papermill": {
     "duration": 0.038187,
     "end_time": "2020-08-31T21:14:11.816382",
     "exception": false,
     "start_time": "2020-08-31T21:14:11.778195",
     "status": "completed"
    },
    "tags": []
   },
   "outputs": [
    {
     "data": {
      "text/plain": [
       "array([3.39, 3.  , 3.39, 1.29, 1.29, 1.29, 2.  , 1.69, 1.29])"
      ]
     },
     "execution_count": 8,
     "metadata": {},
     "output_type": "execute_result"
    }
   ],
   "source": [
    "tfidf = TfidfTransformer(use_idf=True, norm=None, smooth_idf=True)\n",
    "raw_tfidf = tfidf.fit_transform(count.fit_transform(docs)).toarray()[-1]\n",
    "raw_tfidf"
   ]
  },
  {
   "cell_type": "code",
   "execution_count": 9,
   "metadata": {
    "execution": {
     "iopub.execute_input": "2020-08-31T21:14:11.875885Z",
     "iopub.status.busy": "2020-08-31T21:14:11.874861Z",
     "iopub.status.idle": "2020-08-31T21:14:11.880249Z",
     "shell.execute_reply": "2020-08-31T21:14:11.879528Z"
    },
    "papermill": {
     "duration": 0.035314,
     "end_time": "2020-08-31T21:14:11.880411",
     "exception": false,
     "start_time": "2020-08-31T21:14:11.845097",
     "status": "completed"
    },
    "tags": []
   },
   "outputs": [
    {
     "data": {
      "text/plain": [
       "array([0.5 , 0.45, 0.5 , 0.19, 0.19, 0.19, 0.3 , 0.25, 0.19])"
      ]
     },
     "execution_count": 9,
     "metadata": {},
     "output_type": "execute_result"
    }
   ],
   "source": [
    "l2_tfidf = raw_tfidf / np.sqrt(np.sum(raw_tfidf**2))\n",
    "l2_tfidf"
   ]
  },
  {
   "cell_type": "code",
   "execution_count": 10,
   "metadata": {
    "execution": {
     "iopub.execute_input": "2020-08-31T21:14:11.937396Z",
     "iopub.status.busy": "2020-08-31T21:14:11.936560Z",
     "iopub.status.idle": "2020-08-31T21:14:11.946883Z",
     "shell.execute_reply": "2020-08-31T21:14:11.946180Z"
    },
    "papermill": {
     "duration": 0.042446,
     "end_time": "2020-08-31T21:14:11.947011",
     "exception": false,
     "start_time": "2020-08-31T21:14:11.904565",
     "status": "completed"
    },
    "tags": []
   },
   "outputs": [
    {
     "data": {
      "text/plain": [
       "'is seven.<br /><br />Title (Brazil): Not Available'"
      ]
     },
     "execution_count": 10,
     "metadata": {},
     "output_type": "execute_result"
    }
   ],
   "source": [
    "movie_dataset.loc[0, 'review'][-50:]"
   ]
  },
  {
   "cell_type": "code",
   "execution_count": 11,
   "metadata": {
    "execution": {
     "iopub.execute_input": "2020-08-31T21:14:12.018371Z",
     "iopub.status.busy": "2020-08-31T21:14:12.017200Z",
     "iopub.status.idle": "2020-08-31T21:14:12.021278Z",
     "shell.execute_reply": "2020-08-31T21:14:12.020582Z"
    },
    "papermill": {
     "duration": 0.045435,
     "end_time": "2020-08-31T21:14:12.021429",
     "exception": false,
     "start_time": "2020-08-31T21:14:11.975994",
     "status": "completed"
    },
    "tags": []
   },
   "outputs": [],
   "source": [
    "def preprocessor(text):\n",
    "    text = re.sub('<[^>]*>', '', text)\n",
    "    emoticons = re.findall('(?::|;|=)(?:-)?(?:\\)|\\(|D|P)', text)\n",
    "    text = re.sub('[\\W]+', ' ', text.lower()) +\\\n",
    "        ' '.join(emoticons).replace('-', '')\n",
    "    return text"
   ]
  },
  {
   "cell_type": "code",
   "execution_count": 12,
   "metadata": {
    "execution": {
     "iopub.execute_input": "2020-08-31T21:14:12.080422Z",
     "iopub.status.busy": "2020-08-31T21:14:12.079275Z",
     "iopub.status.idle": "2020-08-31T21:14:12.084683Z",
     "shell.execute_reply": "2020-08-31T21:14:12.083998Z"
    },
    "papermill": {
     "duration": 0.038376,
     "end_time": "2020-08-31T21:14:12.084821",
     "exception": false,
     "start_time": "2020-08-31T21:14:12.046445",
     "status": "completed"
    },
    "tags": []
   },
   "outputs": [
    {
     "data": {
      "text/plain": [
       "'is seven title brazil not available'"
      ]
     },
     "execution_count": 12,
     "metadata": {},
     "output_type": "execute_result"
    }
   ],
   "source": [
    "preprocessor(movie_dataset.loc[0, 'review'][-50:])"
   ]
  },
  {
   "cell_type": "code",
   "execution_count": 13,
   "metadata": {
    "execution": {
     "iopub.execute_input": "2020-08-31T21:14:12.143784Z",
     "iopub.status.busy": "2020-08-31T21:14:12.142637Z",
     "iopub.status.idle": "2020-08-31T21:14:12.147784Z",
     "shell.execute_reply": "2020-08-31T21:14:12.147040Z"
    },
    "papermill": {
     "duration": 0.03739,
     "end_time": "2020-08-31T21:14:12.147910",
     "exception": false,
     "start_time": "2020-08-31T21:14:12.110520",
     "status": "completed"
    },
    "tags": []
   },
   "outputs": [
    {
     "data": {
      "text/plain": [
       "'this is a test :) :( :)'"
      ]
     },
     "execution_count": 13,
     "metadata": {},
     "output_type": "execute_result"
    }
   ],
   "source": [
    "preprocessor(\"</a>This :) is :( a test :-)!\")"
   ]
  },
  {
   "cell_type": "code",
   "execution_count": 14,
   "metadata": {
    "execution": {
     "iopub.execute_input": "2020-08-31T21:14:12.217063Z",
     "iopub.status.busy": "2020-08-31T21:14:12.206525Z",
     "iopub.status.idle": "2020-08-31T21:14:23.163927Z",
     "shell.execute_reply": "2020-08-31T21:14:23.163249Z"
    },
    "papermill": {
     "duration": 10.990207,
     "end_time": "2020-08-31T21:14:23.164073",
     "exception": false,
     "start_time": "2020-08-31T21:14:12.173866",
     "status": "completed"
    },
    "tags": []
   },
   "outputs": [],
   "source": [
    "movie_dataset['review'] = movie_dataset['review'].apply(preprocessor)"
   ]
  },
  {
   "cell_type": "code",
   "execution_count": 15,
   "metadata": {
    "execution": {
     "iopub.execute_input": "2020-08-31T21:14:23.224178Z",
     "iopub.status.busy": "2020-08-31T21:14:23.223392Z",
     "iopub.status.idle": "2020-08-31T21:14:23.227778Z",
     "shell.execute_reply": "2020-08-31T21:14:23.227116Z"
    },
    "papermill": {
     "duration": 0.03696,
     "end_time": "2020-08-31T21:14:23.227904",
     "exception": false,
     "start_time": "2020-08-31T21:14:23.190944",
     "status": "completed"
    },
    "tags": []
   },
   "outputs": [],
   "source": [
    "porter = PorterStemmer()\n",
    "\n",
    "def tokenizer(text):\n",
    "    return text.split()\n",
    "\n",
    "\n",
    "def tokenizer_porter(text):\n",
    "    return [porter.stem(word) for word in text.split()]"
   ]
  },
  {
   "cell_type": "code",
   "execution_count": 16,
   "metadata": {
    "execution": {
     "iopub.execute_input": "2020-08-31T21:14:23.286178Z",
     "iopub.status.busy": "2020-08-31T21:14:23.285352Z",
     "iopub.status.idle": "2020-08-31T21:14:23.290334Z",
     "shell.execute_reply": "2020-08-31T21:14:23.289587Z"
    },
    "papermill": {
     "duration": 0.036409,
     "end_time": "2020-08-31T21:14:23.290475",
     "exception": false,
     "start_time": "2020-08-31T21:14:23.254066",
     "status": "completed"
    },
    "tags": []
   },
   "outputs": [
    {
     "data": {
      "text/plain": [
       "['runners', 'like', 'running', 'and', 'thus', 'they', 'run']"
      ]
     },
     "execution_count": 16,
     "metadata": {},
     "output_type": "execute_result"
    }
   ],
   "source": [
    "tokenizer('runners like running and thus they run')"
   ]
  },
  {
   "cell_type": "code",
   "execution_count": 17,
   "metadata": {
    "execution": {
     "iopub.execute_input": "2020-08-31T21:14:23.352342Z",
     "iopub.status.busy": "2020-08-31T21:14:23.351049Z",
     "iopub.status.idle": "2020-08-31T21:14:23.355797Z",
     "shell.execute_reply": "2020-08-31T21:14:23.355028Z"
    },
    "papermill": {
     "duration": 0.038448,
     "end_time": "2020-08-31T21:14:23.355922",
     "exception": false,
     "start_time": "2020-08-31T21:14:23.317474",
     "status": "completed"
    },
    "tags": []
   },
   "outputs": [
    {
     "data": {
      "text/plain": [
       "['runner', 'like', 'run', 'and', 'thu', 'they', 'run']"
      ]
     },
     "execution_count": 17,
     "metadata": {},
     "output_type": "execute_result"
    }
   ],
   "source": [
    "tokenizer_porter('runners like running and thus they run')"
   ]
  },
  {
   "cell_type": "code",
   "execution_count": 18,
   "metadata": {
    "execution": {
     "iopub.execute_input": "2020-08-31T21:14:23.437038Z",
     "iopub.status.busy": "2020-08-31T21:14:23.436138Z",
     "iopub.status.idle": "2020-08-31T21:14:23.583906Z",
     "shell.execute_reply": "2020-08-31T21:14:23.583115Z"
    },
    "papermill": {
     "duration": 0.200321,
     "end_time": "2020-08-31T21:14:23.584034",
     "exception": false,
     "start_time": "2020-08-31T21:14:23.383713",
     "status": "completed"
    },
    "tags": []
   },
   "outputs": [
    {
     "name": "stdout",
     "output_type": "stream",
     "text": [
      "[nltk_data] Downloading package stopwords to /usr/share/nltk_data...\n",
      "[nltk_data]   Package stopwords is already up-to-date!\n"
     ]
    },
    {
     "data": {
      "text/plain": [
       "True"
      ]
     },
     "execution_count": 18,
     "metadata": {},
     "output_type": "execute_result"
    }
   ],
   "source": [
    "nltk.download('stopwords')"
   ]
  },
  {
   "cell_type": "code",
   "execution_count": 19,
   "metadata": {
    "execution": {
     "iopub.execute_input": "2020-08-31T21:14:23.647849Z",
     "iopub.status.busy": "2020-08-31T21:14:23.647041Z",
     "iopub.status.idle": "2020-08-31T21:14:23.657680Z",
     "shell.execute_reply": "2020-08-31T21:14:23.656842Z"
    },
    "papermill": {
     "duration": 0.045499,
     "end_time": "2020-08-31T21:14:23.657815",
     "exception": false,
     "start_time": "2020-08-31T21:14:23.612316",
     "status": "completed"
    },
    "tags": []
   },
   "outputs": [
    {
     "data": {
      "text/plain": [
       "['runner', 'like', 'run', 'run', 'lot']"
      ]
     },
     "execution_count": 19,
     "metadata": {},
     "output_type": "execute_result"
    }
   ],
   "source": [
    "stop = stopwords.words('english')\n",
    "[w for w in tokenizer_porter('a runner likes running and runs a lot')[-10:]\n",
    "if w not in stop]"
   ]
  },
  {
   "cell_type": "code",
   "execution_count": 20,
   "metadata": {
    "execution": {
     "iopub.execute_input": "2020-08-31T21:14:23.725388Z",
     "iopub.status.busy": "2020-08-31T21:14:23.724296Z",
     "iopub.status.idle": "2020-08-31T21:14:23.727855Z",
     "shell.execute_reply": "2020-08-31T21:14:23.727118Z"
    },
    "papermill": {
     "duration": 0.040528,
     "end_time": "2020-08-31T21:14:23.727977",
     "exception": false,
     "start_time": "2020-08-31T21:14:23.687449",
     "status": "completed"
    },
    "tags": []
   },
   "outputs": [],
   "source": [
    "X_train = movie_dataset.loc[:25000, 'review'].values\n",
    "y_train = movie_dataset.loc[:25000, 'sentiment'].values\n",
    "X_test = movie_dataset.loc[25000:, 'review'].values\n",
    "y_test = movie_dataset.loc[25000:, 'sentiment'].values"
   ]
  },
  {
   "cell_type": "code",
   "execution_count": 21,
   "metadata": {
    "execution": {
     "iopub.execute_input": "2020-08-31T21:14:23.792850Z",
     "iopub.status.busy": "2020-08-31T21:14:23.792035Z",
     "iopub.status.idle": "2020-08-31T21:14:23.796100Z",
     "shell.execute_reply": "2020-08-31T21:14:23.795335Z"
    },
    "papermill": {
     "duration": 0.039252,
     "end_time": "2020-08-31T21:14:23.796230",
     "exception": false,
     "start_time": "2020-08-31T21:14:23.756978",
     "status": "completed"
    },
    "tags": []
   },
   "outputs": [
    {
     "name": "stdout",
     "output_type": "stream",
     "text": [
      "Review:  ['ok so i really like kris kristofferson and his usual easy going delivery of lines in his movies age has helped him with his soft spoken low energy style and he will steal a scene effortlessly but disappearance is his misstep holy moly this was a bad movie i must give kudos to the cinematography and and the actors including kris for trying their darndest to make sense from this goofy confusing story none of it made sense and kris probably didn t understand it either and he was just going through the motions hoping someone would come up to him and tell him what it was all about i don t care that everyone on this movie was doing out of love for the project or some such nonsense i ve seen low budget movies that had a plot for goodness sake this had none zilcho nada zippo empty of reason a complete waste of good talent scenery and celluloid i rented this piece of garbage for a buck and i want my money back i want my 2 hours back i invested on this grade f waste of my time don t watch this movie or waste 1 minute of your valuable time while passing through a room where it s playing or even open up the case that is holding the dvd believe me you ll thank me for the advice '] \n",
      "\n",
      "Sentiment:  0\n"
     ]
    }
   ],
   "source": [
    "print(\"Review: \", X_train[1:2], \"\\n\")\n",
    "print(\"Sentiment: \", y_train[1])"
   ]
  },
  {
   "cell_type": "code",
   "execution_count": 22,
   "metadata": {
    "execution": {
     "iopub.execute_input": "2020-08-31T21:14:23.869209Z",
     "iopub.status.busy": "2020-08-31T21:14:23.868416Z",
     "iopub.status.idle": "2020-08-31T21:14:23.871914Z",
     "shell.execute_reply": "2020-08-31T21:14:23.872543Z"
    },
    "papermill": {
     "duration": 0.046303,
     "end_time": "2020-08-31T21:14:23.872708",
     "exception": false,
     "start_time": "2020-08-31T21:14:23.826405",
     "status": "completed"
    },
    "tags": []
   },
   "outputs": [],
   "source": [
    "tfidf = TfidfVectorizer(strip_accents=None,\n",
    "                        lowercase=False,\n",
    "                        preprocessor=None)\n",
    "\n",
    "param_grid = [{'vect__ngram_range': [(1, 1)],\n",
    "               'vect__stop_words': [stop, None],\n",
    "               'vect__tokenizer': [tokenizer, tokenizer_porter],\n",
    "               'clf__penalty': ['l2'],\n",
    "               'clf__C': [1.0, 10.0, 100.0]},\n",
    "              {'vect__ngram_range': [(1, 1)],\n",
    "               'vect__stop_words': [stop, None],\n",
    "               'vect__tokenizer': [tokenizer, tokenizer_porter],\n",
    "               'vect__use_idf':[False],\n",
    "               'vect__norm':[None],\n",
    "               'clf__penalty': ['l2'],\n",
    "               'clf__C': [1.0, 10.0, 100.0]},\n",
    "              ]\n",
    "\n",
    "lr_tfidf = Pipeline([('vect', tfidf),\n",
    "                     ('clf', LogisticRegression(random_state=0))])\n",
    "\n",
    "gs_lr_tfidf = GridSearchCV(lr_tfidf, param_grid,\n",
    "                           scoring='accuracy',\n",
    "                           cv=5,\n",
    "                           verbose=1,\n",
    "                           n_jobs=-1)"
   ]
  },
  {
   "cell_type": "code",
   "execution_count": 23,
   "metadata": {
    "execution": {
     "iopub.execute_input": "2020-08-31T21:14:23.938125Z",
     "iopub.status.busy": "2020-08-31T21:14:23.937045Z",
     "iopub.status.idle": "2020-08-31T21:14:23.940603Z",
     "shell.execute_reply": "2020-08-31T21:14:23.939947Z"
    },
    "papermill": {
     "duration": 0.038255,
     "end_time": "2020-08-31T21:14:23.940736",
     "exception": false,
     "start_time": "2020-08-31T21:14:23.902481",
     "status": "completed"
    },
    "tags": []
   },
   "outputs": [],
   "source": [
    "# filename = 'saved_model.sav'\n",
    "# gs_lr_tfidf = pickle.load(open(filename, 'rb'))"
   ]
  },
  {
   "cell_type": "code",
   "execution_count": 24,
   "metadata": {
    "execution": {
     "iopub.execute_input": "2020-08-31T21:14:24.007939Z",
     "iopub.status.busy": "2020-08-31T21:14:24.006827Z",
     "iopub.status.idle": "2020-08-31T21:14:24.010356Z",
     "shell.execute_reply": "2020-08-31T21:14:24.009695Z"
    },
    "papermill": {
     "duration": 0.03901,
     "end_time": "2020-08-31T21:14:24.010486",
     "exception": false,
     "start_time": "2020-08-31T21:14:23.971476",
     "status": "completed"
    },
    "tags": []
   },
   "outputs": [],
   "source": [
    "# clf = gs_lr_tfidf.best_estimator_\n",
    "# print('Test Accuracy: %.3f' % clf.score(X_test, y_test))\n",
    "# Test Accuracy: 0.90"
   ]
  },
  {
   "cell_type": "code",
   "execution_count": null,
   "metadata": {
    "papermill": {
     "duration": 0.029858,
     "end_time": "2020-08-31T21:14:24.070526",
     "exception": false,
     "start_time": "2020-08-31T21:14:24.040668",
     "status": "completed"
    },
    "tags": []
   },
   "outputs": [],
   "source": []
  }
 ],
 "metadata": {
  "kernelspec": {
   "display_name": "Python 3",
   "language": "python",
   "name": "python3"
  },
  "language_info": {
   "codemirror_mode": {
    "name": "ipython",
    "version": 3
   },
   "file_extension": ".py",
   "mimetype": "text/x-python",
   "name": "python",
   "nbconvert_exporter": "python",
   "pygments_lexer": "ipython3",
   "version": "3.7.6"
  },
  "papermill": {
   "duration": 24.106852,
   "end_time": "2020-08-31T21:14:25.150186",
   "environment_variables": {},
   "exception": null,
   "input_path": "__notebook__.ipynb",
   "output_path": "__notebook__.ipynb",
   "parameters": {},
   "start_time": "2020-08-31T21:14:01.043334",
   "version": "2.1.0"
  }
 },
 "nbformat": 4,
 "nbformat_minor": 4
}
