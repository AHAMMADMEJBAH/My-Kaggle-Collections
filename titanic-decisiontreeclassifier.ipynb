{
 "cells": [
  {
   "cell_type": "code",
   "execution_count": 1,
   "metadata": {
    "_cell_guid": "79c7e3d0-c299-4dcb-8224-4455121ee9b0",
    "_uuid": "d629ff2d2480ee46fbb7e2d37f6b5fab8052498a",
    "execution": {
     "iopub.execute_input": "2020-08-24T16:05:17.634346Z",
     "iopub.status.busy": "2020-08-24T16:05:17.633041Z",
     "iopub.status.idle": "2020-08-24T16:05:20.464099Z",
     "shell.execute_reply": "2020-08-24T16:05:20.463191Z"
    },
    "papermill": {
     "duration": 2.871388,
     "end_time": "2020-08-24T16:05:20.464260",
     "exception": false,
     "start_time": "2020-08-24T16:05:17.592872",
     "status": "completed"
    },
    "tags": []
   },
   "outputs": [],
   "source": [
    "import warnings\n",
    "import pandas as pd\n",
    "import numpy as np\n",
    "import matplotlib.pyplot as plt\n",
    "from sklearn import preprocessing\n",
    "\n",
    "from sklearn.model_selection import StratifiedKFold\n",
    "import statsmodels.api as sm\n",
    "from sklearn import metrics\n",
    "from sklearn.linear_model import LogisticRegression\n",
    "from sklearn.naive_bayes import GaussianNB\n",
    "from sklearn.ensemble import RandomForestClassifier\n",
    "from sklearn.svm import SVC\n",
    "from sklearn.neighbors import KNeighborsClassifier\n",
    "from sklearn.tree import DecisionTreeClassifier\n",
    "from sklearn.ensemble import AdaBoostClassifier\n",
    "from sklearn.ensemble import BaggingClassifier\n",
    "from sklearn.ensemble import GradientBoostingClassifier\n",
    "\n",
    "\n",
    "\n",
    "# currently its available as part of mlxtend and not sklearn\n",
    "from mlxtend.classifier import EnsembleVoteClassifier\n",
    "\n",
    "from sklearn.model_selection import cross_val_score\n",
    "from sklearn import metrics\n",
    "from sklearn.model_selection import train_test_split\n",
    "\n",
    "\n",
    "warnings.filterwarnings('ignore')\n",
    "\n",
    "from matplotlib.colors import ListedColormap\n",
    "import matplotlib.pyplot as plt\n",
    "\n",
    "\n",
    "from sklearn.cluster import KMeans\n",
    "from sklearn.metrics import silhouette_samples, silhouette_score\n",
    "from sklearn import metrics\n",
    "from sklearn.preprocessing import StandardScaler\n",
    "\n",
    "%matplotlib inline"
   ]
  },
  {
   "cell_type": "code",
   "execution_count": 2,
   "metadata": {
    "execution": {
     "iopub.execute_input": "2020-08-24T16:05:20.511800Z",
     "iopub.status.busy": "2020-08-24T16:05:20.511000Z",
     "iopub.status.idle": "2020-08-24T16:05:20.526081Z",
     "shell.execute_reply": "2020-08-24T16:05:20.525323Z"
    },
    "papermill": {
     "duration": 0.042825,
     "end_time": "2020-08-24T16:05:20.526227",
     "exception": false,
     "start_time": "2020-08-24T16:05:20.483402",
     "status": "completed"
    },
    "tags": []
   },
   "outputs": [],
   "source": [
    "datasets = pd.read_csv('../input/titanic/train.csv')"
   ]
  },
  {
   "cell_type": "code",
   "execution_count": 3,
   "metadata": {
    "execution": {
     "iopub.execute_input": "2020-08-24T16:05:20.585407Z",
     "iopub.status.busy": "2020-08-24T16:05:20.584622Z",
     "iopub.status.idle": "2020-08-24T16:05:20.600288Z",
     "shell.execute_reply": "2020-08-24T16:05:20.599577Z"
    },
    "papermill": {
     "duration": 0.054832,
     "end_time": "2020-08-24T16:05:20.600425",
     "exception": false,
     "start_time": "2020-08-24T16:05:20.545593",
     "status": "completed"
    },
    "tags": []
   },
   "outputs": [
    {
     "data": {
      "text/html": [
       "<div>\n",
       "<style scoped>\n",
       "    .dataframe tbody tr th:only-of-type {\n",
       "        vertical-align: middle;\n",
       "    }\n",
       "\n",
       "    .dataframe tbody tr th {\n",
       "        vertical-align: top;\n",
       "    }\n",
       "\n",
       "    .dataframe thead th {\n",
       "        text-align: right;\n",
       "    }\n",
       "</style>\n",
       "<table border=\"1\" class=\"dataframe\">\n",
       "  <thead>\n",
       "    <tr style=\"text-align: right;\">\n",
       "      <th></th>\n",
       "      <th>PassengerId</th>\n",
       "      <th>Survived</th>\n",
       "      <th>Pclass</th>\n",
       "      <th>Name</th>\n",
       "      <th>Sex</th>\n",
       "      <th>Age</th>\n",
       "      <th>SibSp</th>\n",
       "      <th>Parch</th>\n",
       "      <th>Ticket</th>\n",
       "      <th>Fare</th>\n",
       "      <th>Cabin</th>\n",
       "      <th>Embarked</th>\n",
       "    </tr>\n",
       "  </thead>\n",
       "  <tbody>\n",
       "    <tr>\n",
       "      <th>0</th>\n",
       "      <td>1</td>\n",
       "      <td>0</td>\n",
       "      <td>3</td>\n",
       "      <td>Braund, Mr. Owen Harris</td>\n",
       "      <td>male</td>\n",
       "      <td>22.0</td>\n",
       "      <td>1</td>\n",
       "      <td>0</td>\n",
       "      <td>A/5 21171</td>\n",
       "      <td>7.2500</td>\n",
       "      <td>NaN</td>\n",
       "      <td>S</td>\n",
       "    </tr>\n",
       "    <tr>\n",
       "      <th>1</th>\n",
       "      <td>2</td>\n",
       "      <td>1</td>\n",
       "      <td>1</td>\n",
       "      <td>Cumings, Mrs. John Bradley (Florence Briggs Th...</td>\n",
       "      <td>female</td>\n",
       "      <td>38.0</td>\n",
       "      <td>1</td>\n",
       "      <td>0</td>\n",
       "      <td>PC 17599</td>\n",
       "      <td>71.2833</td>\n",
       "      <td>C85</td>\n",
       "      <td>C</td>\n",
       "    </tr>\n",
       "    <tr>\n",
       "      <th>2</th>\n",
       "      <td>3</td>\n",
       "      <td>1</td>\n",
       "      <td>3</td>\n",
       "      <td>Heikkinen, Miss. Laina</td>\n",
       "      <td>female</td>\n",
       "      <td>26.0</td>\n",
       "      <td>0</td>\n",
       "      <td>0</td>\n",
       "      <td>STON/O2. 3101282</td>\n",
       "      <td>7.9250</td>\n",
       "      <td>NaN</td>\n",
       "      <td>S</td>\n",
       "    </tr>\n",
       "    <tr>\n",
       "      <th>3</th>\n",
       "      <td>4</td>\n",
       "      <td>1</td>\n",
       "      <td>1</td>\n",
       "      <td>Futrelle, Mrs. Jacques Heath (Lily May Peel)</td>\n",
       "      <td>female</td>\n",
       "      <td>35.0</td>\n",
       "      <td>1</td>\n",
       "      <td>0</td>\n",
       "      <td>113803</td>\n",
       "      <td>53.1000</td>\n",
       "      <td>C123</td>\n",
       "      <td>S</td>\n",
       "    </tr>\n",
       "    <tr>\n",
       "      <th>4</th>\n",
       "      <td>5</td>\n",
       "      <td>0</td>\n",
       "      <td>3</td>\n",
       "      <td>Allen, Mr. William Henry</td>\n",
       "      <td>male</td>\n",
       "      <td>35.0</td>\n",
       "      <td>0</td>\n",
       "      <td>0</td>\n",
       "      <td>373450</td>\n",
       "      <td>8.0500</td>\n",
       "      <td>NaN</td>\n",
       "      <td>S</td>\n",
       "    </tr>\n",
       "  </tbody>\n",
       "</table>\n",
       "</div>"
      ],
      "text/plain": [
       "   PassengerId  Survived  Pclass  \\\n",
       "0            1         0       3   \n",
       "1            2         1       1   \n",
       "2            3         1       3   \n",
       "3            4         1       1   \n",
       "4            5         0       3   \n",
       "\n",
       "                                                Name     Sex   Age  SibSp  \\\n",
       "0                            Braund, Mr. Owen Harris    male  22.0      1   \n",
       "1  Cumings, Mrs. John Bradley (Florence Briggs Th...  female  38.0      1   \n",
       "2                             Heikkinen, Miss. Laina  female  26.0      0   \n",
       "3       Futrelle, Mrs. Jacques Heath (Lily May Peel)  female  35.0      1   \n",
       "4                           Allen, Mr. William Henry    male  35.0      0   \n",
       "\n",
       "   Parch            Ticket     Fare Cabin Embarked  \n",
       "0      0         A/5 21171   7.2500   NaN        S  \n",
       "1      0          PC 17599  71.2833   C85        C  \n",
       "2      0  STON/O2. 3101282   7.9250   NaN        S  \n",
       "3      0            113803  53.1000  C123        S  \n",
       "4      0            373450   8.0500   NaN        S  "
      ]
     },
     "execution_count": 3,
     "metadata": {},
     "output_type": "execute_result"
    }
   ],
   "source": [
    "datasets.head()"
   ]
  },
  {
   "cell_type": "code",
   "execution_count": 4,
   "metadata": {
    "execution": {
     "iopub.execute_input": "2020-08-24T16:05:20.649304Z",
     "iopub.status.busy": "2020-08-24T16:05:20.648515Z",
     "iopub.status.idle": "2020-08-24T16:05:20.652153Z",
     "shell.execute_reply": "2020-08-24T16:05:20.651488Z"
    },
    "papermill": {
     "duration": 0.031741,
     "end_time": "2020-08-24T16:05:20.652290",
     "exception": false,
     "start_time": "2020-08-24T16:05:20.620549",
     "status": "completed"
    },
    "tags": []
   },
   "outputs": [],
   "source": [
    "datasets['Sex'] = np.where(datasets['Sex'] == 'male', 0, datasets['Sex'])\n",
    "datasets['Sex'] = np.where(datasets['Sex'] == 'female', 1, datasets['Sex'])\n"
   ]
  },
  {
   "cell_type": "code",
   "execution_count": 5,
   "metadata": {
    "execution": {
     "iopub.execute_input": "2020-08-24T16:05:20.700497Z",
     "iopub.status.busy": "2020-08-24T16:05:20.699667Z",
     "iopub.status.idle": "2020-08-24T16:05:20.703144Z",
     "shell.execute_reply": "2020-08-24T16:05:20.702501Z"
    },
    "papermill": {
     "duration": 0.031148,
     "end_time": "2020-08-24T16:05:20.703277",
     "exception": false,
     "start_time": "2020-08-24T16:05:20.672129",
     "status": "completed"
    },
    "tags": []
   },
   "outputs": [],
   "source": [
    "datasets.fillna(0, inplace=True)"
   ]
  },
  {
   "cell_type": "code",
   "execution_count": 6,
   "metadata": {
    "execution": {
     "iopub.execute_input": "2020-08-24T16:05:20.757426Z",
     "iopub.status.busy": "2020-08-24T16:05:20.756563Z",
     "iopub.status.idle": "2020-08-24T16:05:20.760346Z",
     "shell.execute_reply": "2020-08-24T16:05:20.759651Z"
    },
    "papermill": {
     "duration": 0.037169,
     "end_time": "2020-08-24T16:05:20.760484",
     "exception": false,
     "start_time": "2020-08-24T16:05:20.723315",
     "status": "completed"
    },
    "tags": []
   },
   "outputs": [],
   "source": [
    "X = datasets.drop(['Survived', 'Name', 'Cabin', 'Embarked', 'Ticket'], axis = 1)\n",
    "y = datasets['Survived']"
   ]
  },
  {
   "cell_type": "code",
   "execution_count": 7,
   "metadata": {
    "execution": {
     "iopub.execute_input": "2020-08-24T16:05:20.815108Z",
     "iopub.status.busy": "2020-08-24T16:05:20.809395Z",
     "iopub.status.idle": "2020-08-24T16:05:20.822236Z",
     "shell.execute_reply": "2020-08-24T16:05:20.821445Z"
    },
    "papermill": {
     "duration": 0.041704,
     "end_time": "2020-08-24T16:05:20.822369",
     "exception": false,
     "start_time": "2020-08-24T16:05:20.780665",
     "status": "completed"
    },
    "tags": []
   },
   "outputs": [],
   "source": [
    "std_scale = preprocessing.StandardScaler().fit(X)\n",
    "X_std = std_scale.transform(X)\n",
    "\n",
    "minmax_scale = preprocessing.MinMaxScaler().fit(X)\n",
    "X_minmax = minmax_scale.transform(X)"
   ]
  },
  {
   "cell_type": "code",
   "execution_count": 8,
   "metadata": {
    "execution": {
     "iopub.execute_input": "2020-08-24T16:05:20.879436Z",
     "iopub.status.busy": "2020-08-24T16:05:20.878255Z",
     "iopub.status.idle": "2020-08-24T16:05:20.882393Z",
     "shell.execute_reply": "2020-08-24T16:05:20.883331Z"
    },
    "papermill": {
     "duration": 0.041068,
     "end_time": "2020-08-24T16:05:20.883572",
     "exception": false,
     "start_time": "2020-08-24T16:05:20.842504",
     "status": "completed"
    },
    "tags": []
   },
   "outputs": [
    {
     "name": "stdout",
     "output_type": "stream",
     "text": [
      "Mean before standardization: Pclass = 446.0, Sex = 2.3, Age = 0.4, SibSp = 23.8, Parch = 0.5, Fare = 0.4\n",
      "\n",
      "\n",
      "Standard Deviation before standardization: Pclass = 257.4, Sex = 0.8, Age = 0.5, SibSp = 17.6, Parch = 1.1, Fare = 0.8\n"
     ]
    }
   ],
   "source": [
    "print('Mean before standardization: Pclass = {:.1f}, Sex = {:.1f}, Age = {:.1f}, SibSp = {:.1f}, Parch = {:.1f}, Fare = {:.1f}'\n",
    "      .format(X.iloc[:,0].mean(), X.iloc[:,1].mean(), X.iloc[:,2].mean(), X.iloc[:,3].mean(), X.iloc[:,4].mean(), X.iloc[:,5].mean()))\n",
    "print('\\n')\n",
    "\n",
    "print('Standard Deviation before standardization: Pclass = {:.1f}, Sex = {:.1f}, Age = {:.1f}, SibSp = {:.1f}, Parch = {:.1f}, Fare = {:.1f}'\n",
    "      .format(X.iloc[:,0].std(), X.iloc[:,1].std(), X.iloc[:,2].std(), X.iloc[:,3].std(), X.iloc[:,4].std(), X.iloc[:,5].std()))"
   ]
  },
  {
   "cell_type": "code",
   "execution_count": 9,
   "metadata": {
    "execution": {
     "iopub.execute_input": "2020-08-24T16:05:20.937132Z",
     "iopub.status.busy": "2020-08-24T16:05:20.931729Z",
     "iopub.status.idle": "2020-08-24T16:05:20.945021Z",
     "shell.execute_reply": "2020-08-24T16:05:20.945575Z"
    },
    "papermill": {
     "duration": 0.040089,
     "end_time": "2020-08-24T16:05:20.945752",
     "exception": false,
     "start_time": "2020-08-24T16:05:20.905663",
     "status": "completed"
    },
    "tags": []
   },
   "outputs": [
    {
     "name": "stdout",
     "output_type": "stream",
     "text": [
      "Mean After standardization: Pclass = 0.0, Sex = -0.0, Age = 0.0, SibSp = 0.0, Parch = 0.0, Fare = 0.0\n",
      "\n",
      "\n",
      "Standard Deviation After standardization: Pclass = 1.0, Sex = 1.0, Age = 1.0, SibSp = 1.0, Parch = 1.0, Fare = 1.0\n"
     ]
    }
   ],
   "source": [
    "print('Mean After standardization: Pclass = {:.1f}, Sex = {:.1f}, Age = {:.1f}, SibSp = {:.1f}, Parch = {:.1f}, Fare = {:.1f}'\n",
    "      .format(X_std[:,0].mean(), X_std[:,1].mean(), X_std[:,2].mean(), X_std[:,3].mean(), X_std[:,4].mean(), X_std[:,5].mean()))\n",
    "\n",
    "print('\\n')\n",
    "print('Standard Deviation After standardization: Pclass = {:.1f}, Sex = {:.1f}, Age = {:.1f}, SibSp = {:.1f}, Parch = {:.1f}, Fare = {:.1f}'\n",
    "      .format(X_std[:,0].std(), X_std[:,1].std(), X_std[:,2].std(), X_std[:,3].std(), X_std[:,4].std(), X_std[:,5].std()))"
   ]
  },
  {
   "cell_type": "code",
   "execution_count": 10,
   "metadata": {
    "execution": {
     "iopub.execute_input": "2020-08-24T16:05:20.995734Z",
     "iopub.status.busy": "2020-08-24T16:05:20.994868Z",
     "iopub.status.idle": "2020-08-24T16:05:21.499390Z",
     "shell.execute_reply": "2020-08-24T16:05:21.500334Z"
    },
    "papermill": {
     "duration": 0.533314,
     "end_time": "2020-08-24T16:05:21.500592",
     "exception": false,
     "start_time": "2020-08-24T16:05:20.967278",
     "status": "completed"
    },
    "tags": []
   },
   "outputs": [
    {
     "data": {
      "image/png": "[encoded data removed]",
      "text/plain": [
       "<Figure size 720x576 with 1 Axes>"
      ]
     },
     "metadata": {
      "needs_background": "light"
     },
     "output_type": "display_data"
    }
   ],
   "source": [
    "plt.figure(figsize = (10, 8))\n",
    "datasets.boxplot()     # plot boxplot  \n",
    "plt.title(\"Bar Plot\", fontsize=16)\n",
    "plt.tight_layout()\n",
    "plt.show()"
   ]
  },
  {
   "cell_type": "code",
   "execution_count": 11,
   "metadata": {
    "execution": {
     "iopub.execute_input": "2020-08-24T16:05:21.577494Z",
     "iopub.status.busy": "2020-08-24T16:05:21.576180Z",
     "iopub.status.idle": "2020-08-24T16:05:23.706382Z",
     "shell.execute_reply": "2020-08-24T16:05:23.705709Z"
    },
    "papermill": {
     "duration": 2.172732,
     "end_time": "2020-08-24T16:05:23.706532",
     "exception": false,
     "start_time": "2020-08-24T16:05:21.533800",
     "status": "completed"
    },
    "tags": []
   },
   "outputs": [
    {
     "data": {
      "text/plain": [
       "array([[<matplotlib.axes._subplots.AxesSubplot object at 0x7f01e5dbb450>,\n",
       "        <matplotlib.axes._subplots.AxesSubplot object at 0x7f01e5d6fad0>,\n",
       "        <matplotlib.axes._subplots.AxesSubplot object at 0x7f01f37cd510>],\n",
       "       [<matplotlib.axes._subplots.AxesSubplot object at 0x7f01e5ce3c90>,\n",
       "        <matplotlib.axes._subplots.AxesSubplot object at 0x7f01e5c9dd90>,\n",
       "        <matplotlib.axes._subplots.AxesSubplot object at 0x7f01e5c57e90>],\n",
       "       [<matplotlib.axes._subplots.AxesSubplot object at 0x7f01e5c11f50>,\n",
       "        <matplotlib.axes._subplots.AxesSubplot object at 0x7f01e5bd7090>,\n",
       "        <matplotlib.axes._subplots.AxesSubplot object at 0x7f01e5bd70d0>]],\n",
       "      dtype=object)"
      ]
     },
     "execution_count": 11,
     "metadata": {},
     "output_type": "execute_result"
    },
    {
     "data": {
      "image/png": "[encoded data removed]",
      "text/plain": [
       "<Figure size 864x432 with 9 Axes>"
      ]
     },
     "metadata": {
      "needs_background": "light"
     },
     "output_type": "display_data"
    }
   ],
   "source": [
    "datasets.boxplot(by=\"Survived\", figsize=(12, 6))"
   ]
  },
  {
   "cell_type": "code",
   "execution_count": 12,
   "metadata": {
    "execution": {
     "iopub.execute_input": "2020-08-24T16:05:23.776377Z",
     "iopub.status.busy": "2020-08-24T16:05:23.766908Z",
     "iopub.status.idle": "2020-08-24T16:05:24.025419Z",
     "shell.execute_reply": "2020-08-24T16:05:24.024611Z"
    },
    "papermill": {
     "duration": 0.293347,
     "end_time": "2020-08-24T16:05:24.025565",
     "exception": false,
     "start_time": "2020-08-24T16:05:23.732218",
     "status": "completed"
    },
    "tags": []
   },
   "outputs": [
    {
     "data": {
      "text/plain": [
       "<matplotlib.legend.Legend at 0x7f01e57cb4d0>"
      ]
     },
     "execution_count": 12,
     "metadata": {},
     "output_type": "execute_result"
    },
    {
     "data": {
      "image/png": "[encoded data removed]",
      "text/plain": [
       "<Figure size 432x288 with 1 Axes>"
      ]
     },
     "metadata": {
      "needs_background": "light"
     },
     "output_type": "display_data"
    }
   ],
   "source": [
    "datasets.groupby(by = \"Survived\").mean().plot(kind=\"bar\")\n",
    "\n",
    "plt.title('Suervived vs Measurements')\n",
    "plt.ylabel('mean measurement(cm)')\n",
    "plt.xticks(rotation=0)  # manage the xticks rotation\n",
    "plt.grid(True)\n",
    "\n",
    "# Use bbox_to_anchor option to place the legend outside plot area to be tidy \n",
    "plt.legend(loc=\"upper left\", bbox_to_anchor=(1,1))"
   ]
  },
  {
   "cell_type": "code",
   "execution_count": 13,
   "metadata": {
    "execution": {
     "iopub.execute_input": "2020-08-24T16:05:24.091677Z",
     "iopub.status.busy": "2020-08-24T16:05:24.088592Z",
     "iopub.status.idle": "2020-08-24T16:05:24.221468Z",
     "shell.execute_reply": "2020-08-24T16:05:24.220372Z"
    },
    "papermill": {
     "duration": 0.169155,
     "end_time": "2020-08-24T16:05:24.221692",
     "exception": false,
     "start_time": "2020-08-24T16:05:24.052537",
     "status": "completed"
    },
    "tags": []
   },
   "outputs": [
    {
     "name": "stdout",
     "output_type": "stream",
     "text": [
      "[1 2 1 2 1 1 2 0 0 1 0 2 1 0 1 2 0 1 1 1 1 1 1 2 0 0 1 2 1 1 2 2 1 1 2 2 1\n",
      " 1 1 1 1 1 1 0 1 1 1 1 1 1 0 1 2 1 2 1 1 1 0 0 1 2 2 0 1 1 1 1 0 1 1 0 1 1\n",
      " 1 1 1 1 0 1 1 1 1 2 1 0 0 1 2 1 1 1 2 0 1 1 2 2 2 1 1 1 2 1 1 1 1 1 1 1 2\n",
      " 1 1 1 1 1 1 1 2 0 1 1 1 1 2 1 1 1 0 1 1 1 1 1 1 1 2 2 1 2 0 1 1 1 1 1 1 0\n",
      " 1 1 1 2 1 1 1 2 1 1 1 0 1 1 1 1 0 0 2 0 1 1 2 0 0 1 2 1 0 2 1 1 0 1 0 0 0\n",
      " 1 1 2 1 1 1 1 1 1 2 2 1 1 1 1 1 0 1 1 1 1 1 1 1 2 1 1 1 1 1 2 1 1 2 1 1 1\n",
      " 1 1 2 1 1 1 1 0 2 1 1 0 1 1 1 0 1 1 1 1 1 1 1 2 1 0 2 1 1 0 2 1 0 0 2 2 2\n",
      " 2 1 0 2 2 1 1 0 1 2 2 1 1 2 2 1 2 1 1 0 0 1 1 1 1 1 1 1 1 1 1 2 2 1 1 1 1\n",
      " 1 2 1 2 1 1 1 1 1 2 2 2 1 2 2 2 0 1 1 1 1 1 2 2 1 1 1 0 0 2 1 1 0 2 0 2 2\n",
      " 1 2 1 2 2 1 2 1 2 1 1 1 1 1 1 1 1 1 1 1 1 1 1 2 1 1 1 0 1 1 1 1 1 2 1 1 2\n",
      " 2 1 1 2 0 2 1 2 1 1 2 0 1 2 1 1 0 1 1 1 2 1 1 2 0 1 1 1 1 1 1 1 1 1 1 1 1\n",
      " 1 1 0 1 1 2 1 1 1 2 0 1 0 1 1 1 0 1 1 1 1 1 1 2 1 2 1 2 2 0 0 2 1 2 1 1 1\n",
      " 1 2 1 2 0 2 0 1 2 2 1 1 2 2 2 1 2 1 2 1 1 1 1 2 1 0 1 1 0 1 1 2 1 1 1 1 0\n",
      " 1 1 1 2 0 2 2 1 1 1 1 2 2 1 1 2 1 2 1 1 1 1 1 2 2 0 1 1 1 1 1 2 2 1 2 1 1\n",
      " 2 1 2 1 1 2 1 1 2 2 1 0 0 1 1 0 1 0 2 2 1 2 2 0 0 1 2 2 1 1 1 1 2 1 1 1 1\n",
      " 2 2 2 2 1 1 1 1 1 1 1 1 0 1 1 1 2 2 1 1 1 1 2 1 1 0 2 1 2 1 2 1 2 1 1 1 2\n",
      " 1 0 1 1 1 1 1 2 0 1 1 1 2 1 1 2 0 2 0 1 1 1 1 0 1 1 0 1 1 2 1 1 1 2 1 2 1\n",
      " 1 2 1 2 1 0 1 1 1 0 1 1 2 0 1 0 2 1 2 1 1 1 1 1 1 1 2 1 0 1 2 2 1 2 1 1 2\n",
      " 1 1 1 2 2 2 2 1 1 1 1 1 0 2 1 2 1 0 2 0 0 1 1 2 2 1 1 1 2 1 1 1 2 1 2 2 1\n",
      " 1 1 1 2 2 2 1 2 1 2 1 1 1 2 1 1 1 1 1 1 1 2 1 0 1 1 1 2 1 1 1 1 1 0 2 1 1\n",
      " 1 2 2 1 1 2 1 1 2 1 0 1 1 1 2 1 1 1 1 2 1 1 1 2 1 2 1 1 1 1 1 1 2 1 0 1 1\n",
      " 1 1 2 1 2 2 0 1 1 1 0 0 2 1 1 0 1 1 1 2 1 1 0 1 2 2 1 1 1 2 1 1 2 1 1 1 0\n",
      " 1 1 1 1 1 0 2 1 2 1 0 1 1 0 1 2 1 1 1 1 1 2 1 1 1 1 1 1 2 1 1 1 0 1 1 2 0\n",
      " 1 0 2 2 1 2 2 0 1 1 1 2 0 1 2 1 2 1 1 1 2 2 1 2 1 1 1 1 2 2 1 1 1 1 0 1 2\n",
      " 0 2 1]\n"
     ]
    }
   ],
   "source": [
    "sc = StandardScaler()\n",
    "sc.fit(X)\n",
    "X = sc.transform(X)\n",
    "\n",
    "model = KMeans(n_clusters=3, random_state=11)\n",
    "model.fit(X)\n",
    "print(model.labels_)"
   ]
  },
  {
   "cell_type": "code",
   "execution_count": 14,
   "metadata": {
    "execution": {
     "iopub.execute_input": "2020-08-24T16:05:24.300862Z",
     "iopub.status.busy": "2020-08-24T16:05:24.299903Z",
     "iopub.status.idle": "2020-08-24T16:05:24.315621Z",
     "shell.execute_reply": "2020-08-24T16:05:24.316446Z"
    },
    "papermill": {
     "duration": 0.060898,
     "end_time": "2020-08-24T16:05:24.316751",
     "exception": false,
     "start_time": "2020-08-24T16:05:24.255853",
     "status": "completed"
    },
    "tags": []
   },
   "outputs": [
    {
     "name": "stdout",
     "output_type": "stream",
     "text": [
      "Accuracy : 0.510662177328844\n",
      "Classification report :               precision    recall  f1-score   support\n",
      "\n",
      "           0       0.73      0.75      0.74       549\n",
      "           1       0.41      0.13      0.20       342\n",
      "           2       0.00      0.00      0.00         0\n",
      "\n",
      "    accuracy                           0.51       891\n",
      "   macro avg       0.38      0.29      0.31       891\n",
      "weighted avg       0.61      0.51      0.53       891\n",
      "\n"
     ]
    }
   ],
   "source": [
    "datasets['PredSurvived'] =  np.choose(model.labels_, [1, 0, 2]).astype(np.int64)\n",
    "\n",
    "print(\"Accuracy :\", metrics.accuracy_score(datasets.Survived, datasets.PredSurvived))\n",
    "print(\"Classification report :\", metrics.classification_report(datasets.Survived, datasets.PredSurvived))"
   ]
  },
  {
   "cell_type": "code",
   "execution_count": 15,
   "metadata": {
    "execution": {
     "iopub.execute_input": "2020-08-24T16:05:24.395594Z",
     "iopub.status.busy": "2020-08-24T16:05:24.393532Z",
     "iopub.status.idle": "2020-08-24T16:05:24.400047Z",
     "shell.execute_reply": "2020-08-24T16:05:24.399295Z"
    },
    "papermill": {
     "duration": 0.048813,
     "end_time": "2020-08-24T16:05:24.400218",
     "exception": false,
     "start_time": "2020-08-24T16:05:24.351405",
     "status": "completed"
    },
    "tags": []
   },
   "outputs": [],
   "source": [
    "X_train, X_test, y_train, y_test = train_test_split(X, y, test_size=0.3, random_state=42)"
   ]
  },
  {
   "cell_type": "code",
   "execution_count": 16,
   "metadata": {
    "execution": {
     "iopub.execute_input": "2020-08-24T16:05:24.462481Z",
     "iopub.status.busy": "2020-08-24T16:05:24.461710Z",
     "iopub.status.idle": "2020-08-24T16:05:24.474280Z",
     "shell.execute_reply": "2020-08-24T16:05:24.473577Z"
    },
    "papermill": {
     "duration": 0.046025,
     "end_time": "2020-08-24T16:05:24.474415",
     "exception": false,
     "start_time": "2020-08-24T16:05:24.428390",
     "status": "completed"
    },
    "tags": []
   },
   "outputs": [
    {
     "data": {
      "text/plain": [
       "DecisionTreeClassifier()"
      ]
     },
     "execution_count": 16,
     "metadata": {},
     "output_type": "execute_result"
    }
   ],
   "source": [
    "DTC = DecisionTreeClassifier()\n",
    "DTC.fit(X, y)"
   ]
  },
  {
   "cell_type": "code",
   "execution_count": 17,
   "metadata": {
    "execution": {
     "iopub.execute_input": "2020-08-24T16:05:24.537435Z",
     "iopub.status.busy": "2020-08-24T16:05:24.536626Z",
     "iopub.status.idle": "2020-08-24T16:05:24.545791Z",
     "shell.execute_reply": "2020-08-24T16:05:24.544975Z"
    },
    "papermill": {
     "duration": 0.043592,
     "end_time": "2020-08-24T16:05:24.545963",
     "exception": false,
     "start_time": "2020-08-24T16:05:24.502371",
     "status": "completed"
    },
    "tags": []
   },
   "outputs": [],
   "source": [
    "test_data = pd.read_csv('../input/titanic/test.csv')"
   ]
  },
  {
   "cell_type": "code",
   "execution_count": 18,
   "metadata": {
    "execution": {
     "iopub.execute_input": "2020-08-24T16:05:24.611136Z",
     "iopub.status.busy": "2020-08-24T16:05:24.610185Z",
     "iopub.status.idle": "2020-08-24T16:05:24.613596Z",
     "shell.execute_reply": "2020-08-24T16:05:24.612870Z"
    },
    "papermill": {
     "duration": 0.038893,
     "end_time": "2020-08-24T16:05:24.613727",
     "exception": false,
     "start_time": "2020-08-24T16:05:24.574834",
     "status": "completed"
    },
    "tags": []
   },
   "outputs": [],
   "source": [
    "test_data = test_data.drop(['Name', 'Ticket', 'Cabin', 'Embarked'], axis = 1)"
   ]
  },
  {
   "cell_type": "code",
   "execution_count": 19,
   "metadata": {
    "execution": {
     "iopub.execute_input": "2020-08-24T16:05:24.680152Z",
     "iopub.status.busy": "2020-08-24T16:05:24.679332Z",
     "iopub.status.idle": "2020-08-24T16:05:24.683410Z",
     "shell.execute_reply": "2020-08-24T16:05:24.682542Z"
    },
    "papermill": {
     "duration": 0.04113,
     "end_time": "2020-08-24T16:05:24.683554",
     "exception": false,
     "start_time": "2020-08-24T16:05:24.642424",
     "status": "completed"
    },
    "tags": []
   },
   "outputs": [],
   "source": [
    "test_data['Sex'] = np.where(test_data['Sex'] == 'male', 0, test_data['Sex'])\n",
    "test_data['Sex'] = np.where(test_data['Sex'] == 'female', 1, test_data['Sex'])\n"
   ]
  },
  {
   "cell_type": "code",
   "execution_count": 20,
   "metadata": {
    "execution": {
     "iopub.execute_input": "2020-08-24T16:05:24.750025Z",
     "iopub.status.busy": "2020-08-24T16:05:24.748935Z",
     "iopub.status.idle": "2020-08-24T16:05:24.751869Z",
     "shell.execute_reply": "2020-08-24T16:05:24.752406Z"
    },
    "papermill": {
     "duration": 0.039547,
     "end_time": "2020-08-24T16:05:24.752576",
     "exception": false,
     "start_time": "2020-08-24T16:05:24.713029",
     "status": "completed"
    },
    "tags": []
   },
   "outputs": [],
   "source": [
    "test_data.fillna(0, inplace=True)"
   ]
  },
  {
   "cell_type": "code",
   "execution_count": 21,
   "metadata": {
    "execution": {
     "iopub.execute_input": "2020-08-24T16:05:24.820193Z",
     "iopub.status.busy": "2020-08-24T16:05:24.819298Z",
     "iopub.status.idle": "2020-08-24T16:05:24.823538Z",
     "shell.execute_reply": "2020-08-24T16:05:24.822868Z"
    },
    "papermill": {
     "duration": 0.041742,
     "end_time": "2020-08-24T16:05:24.823670",
     "exception": false,
     "start_time": "2020-08-24T16:05:24.781928",
     "status": "completed"
    },
    "tags": []
   },
   "outputs": [],
   "source": [
    "predict = DTC.predict(test_data)"
   ]
  },
  {
   "cell_type": "code",
   "execution_count": 22,
   "metadata": {
    "execution": {
     "iopub.execute_input": "2020-08-24T16:05:24.889800Z",
     "iopub.status.busy": "2020-08-24T16:05:24.889008Z",
     "iopub.status.idle": "2020-08-24T16:05:25.108518Z",
     "shell.execute_reply": "2020-08-24T16:05:25.107683Z"
    },
    "papermill": {
     "duration": 0.255128,
     "end_time": "2020-08-24T16:05:25.108706",
     "exception": false,
     "start_time": "2020-08-24T16:05:24.853578",
     "status": "completed"
    },
    "tags": []
   },
   "outputs": [],
   "source": [
    "output = pd.DataFrame({'PassengerId': test_data.PassengerId,\n",
    "                       'Survived': predict})\n",
    "\n",
    "output.to_csv('TitanicFinalSubmission.csv', index=False)"
   ]
  },
  {
   "cell_type": "code",
   "execution_count": null,
   "metadata": {
    "papermill": {
     "duration": 0.029195,
     "end_time": "2020-08-24T16:05:25.168326",
     "exception": false,
     "start_time": "2020-08-24T16:05:25.139131",
     "status": "completed"
    },
    "tags": []
   },
   "outputs": [],
   "source": []
  }
 ],
 "metadata": {
  "kernelspec": {
   "display_name": "Python 3",
   "language": "python",
   "name": "python3"
  },
  "language_info": {
   "codemirror_mode": {
    "name": "ipython",
    "version": 3
   },
   "file_extension": ".py",
   "mimetype": "text/x-python",
   "name": "python",
   "nbconvert_exporter": "python",
   "pygments_lexer": "ipython3",
   "version": "3.7.6"
  },
  "papermill": {
   "duration": 13.008284,
   "end_time": "2020-08-24T16:05:25.307464",
   "environment_variables": {},
   "exception": null,
   "input_path": "__notebook__.ipynb",
   "output_path": "__notebook__.ipynb",
   "parameters": {},
   "start_time": "2020-08-24T16:05:12.299180",
   "version": "2.1.0"
  }
 },
 "nbformat": 4,
 "nbformat_minor": 4
}
