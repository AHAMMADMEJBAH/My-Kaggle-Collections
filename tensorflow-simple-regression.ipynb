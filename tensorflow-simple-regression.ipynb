{
 "cells": [
  {
   "cell_type": "markdown",
   "execution_count": null,
   "metadata": {
    "papermill": {
     "duration": 0.010782,
     "end_time": "2020-08-29T15:36:15.524314",
     "exception": false,
     "start_time": "2020-08-29T15:36:15.513532",
     "status": "completed"
    },
    "tags": []
   },
   "source": [
    "<b sytle=\"font-size:25px;\"><b style=\"color:'blue\">What is Simple Linear Regression?</b></b>\n",
    "\n",
    "Simple linear regression is a statistical method that allows us to summarize and study relationships between two continuous (quantitative) variables:\n",
    "\n",
    "    . One variable, denoted x, is regarded as the predictor, explanatory, or independent variable.\n",
    "    . The other variable, denoted y, is regarded as the response, outcome, or dependent variable.\n",
    "Because the other terms are used less frequently today, we'll use the <b style=\"color:blue\">predictor\"</b> and <b style=\"color:blue\">\"response\"</b> terms to refer to the variables encountered in this course. The other terms are mentioned only to make you aware of them should you encounter them. Simple linear regression gets its adjective \"simple,\" because it concerns the study of only one predictor variable. In contrast, multiple linear regression, which we study later in this course, gets its adjective \"multiple,\" because it concerns the study of two or more predictor variables.\n",
    "\n",
    "Types of relationships\n",
    "Before proceeding, we must clarify what types of relationships we won't study in this course, namely, deterministic (or functional) relationships. Here is an example of a deterministic relationship.\n",
    "\n",
    "fahrenheit vs celsius plot\n",
    "\n",
    "Note that the observed (x, y) data points fall directly on a line. As you may remember, the relationship between degrees Fahrenheit and degrees Celsius is known to be:\n",
    "\n",
    "<img src=\"https://online.stat.psu.edu/stat462/sites/onlinecourses.science.psu.edu.stat462/files/02simple/temps/index.jpg\" alt = \"Simple Regression\">\n",
    "\n",
    "That is, if you know the temperature in degrees Celsius, you can use this equation to determine the temperature in degrees Fahrenheit exactly.\n",
    "\n",
    "Here are some examples of other deterministic relationships that students from previous semesters have shared:\n",
    "\n",
    "Circumference = π × diameter\n",
    "Hooke's Law: Y = α + βX, where Y = amount of stretch in a spring, and X = applied weight.\n",
    "Ohm's Law: I = V/r, where V = voltage applied, r = resistance, and I = current.\n",
    "Boyle's Law: For a constant temperature, P = α/V, where P = pressure, α = constant for each gas, and V = volume of gas.\n",
    "For each of these deterministic relationships, the equation exactly describes the relationship between the two variables. This course does not examine deterministic relationships. Instead, we are interested in statistical relationships, in which the relationship between the variables is not perfect.\n",
    "\n",
    "Here is an example of a statistical relationship. The response variable y is the mortality due to skin cancer (number of deaths per 10 million people) and the predictor variable x is the latitude (degrees North) at the center of each of 49 states in the U.S. (skincancer.txt) (The data were compiled in the 1950s, so Alaska and Hawaii were not yet states, and Washington, D.C. is included in the data set even though it is not technically a state.)\n",
    "\n",
    "<img src=\"https://online.stat.psu.edu/stat462/sites/onlinecourses.science.psu.edu.stat462/files/02simple/scatterplot_skin_cancer/index.png\" alt = \"Regression\">\n",
    "\n",
    "You might anticipate that if you lived in the higher latitudes of the northern U.S., the less exposed you'd be to the harmful rays of the sun, and therefore, the less risk you'd have of death due to skin cancer. The scatter plot supports such a hypothesis. There appears to be a negative linear relationship between latitude and mortality due to skin cancer, but the relationship is not perfect. Indeed, the plot exhibits some \"trend,\" but it also exhibits some \"scatter.\" Therefore, it is a statistical relationship, not a deterministic one.\n",
    "\n",
    "Some other examples of statistical relationships might include:\n",
    "\n",
    "Height and weight — as height increases, you'd expect weight to increase, but not perfectly.\n",
    "Alcohol consumed and blood alcohol content — as alcohol consumption increases, you'd expect one's blood alcohol content to increase, but not perfectly.\n",
    "Vital lung capacity and pack-years of smoking — as amount of smoking increases (as quantified by the number of pack-years of smoking), you'd expect lung function (as quantified by vital lung capacity) to decrease, but not perfectly.\n",
    "Driving speed and gas mileage — as driving speed increases, you'd expect gas mileage to decrease, but not perfectly.\n",
    "Okay, so let's study statistical relationships between one response variable y and one predictor variable x!\n"
   ]
  },
  {
   "cell_type": "code",
   "execution_count": 1,
   "metadata": {
    "execution": {
     "iopub.execute_input": "2020-08-29T15:36:15.550482Z",
     "iopub.status.busy": "2020-08-29T15:36:15.549442Z",
     "iopub.status.idle": "2020-08-29T15:36:22.733524Z",
     "shell.execute_reply": "2020-08-29T15:36:22.732664Z"
    },
    "papermill": {
     "duration": 7.200752,
     "end_time": "2020-08-29T15:36:22.733663",
     "exception": false,
     "start_time": "2020-08-29T15:36:15.532911",
     "status": "completed"
    },
    "tags": []
   },
   "outputs": [],
   "source": [
    "import tensorflow as tf\n",
    "import matplotlib.pyplot as plt\n",
    "import warnings\n",
    "warnings.filterwarnings('ignore')\n",
    "import numpy as np\n",
    "tf.compat.v1.disable_eager_execution()\n",
    "%matplotlib inline"
   ]
  },
  {
   "cell_type": "markdown",
   "execution_count": null,
   "metadata": {
    "papermill": {
     "duration": 0.005821,
     "end_time": "2020-08-29T15:36:22.745888",
     "exception": false,
     "start_time": "2020-08-29T15:36:22.740067",
     "status": "completed"
    },
    "tags": []
   },
   "source": [
    "# <b style=\"color:blue\"> Why we use Seed Function ? </b>\n",
    "\n",
    "![](http://)Seed function is used to save the state of a random function, so that it can generate same random numbers on multiple executions of the code on the same machine or on different machines (for a specific seed value). The seed value is the previous value number generated by the generator."
   ]
  },
  {
   "cell_type": "code",
   "execution_count": 2,
   "metadata": {
    "_cell_guid": "79c7e3d0-c299-4dcb-8224-4455121ee9b0",
    "_uuid": "d629ff2d2480ee46fbb7e2d37f6b5fab8052498a",
    "execution": {
     "iopub.execute_input": "2020-08-29T15:36:22.763839Z",
     "iopub.status.busy": "2020-08-29T15:36:22.763059Z",
     "iopub.status.idle": "2020-08-29T15:36:22.773987Z",
     "shell.execute_reply": "2020-08-29T15:36:22.774611Z"
    },
    "papermill": {
     "duration": 0.022843,
     "end_time": "2020-08-29T15:36:22.774790",
     "exception": false,
     "start_time": "2020-08-29T15:36:22.751947",
     "status": "completed"
    },
    "tags": []
   },
   "outputs": [],
   "source": [
    "tf.compat.v1.set_random_seed(1)\n",
    "np.random.seed(1)"
   ]
  },
  {
   "cell_type": "code",
   "execution_count": 3,
   "metadata": {
    "execution": {
     "iopub.execute_input": "2020-08-29T15:36:22.797572Z",
     "iopub.status.busy": "2020-08-29T15:36:22.796427Z",
     "iopub.status.idle": "2020-08-29T15:36:22.800250Z",
     "shell.execute_reply": "2020-08-29T15:36:22.799605Z"
    },
    "papermill": {
     "duration": 0.017484,
     "end_time": "2020-08-29T15:36:22.800414",
     "exception": false,
     "start_time": "2020-08-29T15:36:22.782930",
     "status": "completed"
    },
    "tags": []
   },
   "outputs": [],
   "source": [
    "#Create Face Datasets\n",
    "x = np.linspace(-1, 1, 100)[:, np.newaxis]\n",
    "noise = np.random.normal(0, 0.1, size = x.shape)\n",
    "y = np.power(x, 2) + noise"
   ]
  },
  {
   "cell_type": "code",
   "execution_count": 4,
   "metadata": {
    "execution": {
     "iopub.execute_input": "2020-08-29T15:36:22.818907Z",
     "iopub.status.busy": "2020-08-29T15:36:22.818141Z",
     "iopub.status.idle": "2020-08-29T15:36:23.085553Z",
     "shell.execute_reply": "2020-08-29T15:36:23.086151Z"
    },
    "papermill": {
     "duration": 0.27952,
     "end_time": "2020-08-29T15:36:23.086326",
     "exception": false,
     "start_time": "2020-08-29T15:36:22.806806",
     "status": "completed"
    },
    "tags": []
   },
   "outputs": [
    {
     "data": {
      "image/png": "[encoded data removed]",
      "text/plain": [
       "<Figure size 432x288 with 1 Axes>"
      ]
     },
     "metadata": {
      "needs_background": "light"
     },
     "output_type": "display_data"
    }
   ],
   "source": [
    "# Plot fake Datasets\n",
    "plt.scatter(x, y)\n",
    "plt.tight_layout()\n",
    "plt.show()"
   ]
  },
  {
   "cell_type": "markdown",
   "execution_count": null,
   "metadata": {
    "papermill": {
     "duration": 0.005999,
     "end_time": "2020-08-29T15:36:23.099083",
     "exception": false,
     "start_time": "2020-08-29T15:36:23.093084",
     "status": "completed"
    },
    "tags": []
   },
   "source": [
    "# Create Tensorflow Variable"
   ]
  },
  {
   "cell_type": "code",
   "execution_count": 5,
   "metadata": {
    "execution": {
     "iopub.execute_input": "2020-08-29T15:36:23.118855Z",
     "iopub.status.busy": "2020-08-29T15:36:23.118064Z",
     "iopub.status.idle": "2020-08-29T15:36:23.128068Z",
     "shell.execute_reply": "2020-08-29T15:36:23.127458Z"
    },
    "papermill": {
     "duration": 0.022705,
     "end_time": "2020-08-29T15:36:23.128197",
     "exception": false,
     "start_time": "2020-08-29T15:36:23.105492",
     "status": "completed"
    },
    "tags": []
   },
   "outputs": [],
   "source": [
    "\n",
    "tf_x = tf.compat.v1.placeholder(tf.float32, x.shape)\n",
    "tf_y = tf.compat.v1.placeholder(tf.float32, y.shape)"
   ]
  },
  {
   "cell_type": "markdown",
   "execution_count": null,
   "metadata": {
    "papermill": {
     "duration": 0.006256,
     "end_time": "2020-08-29T15:36:23.141364",
     "exception": false,
     "start_time": "2020-08-29T15:36:23.135108",
     "status": "completed"
    },
    "tags": []
   },
   "source": [
    "# Create Neural networks"
   ]
  },
  {
   "cell_type": "code",
   "execution_count": 6,
   "metadata": {
    "execution": {
     "iopub.execute_input": "2020-08-29T15:36:23.161422Z",
     "iopub.status.busy": "2020-08-29T15:36:23.160459Z",
     "iopub.status.idle": "2020-08-29T15:36:23.213637Z",
     "shell.execute_reply": "2020-08-29T15:36:23.212953Z"
    },
    "papermill": {
     "duration": 0.065928,
     "end_time": "2020-08-29T15:36:23.213773",
     "exception": false,
     "start_time": "2020-08-29T15:36:23.147845",
     "status": "completed"
    },
    "tags": []
   },
   "outputs": [],
   "source": [
    "l1= tf.compat.v1.layers.dense(tf_x, 10, tf.nn.relu)\n",
    "output= tf.compat.v1.layers.dense(l1, 1)"
   ]
  },
  {
   "cell_type": "markdown",
   "execution_count": null,
   "metadata": {
    "papermill": {
     "duration": 0.006472,
     "end_time": "2020-08-29T15:36:23.227553",
     "exception": false,
     "start_time": "2020-08-29T15:36:23.221081",
     "status": "completed"
    },
    "tags": []
   },
   "source": [
    "# Compute Cost"
   ]
  },
  {
   "cell_type": "code",
   "execution_count": 7,
   "metadata": {
    "execution": {
     "iopub.execute_input": "2020-08-29T15:36:23.248939Z",
     "iopub.status.busy": "2020-08-29T15:36:23.247983Z",
     "iopub.status.idle": "2020-08-29T15:36:23.322254Z",
     "shell.execute_reply": "2020-08-29T15:36:23.321555Z"
    },
    "papermill": {
     "duration": 0.088231,
     "end_time": "2020-08-29T15:36:23.322407",
     "exception": false,
     "start_time": "2020-08-29T15:36:23.234176",
     "status": "completed"
    },
    "tags": []
   },
   "outputs": [],
   "source": [
    "loss = tf.compat.v1.losses.mean_squared_error(tf_y, output)\n",
    "optimizer = tf.compat.v1.train.GradientDescentOptimizer(learning_rate = 0.5)\n",
    "train_optimizers = optimizer.minimize(loss)"
   ]
  },
  {
   "cell_type": "markdown",
   "execution_count": null,
   "metadata": {
    "papermill": {
     "duration": 0.006265,
     "end_time": "2020-08-29T15:36:23.335788",
     "exception": false,
     "start_time": "2020-08-29T15:36:23.329523",
     "status": "completed"
    },
    "tags": []
   },
   "source": [
    "# Create Session()"
   ]
  },
  {
   "cell_type": "code",
   "execution_count": 8,
   "metadata": {
    "execution": {
     "iopub.execute_input": "2020-08-29T15:36:23.359160Z",
     "iopub.status.busy": "2020-08-29T15:36:23.358348Z",
     "iopub.status.idle": "2020-08-29T15:36:23.458062Z",
     "shell.execute_reply": "2020-08-29T15:36:23.457361Z"
    },
    "papermill": {
     "duration": 0.1158,
     "end_time": "2020-08-29T15:36:23.458184",
     "exception": false,
     "start_time": "2020-08-29T15:36:23.342384",
     "status": "completed"
    },
    "tags": []
   },
   "outputs": [],
   "source": [
    "sess = tf.compat.v1.Session()\n",
    "sess.run(tf.compat.v1.global_variables_initializer())"
   ]
  },
  {
   "cell_type": "markdown",
   "execution_count": null,
   "metadata": {
    "papermill": {
     "duration": 0.006629,
     "end_time": "2020-08-29T15:36:23.471905",
     "exception": false,
     "start_time": "2020-08-29T15:36:23.465276",
     "status": "completed"
    },
    "tags": []
   },
   "source": [
    "# Visualize the hole thing"
   ]
  },
  {
   "cell_type": "markdown",
   "execution_count": null,
   "metadata": {
    "papermill": {
     "duration": 0.006352,
     "end_time": "2020-08-29T15:36:23.485190",
     "exception": false,
     "start_time": "2020-08-29T15:36:23.478838",
     "status": "completed"
    },
    "tags": []
   },
   "source": [
    "# plt.ion()\n",
    "The matplotlib.pyplot.ion() is used to turn on interactive mode. To check the status of interactive mode one can run the below commands,\n",
    "\n",
    "* plt.rcParams['interactive']\n",
    "\n",
    "or, this command\n",
    "\n",
    "* plt.isinteractive()\n",
    "\n",
    "Matplotlib also interacts with different backends behind the scene. The workhorse behind rendering charts in matplotlib is its backends. Some interactive backends dynamically update and pop up to users after every change. By default, the interactive mode is turned off."
   ]
  },
  {
   "cell_type": "code",
   "execution_count": 9,
   "metadata": {
    "execution": {
     "iopub.execute_input": "2020-08-29T15:36:23.510800Z",
     "iopub.status.busy": "2020-08-29T15:36:23.509676Z",
     "iopub.status.idle": "2020-08-29T15:36:24.308400Z",
     "shell.execute_reply": "2020-08-29T15:36:24.307621Z"
    },
    "papermill": {
     "duration": 0.816381,
     "end_time": "2020-08-29T15:36:24.308568",
     "exception": false,
     "start_time": "2020-08-29T15:36:23.492187",
     "status": "completed"
    },
    "tags": []
   },
   "outputs": [
    {
     "data": {
      "image/png": "[encoded data removed]",
      "text/plain": [
       "<Figure size 432x288 with 1 Axes>"
      ]
     },
     "metadata": {
      "needs_background": "light"
     },
     "output_type": "display_data"
    },
    {
     "data": {
      "image/png": "[encoded data removed]",
      "text/plain": [
       "<Figure size 432x288 with 1 Axes>"
      ]
     },
     "metadata": {
      "needs_background": "light"
     },
     "output_type": "display_data"
    }
   ],
   "source": [
    "plt.ion()\n",
    "\n",
    "for step in range(10):\n",
    "    _, l, pred = sess.run([train_optimizers, loss, output], {tf_x:x, tf_y:y})\n",
    "    if step % 5 == 0:\n",
    "        plt.cla()\n",
    "        plt.scatter(x, y)\n",
    "        plt.plot(x, pred, 'r-', lw= 5)\n",
    "        plt.text(0.5, 0, 'loss=%.4f'%l, fontdict={'size':20, 'color':'red'})\n",
    "        plt.pause(0.1)\n",
    "        \n",
    "plt.ioff()\n",
    "plt.show()"
   ]
  }
 ],
 "metadata": {
  "kernelspec": {
   "display_name": "Python 3",
   "language": "python",
   "name": "python3"
  },
  "language_info": {
   "codemirror_mode": {
    "name": "ipython",
    "version": 3
   },
   "file_extension": ".py",
   "mimetype": "text/x-python",
   "name": "python",
   "nbconvert_exporter": "python",
   "pygments_lexer": "ipython3",
   "version": "3.7.6"
  },
  "papermill": {
   "duration": 14.269176,
   "end_time": "2020-08-29T15:36:24.423899",
   "environment_variables": {},
   "exception": null,
   "input_path": "__notebook__.ipynb",
   "output_path": "__notebook__.ipynb",
   "parameters": {},
   "start_time": "2020-08-29T15:36:10.154723",
   "version": "2.1.0"
  }
 },
 "nbformat": 4,
 "nbformat_minor": 4
}
