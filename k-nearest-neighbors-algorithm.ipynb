{
 "cells": [
  {
   "cell_type": "markdown",
   "execution_count": null,
   "metadata": {
    "papermill": {
     "duration": 0.010126,
     "end_time": "2020-09-06T17:59:05.711073",
     "exception": false,
     "start_time": "2020-09-06T17:59:05.700947",
     "status": "completed"
    },
    "tags": []
   },
   "source": [
    "# K-Nearest Neighbors Algorithm in Python and Scikit-Learn"
   ]
  },
  {
   "cell_type": "markdown",
   "execution_count": null,
   "metadata": {
    "papermill": {
     "duration": 0.007798,
     "end_time": "2020-09-06T17:59:05.727438",
     "exception": false,
     "start_time": "2020-09-06T17:59:05.719640",
     "status": "completed"
    },
    "tags": []
   },
   "source": [
    "The K-nearest neighbors (KNN) algorithm is a type of supervised machine learning algorithms. KNN is extremely easy to implement in its most basic form, and yet performs quite complex classification tasks. It is a lazy learning algorithm since it doesn't have a specialized training phase. Rather, it uses all of the data for training while classifying a new data point or instance. KNN is a non-parametric learning algorithm, which means that it doesn't assume anything about the underlying data. This is an extremely useful feature since most of the real world data doesn't really follow any theoretical assumption e.g. linear-separability, uniform distribution, etc.\n",
    "\n",
    "In this article, we will see how KNN can be implemented with Python's Scikit-Learn library. But before that let's first explore the theory behind KNN and see what are some of the pros and cons of the algorithm."
   ]
  },
  {
   "cell_type": "markdown",
   "execution_count": null,
   "metadata": {
    "papermill": {
     "duration": 0.010124,
     "end_time": "2020-09-06T17:59:05.745898",
     "exception": false,
     "start_time": "2020-09-06T17:59:05.735774",
     "status": "completed"
    },
    "tags": []
   },
   "source": [
    "# Main Concept of the K-Nearest Neighbors\n",
    "The intuition behind the KNN algorithm is one of the simplest of all the supervised machine learning algorithms. It simply calculates the distance of a new data point to all other training data points. The distance can be of any type e.g Euclidean or Manhattan etc. It then selects the K-nearest data points, where K can be any integer. Finally it assigns the data point to the class to which the majority of the K data points belong."
   ]
  },
  {
   "cell_type": "markdown",
   "execution_count": null,
   "metadata": {
    "papermill": {
     "duration": 0.007885,
     "end_time": "2020-09-06T17:59:05.762094",
     "exception": false,
     "start_time": "2020-09-06T17:59:05.754209",
     "status": "completed"
    },
    "tags": []
   },
   "source": [
    "<img src=\"data:image/png;base64,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\" alt = \"KNN-Classifier\">"
   ]
  },
  {
   "cell_type": "markdown",
   "execution_count": null,
   "metadata": {
    "papermill": {
     "duration": 0.008046,
     "end_time": "2020-09-06T17:59:05.779087",
     "exception": false,
     "start_time": "2020-09-06T17:59:05.771041",
     "status": "completed"
    },
    "tags": []
   },
   "source": [
    "# Pros and Cons of KNN\n",
    "In this section we'll present some of the pros and cons of using the KNN algorithm.\n",
    "\n",
    "# Pros \n",
    "It is extremely easy to implement\n",
    "As said earlier, it is lazy learning algorithm and therefore requires no training prior to making real time predictions. This makes the KNN algorithm much faster than other algorithms that require training e.g SVM, linear regression, etc.\n",
    "Since the algorithm requires no training before making predictions, new data can be added seamlessly.\n",
    "There are only two parameters required to implement KNN i.e. the value of K and the distance function (e.g. Euclidean or Manhattan etc.)\n",
    "Cons\n",
    "The KNN algorithm doesn't work well with high dimensional data because with large number of dimensions, it becomes difficult for the algorithm to calculate distance in each dimension.\n",
    "The KNN algorithm has a high prediction cost for large datasets. This is because in large datasets the cost of calculating distance between new point and each existing point becomes higher.\n",
    "Finally, the KNN algorithm doesn't work well with categorical features since it is difficult to find the distance between dimensions with categorical features."
   ]
  },
  {
   "cell_type": "markdown",
   "execution_count": null,
   "metadata": {
    "papermill": {
     "duration": 0.008045,
     "end_time": "2020-09-06T17:59:05.795510",
     "exception": false,
     "start_time": "2020-09-06T17:59:05.787465",
     "status": "completed"
    },
    "tags": []
   },
   "source": [
    "# Implementing KNN Algorithm with Scikit-Learn\n",
    "\n",
    "In this section, we will see how Python's Scikit-Learn library can be used to implement the KNN algorithm in less than 20 lines of code. The download and installation instructions for Scikit learn library are available at here[https://archive.ics.uci.edu/ml/datasets/Iris]"
   ]
  },
  {
   "cell_type": "markdown",
   "execution_count": null,
   "metadata": {
    "papermill": {
     "duration": 0.008045,
     "end_time": "2020-09-06T17:59:05.811929",
     "exception": false,
     "start_time": "2020-09-06T17:59:05.803884",
     "status": "completed"
    },
    "tags": []
   },
   "source": [
    "# Importing Libraries"
   ]
  },
  {
   "cell_type": "code",
   "execution_count": 1,
   "metadata": {
    "_cell_guid": "79c7e3d0-c299-4dcb-8224-4455121ee9b0",
    "_uuid": "d629ff2d2480ee46fbb7e2d37f6b5fab8052498a",
    "execution": {
     "iopub.execute_input": "2020-09-06T17:59:05.839087Z",
     "iopub.status.busy": "2020-09-06T17:59:05.838240Z",
     "iopub.status.idle": "2020-09-06T17:59:06.965177Z",
     "shell.execute_reply": "2020-09-06T17:59:06.964301Z"
    },
    "papermill": {
     "duration": 1.145005,
     "end_time": "2020-09-06T17:59:06.965355",
     "exception": false,
     "start_time": "2020-09-06T17:59:05.820350",
     "status": "completed"
    },
    "tags": []
   },
   "outputs": [],
   "source": [
    "import numpy as np\n",
    "import matplotlib.pyplot as plt\n",
    "from sklearn.model_selection import train_test_split\n",
    "import pandas as pd\n",
    "from sklearn.preprocessing import StandardScaler\n",
    "from sklearn.neighbors import KNeighborsClassifier\n",
    "from sklearn.metrics import classification_report, confusion_matrix\n",
    "%matplotlib inline"
   ]
  },
  {
   "cell_type": "code",
   "execution_count": 2,
   "metadata": {
    "execution": {
     "iopub.execute_input": "2020-09-06T17:59:07.003456Z",
     "iopub.status.busy": "2020-09-06T17:59:07.002435Z",
     "iopub.status.idle": "2020-09-06T17:59:07.222506Z",
     "shell.execute_reply": "2020-09-06T17:59:07.221686Z"
    },
    "papermill": {
     "duration": 0.249068,
     "end_time": "2020-09-06T17:59:07.222640",
     "exception": false,
     "start_time": "2020-09-06T17:59:06.973572",
     "status": "completed"
    },
    "tags": []
   },
   "outputs": [],
   "source": [
    "url = \"https://archive.ics.uci.edu/ml/machine-learning-databases/iris/iris.data\"\n",
    "\n",
    "# Assign colum names to the dataset\n",
    "names = ['sepal-length', 'sepal-width', 'petal-length', 'petal-width', 'Class']\n",
    "\n",
    "# Read dataset to pandas dataframe\n",
    "dataset = pd.read_csv(url, names=names)"
   ]
  },
  {
   "cell_type": "code",
   "execution_count": 3,
   "metadata": {
    "execution": {
     "iopub.execute_input": "2020-09-06T17:59:07.256952Z",
     "iopub.status.busy": "2020-09-06T17:59:07.254670Z",
     "iopub.status.idle": "2020-09-06T17:59:07.268405Z",
     "shell.execute_reply": "2020-09-06T17:59:07.268986Z"
    },
    "papermill": {
     "duration": 0.037025,
     "end_time": "2020-09-06T17:59:07.269188",
     "exception": false,
     "start_time": "2020-09-06T17:59:07.232163",
     "status": "completed"
    },
    "tags": []
   },
   "outputs": [
    {
     "data": {
      "text/html": [
       "<div>\n",
       "<style scoped>\n",
       "    .dataframe tbody tr th:only-of-type {\n",
       "        vertical-align: middle;\n",
       "    }\n",
       "\n",
       "    .dataframe tbody tr th {\n",
       "        vertical-align: top;\n",
       "    }\n",
       "\n",
       "    .dataframe thead th {\n",
       "        text-align: right;\n",
       "    }\n",
       "</style>\n",
       "<table border=\"1\" class=\"dataframe\">\n",
       "  <thead>\n",
       "    <tr style=\"text-align: right;\">\n",
       "      <th></th>\n",
       "      <th>sepal-length</th>\n",
       "      <th>sepal-width</th>\n",
       "      <th>petal-length</th>\n",
       "      <th>petal-width</th>\n",
       "      <th>Class</th>\n",
       "    </tr>\n",
       "  </thead>\n",
       "  <tbody>\n",
       "    <tr>\n",
       "      <th>0</th>\n",
       "      <td>5.1</td>\n",
       "      <td>3.5</td>\n",
       "      <td>1.4</td>\n",
       "      <td>0.2</td>\n",
       "      <td>Iris-setosa</td>\n",
       "    </tr>\n",
       "    <tr>\n",
       "      <th>1</th>\n",
       "      <td>4.9</td>\n",
       "      <td>3.0</td>\n",
       "      <td>1.4</td>\n",
       "      <td>0.2</td>\n",
       "      <td>Iris-setosa</td>\n",
       "    </tr>\n",
       "    <tr>\n",
       "      <th>2</th>\n",
       "      <td>4.7</td>\n",
       "      <td>3.2</td>\n",
       "      <td>1.3</td>\n",
       "      <td>0.2</td>\n",
       "      <td>Iris-setosa</td>\n",
       "    </tr>\n",
       "    <tr>\n",
       "      <th>3</th>\n",
       "      <td>4.6</td>\n",
       "      <td>3.1</td>\n",
       "      <td>1.5</td>\n",
       "      <td>0.2</td>\n",
       "      <td>Iris-setosa</td>\n",
       "    </tr>\n",
       "    <tr>\n",
       "      <th>4</th>\n",
       "      <td>5.0</td>\n",
       "      <td>3.6</td>\n",
       "      <td>1.4</td>\n",
       "      <td>0.2</td>\n",
       "      <td>Iris-setosa</td>\n",
       "    </tr>\n",
       "  </tbody>\n",
       "</table>\n",
       "</div>"
      ],
      "text/plain": [
       "   sepal-length  sepal-width  petal-length  petal-width        Class\n",
       "0           5.1          3.5           1.4          0.2  Iris-setosa\n",
       "1           4.9          3.0           1.4          0.2  Iris-setosa\n",
       "2           4.7          3.2           1.3          0.2  Iris-setosa\n",
       "3           4.6          3.1           1.5          0.2  Iris-setosa\n",
       "4           5.0          3.6           1.4          0.2  Iris-setosa"
      ]
     },
     "execution_count": 3,
     "metadata": {},
     "output_type": "execute_result"
    }
   ],
   "source": [
    "dataset.head()"
   ]
  },
  {
   "cell_type": "markdown",
   "execution_count": null,
   "metadata": {
    "papermill": {
     "duration": 0.010028,
     "end_time": "2020-09-06T17:59:07.288518",
     "exception": false,
     "start_time": "2020-09-06T17:59:07.278490",
     "status": "completed"
    },
    "tags": []
   },
   "source": [
    "# Preprocessing"
   ]
  },
  {
   "cell_type": "code",
   "execution_count": 4,
   "metadata": {
    "execution": {
     "iopub.execute_input": "2020-09-06T17:59:07.314744Z",
     "iopub.status.busy": "2020-09-06T17:59:07.313854Z",
     "iopub.status.idle": "2020-09-06T17:59:07.317472Z",
     "shell.execute_reply": "2020-09-06T17:59:07.316693Z"
    },
    "papermill": {
     "duration": 0.019785,
     "end_time": "2020-09-06T17:59:07.317614",
     "exception": false,
     "start_time": "2020-09-06T17:59:07.297829",
     "status": "completed"
    },
    "tags": []
   },
   "outputs": [],
   "source": [
    "X = dataset.iloc[:, :-1].values\n",
    "y = dataset.iloc[:, 4].values"
   ]
  },
  {
   "cell_type": "markdown",
   "execution_count": null,
   "metadata": {
    "papermill": {
     "duration": 0.008205,
     "end_time": "2020-09-06T17:59:07.335211",
     "exception": false,
     "start_time": "2020-09-06T17:59:07.327006",
     "status": "completed"
    },
    "tags": []
   },
   "source": [
    "# Train Test Split\n",
    "To avoid over-fitting, we will divide our dataset into training and test splits, which gives us a better idea as to how our algorithm performed during the testing phase. This way our algorithm is tested on un-seen data, as it would be in a production application."
   ]
  },
  {
   "cell_type": "code",
   "execution_count": 5,
   "metadata": {
    "execution": {
     "iopub.execute_input": "2020-09-06T17:59:07.359829Z",
     "iopub.status.busy": "2020-09-06T17:59:07.359026Z",
     "iopub.status.idle": "2020-09-06T17:59:07.362733Z",
     "shell.execute_reply": "2020-09-06T17:59:07.361987Z"
    },
    "papermill": {
     "duration": 0.019279,
     "end_time": "2020-09-06T17:59:07.362860",
     "exception": false,
     "start_time": "2020-09-06T17:59:07.343581",
     "status": "completed"
    },
    "tags": []
   },
   "outputs": [],
   "source": [
    "X_train, X_test, y_train, y_test = train_test_split(X, y, test_size=0.20)"
   ]
  },
  {
   "cell_type": "markdown",
   "execution_count": null,
   "metadata": {
    "papermill": {
     "duration": 0.008731,
     "end_time": "2020-09-06T17:59:07.380149",
     "exception": false,
     "start_time": "2020-09-06T17:59:07.371418",
     "status": "completed"
    },
    "tags": []
   },
   "source": [
    "The above script splits the dataset into 80% train data and 20% test data. This means that out of total 150 records, the training set will contain 120 records and the test set contains 30 of those records."
   ]
  },
  {
   "cell_type": "markdown",
   "execution_count": null,
   "metadata": {
    "papermill": {
     "duration": 0.008008,
     "end_time": "2020-09-06T17:59:07.396633",
     "exception": false,
     "start_time": "2020-09-06T17:59:07.388625",
     "status": "completed"
    },
    "tags": []
   },
   "source": [
    "# Feature Scaling\n",
    "Before making any actual predictions, it is always a good practice to scale the features so that all of them can be uniformly evaluated."
   ]
  },
  {
   "cell_type": "code",
   "execution_count": 6,
   "metadata": {
    "execution": {
     "iopub.execute_input": "2020-09-06T17:59:07.421966Z",
     "iopub.status.busy": "2020-09-06T17:59:07.421111Z",
     "iopub.status.idle": "2020-09-06T17:59:07.424370Z",
     "shell.execute_reply": "2020-09-06T17:59:07.423759Z"
    },
    "papermill": {
     "duration": 0.019512,
     "end_time": "2020-09-06T17:59:07.424514",
     "exception": false,
     "start_time": "2020-09-06T17:59:07.405002",
     "status": "completed"
    },
    "tags": []
   },
   "outputs": [],
   "source": [
    "scaler = StandardScaler()\n",
    "scaler.fit(X_train)\n",
    "\n",
    "X_train = scaler.transform(X_train)\n",
    "X_test = scaler.transform(X_test)"
   ]
  },
  {
   "cell_type": "markdown",
   "execution_count": null,
   "metadata": {
    "papermill": {
     "duration": 0.008416,
     "end_time": "2020-09-06T17:59:07.442050",
     "exception": false,
     "start_time": "2020-09-06T17:59:07.433634",
     "status": "completed"
    },
    "tags": []
   },
   "source": [
    "# Training and Predictions\n",
    "It is extremely straight forward to train the KNN algorithm and make predictions with it, especially when using Scikit-Learn."
   ]
  },
  {
   "cell_type": "code",
   "execution_count": 7,
   "metadata": {
    "execution": {
     "iopub.execute_input": "2020-09-06T17:59:07.468721Z",
     "iopub.status.busy": "2020-09-06T17:59:07.467885Z",
     "iopub.status.idle": "2020-09-06T17:59:07.473957Z",
     "shell.execute_reply": "2020-09-06T17:59:07.473194Z"
    },
    "papermill": {
     "duration": 0.023323,
     "end_time": "2020-09-06T17:59:07.474097",
     "exception": false,
     "start_time": "2020-09-06T17:59:07.450774",
     "status": "completed"
    },
    "tags": []
   },
   "outputs": [
    {
     "data": {
      "text/plain": [
       "KNeighborsClassifier()"
      ]
     },
     "execution_count": 7,
     "metadata": {},
     "output_type": "execute_result"
    }
   ],
   "source": [
    "classifier = KNeighborsClassifier(n_neighbors=5)\n",
    "classifier.fit(X_train, y_train)"
   ]
  },
  {
   "cell_type": "markdown",
   "execution_count": null,
   "metadata": {
    "papermill": {
     "duration": 0.00902,
     "end_time": "2020-09-06T17:59:07.492125",
     "exception": false,
     "start_time": "2020-09-06T17:59:07.483105",
     "status": "completed"
    },
    "tags": []
   },
   "source": [
    "The first step is to import the KNeighborsClassifier class from the sklearn.neighbors library. In the second line, this class is initialized with one parameter, i.e. n_neigbours. This is basically the value for the K. There is no ideal value for K and it is selected after testing and evaluation, however to start out, 5 seems to be the most commonly used value for KNN algorithm."
   ]
  },
  {
   "cell_type": "code",
   "execution_count": 8,
   "metadata": {
    "execution": {
     "iopub.execute_input": "2020-09-06T17:59:07.519000Z",
     "iopub.status.busy": "2020-09-06T17:59:07.518174Z",
     "iopub.status.idle": "2020-09-06T17:59:07.524129Z",
     "shell.execute_reply": "2020-09-06T17:59:07.523457Z"
    },
    "papermill": {
     "duration": 0.022853,
     "end_time": "2020-09-06T17:59:07.524288",
     "exception": false,
     "start_time": "2020-09-06T17:59:07.501435",
     "status": "completed"
    },
    "tags": []
   },
   "outputs": [],
   "source": [
    "y_pred = classifier.predict(X_test)"
   ]
  },
  {
   "cell_type": "markdown",
   "execution_count": null,
   "metadata": {
    "papermill": {
     "duration": 0.00867,
     "end_time": "2020-09-06T17:59:07.542413",
     "exception": false,
     "start_time": "2020-09-06T17:59:07.533743",
     "status": "completed"
    },
    "tags": []
   },
   "source": [
    "# Evaluating the Algorithm\n",
    "For evaluating an algorithm, confusion matrix, precision, recall and f1 score are the most commonly used metrics. The confusion_matrix and classification_report methods of the sklearn.metrics can be used to calculate these metrics. Take a look at the following script:"
   ]
  },
  {
   "cell_type": "code",
   "execution_count": 9,
   "metadata": {
    "execution": {
     "iopub.execute_input": "2020-09-06T17:59:07.573357Z",
     "iopub.status.busy": "2020-09-06T17:59:07.572114Z",
     "iopub.status.idle": "2020-09-06T17:59:07.578041Z",
     "shell.execute_reply": "2020-09-06T17:59:07.578690Z"
    },
    "papermill": {
     "duration": 0.027231,
     "end_time": "2020-09-06T17:59:07.578879",
     "exception": false,
     "start_time": "2020-09-06T17:59:07.551648",
     "status": "completed"
    },
    "tags": []
   },
   "outputs": [
    {
     "name": "stdout",
     "output_type": "stream",
     "text": [
      "[[ 9  0  0]\n",
      " [ 0 10  1]\n",
      " [ 0  1  9]]\n",
      "                 precision    recall  f1-score   support\n",
      "\n",
      "    Iris-setosa       1.00      1.00      1.00         9\n",
      "Iris-versicolor       0.91      0.91      0.91        11\n",
      " Iris-virginica       0.90      0.90      0.90        10\n",
      "\n",
      "       accuracy                           0.93        30\n",
      "      macro avg       0.94      0.94      0.94        30\n",
      "   weighted avg       0.93      0.93      0.93        30\n",
      "\n"
     ]
    }
   ],
   "source": [
    "print(confusion_matrix(y_test, y_pred))\n",
    "print(classification_report(y_test, y_pred))"
   ]
  },
  {
   "cell_type": "markdown",
   "execution_count": null,
   "metadata": {
    "papermill": {
     "duration": 0.008906,
     "end_time": "2020-09-06T17:59:07.597028",
     "exception": false,
     "start_time": "2020-09-06T17:59:07.588122",
     "status": "completed"
    },
    "tags": []
   },
   "source": [
    "The results show that our KNN algorithm was able to classify all the 30 records in the test set with 93% accuracy, which is excellent. Although the algorithm performed very well with this dataset, don't expect the same results with all applications. As noted earlier, KNN doesn't always perform as well with high-dimensionality or categorical features."
   ]
  },
  {
   "cell_type": "markdown",
   "execution_count": null,
   "metadata": {
    "papermill": {
     "duration": 0.008713,
     "end_time": "2020-09-06T17:59:07.615227",
     "exception": false,
     "start_time": "2020-09-06T17:59:07.606514",
     "status": "completed"
    },
    "tags": []
   },
   "source": [
    "# Comparing Error Rate with the K Value\n",
    "In the training and prediction section we said that there is no way to know beforehand which value of K that yields the best results in the first go. We randomly chose 5 as the K value and it just happen to result in 100% accuracy.\n",
    "\n",
    "One way to help you find the best value of K is to plot the graph of K value and the corresponding error rate for the dataset.\n",
    "\n",
    "In this section, we will plot the mean error for the predicted values of test set for all the K values between 1 and 40.\n",
    "\n",
    "To do so, let's first calculate the mean of error for all the predicted values where K ranges from 1 and 40. Execute the following script:"
   ]
  },
  {
   "cell_type": "code",
   "execution_count": 10,
   "metadata": {
    "execution": {
     "iopub.execute_input": "2020-09-06T17:59:07.641668Z",
     "iopub.status.busy": "2020-09-06T17:59:07.640831Z",
     "iopub.status.idle": "2020-09-06T17:59:07.754035Z",
     "shell.execute_reply": "2020-09-06T17:59:07.753353Z"
    },
    "papermill": {
     "duration": 0.129808,
     "end_time": "2020-09-06T17:59:07.754182",
     "exception": false,
     "start_time": "2020-09-06T17:59:07.624374",
     "status": "completed"
    },
    "tags": []
   },
   "outputs": [],
   "source": [
    "error = []\n",
    "\n",
    "# Calculating error for K values between 1 and 40\n",
    "for i in range(1, 40):\n",
    "    knn = KNeighborsClassifier(n_neighbors=i)\n",
    "    knn.fit(X_train, y_train)\n",
    "    pred_i = knn.predict(X_test)\n",
    "    error.append(np.mean(pred_i != y_test))"
   ]
  },
  {
   "cell_type": "markdown",
   "execution_count": null,
   "metadata": {
    "papermill": {
     "duration": 0.009091,
     "end_time": "2020-09-06T17:59:07.772803",
     "exception": false,
     "start_time": "2020-09-06T17:59:07.763712",
     "status": "completed"
    },
    "tags": []
   },
   "source": [
    "error = []\n",
    "\n",
    "# Calculating error for K values between 1 and 40\n",
    "for i in range(1, 40):\n",
    "    knn = KNeighborsClassifier(n_neighbors=i)\n",
    "    knn.fit(X_train, y_train)\n",
    "    pred_i = knn.predict(X_test)\n",
    "    error.append(np.mean(pred_i != y_test))"
   ]
  },
  {
   "cell_type": "code",
   "execution_count": 11,
   "metadata": {
    "execution": {
     "iopub.execute_input": "2020-09-06T17:59:07.800089Z",
     "iopub.status.busy": "2020-09-06T17:59:07.799192Z",
     "iopub.status.idle": "2020-09-06T17:59:08.055456Z",
     "shell.execute_reply": "2020-09-06T17:59:08.054675Z"
    },
    "papermill": {
     "duration": 0.273573,
     "end_time": "2020-09-06T17:59:08.055593",
     "exception": false,
     "start_time": "2020-09-06T17:59:07.782020",
     "status": "completed"
    },
    "tags": []
   },
   "outputs": [
    {
     "data": {
      "text/plain": [
       "Text(0, 0.5, 'Mean Error')"
      ]
     },
     "execution_count": 11,
     "metadata": {},
     "output_type": "execute_result"
    },
    {
     "data": {
      "image/png": "[encoded data removed]",
      "text/plain": [
       "<Figure size 864x432 with 1 Axes>"
      ]
     },
     "metadata": {
      "needs_background": "light"
     },
     "output_type": "display_data"
    }
   ],
   "source": [
    "plt.figure(figsize=(12, 6))\n",
    "plt.plot(range(1, 40), error, color='red', linestyle='dashed', marker='o',\n",
    "         markerfacecolor='blue', markersize=10)\n",
    "plt.title('Error Rate K Value')\n",
    "plt.xlabel('K Value')\n",
    "plt.ylabel('Mean Error')"
   ]
  },
  {
   "cell_type": "markdown",
   "execution_count": null,
   "metadata": {
    "papermill": {
     "duration": 0.009765,
     "end_time": "2020-09-06T17:59:08.075139",
     "exception": false,
     "start_time": "2020-09-06T17:59:08.065374",
     "status": "completed"
    },
    "tags": []
   },
   "source": [
    "# Conclusion\n",
    "KNN is a simple yet powerful classification algorithm. It requires no training for making predictions, which is typically one of the most difficult parts of a machine learning algorithm. The KNN algorithm have been widely used to find document similarity and pattern recognition. It has also been employed for developing recommender systems and for dimensionality reduction and pre-processing steps for computer vision, particularly face recognition tasks."
   ]
  }
 ],
 "metadata": {
  "kernelspec": {
   "display_name": "Python 3",
   "language": "python",
   "name": "python3"
  },
  "language_info": {
   "codemirror_mode": {
    "name": "ipython",
    "version": 3
   },
   "file_extension": ".py",
   "mimetype": "text/x-python",
   "name": "python",
   "nbconvert_exporter": "python",
   "pygments_lexer": "ipython3",
   "version": "3.7.6"
  },
  "papermill": {
   "duration": 7.155613,
   "end_time": "2020-09-06T17:59:08.194658",
   "environment_variables": {},
   "exception": null,
   "input_path": "__notebook__.ipynb",
   "output_path": "__notebook__.ipynb",
   "parameters": {},
   "start_time": "2020-09-06T17:59:01.039045",
   "version": "2.1.0"
  }
 },
 "nbformat": 4,
 "nbformat_minor": 4
}
