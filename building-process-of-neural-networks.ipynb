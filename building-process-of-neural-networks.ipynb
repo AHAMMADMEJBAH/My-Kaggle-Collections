{
 "cells": [
  {
   "cell_type": "markdown",
   "execution_count": null,
   "metadata": {
    "papermill": {
     "duration": 0.013273,
     "end_time": "2020-09-07T20:33:59.076248",
     "exception": false,
     "start_time": "2020-09-07T20:33:59.062975",
     "status": "completed"
    },
    "tags": []
   },
   "source": [
    "At the heart of neural networks is the unit (also called a node or neuron). A unit takes in one or more inputs, multiplies each input by a parameter (also called a weight), sums the weighted input’s values along with some bias value (typically 1), and then feeds the value into an activation function. This output is then sent forward to the other neurals deeper in the neural network (if they exist).\n",
    "\n",
    "Feedforward neural networks—also called multilayer perceptron—are the simplest\n",
    "artificial neural network used in any real-world setting. Neural networks can be\n",
    "visualized as a series of connected layers that form a network connecting an observation’s feature values at one end, and the target value (e.g., observation’s class) at the other end. The name feedforward comes from the fact that an observation’s feature values are fed “forward” through the network, with each layer successively transforming the feature values with the goal that the output at the end is the same as the target’s\n",
    "value.\n",
    "\n",
    "Specifically, feedforward neural networks contain three types of layers of units. At the start of the neural network is an input layer where each unit contains an observation’s value for a single feature. For example, if an observation has 100 features, the input layer has 100 nodes. At the end of the neural network is the output layer, which transforms the output of the hidden layers into values useful for the task at hand. For example, if our goal was binary classification, we could use an output layer with a single unit that uses a sigmoid function to scale its own output to between 0 and 1, representing a predicted class probability. Between the input and output layers are the so-called “hidden” layers (which aren’t hidden at all). These hidden layers successively transform the feature values from the input layer to something that, once processed by the output layer, resembles the target class. Neural networks with many hidden layers (e.g., 10, 100, 1,000) are considered “deep” networks and their application is\n",
    "called deep learning."
   ]
  },
  {
   "cell_type": "markdown",
   "execution_count": null,
   "metadata": {
    "papermill": {
     "duration": 0.010419,
     "end_time": "2020-09-07T20:33:59.098551",
     "exception": false,
     "start_time": "2020-09-07T20:33:59.088132",
     "status": "completed"
    },
    "tags": []
   },
   "source": [
    "## import necessary library "
   ]
  },
  {
   "cell_type": "code",
   "execution_count": 1,
   "metadata": {
    "_cell_guid": "b1076dfc-b9ad-4769-8c92-a6c4dae69d19",
    "_uuid": "8f2839f25d086af736a60e9eeb907d3b93b6e0e5",
    "execution": {
     "iopub.execute_input": "2020-09-07T20:33:59.126335Z",
     "iopub.status.busy": "2020-09-07T20:33:59.125557Z",
     "iopub.status.idle": "2020-09-07T20:34:07.150766Z",
     "shell.execute_reply": "2020-09-07T20:34:07.150106Z"
    },
    "papermill": {
     "duration": 8.043407,
     "end_time": "2020-09-07T20:34:07.150902",
     "exception": false,
     "start_time": "2020-09-07T20:33:59.107495",
     "status": "completed"
    },
    "tags": []
   },
   "outputs": [],
   "source": [
    "from sklearn import preprocessing\n",
    "import numpy as np\n",
    "from keras import models\n",
    "from keras import layers\n",
    "from keras.datasets import reuters\n",
    "from keras.utils.np_utils import to_categorical\n",
    "from keras.datasets import imdb\n",
    "from keras.preprocessing.text import Tokenizer\n"
   ]
  },
  {
   "cell_type": "markdown",
   "execution_count": null,
   "metadata": {
    "papermill": {
     "duration": 0.008469,
     "end_time": "2020-09-07T20:34:07.168686",
     "exception": false,
     "start_time": "2020-09-07T20:34:07.160217",
     "status": "completed"
    },
    "tags": []
   },
   "source": [
    "## Preprocessing Data"
   ]
  },
  {
   "cell_type": "code",
   "execution_count": 2,
   "metadata": {
    "_cell_guid": "79c7e3d0-c299-4dcb-8224-4455121ee9b0",
    "_uuid": "d629ff2d2480ee46fbb7e2d37f6b5fab8052498a",
    "execution": {
     "iopub.execute_input": "2020-09-07T20:34:07.194238Z",
     "iopub.status.busy": "2020-09-07T20:34:07.193219Z",
     "iopub.status.idle": "2020-09-07T20:34:07.196256Z",
     "shell.execute_reply": "2020-09-07T20:34:07.195512Z"
    },
    "papermill": {
     "duration": 0.018822,
     "end_time": "2020-09-07T20:34:07.196377",
     "exception": false,
     "start_time": "2020-09-07T20:34:07.177555",
     "status": "completed"
    },
    "tags": []
   },
   "outputs": [],
   "source": [
    "# Create feature\n",
    "features = np.array([[-100.1, 3240.1],\n",
    "[-200.2, -234.1],\n",
    "[5000.5, 150.1],\n",
    "[6000.6, -125.1],\n",
    "[9000.9, -673.1]])"
   ]
  },
  {
   "cell_type": "code",
   "execution_count": 3,
   "metadata": {
    "execution": {
     "iopub.execute_input": "2020-09-07T20:34:07.226436Z",
     "iopub.status.busy": "2020-09-07T20:34:07.225359Z",
     "iopub.status.idle": "2020-09-07T20:34:07.229545Z",
     "shell.execute_reply": "2020-09-07T20:34:07.230143Z"
    },
    "papermill": {
     "duration": 0.025275,
     "end_time": "2020-09-07T20:34:07.230291",
     "exception": false,
     "start_time": "2020-09-07T20:34:07.205016",
     "status": "completed"
    },
    "tags": []
   },
   "outputs": [
    {
     "data": {
      "text/plain": [
       "array([[-1.12541308,  1.96429418],\n",
       "       [-1.15329466, -0.50068741],\n",
       "       [ 0.29529406, -0.22809346],\n",
       "       [ 0.57385917, -0.42335076],\n",
       "       [ 1.40955451, -0.81216255]])"
      ]
     },
     "execution_count": 3,
     "metadata": {},
     "output_type": "execute_result"
    }
   ],
   "source": [
    "scaler = preprocessing.StandardScaler()\n",
    "# Transform the feature\n",
    "features_standardized = scaler.fit_transform(features)\n",
    "# Show feature\n",
    "features_standardized"
   ]
  },
  {
   "cell_type": "code",
   "execution_count": 4,
   "metadata": {
    "execution": {
     "iopub.execute_input": "2020-09-07T20:34:07.254330Z",
     "iopub.status.busy": "2020-09-07T20:34:07.253499Z",
     "iopub.status.idle": "2020-09-07T20:34:07.257629Z",
     "shell.execute_reply": "2020-09-07T20:34:07.256900Z"
    },
    "papermill": {
     "duration": 0.018544,
     "end_time": "2020-09-07T20:34:07.257743",
     "exception": false,
     "start_time": "2020-09-07T20:34:07.239199",
     "status": "completed"
    },
    "tags": []
   },
   "outputs": [
    {
     "name": "stdout",
     "output_type": "stream",
     "text": [
      "Mean: 0.0\n",
      "Standard deviation:  0.9999999999999999\n"
     ]
    }
   ],
   "source": [
    "# Print mean and standard deviation\n",
    "print(\"Mean:\", round(features_standardized[:,0].mean()))\n",
    "print(\"Standard deviation: \", features_standardized[:,0].std())"
   ]
  },
  {
   "cell_type": "markdown",
   "execution_count": null,
   "metadata": {
    "papermill": {
     "duration": 0.008506,
     "end_time": "2020-09-07T20:34:07.275167",
     "exception": false,
     "start_time": "2020-09-07T20:34:07.266661",
     "status": "completed"
    },
    "tags": []
   },
   "source": [
    "# Designing a Neural Network"
   ]
  },
  {
   "cell_type": "code",
   "execution_count": 5,
   "metadata": {
    "execution": {
     "iopub.execute_input": "2020-09-07T20:34:07.298252Z",
     "iopub.status.busy": "2020-09-07T20:34:07.297449Z",
     "iopub.status.idle": "2020-09-07T20:34:07.371444Z",
     "shell.execute_reply": "2020-09-07T20:34:07.370644Z"
    },
    "papermill": {
     "duration": 0.087591,
     "end_time": "2020-09-07T20:34:07.371567",
     "exception": false,
     "start_time": "2020-09-07T20:34:07.283976",
     "status": "completed"
    },
    "tags": []
   },
   "outputs": [],
   "source": [
    "# Start neural network\n",
    "network = models.Sequential()"
   ]
  },
  {
   "cell_type": "code",
   "execution_count": 6,
   "metadata": {
    "execution": {
     "iopub.execute_input": "2020-09-07T20:34:07.400805Z",
     "iopub.status.busy": "2020-09-07T20:34:07.399856Z",
     "iopub.status.idle": "2020-09-07T20:34:07.446442Z",
     "shell.execute_reply": "2020-09-07T20:34:07.445687Z"
    },
    "papermill": {
     "duration": 0.06585,
     "end_time": "2020-09-07T20:34:07.446578",
     "exception": false,
     "start_time": "2020-09-07T20:34:07.380728",
     "status": "completed"
    },
    "tags": []
   },
   "outputs": [],
   "source": [
    "# Add fully connected layer with a ReLU activation function\n",
    "network.add(layers.Dense(units=16, activation=\"relu\", input_shape=(10,)))"
   ]
  },
  {
   "cell_type": "code",
   "execution_count": 7,
   "metadata": {
    "execution": {
     "iopub.execute_input": "2020-09-07T20:34:07.472865Z",
     "iopub.status.busy": "2020-09-07T20:34:07.472148Z",
     "iopub.status.idle": "2020-09-07T20:34:07.481491Z",
     "shell.execute_reply": "2020-09-07T20:34:07.480869Z"
    },
    "papermill": {
     "duration": 0.025606,
     "end_time": "2020-09-07T20:34:07.481615",
     "exception": false,
     "start_time": "2020-09-07T20:34:07.456009",
     "status": "completed"
    },
    "tags": []
   },
   "outputs": [],
   "source": [
    "# Add fully connected layer with a ReLU activation function\n",
    "network.add(layers.Dense(units=16, activation=\"relu\"))"
   ]
  },
  {
   "cell_type": "code",
   "execution_count": 8,
   "metadata": {
    "execution": {
     "iopub.execute_input": "2020-09-07T20:34:07.507945Z",
     "iopub.status.busy": "2020-09-07T20:34:07.507217Z",
     "iopub.status.idle": "2020-09-07T20:34:07.517535Z",
     "shell.execute_reply": "2020-09-07T20:34:07.516902Z"
    },
    "papermill": {
     "duration": 0.026871,
     "end_time": "2020-09-07T20:34:07.517678",
     "exception": false,
     "start_time": "2020-09-07T20:34:07.490807",
     "status": "completed"
    },
    "tags": []
   },
   "outputs": [],
   "source": [
    "# Add fully connected layer with a sigmoid activation function\n",
    "network.add(layers.Dense(units=1, activation=\"sigmoid\"))"
   ]
  },
  {
   "cell_type": "code",
   "execution_count": 9,
   "metadata": {
    "execution": {
     "iopub.execute_input": "2020-09-07T20:34:07.549669Z",
     "iopub.status.busy": "2020-09-07T20:34:07.548923Z",
     "iopub.status.idle": "2020-09-07T20:34:07.555029Z",
     "shell.execute_reply": "2020-09-07T20:34:07.555660Z"
    },
    "papermill": {
     "duration": 0.028624,
     "end_time": "2020-09-07T20:34:07.555835",
     "exception": false,
     "start_time": "2020-09-07T20:34:07.527211",
     "status": "completed"
    },
    "tags": []
   },
   "outputs": [],
   "source": [
    "network.compile(loss=\"binary_crossentropy\", # Cross-entropy\n",
    "optimizer=\"rmsprop\", # Root Mean Square Propagation\n",
    "metrics=[\"accuracy\"]) # Accuracy performance metric"
   ]
  },
  {
   "cell_type": "markdown",
   "execution_count": null,
   "metadata": {
    "papermill": {
     "duration": 0.008958,
     "end_time": "2020-09-07T20:34:07.574074",
     "exception": false,
     "start_time": "2020-09-07T20:34:07.565116",
     "status": "completed"
    },
    "tags": []
   },
   "source": [
    "## Training a Binary Classifier"
   ]
  },
  {
   "cell_type": "code",
   "execution_count": 10,
   "metadata": {
    "execution": {
     "iopub.execute_input": "2020-09-07T20:34:07.597932Z",
     "iopub.status.busy": "2020-09-07T20:34:07.597223Z",
     "iopub.status.idle": "2020-09-07T20:34:07.600080Z",
     "shell.execute_reply": "2020-09-07T20:34:07.600738Z"
    },
    "papermill": {
     "duration": 0.017506,
     "end_time": "2020-09-07T20:34:07.600893",
     "exception": false,
     "start_time": "2020-09-07T20:34:07.583387",
     "status": "completed"
    },
    "tags": []
   },
   "outputs": [],
   "source": [
    "np.random.seed(0)\n",
    "# Set the number of features we want\n",
    "number_of_features = 1000"
   ]
  },
  {
   "cell_type": "code",
   "execution_count": 11,
   "metadata": {
    "execution": {
     "iopub.execute_input": "2020-09-07T20:34:07.624745Z",
     "iopub.status.busy": "2020-09-07T20:34:07.623962Z",
     "iopub.status.idle": "2020-09-07T20:34:18.571121Z",
     "shell.execute_reply": "2020-09-07T20:34:18.570470Z"
    },
    "papermill": {
     "duration": 10.961307,
     "end_time": "2020-09-07T20:34:18.571265",
     "exception": false,
     "start_time": "2020-09-07T20:34:07.609958",
     "status": "completed"
    },
    "tags": []
   },
   "outputs": [
    {
     "name": "stdout",
     "output_type": "stream",
     "text": [
      "Downloading data from https://storage.googleapis.com/tensorflow/tf-keras-datasets/imdb.npz\n",
      "17465344/17464789 [==============================] - 0s 0us/step\n"
     ]
    }
   ],
   "source": [
    "# Load data and target vector from movie review data\n",
    "(data_train, target_train), (data_test, target_test) = imdb.load_data(\n",
    "num_words=number_of_features)"
   ]
  },
  {
   "cell_type": "code",
   "execution_count": 12,
   "metadata": {
    "execution": {
     "iopub.execute_input": "2020-09-07T20:34:18.608161Z",
     "iopub.status.busy": "2020-09-07T20:34:18.602780Z",
     "iopub.status.idle": "2020-09-07T20:34:26.276907Z",
     "shell.execute_reply": "2020-09-07T20:34:26.276108Z"
    },
    "papermill": {
     "duration": 7.695239,
     "end_time": "2020-09-07T20:34:26.277066",
     "exception": false,
     "start_time": "2020-09-07T20:34:18.581827",
     "status": "completed"
    },
    "tags": []
   },
   "outputs": [],
   "source": [
    "# Convert movie review data to one-hot encoded feature matrix\n",
    "tokenizer = Tokenizer(num_words=number_of_features)\n",
    "features_train = tokenizer.sequences_to_matrix(data_train, mode=\"binary\")\n",
    "features_test = tokenizer.sequences_to_matrix(data_test, mode=\"binary\")"
   ]
  },
  {
   "cell_type": "code",
   "execution_count": 13,
   "metadata": {
    "execution": {
     "iopub.execute_input": "2020-09-07T20:34:26.306314Z",
     "iopub.status.busy": "2020-09-07T20:34:26.305226Z",
     "iopub.status.idle": "2020-09-07T20:34:26.321975Z",
     "shell.execute_reply": "2020-09-07T20:34:26.321350Z"
    },
    "papermill": {
     "duration": 0.034869,
     "end_time": "2020-09-07T20:34:26.322127",
     "exception": false,
     "start_time": "2020-09-07T20:34:26.287258",
     "status": "completed"
    },
    "tags": []
   },
   "outputs": [],
   "source": [
    "# Start neural network\n",
    "network = models.Sequential()\n",
    "# Add fully connected layer with a ReLU activation function\n",
    "network.add(layers.Dense(units=16, activation=\"relu\", input_shape=(\n",
    "number_of_features,)))"
   ]
  },
  {
   "cell_type": "code",
   "execution_count": 14,
   "metadata": {
    "execution": {
     "iopub.execute_input": "2020-09-07T20:34:26.350912Z",
     "iopub.status.busy": "2020-09-07T20:34:26.350135Z",
     "iopub.status.idle": "2020-09-07T20:34:26.366589Z",
     "shell.execute_reply": "2020-09-07T20:34:26.365874Z"
    },
    "papermill": {
     "duration": 0.034188,
     "end_time": "2020-09-07T20:34:26.366713",
     "exception": false,
     "start_time": "2020-09-07T20:34:26.332525",
     "status": "completed"
    },
    "tags": []
   },
   "outputs": [],
   "source": [
    "# Add fully connected layer with a ReLU activation function\n",
    "network.add(layers.Dense(units=16, activation=\"relu\"))\n",
    "# Add fully connected layer with a sigmoid activation function\n",
    "network.add(layers.Dense(units=1, activation=\"sigmoid\"))"
   ]
  },
  {
   "cell_type": "code",
   "execution_count": 15,
   "metadata": {
    "execution": {
     "iopub.execute_input": "2020-09-07T20:34:26.401148Z",
     "iopub.status.busy": "2020-09-07T20:34:26.399780Z",
     "iopub.status.idle": "2020-09-07T20:34:26.406256Z",
     "shell.execute_reply": "2020-09-07T20:34:26.405622Z"
    },
    "papermill": {
     "duration": 0.029598,
     "end_time": "2020-09-07T20:34:26.406389",
     "exception": false,
     "start_time": "2020-09-07T20:34:26.376791",
     "status": "completed"
    },
    "tags": []
   },
   "outputs": [],
   "source": [
    "network.compile(loss=\"binary_crossentropy\", # Cross-entropy\n",
    "optimizer=\"rmsprop\", # Root Mean Square Propagation\n",
    "metrics=[\"accuracy\"]) # Accuracy performance metric"
   ]
  },
  {
   "cell_type": "code",
   "execution_count": 16,
   "metadata": {
    "execution": {
     "iopub.execute_input": "2020-09-07T20:34:26.436099Z",
     "iopub.status.busy": "2020-09-07T20:34:26.435202Z",
     "iopub.status.idle": "2020-09-07T20:34:30.043401Z",
     "shell.execute_reply": "2020-09-07T20:34:30.042230Z"
    },
    "papermill": {
     "duration": 3.626204,
     "end_time": "2020-09-07T20:34:30.043569",
     "exception": false,
     "start_time": "2020-09-07T20:34:26.417365",
     "status": "completed"
    },
    "tags": []
   },
   "outputs": [
    {
     "name": "stdout",
     "output_type": "stream",
     "text": [
      "Epoch 1/3\n",
      "250/250 [==============================] - 1s 4ms/step - loss: 0.4237 - accuracy: 0.8081 - val_loss: 0.3349 - val_accuracy: 0.8577\n",
      "Epoch 2/3\n",
      "250/250 [==============================] - 1s 3ms/step - loss: 0.3242 - accuracy: 0.8649 - val_loss: 0.3264 - val_accuracy: 0.8605\n",
      "Epoch 3/3\n",
      "250/250 [==============================] - 1s 3ms/step - loss: 0.3127 - accuracy: 0.8693 - val_loss: 0.3303 - val_accuracy: 0.8586\n"
     ]
    }
   ],
   "source": [
    "#Train neural network\n",
    "history = network.fit(features_train, # Features\n",
    "target_train, # Target vector\n",
    "epochs=3, # Number of epochs\n",
    "verbose=1, # Print description after each epoch\n",
    "batch_size=100, # Number of observations per batch\n",
    "validation_data=(features_test, target_test)) # Test data"
   ]
  },
  {
   "cell_type": "code",
   "execution_count": 17,
   "metadata": {
    "execution": {
     "iopub.execute_input": "2020-09-07T20:34:30.073543Z",
     "iopub.status.busy": "2020-09-07T20:34:30.072753Z",
     "iopub.status.idle": "2020-09-07T20:34:30.077290Z",
     "shell.execute_reply": "2020-09-07T20:34:30.077830Z"
    },
    "papermill": {
     "duration": 0.022075,
     "end_time": "2020-09-07T20:34:30.077986",
     "exception": false,
     "start_time": "2020-09-07T20:34:30.055911",
     "status": "completed"
    },
    "tags": []
   },
   "outputs": [
    {
     "data": {
      "text/plain": [
       "(25000, 1000)"
      ]
     },
     "execution_count": 17,
     "metadata": {},
     "output_type": "execute_result"
    }
   ],
   "source": [
    "# View shape of feature matrix\n",
    "features_train.shape"
   ]
  },
  {
   "cell_type": "markdown",
   "execution_count": null,
   "metadata": {
    "papermill": {
     "duration": 0.011701,
     "end_time": "2020-09-07T20:34:30.101876",
     "exception": false,
     "start_time": "2020-09-07T20:34:30.090175",
     "status": "completed"
    },
    "tags": []
   },
   "source": [
    "## Training a Multiclass Classifier"
   ]
  },
  {
   "cell_type": "code",
   "execution_count": 18,
   "metadata": {
    "execution": {
     "iopub.execute_input": "2020-09-07T20:34:30.131612Z",
     "iopub.status.busy": "2020-09-07T20:34:30.130840Z",
     "iopub.status.idle": "2020-09-07T20:34:30.134229Z",
     "shell.execute_reply": "2020-09-07T20:34:30.133627Z"
    },
    "papermill": {
     "duration": 0.020363,
     "end_time": "2020-09-07T20:34:30.134363",
     "exception": false,
     "start_time": "2020-09-07T20:34:30.114000",
     "status": "completed"
    },
    "tags": []
   },
   "outputs": [],
   "source": [
    "# Set random seed\n",
    "np.random.seed(0)\n",
    "# Set the number of features we want\n",
    "number_of_features = 5000"
   ]
  },
  {
   "cell_type": "code",
   "execution_count": 19,
   "metadata": {
    "execution": {
     "iopub.execute_input": "2020-09-07T20:34:30.173337Z",
     "iopub.status.busy": "2020-09-07T20:34:30.165828Z",
     "iopub.status.idle": "2020-09-07T20:34:33.327288Z",
     "shell.execute_reply": "2020-09-07T20:34:33.326360Z"
    },
    "papermill": {
     "duration": 3.180868,
     "end_time": "2020-09-07T20:34:33.327438",
     "exception": false,
     "start_time": "2020-09-07T20:34:30.146570",
     "status": "completed"
    },
    "tags": []
   },
   "outputs": [
    {
     "name": "stdout",
     "output_type": "stream",
     "text": [
      "Downloading data from https://storage.googleapis.com/tensorflow/tf-keras-datasets/reuters.npz\n",
      "2113536/2110848 [==============================] - 0s 0us/step\n"
     ]
    }
   ],
   "source": [
    "data = reuters.load_data(num_words=number_of_features)\n",
    "(data_train, target_vector_train), (data_test, target_vector_test) = data\n",
    "# Convert feature data to a one-hot encoded feature matrix\n",
    "tokenizer = Tokenizer(num_words=number_of_features)\n",
    "features_train = tokenizer.sequences_to_matrix(data_train, mode=\"binary\")\n",
    "features_test = tokenizer.sequences_to_matrix(data_test, mode=\"binary\")"
   ]
  },
  {
   "cell_type": "code",
   "execution_count": 20,
   "metadata": {
    "execution": {
     "iopub.execute_input": "2020-09-07T20:34:33.359148Z",
     "iopub.status.busy": "2020-09-07T20:34:33.358022Z",
     "iopub.status.idle": "2020-09-07T20:34:33.365444Z",
     "shell.execute_reply": "2020-09-07T20:34:33.365967Z"
    },
    "papermill": {
     "duration": 0.025923,
     "end_time": "2020-09-07T20:34:33.366145",
     "exception": false,
     "start_time": "2020-09-07T20:34:33.340222",
     "status": "completed"
    },
    "tags": []
   },
   "outputs": [],
   "source": [
    "# One-hot encode target vector to create a target matrix\n",
    "target_train = to_categorical(target_vector_train)\n",
    "target_test = to_categorical(target_vector_test)\n",
    "# Start neural network\n",
    "network = models.Sequential()"
   ]
  },
  {
   "cell_type": "code",
   "execution_count": 21,
   "metadata": {
    "execution": {
     "iopub.execute_input": "2020-09-07T20:34:33.401756Z",
     "iopub.status.busy": "2020-09-07T20:34:33.400829Z",
     "iopub.status.idle": "2020-09-07T20:34:33.412084Z",
     "shell.execute_reply": "2020-09-07T20:34:33.412608Z"
    },
    "papermill": {
     "duration": 0.033926,
     "end_time": "2020-09-07T20:34:33.412769",
     "exception": false,
     "start_time": "2020-09-07T20:34:33.378843",
     "status": "completed"
    },
    "tags": []
   },
   "outputs": [],
   "source": [
    "# Add fully connected layer with a ReLU activation function\n",
    "network.add(layers.Dense(units=100,\n",
    "activation=\"relu\",\n",
    "input_shape=(number_of_features,)))"
   ]
  },
  {
   "cell_type": "code",
   "execution_count": 22,
   "metadata": {
    "execution": {
     "iopub.execute_input": "2020-09-07T20:34:33.446183Z",
     "iopub.status.busy": "2020-09-07T20:34:33.445417Z",
     "iopub.status.idle": "2020-09-07T20:34:33.463283Z",
     "shell.execute_reply": "2020-09-07T20:34:33.462544Z"
    },
    "papermill": {
     "duration": 0.038006,
     "end_time": "2020-09-07T20:34:33.463401",
     "exception": false,
     "start_time": "2020-09-07T20:34:33.425395",
     "status": "completed"
    },
    "tags": []
   },
   "outputs": [],
   "source": [
    "# Add fully connected layer with a ReLU activation function\n",
    "network.add(layers.Dense(units=100, activation=\"relu\"))\n",
    "# Add fully connected layer with a softmax activation function\n",
    "network.add(layers.Dense(units=46, activation=\"softmax\"))"
   ]
  },
  {
   "cell_type": "code",
   "execution_count": 23,
   "metadata": {
    "execution": {
     "iopub.execute_input": "2020-09-07T20:34:33.501721Z",
     "iopub.status.busy": "2020-09-07T20:34:33.500938Z",
     "iopub.status.idle": "2020-09-07T20:34:33.505706Z",
     "shell.execute_reply": "2020-09-07T20:34:33.506239Z"
    },
    "papermill": {
     "duration": 0.030496,
     "end_time": "2020-09-07T20:34:33.506398",
     "exception": false,
     "start_time": "2020-09-07T20:34:33.475902",
     "status": "completed"
    },
    "tags": []
   },
   "outputs": [],
   "source": [
    "#Compile neural network\n",
    "network.compile(loss=\"categorical_crossentropy\", # Cross-entropy\n",
    "optimizer=\"rmsprop\", # Root Mean Square Propagation\n",
    "metrics=[\"accuracy\"]) # Accuracy performance metric"
   ]
  },
  {
   "cell_type": "code",
   "execution_count": 24,
   "metadata": {
    "execution": {
     "iopub.execute_input": "2020-09-07T20:34:33.538911Z",
     "iopub.status.busy": "2020-09-07T20:34:33.538149Z",
     "iopub.status.idle": "2020-09-07T20:34:36.636862Z",
     "shell.execute_reply": "2020-09-07T20:34:36.636234Z"
    },
    "papermill": {
     "duration": 3.117778,
     "end_time": "2020-09-07T20:34:36.636997",
     "exception": false,
     "start_time": "2020-09-07T20:34:33.519219",
     "status": "completed"
    },
    "tags": []
   },
   "outputs": [],
   "source": [
    "# Train neural network\n",
    "history = network.fit(features_train, # Features\n",
    "target_train, # Target\n",
    "epochs=3, # Three epochs\n",
    "verbose=0, # No output\n",
    "batch_size=100, # Number of observations per batch\n",
    "validation_data=(features_test, target_test)) # Test data"
   ]
  },
  {
   "cell_type": "code",
   "execution_count": 25,
   "metadata": {
    "execution": {
     "iopub.execute_input": "2020-09-07T20:34:36.669406Z",
     "iopub.status.busy": "2020-09-07T20:34:36.668411Z",
     "iopub.status.idle": "2020-09-07T20:34:36.672939Z",
     "shell.execute_reply": "2020-09-07T20:34:36.672250Z"
    },
    "papermill": {
     "duration": 0.023117,
     "end_time": "2020-09-07T20:34:36.673072",
     "exception": false,
     "start_time": "2020-09-07T20:34:36.649955",
     "status": "completed"
    },
    "tags": []
   },
   "outputs": [
    {
     "data": {
      "text/plain": [
       "array([[0., 0., 0., ..., 0., 0., 0.],\n",
       "       [0., 0., 0., ..., 0., 0., 0.],\n",
       "       [0., 0., 0., ..., 0., 0., 0.],\n",
       "       ...,\n",
       "       [0., 0., 0., ..., 0., 0., 0.],\n",
       "       [0., 0., 0., ..., 0., 0., 0.],\n",
       "       [0., 0., 0., ..., 0., 0., 0.]], dtype=float32)"
      ]
     },
     "execution_count": 25,
     "metadata": {},
     "output_type": "execute_result"
    }
   ],
   "source": [
    "# View target matrix\n",
    "target_train"
   ]
  },
  {
   "cell_type": "code",
   "execution_count": null,
   "metadata": {
    "papermill": {
     "duration": 0.012811,
     "end_time": "2020-09-07T20:34:36.698731",
     "exception": false,
     "start_time": "2020-09-07T20:34:36.685920",
     "status": "completed"
    },
    "tags": []
   },
   "outputs": [],
   "source": []
  }
 ],
 "metadata": {
  "kernelspec": {
   "display_name": "Python 3",
   "language": "python",
   "name": "python3"
  },
  "language_info": {
   "codemirror_mode": {
    "name": "ipython",
    "version": 3
   },
   "file_extension": ".py",
   "mimetype": "text/x-python",
   "name": "python",
   "nbconvert_exporter": "python",
   "pygments_lexer": "ipython3",
   "version": "3.7.6"
  },
  "papermill": {
   "duration": 43.915354,
   "end_time": "2020-09-07T20:34:36.819835",
   "environment_variables": {},
   "exception": null,
   "input_path": "__notebook__.ipynb",
   "output_path": "__notebook__.ipynb",
   "parameters": {},
   "start_time": "2020-09-07T20:33:52.904481",
   "version": "2.1.0"
  }
 },
 "nbformat": 4,
 "nbformat_minor": 4
}
