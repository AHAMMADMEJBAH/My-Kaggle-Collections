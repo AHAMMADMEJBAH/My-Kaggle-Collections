{
 "cells": [
  {
   "cell_type": "markdown",
   "execution_count": null,
   "metadata": {
    "papermill": {
     "duration": 0.012048,
     "end_time": "2020-09-07T12:57:02.990253",
     "exception": false,
     "start_time": "2020-09-07T12:57:02.978205",
     "status": "completed"
    },
    "tags": []
   },
   "source": [
    "# Recommender Systems\n",
    "\n",
    "we will use RBMs to build a recommender system, one of\n",
    "the most successful applications of machine learning to date and widely\n",
    "used in industry to help predict user preferences for movies, music, books,\n",
    "news, search, shopping, digital advertising, and online dating.\n",
    "There are two major categories of recommender systems—collaborative\n",
    "filtering recommender systems and content-based filtering recommender\n",
    "systems. Collaborative filtering involves building a recommender system\n",
    "from a user’s past behavior and those of other users to which the user is\n",
    "similar to. This recommender system can then predict items that the user\n",
    "may have an interest in even though the user has never expressed explicit\n",
    "interest. Movie recommendations on Netflix rely on collaborative filtering.\n",
    "Content-based filtering involves learning the distinct properties of an item\n",
    "to recommend additional items with similar properties. Music\n",
    "recommendations on Pandora rely on content-based filtering."
   ]
  },
  {
   "cell_type": "markdown",
   "execution_count": null,
   "metadata": {
    "papermill": {
     "duration": 0.011423,
     "end_time": "2020-09-07T12:57:03.012446",
     "exception": false,
     "start_time": "2020-09-07T12:57:03.001023",
     "status": "completed"
    },
    "tags": []
   },
   "source": [
    "# Collaborative Filtering\n",
    "\n",
    "Content-based filtering is not commonly used because it is a rather difficult\n",
    "task to learn the distinct properties of items—this level of understanding is\n",
    "very challenging for artificial machines to achieve currently. It is much\n",
    "easier to collect and analyze a large amount of information on users’\n",
    "behaviors and preferences and make predictions based on this. Therefore,\n",
    "collaborative filtering is much more widely used and is the type of\n",
    "recommender system we will focus on here.\n",
    "\n",
    "Collaborative filtering requires no knowledge of the underlying items\n",
    "themselves. Rather, collaborative filtering assumes that users that agreed in\n",
    "the past will agree in the future and that user preferences remain stable over\n",
    "time. By modeling how similar users are to other users, collaborative\n",
    "filtering can make pretty powerful recommendations. Moreover,\n",
    "collaborative filtering does not have to rely on explicit data (i.e., ratings that\n",
    "users provide). Rather, it can work with implicit data such as how long or\n",
    "how often a user views or clicks on a particular item. For example, in the\n",
    "past Netflix asked users to rate movies but now uses implicit user behavior\n",
    "to make inferences about user likes and dislikes.\n",
    "\n",
    "However, collaborative filtering has its challenges. First, it requires a lot of\n",
    "user data to make good recommendations. Second, it is a very\n",
    "computationally demanding task. Third, the datasets are generally very\n",
    "sparse since users will have exhibited preferences for only a small fraction\n",
    "of all the items in the universe of possible items. Assuming we have enough\n",
    "data, there are techniques we can use to handle the sparsity of the data and\n",
    "efficiently solve the problem, which we will cover in this chapter."
   ]
  },
  {
   "cell_type": "markdown",
   "execution_count": null,
   "metadata": {
    "papermill": {
     "duration": 0.009663,
     "end_time": "2020-09-07T12:57:03.032055",
     "exception": false,
     "start_time": "2020-09-07T12:57:03.022392",
     "status": "completed"
    },
    "tags": []
   },
   "source": []
  },
  {
   "cell_type": "markdown",
   "execution_count": null,
   "metadata": {
    "papermill": {
     "duration": 0.009801,
     "end_time": "2020-09-07T12:57:03.051884",
     "exception": false,
     "start_time": "2020-09-07T12:57:03.042083",
     "status": "completed"
    },
    "tags": []
   },
   "source": [
    "# MovieLens Dataset\n",
    "\n",
    "Instead of the 100 million ratings Netflix dataset, we will use a smaller\n",
    "movie ratings dataset known as the MovieLens 20M Dataset, provided by\n",
    "GroupLens, a research lab in the Department of Computer Science and\n",
    "Engineering at the University of Minnesota, Twin Cities. The data contains\n",
    "20,000,263 ratings across 27,278 movies created by 138,493 users from\n",
    "January 9, 1995 to March 31, 2015. Of users who rated at least 20 movies\n",
    "each, we will select a subset at random.\n",
    "This dataset is more manageable to work with than the 100 million ratings\n",
    "dataset from Netflix. Because the file size exceeds one hundred megabytes,\n",
    "the file is not accessible on GitHub. You will need to download the file\n",
    "directly from the MovieLens website."
   ]
  },
  {
   "cell_type": "code",
   "execution_count": 1,
   "metadata": {
    "execution": {
     "iopub.execute_input": "2020-09-07T12:57:03.092627Z",
     "iopub.status.busy": "2020-09-07T12:57:03.081010Z",
     "iopub.status.idle": "2020-09-07T12:57:12.262565Z",
     "shell.execute_reply": "2020-09-07T12:57:12.261703Z"
    },
    "papermill": {
     "duration": 9.200818,
     "end_time": "2020-09-07T12:57:12.262701",
     "exception": false,
     "start_time": "2020-09-07T12:57:03.061883",
     "status": "completed"
    },
    "tags": []
   },
   "outputs": [],
   "source": [
    "import numpy as np\n",
    "import pandas as pd\n",
    "import os, time, re\n",
    "import pickle, gzip, datetime\n",
    "\n",
    "from datetime import datetime\n",
    "\n",
    "now = datetime.now()\n",
    "\n",
    "import matplotlib.pyplot as plt\n",
    "import seaborn as sns\n",
    "color = sns.color_palette()\n",
    "import matplotlib as mpl\n",
    "%matplotlib inline\n",
    "\n",
    "\n",
    "from sklearn import preprocessing as pp\n",
    "from sklearn.model_selection import train_test_split\n",
    "from sklearn.model_selection import StratifiedKFold\n",
    "from sklearn.metrics import log_loss\n",
    "from sklearn.metrics import precision_recall_curve, average_precision_score\n",
    "from sklearn.metrics import roc_curve, auc, roc_auc_score, mean_squared_error\n",
    "import lightgbm as lgb\n",
    "\n",
    "\n",
    "import tensorflow as tf\n",
    "import keras\n",
    "\n",
    "from tensorflow.keras.models import Sequential, Model\n",
    "from tensorflow.keras.layers import Activation, Dense, Dropout\n",
    "from tensorflow.keras.layers import BatchNormalization, Input, Lambda\n",
    "from tensorflow.keras.layers import Embedding, Flatten, dot\n",
    "from tensorflow.keras import regularizers\n",
    "from tensorflow.keras.losses import mse, binary_crossentropy"
   ]
  },
  {
   "cell_type": "markdown",
   "execution_count": null,
   "metadata": {
    "papermill": {
     "duration": 0.00979,
     "end_time": "2020-09-07T12:57:12.282745",
     "exception": false,
     "start_time": "2020-09-07T12:57:12.272955",
     "status": "completed"
    },
    "tags": []
   },
   "source": [
    "# Load the data"
   ]
  },
  {
   "cell_type": "code",
   "execution_count": 2,
   "metadata": {
    "execution": {
     "iopub.execute_input": "2020-09-07T12:57:12.312932Z",
     "iopub.status.busy": "2020-09-07T12:57:12.312101Z",
     "iopub.status.idle": "2020-09-07T12:57:22.591402Z",
     "shell.execute_reply": "2020-09-07T12:57:22.590724Z"
    },
    "papermill": {
     "duration": 10.298925,
     "end_time": "2020-09-07T12:57:22.591533",
     "exception": false,
     "start_time": "2020-09-07T12:57:12.292608",
     "status": "completed"
    },
    "tags": []
   },
   "outputs": [],
   "source": [
    "ratingDF = pd.read_csv('../input/movielens-20m-dataset/ratings.csv')"
   ]
  },
  {
   "cell_type": "markdown",
   "execution_count": null,
   "metadata": {
    "papermill": {
     "duration": 0.01034,
     "end_time": "2020-09-07T12:57:22.612028",
     "exception": false,
     "start_time": "2020-09-07T12:57:22.601688",
     "status": "completed"
    },
    "tags": []
   },
   "source": [
    "# Convert fields into appropriate data types"
   ]
  },
  {
   "cell_type": "code",
   "execution_count": 3,
   "metadata": {
    "execution": {
     "iopub.execute_input": "2020-09-07T12:57:35.576368Z",
     "iopub.status.busy": "2020-09-07T12:57:32.417887Z",
     "iopub.status.idle": "2020-09-07T12:59:36.595004Z",
     "shell.execute_reply": "2020-09-07T12:59:36.594165Z"
    },
    "papermill": {
     "duration": 133.973068,
     "end_time": "2020-09-07T12:59:36.595152",
     "exception": false,
     "start_time": "2020-09-07T12:57:22.622084",
     "status": "completed"
    },
    "tags": []
   },
   "outputs": [],
   "source": [
    "ratingDF.userId = ratingDF.userId.astype(str).astype(int)\n",
    "ratingDF.movieId = ratingDF.movieId.astype(str).astype(int)\n",
    "ratingDF.rating = ratingDF.rating.astype(str).astype(float)\n",
    "ratingDF.timestamp = ratingDF.timestamp.apply(lambda x: now.strftime(\"%m/%d/%Y, %H:%M:%S\"))"
   ]
  },
  {
   "cell_type": "code",
   "execution_count": 4,
   "metadata": {
    "execution": {
     "iopub.execute_input": "2020-09-07T12:59:36.626897Z",
     "iopub.status.busy": "2020-09-07T12:59:36.626135Z",
     "iopub.status.idle": "2020-09-07T12:59:36.866803Z",
     "shell.execute_reply": "2020-09-07T12:59:36.867403Z"
    },
    "papermill": {
     "duration": 0.261304,
     "end_time": "2020-09-07T12:59:36.867580",
     "exception": false,
     "start_time": "2020-09-07T12:59:36.606276",
     "status": "completed"
    },
    "tags": []
   },
   "outputs": [],
   "source": [
    "n_users = ratingDF.userId.unique().shape[0]\n",
    "n_movies = ratingDF.movieId.unique().shape[0]\n",
    "n_ratings = len(ratingDF)\n",
    "avg_ratings_per_user = n_ratings/n_users"
   ]
  },
  {
   "cell_type": "code",
   "execution_count": 5,
   "metadata": {
    "execution": {
     "iopub.execute_input": "2020-09-07T12:59:36.895743Z",
     "iopub.status.busy": "2020-09-07T12:59:36.894732Z",
     "iopub.status.idle": "2020-09-07T12:59:36.898589Z",
     "shell.execute_reply": "2020-09-07T12:59:36.899219Z"
    },
    "papermill": {
     "duration": 0.021455,
     "end_time": "2020-09-07T12:59:36.899392",
     "exception": false,
     "start_time": "2020-09-07T12:59:36.877937",
     "status": "completed"
    },
    "tags": []
   },
   "outputs": [
    {
     "name": "stdout",
     "output_type": "stream",
     "text": [
      "Number of unique users:  138493\n",
      "Number of unique movies:  26744\n",
      "Number of total ratings:  20000263\n",
      "Average number of ratings per user:  144.4135299257002\n"
     ]
    }
   ],
   "source": [
    "print('Number of unique users: ', n_users)\n",
    "print('Number of unique movies: ', n_movies)\n",
    "print('Number of total ratings: ', n_ratings)\n",
    "print('Average number of ratings per user: ', avg_ratings_per_user)"
   ]
  },
  {
   "cell_type": "code",
   "execution_count": 6,
   "metadata": {
    "execution": {
     "iopub.execute_input": "2020-09-07T12:59:37.433144Z",
     "iopub.status.busy": "2020-09-07T12:59:37.078847Z",
     "iopub.status.idle": "2020-09-07T12:59:45.511431Z",
     "shell.execute_reply": "2020-09-07T12:59:45.510745Z"
    },
    "papermill": {
     "duration": 8.601118,
     "end_time": "2020-09-07T12:59:45.511570",
     "exception": false,
     "start_time": "2020-09-07T12:59:36.910452",
     "status": "completed"
    },
    "tags": []
   },
   "outputs": [
    {
     "data": {
      "text/plain": [
       "userId       12840344\n",
       "movieId      12840344\n",
       "rating       12840344\n",
       "timestamp    12840344\n",
       "dtype: int64"
      ]
     },
     "execution_count": 6,
     "metadata": {},
     "output_type": "execute_result"
    }
   ],
   "source": [
    "movieIndex = ratingDF.groupby(\"movieId\").count().sort_values(by= \\\n",
    "\"rating\",ascending=False)[0:1000].index\n",
    "ratingDFX2 = ratingDF[ratingDF.movieId.isin(movieIndex)]\n",
    "ratingDFX2.count()"
   ]
  },
  {
   "cell_type": "code",
   "execution_count": 7,
   "metadata": {
    "execution": {
     "iopub.execute_input": "2020-09-07T12:59:45.917321Z",
     "iopub.status.busy": "2020-09-07T12:59:45.635376Z",
     "iopub.status.idle": "2020-09-07T12:59:48.714842Z",
     "shell.execute_reply": "2020-09-07T12:59:48.714011Z"
    },
    "papermill": {
     "duration": 3.192523,
     "end_time": "2020-09-07T12:59:48.714992",
     "exception": false,
     "start_time": "2020-09-07T12:59:45.522469",
     "status": "completed"
    },
    "tags": []
   },
   "outputs": [
    {
     "data": {
      "text/plain": [
       "userId       90213\n",
       "movieId      90213\n",
       "rating       90213\n",
       "timestamp    90213\n",
       "dtype: int64"
      ]
     },
     "execution_count": 7,
     "metadata": {},
     "output_type": "execute_result"
    }
   ],
   "source": [
    "userIndex = ratingDFX2.groupby(\"userId\").count().sort_values(by= \\\n",
    "\"rating\",ascending=False).sample(n=1000, random_state=2018).index\n",
    "ratingDFX3 = ratingDFX2[ratingDFX2.userId.isin(userIndex)]\n",
    "ratingDFX3.count()"
   ]
  },
  {
   "cell_type": "markdown",
   "execution_count": null,
   "metadata": {
    "papermill": {
     "duration": 0.010609,
     "end_time": "2020-09-07T12:59:48.736449",
     "exception": false,
     "start_time": "2020-09-07T12:59:48.725840",
     "status": "completed"
    },
    "tags": []
   },
   "source": [
    "Let’s also reindex movieID and userID to a range of 1 to 1,000 for our\n",
    "reduced dataset:"
   ]
  },
  {
   "cell_type": "code",
   "execution_count": 8,
   "metadata": {
    "execution": {
     "iopub.execute_input": "2020-09-07T12:59:48.764631Z",
     "iopub.status.busy": "2020-09-07T12:59:48.763783Z",
     "iopub.status.idle": "2020-09-07T12:59:48.770430Z",
     "shell.execute_reply": "2020-09-07T12:59:48.769645Z"
    },
    "papermill": {
     "duration": 0.0234,
     "end_time": "2020-09-07T12:59:48.770557",
     "exception": false,
     "start_time": "2020-09-07T12:59:48.747157",
     "status": "completed"
    },
    "tags": []
   },
   "outputs": [],
   "source": [
    "movies = ratingDFX3.movieId.unique()\n",
    "moviesDF = pd.DataFrame(data=movies,columns=['originalMovieId'])\n",
    "moviesDF['newMovieId'] = moviesDF.index+1"
   ]
  },
  {
   "cell_type": "code",
   "execution_count": 9,
   "metadata": {
    "execution": {
     "iopub.execute_input": "2020-09-07T12:59:48.799492Z",
     "iopub.status.busy": "2020-09-07T12:59:48.798741Z",
     "iopub.status.idle": "2020-09-07T12:59:48.804566Z",
     "shell.execute_reply": "2020-09-07T12:59:48.803809Z"
    },
    "papermill": {
     "duration": 0.023085,
     "end_time": "2020-09-07T12:59:48.804689",
     "exception": false,
     "start_time": "2020-09-07T12:59:48.781604",
     "status": "completed"
    },
    "tags": []
   },
   "outputs": [],
   "source": [
    "users = ratingDFX3.userId.unique()\n",
    "usersDF = pd.DataFrame(data=users,columns=['originalUserId'])\n",
    "usersDF['newUserId'] = usersDF.index+1"
   ]
  },
  {
   "cell_type": "code",
   "execution_count": 10,
   "metadata": {
    "execution": {
     "iopub.execute_input": "2020-09-07T12:59:48.835668Z",
     "iopub.status.busy": "2020-09-07T12:59:48.834390Z",
     "iopub.status.idle": "2020-09-07T12:59:48.903050Z",
     "shell.execute_reply": "2020-09-07T12:59:48.902247Z"
    },
    "papermill": {
     "duration": 0.08748,
     "end_time": "2020-09-07T12:59:48.903184",
     "exception": false,
     "start_time": "2020-09-07T12:59:48.815704",
     "status": "completed"
    },
    "tags": []
   },
   "outputs": [],
   "source": [
    "ratingDFX3 = ratingDFX3.merge(moviesDF,left_on='movieId', \\\n",
    "right_on='originalMovieId')\n",
    "ratingDFX3.drop(labels='originalMovieId', axis=1, inplace=True)\n",
    "ratingDFX3 = ratingDFX3.merge(usersDF,left_on='userId', \\\n",
    "right_on='originalUserId')\n",
    "ratingDFX3.drop(labels='originalUserId', axis=1, inplace=True)"
   ]
  },
  {
   "cell_type": "markdown",
   "execution_count": null,
   "metadata": {
    "papermill": {
     "duration": 0.010566,
     "end_time": "2020-09-07T12:59:48.925121",
     "exception": false,
     "start_time": "2020-09-07T12:59:48.914555",
     "status": "completed"
    },
    "tags": []
   },
   "source": [
    "Let’s calculate the number of unique users, unique movies, total ratings, and\n",
    "average number of ratings per user for our reduced dataset:"
   ]
  },
  {
   "cell_type": "code",
   "execution_count": 11,
   "metadata": {
    "execution": {
     "iopub.execute_input": "2020-09-07T12:59:48.953879Z",
     "iopub.status.busy": "2020-09-07T12:59:48.953087Z",
     "iopub.status.idle": "2020-09-07T12:59:48.958207Z",
     "shell.execute_reply": "2020-09-07T12:59:48.957567Z"
    },
    "papermill": {
     "duration": 0.022373,
     "end_time": "2020-09-07T12:59:48.958333",
     "exception": false,
     "start_time": "2020-09-07T12:59:48.935960",
     "status": "completed"
    },
    "tags": []
   },
   "outputs": [],
   "source": [
    "n_users = ratingDFX3.userId.unique().shape[0]\n",
    "n_movies = ratingDFX3.movieId.unique().shape[0]\n",
    "n_ratings = len(ratingDFX3)\n",
    "avg_ratings_per_user = n_ratings/n_users"
   ]
  },
  {
   "cell_type": "code",
   "execution_count": 12,
   "metadata": {
    "execution": {
     "iopub.execute_input": "2020-09-07T12:59:48.987825Z",
     "iopub.status.busy": "2020-09-07T12:59:48.986872Z",
     "iopub.status.idle": "2020-09-07T12:59:48.990475Z",
     "shell.execute_reply": "2020-09-07T12:59:48.991207Z"
    },
    "papermill": {
     "duration": 0.021635,
     "end_time": "2020-09-07T12:59:48.991368",
     "exception": false,
     "start_time": "2020-09-07T12:59:48.969733",
     "status": "completed"
    },
    "tags": []
   },
   "outputs": [
    {
     "name": "stdout",
     "output_type": "stream",
     "text": [
      "Number of unique users:  1000\n",
      "Number of unique movies:  1000\n",
      "Number of total ratings:  90213\n",
      "Average number of ratings per user:  90.213\n"
     ]
    }
   ],
   "source": [
    "print('Number of unique users: ', n_users)\n",
    "print('Number of unique movies: ', n_movies)\n",
    "print('Number of total ratings: ', n_ratings)\n",
    "print('Average number of ratings per user: ', avg_ratings_per_user)"
   ]
  },
  {
   "cell_type": "markdown",
   "execution_count": null,
   "metadata": {
    "papermill": {
     "duration": 0.011613,
     "end_time": "2020-09-07T12:59:49.014207",
     "exception": false,
     "start_time": "2020-09-07T12:59:49.002594",
     "status": "completed"
    },
    "tags": []
   },
   "source": [
    "Let’s generate a test set and a validation set from this reduced dataset so\n",
    "that each holdout set is 5% of the reduced dataset:"
   ]
  },
  {
   "cell_type": "code",
   "execution_count": 13,
   "metadata": {
    "execution": {
     "iopub.execute_input": "2020-09-07T12:59:49.047674Z",
     "iopub.status.busy": "2020-09-07T12:59:49.046901Z",
     "iopub.status.idle": "2020-09-07T12:59:49.064222Z",
     "shell.execute_reply": "2020-09-07T12:59:49.063431Z"
    },
    "papermill": {
     "duration": 0.038482,
     "end_time": "2020-09-07T12:59:49.064355",
     "exception": false,
     "start_time": "2020-09-07T12:59:49.025873",
     "status": "completed"
    },
    "tags": []
   },
   "outputs": [],
   "source": [
    "X_train, X_test = train_test_split(ratingDFX3,\n",
    "test_size=0.10, shuffle=True, random_state=2018)\n",
    "X_validation, X_test = train_test_split(X_test,\n",
    "test_size=0.50, shuffle=True, random_state=2018)"
   ]
  },
  {
   "cell_type": "code",
   "execution_count": 14,
   "metadata": {
    "execution": {
     "iopub.execute_input": "2020-09-07T12:59:49.093648Z",
     "iopub.status.busy": "2020-09-07T12:59:49.092792Z",
     "iopub.status.idle": "2020-09-07T12:59:49.098778Z",
     "shell.execute_reply": "2020-09-07T12:59:49.098057Z"
    },
    "papermill": {
     "duration": 0.023142,
     "end_time": "2020-09-07T12:59:49.098900",
     "exception": false,
     "start_time": "2020-09-07T12:59:49.075758",
     "status": "completed"
    },
    "tags": []
   },
   "outputs": [
    {
     "name": "stdout",
     "output_type": "stream",
     "text": [
      "Shape of train set: (81191, 6)\n",
      "Shape of validation set: (4511, 6)\n",
      "Shape of test set:  (4511, 6)\n"
     ]
    }
   ],
   "source": [
    "print('Shape of train set:', X_train.shape)\n",
    "print('Shape of validation set:',X_validation.shape)\n",
    "print('Shape of test set: ',X_test.shape)"
   ]
  },
  {
   "cell_type": "code",
   "execution_count": 15,
   "metadata": {
    "execution": {
     "iopub.execute_input": "2020-09-07T12:59:49.128186Z",
     "iopub.status.busy": "2020-09-07T12:59:49.127398Z",
     "iopub.status.idle": "2020-09-07T12:59:49.130624Z",
     "shell.execute_reply": "2020-09-07T12:59:49.131637Z"
    },
    "papermill": {
     "duration": 0.021494,
     "end_time": "2020-09-07T12:59:49.131799",
     "exception": false,
     "start_time": "2020-09-07T12:59:49.110305",
     "status": "completed"
    },
    "tags": []
   },
   "outputs": [
    {
     "name": "stdout",
     "output_type": "stream",
     "text": [
      "Size of train set: 487146\n",
      "Size of validation set: 27066\n",
      "Size of test set:  27066\n"
     ]
    }
   ],
   "source": [
    "print('Size of train set:', X_train.size)\n",
    "print('Size of validation set:',X_validation.size)\n",
    "print('Size of test set: ',X_test.size)"
   ]
  },
  {
   "cell_type": "markdown",
   "execution_count": null,
   "metadata": {
    "papermill": {
     "duration": 0.011228,
     "end_time": "2020-09-07T12:59:49.154989",
     "exception": false,
     "start_time": "2020-09-07T12:59:49.143761",
     "status": "completed"
    },
    "tags": []
   },
   "source": [
    "## Define the Cost Function: Mean Squared Error"
   ]
  },
  {
   "cell_type": "code",
   "execution_count": 16,
   "metadata": {
    "execution": {
     "iopub.execute_input": "2020-09-07T12:59:49.186082Z",
     "iopub.status.busy": "2020-09-07T12:59:49.184990Z",
     "iopub.status.idle": "2020-09-07T12:59:49.442841Z",
     "shell.execute_reply": "2020-09-07T12:59:49.442119Z"
    },
    "papermill": {
     "duration": 0.276461,
     "end_time": "2020-09-07T12:59:49.442989",
     "exception": false,
     "start_time": "2020-09-07T12:59:49.166528",
     "status": "completed"
    },
    "tags": []
   },
   "outputs": [],
   "source": [
    "# Generate ratings matrix for train\n",
    "ratings_train = np.zeros((n_users, n_movies))\n",
    "for row in X_train.itertuples():\n",
    "    ratings_train[row[6]-1, row[5]-1] = row[3]"
   ]
  },
  {
   "cell_type": "code",
   "execution_count": 17,
   "metadata": {
    "execution": {
     "iopub.execute_input": "2020-09-07T12:59:49.474941Z",
     "iopub.status.busy": "2020-09-07T12:59:49.474146Z",
     "iopub.status.idle": "2020-09-07T12:59:49.498254Z",
     "shell.execute_reply": "2020-09-07T12:59:49.497271Z"
    },
    "papermill": {
     "duration": 0.04322,
     "end_time": "2020-09-07T12:59:49.498441",
     "exception": false,
     "start_time": "2020-09-07T12:59:49.455221",
     "status": "completed"
    },
    "tags": []
   },
   "outputs": [
    {
     "name": "stdout",
     "output_type": "stream",
     "text": [
      "Sparsity: 8.12%\n"
     ]
    }
   ],
   "source": [
    "sparsity = float(len(ratings_train.nonzero()[0]))\n",
    "sparsity /= (ratings_train.shape[0] * ratings_train.shape[1])\n",
    "sparsity *= 100\n",
    "print('Sparsity: {:4.2f}%'.format(sparsity))"
   ]
  },
  {
   "cell_type": "code",
   "execution_count": 18,
   "metadata": {
    "execution": {
     "iopub.execute_input": "2020-09-07T12:59:49.531518Z",
     "iopub.status.busy": "2020-09-07T12:59:49.530409Z",
     "iopub.status.idle": "2020-09-07T12:59:49.554498Z",
     "shell.execute_reply": "2020-09-07T12:59:49.553791Z"
    },
    "papermill": {
     "duration": 0.043113,
     "end_time": "2020-09-07T12:59:49.554646",
     "exception": false,
     "start_time": "2020-09-07T12:59:49.511533",
     "status": "completed"
    },
    "tags": []
   },
   "outputs": [],
   "source": [
    "# Generate ratings matrix for validation\n",
    "ratings_validation = np.zeros((n_users, n_movies))\n",
    "for row in X_validation.itertuples():\n",
    "    ratings_validation[row[6]-1, row[5]-1] = row[3]"
   ]
  },
  {
   "cell_type": "code",
   "execution_count": 19,
   "metadata": {
    "execution": {
     "iopub.execute_input": "2020-09-07T12:59:49.587905Z",
     "iopub.status.busy": "2020-09-07T12:59:49.586797Z",
     "iopub.status.idle": "2020-09-07T12:59:49.607044Z",
     "shell.execute_reply": "2020-09-07T12:59:49.606337Z"
    },
    "papermill": {
     "duration": 0.039896,
     "end_time": "2020-09-07T12:59:49.607183",
     "exception": false,
     "start_time": "2020-09-07T12:59:49.567287",
     "status": "completed"
    },
    "tags": []
   },
   "outputs": [],
   "source": [
    "# Generate ratings matrix for test\n",
    "ratings_test = np.zeros((n_users, n_movies))\n",
    "for row in X_test.itertuples():\n",
    "    ratings_test[row[6]-1, row[5]-1] = row[3]"
   ]
  },
  {
   "cell_type": "markdown",
   "execution_count": null,
   "metadata": {
    "papermill": {
     "duration": 0.011735,
     "end_time": "2020-09-07T12:59:49.631352",
     "exception": false,
     "start_time": "2020-09-07T12:59:49.619617",
     "status": "completed"
    },
    "tags": []
   },
   "source": [
    "# Perform Baseline Experiments"
   ]
  },
  {
   "cell_type": "code",
   "execution_count": 20,
   "metadata": {
    "execution": {
     "iopub.execute_input": "2020-09-07T12:59:49.661919Z",
     "iopub.status.busy": "2020-09-07T12:59:49.661187Z",
     "iopub.status.idle": "2020-09-07T12:59:49.678598Z",
     "shell.execute_reply": "2020-09-07T12:59:49.677893Z"
    },
    "papermill": {
     "duration": 0.035042,
     "end_time": "2020-09-07T12:59:49.678725",
     "exception": false,
     "start_time": "2020-09-07T12:59:49.643683",
     "status": "completed"
    },
    "tags": []
   },
   "outputs": [],
   "source": [
    "actual_validation = ratings_validation[ratings_validation.nonzero()].flatten()"
   ]
  },
  {
   "cell_type": "code",
   "execution_count": 21,
   "metadata": {
    "execution": {
     "iopub.execute_input": "2020-09-07T12:59:49.712658Z",
     "iopub.status.busy": "2020-09-07T12:59:49.711566Z",
     "iopub.status.idle": "2020-09-07T12:59:49.717458Z",
     "shell.execute_reply": "2020-09-07T12:59:49.716408Z"
    },
    "papermill": {
     "duration": 0.026547,
     "end_time": "2020-09-07T12:59:49.717630",
     "exception": false,
     "start_time": "2020-09-07T12:59:49.691083",
     "status": "completed"
    },
    "tags": []
   },
   "outputs": [
    {
     "data": {
      "text/plain": [
       "array([[3.5],\n",
       "       [3.5],\n",
       "       [3.5],\n",
       "       ...,\n",
       "       [3.5],\n",
       "       [3.5],\n",
       "       [3.5]])"
      ]
     },
     "execution_count": 21,
     "metadata": {},
     "output_type": "execute_result"
    }
   ],
   "source": [
    "pred_validation = np.zeros((len(X_validation),1))\n",
    "pred_validation[pred_validation==0] = 3.5\n",
    "pred_validation"
   ]
  },
  {
   "cell_type": "code",
   "execution_count": 22,
   "metadata": {
    "execution": {
     "iopub.execute_input": "2020-09-07T12:59:49.754355Z",
     "iopub.status.busy": "2020-09-07T12:59:49.753292Z",
     "iopub.status.idle": "2020-09-07T12:59:49.760396Z",
     "shell.execute_reply": "2020-09-07T12:59:49.759452Z"
    },
    "papermill": {
     "duration": 0.025224,
     "end_time": "2020-09-07T12:59:49.760575",
     "exception": false,
     "start_time": "2020-09-07T12:59:49.735351",
     "status": "completed"
    },
    "tags": []
   },
   "outputs": [
    {
     "name": "stdout",
     "output_type": "stream",
     "text": [
      "Mean  Squared Error is :  1.055420084238528\n"
     ]
    }
   ],
   "source": [
    "print(\"Mean  Squared Error is : \", mean_squared_error(pred_validation, actual_validation))"
   ]
  },
  {
   "cell_type": "code",
   "execution_count": 23,
   "metadata": {
    "execution": {
     "iopub.execute_input": "2020-09-07T12:59:49.793919Z",
     "iopub.status.busy": "2020-09-07T12:59:49.792832Z",
     "iopub.status.idle": "2020-09-07T12:59:49.851214Z",
     "shell.execute_reply": "2020-09-07T12:59:49.850432Z"
    },
    "papermill": {
     "duration": 0.076873,
     "end_time": "2020-09-07T12:59:49.851351",
     "exception": false,
     "start_time": "2020-09-07T12:59:49.774478",
     "status": "completed"
    },
    "tags": []
   },
   "outputs": [],
   "source": [
    "ratings_validation_prediction = np.zeros((n_users, n_movies))\n",
    "i = 0\n",
    "for row in ratings_train:\n",
    "    ratings_validation_prediction[i][ratings_validation_prediction[i]==0] = np.mean(row[row>0])\n",
    "    i += 1"
   ]
  },
  {
   "cell_type": "code",
   "execution_count": 24,
   "metadata": {
    "execution": {
     "iopub.execute_input": "2020-09-07T12:59:49.884984Z",
     "iopub.status.busy": "2020-09-07T12:59:49.883800Z",
     "iopub.status.idle": "2020-09-07T12:59:49.900961Z",
     "shell.execute_reply": "2020-09-07T12:59:49.899985Z"
    },
    "papermill": {
     "duration": 0.037303,
     "end_time": "2020-09-07T12:59:49.901166",
     "exception": false,
     "start_time": "2020-09-07T12:59:49.863863",
     "status": "completed"
    },
    "tags": []
   },
   "outputs": [
    {
     "name": "stdout",
     "output_type": "stream",
     "text": [
      "Mean squared error using user average: 0.9090717929472647\n"
     ]
    }
   ],
   "source": [
    "pred_validation = ratings_validation_prediction  [ratings_validation.nonzero()].flatten()\n",
    "user_average = mean_squared_error(pred_validation, actual_validation)\n",
    "print('Mean squared error using user average:', user_average)"
   ]
  },
  {
   "cell_type": "code",
   "execution_count": 25,
   "metadata": {
    "execution": {
     "iopub.execute_input": "2020-09-07T12:59:49.939082Z",
     "iopub.status.busy": "2020-09-07T12:59:49.938297Z",
     "iopub.status.idle": "2020-09-07T12:59:50.019301Z",
     "shell.execute_reply": "2020-09-07T12:59:50.018560Z"
    },
    "papermill": {
     "duration": 0.103274,
     "end_time": "2020-09-07T12:59:50.019448",
     "exception": false,
     "start_time": "2020-09-07T12:59:49.916174",
     "status": "completed"
    },
    "tags": []
   },
   "outputs": [],
   "source": [
    "ratings_validation_prediction = np.zeros((n_users, n_movies)).T\n",
    "i = 0\n",
    "for row in ratings_train.T:\n",
    "    ratings_validation_prediction[i][ratings_validation_prediction[i]==0] = np.mean(row[row>0])\n",
    "    i += 1"
   ]
  },
  {
   "cell_type": "code",
   "execution_count": 26,
   "metadata": {
    "execution": {
     "iopub.execute_input": "2020-09-07T12:59:50.053143Z",
     "iopub.status.busy": "2020-09-07T12:59:50.052334Z",
     "iopub.status.idle": "2020-09-07T12:59:50.071905Z",
     "shell.execute_reply": "2020-09-07T12:59:50.072778Z"
    },
    "papermill": {
     "duration": 0.040464,
     "end_time": "2020-09-07T12:59:50.073029",
     "exception": false,
     "start_time": "2020-09-07T12:59:50.032565",
     "status": "completed"
    },
    "tags": []
   },
   "outputs": [
    {
     "name": "stdout",
     "output_type": "stream",
     "text": [
      "Mean squared error using movie average: 0.9136057106858655\n"
     ]
    }
   ],
   "source": [
    "ratings_validation_prediction = ratings_validation_prediction.T\n",
    "pred_validation = ratings_validation_prediction[ratings_validation.nonzero()].flatten()\n",
    "movie_average = mean_squared_error(pred_validation, actual_validation)\n",
    "print('Mean squared error using movie average:', movie_average)"
   ]
  },
  {
   "cell_type": "code",
   "execution_count": 27,
   "metadata": {
    "execution": {
     "iopub.execute_input": "2020-09-07T12:59:50.118095Z",
     "iopub.status.busy": "2020-09-07T12:59:50.117274Z",
     "iopub.status.idle": "2020-09-07T12:59:50.336521Z",
     "shell.execute_reply": "2020-09-07T12:59:50.335614Z"
    },
    "papermill": {
     "duration": 0.245601,
     "end_time": "2020-09-07T12:59:50.336694",
     "exception": false,
     "start_time": "2020-09-07T12:59:50.091093",
     "status": "completed"
    },
    "tags": []
   },
   "outputs": [],
   "source": [
    "n_latent_factors = 1\n",
    "user_input = Input(shape=[1], name='user')\n",
    "user_embedding = Embedding(input_dim=n_users + 1, output_dim=n_latent_factors,\n",
    "name='user_embedding')(user_input)\n",
    "user_vec = Flatten(name='flatten_users')(user_embedding)\n",
    "movie_input = Input(shape=[1], name='movie')\n",
    "movie_embedding = Embedding(input_dim=n_movies + 1,\n",
    "output_dim=n_latent_factors,\n",
    "name='movie_embedding')(movie_input)\n",
    "movie_vec = Flatten(name='flatten_movies')(movie_embedding)\n",
    "product = dot([movie_vec, user_vec], axes=1)\n",
    "model = Model(inputs=[user_input, movie_input], outputs=product)\n",
    "model.compile('adam', 'mean_squared_error')"
   ]
  },
  {
   "cell_type": "code",
   "execution_count": 28,
   "metadata": {
    "execution": {
     "iopub.execute_input": "2020-09-07T12:59:50.380121Z",
     "iopub.status.busy": "2020-09-07T12:59:50.379098Z",
     "iopub.status.idle": "2020-09-07T13:04:24.334888Z",
     "shell.execute_reply": "2020-09-07T13:04:24.334156Z"
    },
    "papermill": {
     "duration": 273.981229,
     "end_time": "2020-09-07T13:04:24.335058",
     "exception": false,
     "start_time": "2020-09-07T12:59:50.353829",
     "status": "completed"
    },
    "tags": []
   },
   "outputs": [
    {
     "name": "stdout",
     "output_type": "stream",
     "text": [
      "Epoch 1/100\n",
      "2538/2538 [==============================] - 3s 1ms/step - loss: 13.3115 - val_loss: 11.2848\n",
      "Epoch 2/100\n",
      "2538/2538 [==============================] - 3s 1ms/step - loss: 8.5881 - val_loss: 6.0823\n",
      "Epoch 3/100\n",
      "2538/2538 [==============================] - 3s 1ms/step - loss: 4.3513 - val_loss: 3.1694\n",
      "Epoch 4/100\n",
      "2538/2538 [==============================] - 3s 1ms/step - loss: 2.4416 - val_loss: 1.9810\n",
      "Epoch 5/100\n",
      "2538/2538 [==============================] - 3s 1ms/step - loss: 1.5954 - val_loss: 1.4079\n",
      "Epoch 6/100\n",
      "2538/2538 [==============================] - 3s 1ms/step - loss: 1.1746 - val_loss: 1.1210\n",
      "Epoch 7/100\n",
      "2538/2538 [==============================] - 3s 1ms/step - loss: 0.9617 - val_loss: 0.9699\n",
      "Epoch 8/100\n",
      "2538/2538 [==============================] - 3s 1ms/step - loss: 0.8520 - val_loss: 0.8916\n",
      "Epoch 9/100\n",
      "2538/2538 [==============================] - 3s 1ms/step - loss: 0.7948 - val_loss: 0.8500\n",
      "Epoch 10/100\n",
      "2538/2538 [==============================] - 3s 1ms/step - loss: 0.7645 - val_loss: 0.8261\n",
      "Epoch 11/100\n",
      "2538/2538 [==============================] - 3s 1ms/step - loss: 0.7483 - val_loss: 0.8143\n",
      "Epoch 12/100\n",
      "2538/2538 [==============================] - 3s 1ms/step - loss: 0.7397 - val_loss: 0.8075\n",
      "Epoch 13/100\n",
      "2538/2538 [==============================] - 3s 1ms/step - loss: 0.7347 - val_loss: 0.8044\n",
      "Epoch 14/100\n",
      "2538/2538 [==============================] - 3s 1ms/step - loss: 0.7320 - val_loss: 0.8018\n",
      "Epoch 15/100\n",
      "2538/2538 [==============================] - 3s 1ms/step - loss: 0.7303 - val_loss: 0.8003\n",
      "Epoch 16/100\n",
      "2538/2538 [==============================] - 3s 1ms/step - loss: 0.7294 - val_loss: 0.8003\n",
      "Epoch 17/100\n",
      "2538/2538 [==============================] - 3s 1ms/step - loss: 0.7287 - val_loss: 0.7996\n",
      "Epoch 18/100\n",
      "2538/2538 [==============================] - 3s 1ms/step - loss: 0.7285 - val_loss: 0.7987\n",
      "Epoch 19/100\n",
      "2538/2538 [==============================] - 3s 1ms/step - loss: 0.7283 - val_loss: 0.7990\n",
      "Epoch 20/100\n",
      "2538/2538 [==============================] - 3s 1ms/step - loss: 0.7282 - val_loss: 0.7982\n",
      "Epoch 21/100\n",
      "2538/2538 [==============================] - 3s 1ms/step - loss: 0.7279 - val_loss: 0.7990\n",
      "Epoch 22/100\n",
      "2538/2538 [==============================] - 3s 1ms/step - loss: 0.7282 - val_loss: 0.7977\n",
      "Epoch 23/100\n",
      "2538/2538 [==============================] - 3s 1ms/step - loss: 0.7280 - val_loss: 0.8002\n",
      "Epoch 24/100\n",
      "2538/2538 [==============================] - 3s 1ms/step - loss: 0.7279 - val_loss: 0.7990\n",
      "Epoch 25/100\n",
      "2538/2538 [==============================] - 3s 1ms/step - loss: 0.7278 - val_loss: 0.7984\n",
      "Epoch 26/100\n",
      "2538/2538 [==============================] - 3s 1ms/step - loss: 0.7277 - val_loss: 0.7985\n",
      "Epoch 27/100\n",
      "2538/2538 [==============================] - 3s 1ms/step - loss: 0.7280 - val_loss: 0.7984\n",
      "Epoch 28/100\n",
      "2538/2538 [==============================] - 3s 1ms/step - loss: 0.7279 - val_loss: 0.7983\n",
      "Epoch 29/100\n",
      "2538/2538 [==============================] - 3s 1ms/step - loss: 0.7278 - val_loss: 0.7973\n",
      "Epoch 30/100\n",
      "2538/2538 [==============================] - 3s 1ms/step - loss: 0.7279 - val_loss: 0.7991\n",
      "Epoch 31/100\n",
      "2538/2538 [==============================] - 3s 1ms/step - loss: 0.7279 - val_loss: 0.7979\n",
      "Epoch 32/100\n",
      "2538/2538 [==============================] - 3s 1ms/step - loss: 0.7278 - val_loss: 0.7967\n",
      "Epoch 33/100\n",
      "2538/2538 [==============================] - 3s 1ms/step - loss: 0.7279 - val_loss: 0.7972\n",
      "Epoch 34/100\n",
      "2538/2538 [==============================] - 3s 1ms/step - loss: 0.7277 - val_loss: 0.7962\n",
      "Epoch 35/100\n",
      "2538/2538 [==============================] - 3s 1ms/step - loss: 0.7279 - val_loss: 0.7979\n",
      "Epoch 36/100\n",
      "2538/2538 [==============================] - 3s 1ms/step - loss: 0.7278 - val_loss: 0.7990\n",
      "Epoch 37/100\n",
      "2538/2538 [==============================] - 3s 1ms/step - loss: 0.7278 - val_loss: 0.7982\n",
      "Epoch 38/100\n",
      "2538/2538 [==============================] - 3s 1ms/step - loss: 0.7277 - val_loss: 0.7973\n",
      "Epoch 39/100\n",
      "2538/2538 [==============================] - 3s 1ms/step - loss: 0.7277 - val_loss: 0.7974\n",
      "Epoch 40/100\n",
      "2538/2538 [==============================] - 3s 1ms/step - loss: 0.7278 - val_loss: 0.7976\n",
      "Epoch 41/100\n",
      "2538/2538 [==============================] - 3s 1ms/step - loss: 0.7279 - val_loss: 0.7979\n",
      "Epoch 42/100\n",
      "2538/2538 [==============================] - 3s 1ms/step - loss: 0.7279 - val_loss: 0.7986\n",
      "Epoch 43/100\n",
      "2538/2538 [==============================] - 3s 1ms/step - loss: 0.7278 - val_loss: 0.7969\n",
      "Epoch 44/100\n",
      "2538/2538 [==============================] - 3s 1ms/step - loss: 0.7277 - val_loss: 0.7985\n",
      "Epoch 45/100\n",
      "2538/2538 [==============================] - 3s 1ms/step - loss: 0.7277 - val_loss: 0.7973\n",
      "Epoch 46/100\n",
      "2538/2538 [==============================] - 3s 1ms/step - loss: 0.7279 - val_loss: 0.7965\n",
      "Epoch 47/100\n",
      "2538/2538 [==============================] - 3s 1ms/step - loss: 0.7277 - val_loss: 0.7979\n",
      "Epoch 48/100\n",
      "2538/2538 [==============================] - 3s 1ms/step - loss: 0.7276 - val_loss: 0.7970\n",
      "Epoch 49/100\n",
      "2538/2538 [==============================] - 3s 1ms/step - loss: 0.7278 - val_loss: 0.7982\n",
      "Epoch 50/100\n",
      "2538/2538 [==============================] - 3s 1ms/step - loss: 0.7277 - val_loss: 0.7987\n",
      "Epoch 51/100\n",
      "2538/2538 [==============================] - 3s 1ms/step - loss: 0.7278 - val_loss: 0.7982\n",
      "Epoch 52/100\n",
      "2538/2538 [==============================] - 3s 1ms/step - loss: 0.7278 - val_loss: 0.7983\n",
      "Epoch 53/100\n",
      "2538/2538 [==============================] - 3s 1ms/step - loss: 0.7278 - val_loss: 0.7985\n",
      "Epoch 54/100\n",
      "2538/2538 [==============================] - 3s 1ms/step - loss: 0.7278 - val_loss: 0.7987\n",
      "Epoch 55/100\n",
      "2538/2538 [==============================] - 3s 1ms/step - loss: 0.7276 - val_loss: 0.7978\n",
      "Epoch 56/100\n",
      "2538/2538 [==============================] - 3s 1ms/step - loss: 0.7277 - val_loss: 0.7970\n",
      "Epoch 57/100\n",
      "2538/2538 [==============================] - 4s 1ms/step - loss: 0.7276 - val_loss: 0.7968\n",
      "Epoch 58/100\n",
      "2538/2538 [==============================] - 3s 1ms/step - loss: 0.7278 - val_loss: 0.7992\n",
      "Epoch 59/100\n",
      "2538/2538 [==============================] - 3s 1ms/step - loss: 0.7277 - val_loss: 0.7989\n",
      "Epoch 60/100\n",
      "2538/2538 [==============================] - 3s 1ms/step - loss: 0.7277 - val_loss: 0.7968\n",
      "Epoch 61/100\n",
      "2538/2538 [==============================] - 3s 1ms/step - loss: 0.7277 - val_loss: 0.7969\n",
      "Epoch 62/100\n",
      "2538/2538 [==============================] - 3s 1ms/step - loss: 0.7277 - val_loss: 0.7987\n",
      "Epoch 63/100\n",
      "2538/2538 [==============================] - 3s 1ms/step - loss: 0.7277 - val_loss: 0.7988\n",
      "Epoch 64/100\n",
      "2538/2538 [==============================] - 3s 1ms/step - loss: 0.7278 - val_loss: 0.7986\n",
      "Epoch 65/100\n",
      "2538/2538 [==============================] - 3s 1ms/step - loss: 0.7277 - val_loss: 0.7984\n",
      "Epoch 66/100\n",
      "2538/2538 [==============================] - 3s 1ms/step - loss: 0.7277 - val_loss: 0.7976\n",
      "Epoch 67/100\n",
      "2538/2538 [==============================] - 3s 1ms/step - loss: 0.7277 - val_loss: 0.7989\n",
      "Epoch 68/100\n",
      "2538/2538 [==============================] - 3s 1ms/step - loss: 0.7278 - val_loss: 0.7973\n",
      "Epoch 69/100\n",
      "2538/2538 [==============================] - 3s 1ms/step - loss: 0.7277 - val_loss: 0.7978\n",
      "Epoch 70/100\n",
      "2538/2538 [==============================] - 3s 1ms/step - loss: 0.7277 - val_loss: 0.7986\n",
      "Epoch 71/100\n",
      "2538/2538 [==============================] - 3s 1ms/step - loss: 0.7277 - val_loss: 0.7980\n",
      "Epoch 72/100\n",
      "2538/2538 [==============================] - 3s 1ms/step - loss: 0.7277 - val_loss: 0.7991\n",
      "Epoch 73/100\n",
      "2538/2538 [==============================] - 3s 1ms/step - loss: 0.7277 - val_loss: 0.7976\n",
      "Epoch 74/100\n",
      "2538/2538 [==============================] - 3s 1ms/step - loss: 0.7277 - val_loss: 0.7981\n",
      "Epoch 75/100\n",
      "2538/2538 [==============================] - 3s 1ms/step - loss: 0.7278 - val_loss: 0.7988\n",
      "Epoch 76/100\n",
      "2538/2538 [==============================] - 3s 1ms/step - loss: 0.7278 - val_loss: 0.7979\n",
      "Epoch 77/100\n",
      "2538/2538 [==============================] - 3s 1ms/step - loss: 0.7276 - val_loss: 0.7986\n",
      "Epoch 78/100\n",
      "2538/2538 [==============================] - 3s 1ms/step - loss: 0.7277 - val_loss: 0.7974\n",
      "Epoch 79/100\n",
      "2538/2538 [==============================] - 3s 1ms/step - loss: 0.7278 - val_loss: 0.7980\n",
      "Epoch 80/100\n",
      "2538/2538 [==============================] - 3s 1ms/step - loss: 0.7277 - val_loss: 0.7978\n",
      "Epoch 81/100\n",
      "2538/2538 [==============================] - 3s 1ms/step - loss: 0.7278 - val_loss: 0.7989\n",
      "Epoch 82/100\n",
      "2538/2538 [==============================] - 3s 1ms/step - loss: 0.7278 - val_loss: 0.7977\n",
      "Epoch 83/100\n",
      "2538/2538 [==============================] - 3s 1ms/step - loss: 0.7277 - val_loss: 0.7978\n",
      "Epoch 84/100\n",
      "2538/2538 [==============================] - 3s 1ms/step - loss: 0.7277 - val_loss: 0.7979\n",
      "Epoch 85/100\n",
      "2538/2538 [==============================] - 3s 1ms/step - loss: 0.7277 - val_loss: 0.7986\n",
      "Epoch 86/100\n",
      "2538/2538 [==============================] - 3s 1ms/step - loss: 0.7277 - val_loss: 0.7977\n",
      "Epoch 87/100\n",
      "2538/2538 [==============================] - 3s 1ms/step - loss: 0.7278 - val_loss: 0.7986\n",
      "Epoch 88/100\n",
      "2538/2538 [==============================] - 3s 1ms/step - loss: 0.7277 - val_loss: 0.7985\n",
      "Epoch 89/100\n",
      "2538/2538 [==============================] - 3s 1ms/step - loss: 0.7276 - val_loss: 0.7995\n",
      "Epoch 90/100\n",
      "2538/2538 [==============================] - 3s 1ms/step - loss: 0.7278 - val_loss: 0.7979\n",
      "Epoch 91/100\n",
      "2538/2538 [==============================] - 3s 1ms/step - loss: 0.7277 - val_loss: 0.7973\n",
      "Epoch 92/100\n",
      "2538/2538 [==============================] - 3s 1ms/step - loss: 0.7278 - val_loss: 0.7986\n",
      "Epoch 93/100\n",
      "2538/2538 [==============================] - 3s 1ms/step - loss: 0.7276 - val_loss: 0.7984\n",
      "Epoch 94/100\n",
      "2538/2538 [==============================] - 3s 1ms/step - loss: 0.7277 - val_loss: 0.7974\n",
      "Epoch 95/100\n",
      "2538/2538 [==============================] - 3s 1ms/step - loss: 0.7277 - val_loss: 0.7974\n",
      "Epoch 96/100\n",
      "2538/2538 [==============================] - 3s 1ms/step - loss: 0.7277 - val_loss: 0.7980\n",
      "Epoch 97/100\n",
      "2538/2538 [==============================] - 3s 1ms/step - loss: 0.7277 - val_loss: 0.7967\n",
      "Epoch 98/100\n",
      "2538/2538 [==============================] - 3s 1ms/step - loss: 0.7276 - val_loss: 0.7978\n",
      "Epoch 99/100\n",
      "2538/2538 [==============================] - 3s 1ms/step - loss: 0.7278 - val_loss: 0.7995\n",
      "Epoch 100/100\n",
      "2538/2538 [==============================] - 3s 1ms/step - loss: 0.7277 - val_loss: 0.7982\n"
     ]
    }
   ],
   "source": [
    "history = model.fit(x=[X_train.newUserId, X_train.newMovieId],\n",
    "                    y=X_train.rating, epochs=100,\n",
    "                    validation_data=([X_validation.newUserId,\n",
    "                                      X_validation.newMovieId], X_validation.rating),\n",
    "                    verbose=1)"
   ]
  },
  {
   "cell_type": "code",
   "execution_count": 29,
   "metadata": {
    "execution": {
     "iopub.execute_input": "2020-09-07T13:04:25.118561Z",
     "iopub.status.busy": "2020-09-07T13:04:25.117674Z",
     "iopub.status.idle": "2020-09-07T13:04:25.422555Z",
     "shell.execute_reply": "2020-09-07T13:04:25.423631Z"
    },
    "papermill": {
     "duration": 0.676271,
     "end_time": "2020-09-07T13:04:25.423893",
     "exception": false,
     "start_time": "2020-09-07T13:04:24.747622",
     "status": "completed"
    },
    "tags": []
   },
   "outputs": [
    {
     "name": "stdout",
     "output_type": "stream",
     "text": [
      "Minimum MSE:  0.7961554527282715\n"
     ]
    },
    {
     "data": {
      "image/png": "[encoded data removed]",
      "text/plain": [
       "<Figure size 432x288 with 1 Axes>"
      ]
     },
     "metadata": {
      "needs_background": "light"
     },
     "output_type": "display_data"
    }
   ],
   "source": [
    "pd.Series(history.history['val_loss'][10:]).plot(logy=False)\n",
    "plt.xlabel(\"Epoch\")\n",
    "plt.ylabel(\"Validation Error\")\n",
    "print('Minimum MSE: ', min(history.history['val_loss']))"
   ]
  }
 ],
 "metadata": {
  "kernelspec": {
   "display_name": "Python 3",
   "language": "python",
   "name": "python3"
  },
  "language_info": {
   "codemirror_mode": {
    "name": "ipython",
    "version": 3
   },
   "file_extension": ".py",
   "mimetype": "text/x-python",
   "name": "python",
   "nbconvert_exporter": "python",
   "pygments_lexer": "ipython3",
   "version": "3.7.6"
  },
  "papermill": {
   "duration": 448.110949,
   "end_time": "2020-09-07T13:04:25.892302",
   "environment_variables": {},
   "exception": null,
   "input_path": "__notebook__.ipynb",
   "output_path": "__notebook__.ipynb",
   "parameters": {},
   "start_time": "2020-09-07T12:56:57.781353",
   "version": "2.1.0"
  }
 },
 "nbformat": 4,
 "nbformat_minor": 4
}
