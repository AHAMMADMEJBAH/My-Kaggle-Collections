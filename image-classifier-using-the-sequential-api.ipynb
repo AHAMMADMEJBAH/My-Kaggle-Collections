{
 "cells": [
  {
   "cell_type": "markdown",
   "execution_count": null,
   "metadata": {
    "papermill": {
     "duration": 0.014792,
     "end_time": "2020-08-30T08:19:15.288020",
     "exception": false,
     "start_time": "2020-08-30T08:19:15.273228",
     "status": "completed"
    },
    "tags": []
   },
   "source": [
    "First we need to load a dataset. In this tutorial  we will tackle Fashion MNIST datasets. This datasets contains 70,000 grayscale images 28 x 28 pixels each with 10 classes.But the images represent fashion items  rather than handwritten digits, so each class is more diverse, and the problem truns out to be significantly more challenging than MNIST.\n",
    "For Example, a simple linear model model reaches about 92% accuracy on MNIST, but only about 83% on Fashion MNIST."
   ]
  },
  {
   "cell_type": "code",
   "execution_count": 1,
   "metadata": {
    "_cell_guid": "79c7e3d0-c299-4dcb-8224-4455121ee9b0",
    "_uuid": "d629ff2d2480ee46fbb7e2d37f6b5fab8052498a",
    "execution": {
     "iopub.execute_input": "2020-08-30T08:19:15.321937Z",
     "iopub.status.busy": "2020-08-30T08:19:15.321093Z",
     "iopub.status.idle": "2020-08-30T08:19:22.817161Z",
     "shell.execute_reply": "2020-08-30T08:19:22.816486Z"
    },
    "papermill": {
     "duration": 7.515262,
     "end_time": "2020-08-30T08:19:22.817334",
     "exception": false,
     "start_time": "2020-08-30T08:19:15.302072",
     "status": "completed"
    },
    "tags": []
   },
   "outputs": [],
   "source": [
    "import tensorflow as tf\n",
    "import pandas as pd\n",
    "import numpy as np\n",
    "import matplotlib.pyplot as plt\n",
    "%matplotlib inline"
   ]
  },
  {
   "cell_type": "markdown",
   "execution_count": null,
   "metadata": {
    "papermill": {
     "duration": 0.012094,
     "end_time": "2020-08-30T08:19:22.842093",
     "exception": false,
     "start_time": "2020-08-30T08:19:22.829999",
     "status": "completed"
    },
    "tags": []
   },
   "source": [
    "# Load datasets from keras"
   ]
  },
  {
   "cell_type": "code",
   "execution_count": 2,
   "metadata": {
    "execution": {
     "iopub.execute_input": "2020-08-30T08:19:22.874026Z",
     "iopub.status.busy": "2020-08-30T08:19:22.872941Z",
     "iopub.status.idle": "2020-08-30T08:19:24.689813Z",
     "shell.execute_reply": "2020-08-30T08:19:24.688884Z"
    },
    "papermill": {
     "duration": 1.835188,
     "end_time": "2020-08-30T08:19:24.689983",
     "exception": false,
     "start_time": "2020-08-30T08:19:22.854795",
     "status": "completed"
    },
    "tags": []
   },
   "outputs": [
    {
     "name": "stdout",
     "output_type": "stream",
     "text": [
      "Downloading data from https://storage.googleapis.com/tensorflow/tf-keras-datasets/train-labels-idx1-ubyte.gz\n",
      "32768/29515 [=================================] - 0s 0us/step\n",
      "Downloading data from https://storage.googleapis.com/tensorflow/tf-keras-datasets/train-images-idx3-ubyte.gz\n",
      "26427392/26421880 [==============================] - 0s 0us/step\n",
      "Downloading data from https://storage.googleapis.com/tensorflow/tf-keras-datasets/t10k-labels-idx1-ubyte.gz\n",
      "8192/5148 [===============================================] - 0s 0us/step\n",
      "Downloading data from https://storage.googleapis.com/tensorflow/tf-keras-datasets/t10k-images-idx3-ubyte.gz\n",
      "4423680/4422102 [==============================] - 0s 0us/step\n"
     ]
    }
   ],
   "source": [
    "datasets = tf.keras.datasets.fashion_mnist\n",
    "(x_train_full, y_train_full), (x_test, y_test) = datasets.load_data()"
   ]
  },
  {
   "cell_type": "markdown",
   "execution_count": null,
   "metadata": {
    "papermill": {
     "duration": 0.013236,
     "end_time": "2020-08-30T08:19:24.717083",
     "exception": false,
     "start_time": "2020-08-30T08:19:24.703847",
     "status": "completed"
    },
    "tags": []
   },
   "source": [
    "When Loading MNIST or fashion MNIST using keras rather than sklearn, one <b style=\"color:red\"> Important </b> difference is that every images is represented as a 28x28 array rather than a 1D array of size 784. Moreover, the pixel intensities are represented as integers (from 0 to 255 ) rather than floats (from 0.0- to 255.0). Let's take a look at the shape adna data type of the trining set:"
   ]
  },
  {
   "cell_type": "code",
   "execution_count": 3,
   "metadata": {
    "execution": {
     "iopub.execute_input": "2020-08-30T08:19:24.755845Z",
     "iopub.status.busy": "2020-08-30T08:19:24.755011Z",
     "iopub.status.idle": "2020-08-30T08:19:24.760996Z",
     "shell.execute_reply": "2020-08-30T08:19:24.760145Z"
    },
    "papermill": {
     "duration": 0.030539,
     "end_time": "2020-08-30T08:19:24.761131",
     "exception": false,
     "start_time": "2020-08-30T08:19:24.730592",
     "status": "completed"
    },
    "tags": []
   },
   "outputs": [
    {
     "name": "stdout",
     "output_type": "stream",
     "text": [
      "Shape Of the Datasets: \n",
      "X - Train Datasets Shape : \t\t (60000, 28, 28)\n",
      "X - Test Datasets Shape : \t\t (10000, 28, 28)\n",
      "\n",
      "Y - Train Datasets Shape : \t\t (60000,)\n",
      "Y - Test Datasets Shape : \t\t (10000,)\n",
      "\n",
      "Data Type of the Datasets: \n",
      "X - Train Datasets data - type : \t uint8\n",
      "X - Test Datasets data - type : \t uint8\n",
      "\n",
      "Y - Train Datasets data - type : \t uint8\n",
      "Y - Test Datasets data - type : \t uint8\n"
     ]
    }
   ],
   "source": [
    "print('Shape Of the Datasets: ')\n",
    "print('X - Train Datasets Shape : \\t\\t', x_train_full.shape)\n",
    "print('X - Test Datasets Shape : \\t\\t', x_test.shape)\n",
    "print()\n",
    "print('Y - Train Datasets Shape : \\t\\t', y_train_full.shape)\n",
    "print('Y - Test Datasets Shape : \\t\\t', y_test.shape)\n",
    "print('')\n",
    "print('Data Type of the Datasets: ')\n",
    "print('X - Train Datasets data - type : \\t', x_train_full.dtype)\n",
    "print('X - Test Datasets data - type : \\t', x_test.dtype)\n",
    "print()\n",
    "print('Y - Train Datasets data - type : \\t', y_train_full.dtype)\n",
    "print('Y - Test Datasets data - type : \\t', y_test.dtype)"
   ]
  },
  {
   "cell_type": "markdown",
   "execution_count": null,
   "metadata": {
    "papermill": {
     "duration": 0.013946,
     "end_time": "2020-08-30T08:19:24.789177",
     "exception": false,
     "start_time": "2020-08-30T08:19:24.775231",
     "status": "completed"
    },
    "tags": []
   },
   "source": [
    "Note that the dataset us already split into <b style=\"color:blue\">training datasets</b> and <b style=\"color:blue\">test datasets</b>, but there is no <b style=\"color:blue\">validation set</b>, so we'll create one now. Additonally,science we are gogong to train the neural network using Gradient Descent, we must scale the input features. For simplicty, we'll scale the pixel intensities down to the 0-1 range by dividing them by 255.0 ( <b style=\"color:red\"> This also converts them to floats </b>)"
   ]
  },
  {
   "cell_type": "code",
   "execution_count": 4,
   "metadata": {
    "execution": {
     "iopub.execute_input": "2020-08-30T08:19:24.825112Z",
     "iopub.status.busy": "2020-08-30T08:19:24.824343Z",
     "iopub.status.idle": "2020-08-30T08:19:25.072803Z",
     "shell.execute_reply": "2020-08-30T08:19:25.071834Z"
    },
    "papermill": {
     "duration": 0.269889,
     "end_time": "2020-08-30T08:19:25.072952",
     "exception": false,
     "start_time": "2020-08-30T08:19:24.803063",
     "status": "completed"
    },
    "tags": []
   },
   "outputs": [],
   "source": [
    "x_validation, x_train = x_train_full[:5000] /255.0, x_train_full[5000:]/255.0\n",
    "y_validation, y_train = y_train_full[:5000] , y_train_full[5000:]"
   ]
  },
  {
   "cell_type": "markdown",
   "execution_count": null,
   "metadata": {
    "papermill": {
     "duration": 0.01367,
     "end_time": "2020-08-30T08:19:25.100669",
     "exception": false,
     "start_time": "2020-08-30T08:19:25.086999",
     "status": "completed"
    },
    "tags": []
   },
   "source": [
    "With MNIST, when the label is equal to 5, it means that the image represents the handwritten digit 5."
   ]
  },
  {
   "cell_type": "markdown",
   "execution_count": null,
   "metadata": {
    "papermill": {
     "duration": 0.013519,
     "end_time": "2020-08-30T08:19:25.128400",
     "exception": false,
     "start_time": "2020-08-30T08:19:25.114881",
     "status": "completed"
    },
    "tags": []
   },
   "source": [
    "# Class Names "
   ]
  },
  {
   "cell_type": "code",
   "execution_count": 5,
   "metadata": {
    "execution": {
     "iopub.execute_input": "2020-08-30T08:19:25.162832Z",
     "iopub.status.busy": "2020-08-30T08:19:25.161987Z",
     "iopub.status.idle": "2020-08-30T08:19:25.165554Z",
     "shell.execute_reply": "2020-08-30T08:19:25.164807Z"
    },
    "papermill": {
     "duration": 0.023062,
     "end_time": "2020-08-30T08:19:25.165683",
     "exception": false,
     "start_time": "2020-08-30T08:19:25.142621",
     "status": "completed"
    },
    "tags": []
   },
   "outputs": [],
   "source": [
    "class_names= ['T-shirt/top', 'Trouser', 'Pullover',\n",
    "             'Dress', 'Coat', 'Sandal', 'Shirt',\n",
    "             'Sneaker','Bag', 'Ankel boot']"
   ]
  },
  {
   "cell_type": "code",
   "execution_count": 6,
   "metadata": {
    "execution": {
     "iopub.execute_input": "2020-08-30T08:19:25.201716Z",
     "iopub.status.busy": "2020-08-30T08:19:25.200757Z",
     "iopub.status.idle": "2020-08-30T08:19:25.205781Z",
     "shell.execute_reply": "2020-08-30T08:19:25.205045Z"
    },
    "papermill": {
     "duration": 0.026011,
     "end_time": "2020-08-30T08:19:25.205919",
     "exception": false,
     "start_time": "2020-08-30T08:19:25.179908",
     "status": "completed"
    },
    "tags": []
   },
   "outputs": [
    {
     "data": {
      "text/plain": [
       "'Coat'"
      ]
     },
     "execution_count": 6,
     "metadata": {},
     "output_type": "execute_result"
    }
   ],
   "source": [
    "class_names[y_train[0]]"
   ]
  },
  {
   "cell_type": "markdown",
   "execution_count": null,
   "metadata": {
    "papermill": {
     "duration": 0.014217,
     "end_time": "2020-08-30T08:19:25.234083",
     "exception": false,
     "start_time": "2020-08-30T08:19:25.219866",
     "status": "completed"
    },
    "tags": []
   },
   "source": [
    "# Creating the Model"
   ]
  },
  {
   "cell_type": "code",
   "execution_count": 7,
   "metadata": {
    "execution": {
     "iopub.execute_input": "2020-08-30T08:19:25.271559Z",
     "iopub.status.busy": "2020-08-30T08:19:25.270783Z",
     "iopub.status.idle": "2020-08-30T08:19:25.442956Z",
     "shell.execute_reply": "2020-08-30T08:19:25.442134Z"
    },
    "papermill": {
     "duration": 0.194351,
     "end_time": "2020-08-30T08:19:25.443086",
     "exception": false,
     "start_time": "2020-08-30T08:19:25.248735",
     "status": "completed"
    },
    "tags": []
   },
   "outputs": [],
   "source": [
    "model = tf.keras.Sequential([tf.keras.layers.Flatten(input_shape = [28, 28]),\n",
    "                            tf.keras.layers.Dense(300, activation = 'relu'),\n",
    "                            tf.keras.layers.Dense(100, activation = 'relu'),\n",
    "                            tf.keras.layers.Dense(10, activation = 'softmax')\n",
    "                            ])"
   ]
  },
  {
   "cell_type": "markdown",
   "execution_count": null,
   "metadata": {
    "papermill": {
     "duration": 0.014144,
     "end_time": "2020-08-30T08:19:25.471499",
     "exception": false,
     "start_time": "2020-08-30T08:19:25.457355",
     "status": "completed"
    },
    "tags": []
   },
   "source": [
    "# Let's explains this above code line by line.\n",
    "* The first line creates a Sequential model. This is the simplest kind of Keras\n",
    "model for neural networks that are just composed of a single stack of layers connected\n",
    "sequentially. This is called the Sequential API.\n",
    "* Next, we build the first layer and add it to the model. It is a Flatten layer whose\n",
    "role is to convert each input image into a 1D array: if it receives input data X, it\n",
    "computes X.reshape(-1, 1). This layer does not have any parameters; it is just\n",
    "there to do some simple preprocessing. Since it is the first layer in the model, you\n",
    "should specify the input_shape, which doesn’t include the batch size, only the\n",
    "shape of the instances. Alternatively, you could add a keras.layers.InputLayer\n",
    "as the first layer, setting input_shape=[28,28].\n",
    "* Next we add a Dense hidden layer with 300 neurons. It will use the ReLU activation\n",
    "function. Each Dense layer manages its own weight matrix, containing all the\n",
    "connection weights between the neurons and their inputs. It also manages a vector\n",
    "of bias terms (one per neuron). When it receives some input data, it use this equation (\n",
    "<b style=\"color:blue\">Computing the outputs of a fully connected layer\n",
    "hW, b X = ϕ XW + b</b>)\n",
    "* Then we add a second Dense hidden layer with 100 neurons, also using the ReLU\n",
    "activation function.\n",
    "* Finally, we add a Dense output layer with 10 neurons (one per class), using the\n",
    "softmax activation function (because the classes are exclusive).\n"
   ]
  },
  {
   "cell_type": "markdown",
   "execution_count": null,
   "metadata": {
    "papermill": {
     "duration": 0.014002,
     "end_time": "2020-08-30T08:19:25.499696",
     "exception": false,
     "start_time": "2020-08-30T08:19:25.485694",
     "status": "completed"
    },
    "tags": []
   },
   "source": [
    "# Relu Activation\n",
    "Specifying activation=\"relu\" is equivalent to specifying activa\n",
    "tion=keras.activations.relu. Other activation functions are\n",
    "available in the keras.activations package, we will use many of\n",
    "them in this book. See https://keras.io/activations/ for the full list."
   ]
  },
  {
   "cell_type": "markdown",
   "execution_count": null,
   "metadata": {
    "papermill": {
     "duration": 0.013852,
     "end_time": "2020-08-30T08:19:25.527855",
     "exception": false,
     "start_time": "2020-08-30T08:19:25.514003",
     "status": "completed"
    },
    "tags": []
   },
   "source": [
    "# Summary Method\n",
    "The model’s summary() method displays all the model’s layers,14 including each layer’s\n",
    "name (which is automatically generated unless you set it when creating the layer), its\n",
    "output shape (None means the batch size can be anything), and its number of parameters.\n",
    "The summary ends with the total number of parameters, including trainable and\n",
    "non-trainable parameters"
   ]
  },
  {
   "cell_type": "code",
   "execution_count": 8,
   "metadata": {
    "execution": {
     "iopub.execute_input": "2020-08-30T08:19:25.563590Z",
     "iopub.status.busy": "2020-08-30T08:19:25.562612Z",
     "iopub.status.idle": "2020-08-30T08:19:25.568867Z",
     "shell.execute_reply": "2020-08-30T08:19:25.568046Z"
    },
    "papermill": {
     "duration": 0.026977,
     "end_time": "2020-08-30T08:19:25.569006",
     "exception": false,
     "start_time": "2020-08-30T08:19:25.542029",
     "status": "completed"
    },
    "tags": []
   },
   "outputs": [
    {
     "name": "stdout",
     "output_type": "stream",
     "text": [
      "Model: \"sequential\"\n",
      "_________________________________________________________________\n",
      "Layer (type)                 Output Shape              Param #   \n",
      "=================================================================\n",
      "flatten (Flatten)            (None, 784)               0         \n",
      "_________________________________________________________________\n",
      "dense (Dense)                (None, 300)               235500    \n",
      "_________________________________________________________________\n",
      "dense_1 (Dense)              (None, 100)               30100     \n",
      "_________________________________________________________________\n",
      "dense_2 (Dense)              (None, 10)                1010      \n",
      "=================================================================\n",
      "Total params: 266,610\n",
      "Trainable params: 266,610\n",
      "Non-trainable params: 0\n",
      "_________________________________________________________________\n"
     ]
    }
   ],
   "source": [
    "model.summary()"
   ]
  },
  {
   "cell_type": "markdown",
   "execution_count": null,
   "metadata": {
    "papermill": {
     "duration": 0.014044,
     "end_time": "2020-08-30T08:19:25.597643",
     "exception": false,
     "start_time": "2020-08-30T08:19:25.583599",
     "status": "completed"
    },
    "tags": []
   },
   "source": [
    "<b style=\"color:red\">Note that Dense layers often have a lot of parameters. For example, the first hidden\n",
    "layer has 784 × 300 connection weights, plus 300 bias terms, which adds up to\n",
    "235,500 parameters! This gives the model quite a lot of flexibility to fit the training\n",
    "data, but it also means that the model runs the risk of overfitting, especially when you\n",
    "do not have a lot of training data. We will come back to this later.</b>"
   ]
  },
  {
   "cell_type": "code",
   "execution_count": 9,
   "metadata": {
    "execution": {
     "iopub.execute_input": "2020-08-30T08:19:25.633241Z",
     "iopub.status.busy": "2020-08-30T08:19:25.632458Z",
     "iopub.status.idle": "2020-08-30T08:19:25.637447Z",
     "shell.execute_reply": "2020-08-30T08:19:25.636821Z"
    },
    "papermill": {
     "duration": 0.025493,
     "end_time": "2020-08-30T08:19:25.637571",
     "exception": false,
     "start_time": "2020-08-30T08:19:25.612078",
     "status": "completed"
    },
    "tags": []
   },
   "outputs": [
    {
     "data": {
      "text/plain": [
       "[<tensorflow.python.keras.layers.core.Flatten at 0x7fa8784976d0>,\n",
       " <tensorflow.python.keras.layers.core.Dense at 0x7fa89e4b0a90>,\n",
       " <tensorflow.python.keras.layers.core.Dense at 0x7fa8936f3790>,\n",
       " <tensorflow.python.keras.layers.core.Dense at 0x7fa85e4c7dd0>]"
      ]
     },
     "execution_count": 9,
     "metadata": {},
     "output_type": "execute_result"
    }
   ],
   "source": [
    "model.layers"
   ]
  },
  {
   "cell_type": "code",
   "execution_count": 10,
   "metadata": {
    "execution": {
     "iopub.execute_input": "2020-08-30T08:19:25.673979Z",
     "iopub.status.busy": "2020-08-30T08:19:25.672877Z",
     "iopub.status.idle": "2020-08-30T08:19:25.676712Z",
     "shell.execute_reply": "2020-08-30T08:19:25.675874Z"
    },
    "papermill": {
     "duration": 0.024415,
     "end_time": "2020-08-30T08:19:25.676850",
     "exception": false,
     "start_time": "2020-08-30T08:19:25.652435",
     "status": "completed"
    },
    "tags": []
   },
   "outputs": [],
   "source": [
    "hidden1 = model.layers[1]"
   ]
  },
  {
   "cell_type": "code",
   "execution_count": 11,
   "metadata": {
    "execution": {
     "iopub.execute_input": "2020-08-30T08:19:25.713569Z",
     "iopub.status.busy": "2020-08-30T08:19:25.712579Z",
     "iopub.status.idle": "2020-08-30T08:19:25.717106Z",
     "shell.execute_reply": "2020-08-30T08:19:25.716372Z"
    },
    "papermill": {
     "duration": 0.025379,
     "end_time": "2020-08-30T08:19:25.717230",
     "exception": false,
     "start_time": "2020-08-30T08:19:25.691851",
     "status": "completed"
    },
    "tags": []
   },
   "outputs": [
    {
     "data": {
      "text/plain": [
       "'dense'"
      ]
     },
     "execution_count": 11,
     "metadata": {},
     "output_type": "execute_result"
    }
   ],
   "source": [
    "hidden1.name"
   ]
  },
  {
   "cell_type": "code",
   "execution_count": 12,
   "metadata": {
    "execution": {
     "iopub.execute_input": "2020-08-30T08:19:25.753986Z",
     "iopub.status.busy": "2020-08-30T08:19:25.752975Z",
     "iopub.status.idle": "2020-08-30T08:19:25.757543Z",
     "shell.execute_reply": "2020-08-30T08:19:25.756771Z"
    },
    "papermill": {
     "duration": 0.025443,
     "end_time": "2020-08-30T08:19:25.757679",
     "exception": false,
     "start_time": "2020-08-30T08:19:25.732236",
     "status": "completed"
    },
    "tags": []
   },
   "outputs": [
    {
     "data": {
      "text/plain": [
       "True"
      ]
     },
     "execution_count": 12,
     "metadata": {},
     "output_type": "execute_result"
    }
   ],
   "source": [
    "model.get_layer('dense') is hidden1"
   ]
  },
  {
   "cell_type": "markdown",
   "execution_count": null,
   "metadata": {
    "papermill": {
     "duration": 0.015125,
     "end_time": "2020-08-30T08:19:25.787969",
     "exception": false,
     "start_time": "2020-08-30T08:19:25.772844",
     "status": "completed"
    },
    "tags": []
   },
   "source": [
    "All the parameters of a layer can be accessed using its get_weights() and\n",
    "set_weights() methods. For a Dense layer, this includes both the connection weights\n",
    "and the bias terms:"
   ]
  },
  {
   "cell_type": "code",
   "execution_count": 13,
   "metadata": {
    "execution": {
     "iopub.execute_input": "2020-08-30T08:19:25.824698Z",
     "iopub.status.busy": "2020-08-30T08:19:25.823860Z",
     "iopub.status.idle": "2020-08-30T08:19:25.830665Z",
     "shell.execute_reply": "2020-08-30T08:19:25.829842Z"
    },
    "papermill": {
     "duration": 0.027686,
     "end_time": "2020-08-30T08:19:25.830810",
     "exception": false,
     "start_time": "2020-08-30T08:19:25.803124",
     "status": "completed"
    },
    "tags": []
   },
   "outputs": [],
   "source": [
    "weights, biases = hidden1.get_weights()"
   ]
  },
  {
   "cell_type": "markdown",
   "execution_count": null,
   "metadata": {
    "papermill": {
     "duration": 0.014717,
     "end_time": "2020-08-30T08:19:25.861228",
     "exception": false,
     "start_time": "2020-08-30T08:19:25.846511",
     "status": "completed"
    },
    "tags": []
   },
   "source": [
    "# Weights"
   ]
  },
  {
   "cell_type": "code",
   "execution_count": 14,
   "metadata": {
    "execution": {
     "iopub.execute_input": "2020-08-30T08:19:25.899599Z",
     "iopub.status.busy": "2020-08-30T08:19:25.898631Z",
     "iopub.status.idle": "2020-08-30T08:19:25.903744Z",
     "shell.execute_reply": "2020-08-30T08:19:25.902911Z"
    },
    "papermill": {
     "duration": 0.027526,
     "end_time": "2020-08-30T08:19:25.903890",
     "exception": false,
     "start_time": "2020-08-30T08:19:25.876364",
     "status": "completed"
    },
    "tags": []
   },
   "outputs": [
    {
     "data": {
      "text/plain": [
       "array([[ 0.01928864,  0.0602407 ,  0.03392207, ..., -0.0484309 ,\n",
       "        -0.03214464,  0.0163103 ],\n",
       "       [ 0.05048089,  0.04255469,  0.00276794, ..., -0.03192579,\n",
       "         0.04085576, -0.02427865],\n",
       "       [-0.03102624, -0.01018259, -0.02119242, ..., -0.0404215 ,\n",
       "         0.03046191, -0.03926641],\n",
       "       ...,\n",
       "       [ 0.05088267,  0.0271789 , -0.05350785, ...,  0.01465806,\n",
       "        -0.05476397, -0.02783053],\n",
       "       [-0.05576121,  0.00451139,  0.05212598, ...,  0.01938473,\n",
       "        -0.05459924,  0.01647294],\n",
       "       [-0.0471751 ,  0.05614612, -0.03442268, ...,  0.01633791,\n",
       "        -0.06903919,  0.05556297]], dtype=float32)"
      ]
     },
     "execution_count": 14,
     "metadata": {},
     "output_type": "execute_result"
    }
   ],
   "source": [
    "weights"
   ]
  },
  {
   "cell_type": "code",
   "execution_count": 15,
   "metadata": {
    "execution": {
     "iopub.execute_input": "2020-08-30T08:19:25.945687Z",
     "iopub.status.busy": "2020-08-30T08:19:25.944685Z",
     "iopub.status.idle": "2020-08-30T08:19:25.949658Z",
     "shell.execute_reply": "2020-08-30T08:19:25.948821Z"
    },
    "papermill": {
     "duration": 0.028586,
     "end_time": "2020-08-30T08:19:25.949810",
     "exception": false,
     "start_time": "2020-08-30T08:19:25.921224",
     "status": "completed"
    },
    "tags": []
   },
   "outputs": [
    {
     "data": {
      "text/plain": [
       "(784, 300)"
      ]
     },
     "execution_count": 15,
     "metadata": {},
     "output_type": "execute_result"
    }
   ],
   "source": [
    "weights.shape"
   ]
  },
  {
   "cell_type": "markdown",
   "execution_count": null,
   "metadata": {
    "papermill": {
     "duration": 0.015737,
     "end_time": "2020-08-30T08:19:25.981399",
     "exception": false,
     "start_time": "2020-08-30T08:19:25.965662",
     "status": "completed"
    },
    "tags": []
   },
   "source": [
    "# Biases"
   ]
  },
  {
   "cell_type": "code",
   "execution_count": 16,
   "metadata": {
    "execution": {
     "iopub.execute_input": "2020-08-30T08:19:26.024821Z",
     "iopub.status.busy": "2020-08-30T08:19:26.023636Z",
     "iopub.status.idle": "2020-08-30T08:19:26.028636Z",
     "shell.execute_reply": "2020-08-30T08:19:26.027727Z"
    },
    "papermill": {
     "duration": 0.031547,
     "end_time": "2020-08-30T08:19:26.028780",
     "exception": false,
     "start_time": "2020-08-30T08:19:25.997233",
     "status": "completed"
    },
    "tags": []
   },
   "outputs": [
    {
     "data": {
      "text/plain": [
       "array([0., 0., 0., 0., 0., 0., 0., 0., 0., 0., 0., 0., 0., 0., 0., 0., 0.,\n",
       "       0., 0., 0., 0., 0., 0., 0., 0., 0., 0., 0., 0., 0., 0., 0., 0., 0.,\n",
       "       0., 0., 0., 0., 0., 0., 0., 0., 0., 0., 0., 0., 0., 0., 0., 0., 0.,\n",
       "       0., 0., 0., 0., 0., 0., 0., 0., 0., 0., 0., 0., 0., 0., 0., 0., 0.,\n",
       "       0., 0., 0., 0., 0., 0., 0., 0., 0., 0., 0., 0., 0., 0., 0., 0., 0.,\n",
       "       0., 0., 0., 0., 0., 0., 0., 0., 0., 0., 0., 0., 0., 0., 0., 0., 0.,\n",
       "       0., 0., 0., 0., 0., 0., 0., 0., 0., 0., 0., 0., 0., 0., 0., 0., 0.,\n",
       "       0., 0., 0., 0., 0., 0., 0., 0., 0., 0., 0., 0., 0., 0., 0., 0., 0.,\n",
       "       0., 0., 0., 0., 0., 0., 0., 0., 0., 0., 0., 0., 0., 0., 0., 0., 0.,\n",
       "       0., 0., 0., 0., 0., 0., 0., 0., 0., 0., 0., 0., 0., 0., 0., 0., 0.,\n",
       "       0., 0., 0., 0., 0., 0., 0., 0., 0., 0., 0., 0., 0., 0., 0., 0., 0.,\n",
       "       0., 0., 0., 0., 0., 0., 0., 0., 0., 0., 0., 0., 0., 0., 0., 0., 0.,\n",
       "       0., 0., 0., 0., 0., 0., 0., 0., 0., 0., 0., 0., 0., 0., 0., 0., 0.,\n",
       "       0., 0., 0., 0., 0., 0., 0., 0., 0., 0., 0., 0., 0., 0., 0., 0., 0.,\n",
       "       0., 0., 0., 0., 0., 0., 0., 0., 0., 0., 0., 0., 0., 0., 0., 0., 0.,\n",
       "       0., 0., 0., 0., 0., 0., 0., 0., 0., 0., 0., 0., 0., 0., 0., 0., 0.,\n",
       "       0., 0., 0., 0., 0., 0., 0., 0., 0., 0., 0., 0., 0., 0., 0., 0., 0.,\n",
       "       0., 0., 0., 0., 0., 0., 0., 0., 0., 0., 0.], dtype=float32)"
      ]
     },
     "execution_count": 16,
     "metadata": {},
     "output_type": "execute_result"
    }
   ],
   "source": [
    "biases"
   ]
  },
  {
   "cell_type": "code",
   "execution_count": 17,
   "metadata": {
    "execution": {
     "iopub.execute_input": "2020-08-30T08:19:26.070751Z",
     "iopub.status.busy": "2020-08-30T08:19:26.069801Z",
     "iopub.status.idle": "2020-08-30T08:19:26.074805Z",
     "shell.execute_reply": "2020-08-30T08:19:26.073985Z"
    },
    "papermill": {
     "duration": 0.028152,
     "end_time": "2020-08-30T08:19:26.074939",
     "exception": false,
     "start_time": "2020-08-30T08:19:26.046787",
     "status": "completed"
    },
    "tags": []
   },
   "outputs": [
    {
     "data": {
      "text/plain": [
       "(300,)"
      ]
     },
     "execution_count": 17,
     "metadata": {},
     "output_type": "execute_result"
    }
   ],
   "source": [
    "biases.shape"
   ]
  },
  {
   "cell_type": "markdown",
   "execution_count": null,
   "metadata": {
    "papermill": {
     "duration": 0.01539,
     "end_time": "2020-08-30T08:19:26.106501",
     "exception": false,
     "start_time": "2020-08-30T08:19:26.091111",
     "status": "completed"
    },
    "tags": []
   },
   "source": [
    "<b style=\"color:red\">Notice that the Dense layer initialized the connection weights randomly (which is\n",
    "needed to break symmetry, as we discussed earlier), and the biases were initialized to\n",
    "zeros, which is fine. If you ever want to use a different initialization method, you can\n",
    "set kernel_initializer (kernel is another name for the matrix of connection weights) or bias_initializer when creating the layer. We will discuss initializers\n",
    "further in Chapter 11, but if you want the full list, see https://keras.io/initializers/. </b>"
   ]
  },
  {
   "cell_type": "code",
   "execution_count": 18,
   "metadata": {
    "execution": {
     "iopub.execute_input": "2020-08-30T08:19:26.152686Z",
     "iopub.status.busy": "2020-08-30T08:19:26.151835Z",
     "iopub.status.idle": "2020-08-30T08:19:26.159608Z",
     "shell.execute_reply": "2020-08-30T08:19:26.158798Z"
    },
    "papermill": {
     "duration": 0.037615,
     "end_time": "2020-08-30T08:19:26.159748",
     "exception": false,
     "start_time": "2020-08-30T08:19:26.122133",
     "status": "completed"
    },
    "tags": []
   },
   "outputs": [],
   "source": [
    "model.compile(loss=tf.losses.sparse_categorical_crossentropy,\n",
    "             optimizer = 'sgd',\n",
    "             metrics=['accuracy'])"
   ]
  },
  {
   "cell_type": "markdown",
   "execution_count": null,
   "metadata": {
    "papermill": {
     "duration": 0.015435,
     "end_time": "2020-08-30T08:19:26.191244",
     "exception": false,
     "start_time": "2020-08-30T08:19:26.175809",
     "status": "completed"
    },
    "tags": []
   },
   "source": [
    "Using loss=\"sparse_categorical_crossentropy\" is equivalent to\n",
    "using loss=keras.losses.sparse_categorical_crossentropy.\n",
    "Similarly, specifying optimizer=\"sgd\" is equivalent to specifying\n",
    "optimizer=keras.optimizers.SGD(), and metrics=[\"accuracy\"]\n",
    "is equivalent to metrics=[keras.metrics.sparse_categori\n",
    "cal_accuracy] (when using this loss). We will use many other losses,\n",
    "optimizers, and metrics in this book; for the full lists, see\n",
    "https://keras.io/losses, https://keras.io/optimizers, and https://\n",
    "keras.io/metrics."
   ]
  },
  {
   "cell_type": "markdown",
   "execution_count": null,
   "metadata": {
    "papermill": {
     "duration": 0.015298,
     "end_time": "2020-08-30T08:19:26.222432",
     "exception": false,
     "start_time": "2020-08-30T08:19:26.207134",
     "status": "completed"
    },
    "tags": []
   },
   "source": [
    "# Explation \n",
    "This code requires some explanation. First, we use the \"sparse_categorical_cross\n",
    "entropy\" loss because we have sparse labels (i.e., for each instance, there is just a target\n",
    "class index, from 0 to 9 in this case), and the classes are exclusive. If instead we\n",
    "had one target probability per class for each instance (such as one-hot vectors, e.g.\n",
    "[0., 0., 0., 1., 0., 0., 0., 0., 0., 0.] to represent class 3), then we would\n",
    "need to use the \"categorical_crossentropy\" loss instead. If we were doing binary\n",
    "classification (with one or more binary labels), then we would use the \"sigmoid\" (i.e.,\n",
    "logistic) activation function in the output layer instead of the \"softmax\" activation\n",
    "function, and we would use the \"binary_crossentropy\" loss."
   ]
  },
  {
   "cell_type": "markdown",
   "execution_count": null,
   "metadata": {
    "papermill": {
     "duration": 0.015478,
     "end_time": "2020-08-30T08:19:26.253913",
     "exception": false,
     "start_time": "2020-08-30T08:19:26.238435",
     "status": "completed"
    },
    "tags": []
   },
   "source": [
    "If you want to convert sparse labels (i.e., class indices) to one-hot\n",
    "vector labels, use the keras.utils.to_categorical() function. To\n",
    "go the other way round, use the np.argmax() function with\n",
    "axis=1.\n",
    "\n",
    "Regarding the optimizer, \"sgd\" means that we will train the model using simple Stochastic\n",
    "Gradient Descent. In other words, Keras will perform the backpropagation\n",
    "algorithm described earlier (i.e., reverse-mode autodiff plus Gradient Descent). We\n",
    "will discuss more efficient optimizers in Chapter 11 (they improve the Gradient\n",
    "Descent part, not the autodiff).\n",
    "\n",
    "When using the SGD optimizer, it is important to tune the learning\n",
    "rate. So, you will generally want to use optimizer=keras.optimiz\n",
    "ers.SGD(lr=???) to set the learning rate, rather than opti\n",
    "mizer=\"sgd\", which defaults to lr=0.01.\n",
    "\n",
    "Finally, since this is a classifier, it’s useful to measure its \"accuracy\" during training\n",
    "and evaluation."
   ]
  },
  {
   "cell_type": "markdown",
   "execution_count": null,
   "metadata": {
    "papermill": {
     "duration": 0.01597,
     "end_time": "2020-08-30T08:19:26.285998",
     "exception": false,
     "start_time": "2020-08-30T08:19:26.270028",
     "status": "completed"
    },
    "tags": []
   },
   "source": [
    "# Training and Evaluating the Model"
   ]
  },
  {
   "cell_type": "code",
   "execution_count": 19,
   "metadata": {
    "execution": {
     "iopub.execute_input": "2020-08-30T08:19:26.324544Z",
     "iopub.status.busy": "2020-08-30T08:19:26.323681Z",
     "iopub.status.idle": "2020-08-30T08:21:29.556223Z",
     "shell.execute_reply": "2020-08-30T08:21:29.557010Z"
    },
    "papermill": {
     "duration": 123.255327,
     "end_time": "2020-08-30T08:21:29.557245",
     "exception": false,
     "start_time": "2020-08-30T08:19:26.301918",
     "status": "completed"
    },
    "tags": []
   },
   "outputs": [
    {
     "name": "stdout",
     "output_type": "stream",
     "text": [
      "Epoch 1/30\n",
      "1719/1719 [==============================] - 5s 3ms/step - loss: 0.7236 - accuracy: 0.7625 - val_loss: 0.5061 - val_accuracy: 0.8288\n",
      "Epoch 2/30\n",
      "1719/1719 [==============================] - 4s 2ms/step - loss: 0.4876 - accuracy: 0.8301 - val_loss: 0.4843 - val_accuracy: 0.8252\n",
      "Epoch 3/30\n",
      "1719/1719 [==============================] - 4s 2ms/step - loss: 0.4445 - accuracy: 0.8434 - val_loss: 0.4392 - val_accuracy: 0.8454\n",
      "Epoch 4/30\n",
      "1719/1719 [==============================] - 4s 2ms/step - loss: 0.4155 - accuracy: 0.8539 - val_loss: 0.4077 - val_accuracy: 0.8606\n",
      "Epoch 5/30\n",
      "1719/1719 [==============================] - 4s 2ms/step - loss: 0.3970 - accuracy: 0.8614 - val_loss: 0.4359 - val_accuracy: 0.8466\n",
      "Epoch 6/30\n",
      "1719/1719 [==============================] - 4s 2ms/step - loss: 0.3797 - accuracy: 0.8661 - val_loss: 0.3983 - val_accuracy: 0.8628\n",
      "Epoch 7/30\n",
      "1719/1719 [==============================] - 4s 2ms/step - loss: 0.3667 - accuracy: 0.8703 - val_loss: 0.3878 - val_accuracy: 0.8646\n",
      "Epoch 8/30\n",
      "1719/1719 [==============================] - 4s 2ms/step - loss: 0.3552 - accuracy: 0.8733 - val_loss: 0.3582 - val_accuracy: 0.8766\n",
      "Epoch 9/30\n",
      "1719/1719 [==============================] - 4s 2ms/step - loss: 0.3446 - accuracy: 0.8769 - val_loss: 0.3455 - val_accuracy: 0.8786\n",
      "Epoch 10/30\n",
      "1719/1719 [==============================] - 4s 2ms/step - loss: 0.3349 - accuracy: 0.8805 - val_loss: 0.3366 - val_accuracy: 0.8810\n",
      "Epoch 11/30\n",
      "1719/1719 [==============================] - 4s 2ms/step - loss: 0.3261 - accuracy: 0.8826 - val_loss: 0.3461 - val_accuracy: 0.8812\n",
      "Epoch 12/30\n",
      "1719/1719 [==============================] - 4s 2ms/step - loss: 0.3197 - accuracy: 0.8860 - val_loss: 0.3352 - val_accuracy: 0.8840\n",
      "Epoch 13/30\n",
      "1719/1719 [==============================] - 4s 3ms/step - loss: 0.3105 - accuracy: 0.8885 - val_loss: 0.3281 - val_accuracy: 0.8846\n",
      "Epoch 14/30\n",
      "1719/1719 [==============================] - 5s 3ms/step - loss: 0.3045 - accuracy: 0.8905 - val_loss: 0.3331 - val_accuracy: 0.8848\n",
      "Epoch 15/30\n",
      "1719/1719 [==============================] - 4s 3ms/step - loss: 0.2969 - accuracy: 0.8933 - val_loss: 0.3291 - val_accuracy: 0.8810\n",
      "Epoch 16/30\n",
      "1719/1719 [==============================] - 4s 2ms/step - loss: 0.2917 - accuracy: 0.8946 - val_loss: 0.3172 - val_accuracy: 0.8866\n",
      "Epoch 17/30\n",
      "1719/1719 [==============================] - 4s 2ms/step - loss: 0.2858 - accuracy: 0.8972 - val_loss: 0.3220 - val_accuracy: 0.8874\n",
      "Epoch 18/30\n",
      "1719/1719 [==============================] - 4s 2ms/step - loss: 0.2796 - accuracy: 0.8999 - val_loss: 0.3111 - val_accuracy: 0.8916\n",
      "Epoch 19/30\n",
      "1719/1719 [==============================] - 4s 2ms/step - loss: 0.2752 - accuracy: 0.9007 - val_loss: 0.3076 - val_accuracy: 0.8906\n",
      "Epoch 20/30\n",
      "1719/1719 [==============================] - 4s 2ms/step - loss: 0.2688 - accuracy: 0.9038 - val_loss: 0.3096 - val_accuracy: 0.8858\n",
      "Epoch 21/30\n",
      "1719/1719 [==============================] - 4s 2ms/step - loss: 0.2650 - accuracy: 0.9049 - val_loss: 0.3116 - val_accuracy: 0.8860\n",
      "Epoch 22/30\n",
      "1719/1719 [==============================] - 4s 2ms/step - loss: 0.2592 - accuracy: 0.9075 - val_loss: 0.3038 - val_accuracy: 0.8920\n",
      "Epoch 23/30\n",
      "1719/1719 [==============================] - 4s 2ms/step - loss: 0.2552 - accuracy: 0.9086 - val_loss: 0.3254 - val_accuracy: 0.8788\n",
      "Epoch 24/30\n",
      "1719/1719 [==============================] - 4s 2ms/step - loss: 0.2510 - accuracy: 0.9099 - val_loss: 0.3235 - val_accuracy: 0.8868\n",
      "Epoch 25/30\n",
      "1719/1719 [==============================] - 4s 2ms/step - loss: 0.2469 - accuracy: 0.9105 - val_loss: 0.2977 - val_accuracy: 0.8914\n",
      "Epoch 26/30\n",
      "1719/1719 [==============================] - 4s 2ms/step - loss: 0.2422 - accuracy: 0.9136 - val_loss: 0.3307 - val_accuracy: 0.8836\n",
      "Epoch 27/30\n",
      "1719/1719 [==============================] - 4s 2ms/step - loss: 0.2392 - accuracy: 0.9131 - val_loss: 0.3210 - val_accuracy: 0.8862\n",
      "Epoch 28/30\n",
      "1719/1719 [==============================] - 4s 2ms/step - loss: 0.2355 - accuracy: 0.9160 - val_loss: 0.2977 - val_accuracy: 0.8906\n",
      "Epoch 29/30\n",
      "1719/1719 [==============================] - 4s 2ms/step - loss: 0.2303 - accuracy: 0.9166 - val_loss: 0.3026 - val_accuracy: 0.8904\n",
      "Epoch 30/30\n",
      "1719/1719 [==============================] - 4s 2ms/step - loss: 0.2263 - accuracy: 0.9195 - val_loss: 0.3107 - val_accuracy: 0.8880\n"
     ]
    }
   ],
   "source": [
    "history  = model.fit(x_train, y_train, epochs=30,\n",
    "                    validation_data=(x_validation, y_validation))"
   ]
  },
  {
   "cell_type": "markdown",
   "execution_count": null,
   "metadata": {
    "papermill": {
     "duration": 0.167571,
     "end_time": "2020-08-30T08:21:29.897250",
     "exception": false,
     "start_time": "2020-08-30T08:21:29.729679",
     "status": "completed"
    },
    "tags": []
   },
   "source": [
    "We pass it the input features (X_train) and the target classes (y_train), as well as the\n",
    "number of epochs to train (or else it would default to just 1, which would definitely\n",
    "not be enough to converge to a good solution). We also pass a validation set (this is\n",
    "optional). Keras will measure the loss and the extra metrics on this set at the end of\n",
    "each epoch, which is very useful to see how well the model really performs. If the performance\n",
    "on the training set is much better than on the validation set, \n",
    "your model is probably overfitting the training set (or there is a bug, such as a data mismatch\n",
    "between the training set and the validation set).\n",
    "And that’s it! The neural network is trained.15 At each epoch during training, Keras\n",
    "displays the number of instances processed so far (along with a progress bar), the\n",
    "mean training time per sample, and the loss and accuracy (or any other extra metrics\n",
    "you asked for) on both the training set and the validation set. You can see that the\n",
    "training loss went down, which is a good sign, and the validation accuracy reached\n",
    "89.26% after 30 epochs. That’s not too far from the training accuracy, so there does\n",
    "not seem to be much overfitting going on."
   ]
  },
  {
   "cell_type": "markdown",
   "execution_count": null,
   "metadata": {
    "papermill": {
     "duration": 0.168175,
     "end_time": "2020-08-30T08:21:30.234459",
     "exception": false,
     "start_time": "2020-08-30T08:21:30.066284",
     "status": "completed"
    },
    "tags": []
   },
   "source": [
    "<b style=\"color:blue\"> Instead of passing a validation set using the validation_data\n",
    "argument, you could set validation_split to the ratio of the\n",
    "training set that you want Keras to use for validation. For example,\n",
    "validation_split=0.1 tells Keras to use the last 10% of the data\n",
    "(before shuffling) for validation. </b>"
   ]
  },
  {
   "cell_type": "markdown",
   "execution_count": null,
   "metadata": {
    "papermill": {
     "duration": 0.166934,
     "end_time": "2020-08-30T08:21:30.568865",
     "exception": false,
     "start_time": "2020-08-30T08:21:30.401931",
     "status": "completed"
    },
    "tags": []
   },
   "source": [
    "If the training set was very skewed, with some classes being overrepresented and others\n",
    "underrepresented, it would be useful to set the class_weight argument when\n",
    "calling the fit() method, which would give a larger weight to underrepresented\n",
    "classes and a lower weight to overrepresented classes. These weights would be used by\n",
    "Keras when computing the loss. If you need per-instance weights, set the sam\n",
    "ple_weight argument (if both class_weight and sample_weight are provided, Keras\n",
    "multiplies them). Per-instance weights could be useful if some instances were labeled\n",
    "by experts while others were labeled using a crowdsourcing platform: you might want\n",
    "to give more weight to the former. You can also provide sample weights (but not class\n",
    "weights) for the validation set by adding them as a third item in the validation_data\n",
    "tuple."
   ]
  },
  {
   "cell_type": "markdown",
   "execution_count": null,
   "metadata": {
    "papermill": {
     "duration": 0.170192,
     "end_time": "2020-08-30T08:21:30.924661",
     "exception": false,
     "start_time": "2020-08-30T08:21:30.754469",
     "status": "completed"
    },
    "tags": []
   },
   "source": [
    "# Plot the model"
   ]
  },
  {
   "cell_type": "code",
   "execution_count": 20,
   "metadata": {
    "execution": {
     "iopub.execute_input": "2020-08-30T08:21:31.271958Z",
     "iopub.status.busy": "2020-08-30T08:21:31.271179Z",
     "iopub.status.idle": "2020-08-30T08:21:31.709694Z",
     "shell.execute_reply": "2020-08-30T08:21:31.708835Z"
    },
    "papermill": {
     "duration": 0.61784,
     "end_time": "2020-08-30T08:21:31.709824",
     "exception": false,
     "start_time": "2020-08-30T08:21:31.091984",
     "status": "completed"
    },
    "tags": []
   },
   "outputs": [
    {
     "data": {
      "image/png": "[encoded data removed]",
      "text/plain": [
       "<Figure size 720x576 with 1 Axes>"
      ]
     },
     "metadata": {
      "needs_background": "light"
     },
     "output_type": "display_data"
    }
   ],
   "source": [
    "pd.DataFrame(history.history).plot(figsize = (10, 8))\n",
    "plt.grid(True)\n",
    "plt.gca().set_ylim(0, 1)\n",
    "plt.show()"
   ]
  },
  {
   "cell_type": "markdown",
   "execution_count": null,
   "metadata": {
    "papermill": {
     "duration": 0.173862,
     "end_time": "2020-08-30T08:21:32.123739",
     "exception": false,
     "start_time": "2020-08-30T08:21:31.949877",
     "status": "completed"
    },
    "tags": []
   },
   "source": [
    "# Evaluating the Model\n"
   ]
  },
  {
   "cell_type": "code",
   "execution_count": 21,
   "metadata": {
    "execution": {
     "iopub.execute_input": "2020-08-30T08:21:32.469225Z",
     "iopub.status.busy": "2020-08-30T08:21:32.468076Z",
     "iopub.status.idle": "2020-08-30T08:21:33.245530Z",
     "shell.execute_reply": "2020-08-30T08:21:33.244881Z"
    },
    "papermill": {
     "duration": 0.953177,
     "end_time": "2020-08-30T08:21:33.245669",
     "exception": false,
     "start_time": "2020-08-30T08:21:32.292492",
     "status": "completed"
    },
    "tags": []
   },
   "outputs": [
    {
     "name": "stdout",
     "output_type": "stream",
     "text": [
      "313/313 [==============================] - 1s 2ms/step - loss: 77.8259 - accuracy: 0.8263\n"
     ]
    },
    {
     "data": {
      "text/plain": [
       "[77.82589721679688, 0.8263000249862671]"
      ]
     },
     "execution_count": 21,
     "metadata": {},
     "output_type": "execute_result"
    }
   ],
   "source": [
    "model.evaluate(x_test, y_test)"
   ]
  },
  {
   "cell_type": "markdown",
   "execution_count": null,
   "metadata": {
    "papermill": {
     "duration": 0.164237,
     "end_time": "2020-08-30T08:21:33.576731",
     "exception": false,
     "start_time": "2020-08-30T08:21:33.412494",
     "status": "completed"
    },
    "tags": []
   },
   "source": [
    "# Using the model to Predictions"
   ]
  },
  {
   "cell_type": "code",
   "execution_count": 22,
   "metadata": {
    "execution": {
     "iopub.execute_input": "2020-08-30T08:21:33.914251Z",
     "iopub.status.busy": "2020-08-30T08:21:33.913178Z",
     "iopub.status.idle": "2020-08-30T08:21:34.034867Z",
     "shell.execute_reply": "2020-08-30T08:21:34.034019Z"
    },
    "papermill": {
     "duration": 0.292038,
     "end_time": "2020-08-30T08:21:34.035004",
     "exception": false,
     "start_time": "2020-08-30T08:21:33.742966",
     "status": "completed"
    },
    "tags": []
   },
   "outputs": [
    {
     "data": {
      "text/plain": [
       "array([[0., 0., 0., 0., 0., 0., 0., 0., 0., 1.],\n",
       "       [0., 0., 1., 0., 0., 0., 0., 0., 0., 0.],\n",
       "       [0., 1., 0., 0., 0., 0., 0., 0., 0., 0.]], dtype=float32)"
      ]
     },
     "execution_count": 22,
     "metadata": {},
     "output_type": "execute_result"
    }
   ],
   "source": [
    "x_new = x_test[:3]\n",
    "y_probabilities = model.predict(x_new)\n",
    "y_probabilities.round(2)"
   ]
  },
  {
   "cell_type": "code",
   "execution_count": 23,
   "metadata": {
    "execution": {
     "iopub.execute_input": "2020-08-30T08:21:34.382578Z",
     "iopub.status.busy": "2020-08-30T08:21:34.381790Z",
     "iopub.status.idle": "2020-08-30T08:21:34.424101Z",
     "shell.execute_reply": "2020-08-30T08:21:34.423259Z"
    },
    "papermill": {
     "duration": 0.21252,
     "end_time": "2020-08-30T08:21:34.424240",
     "exception": false,
     "start_time": "2020-08-30T08:21:34.211720",
     "status": "completed"
    },
    "tags": []
   },
   "outputs": [
    {
     "data": {
      "text/plain": [
       "array([9, 2, 1])"
      ]
     },
     "execution_count": 23,
     "metadata": {},
     "output_type": "execute_result"
    }
   ],
   "source": [
    "y_predict = model.predict_classes(x_new)\n",
    "y_predict"
   ]
  },
  {
   "cell_type": "code",
   "execution_count": 24,
   "metadata": {
    "execution": {
     "iopub.execute_input": "2020-08-30T08:21:34.779103Z",
     "iopub.status.busy": "2020-08-30T08:21:34.778234Z",
     "iopub.status.idle": "2020-08-30T08:21:34.782482Z",
     "shell.execute_reply": "2020-08-30T08:21:34.781708Z"
    },
    "papermill": {
     "duration": 0.19276,
     "end_time": "2020-08-30T08:21:34.782643",
     "exception": false,
     "start_time": "2020-08-30T08:21:34.589883",
     "status": "completed"
    },
    "tags": []
   },
   "outputs": [
    {
     "data": {
      "text/plain": [
       "array(['Ankel boot', 'Pullover', 'Trouser'], dtype='<U11')"
      ]
     },
     "execution_count": 24,
     "metadata": {},
     "output_type": "execute_result"
    }
   ],
   "source": [
    "np.array(class_names)[y_predict]"
   ]
  },
  {
   "cell_type": "markdown",
   "execution_count": null,
   "metadata": {
    "papermill": {
     "duration": 0.21147,
     "end_time": "2020-08-30T08:21:35.161249",
     "exception": false,
     "start_time": "2020-08-30T08:21:34.949779",
     "status": "completed"
    },
    "tags": []
   },
   "source": [
    "Here, the classifier actually classified all three images correctly."
   ]
  },
  {
   "cell_type": "code",
   "execution_count": 25,
   "metadata": {
    "execution": {
     "iopub.execute_input": "2020-08-30T08:21:35.503496Z",
     "iopub.status.busy": "2020-08-30T08:21:35.502584Z",
     "iopub.status.idle": "2020-08-30T08:21:35.507647Z",
     "shell.execute_reply": "2020-08-30T08:21:35.506901Z"
    },
    "papermill": {
     "duration": 0.178649,
     "end_time": "2020-08-30T08:21:35.507774",
     "exception": false,
     "start_time": "2020-08-30T08:21:35.329125",
     "status": "completed"
    },
    "tags": []
   },
   "outputs": [
    {
     "data": {
      "text/plain": [
       "array([9, 2, 1], dtype=uint8)"
      ]
     },
     "execution_count": 25,
     "metadata": {},
     "output_type": "execute_result"
    }
   ],
   "source": [
    "y_new = y_test[:3]\n",
    "y_new"
   ]
  },
  {
   "cell_type": "code",
   "execution_count": 26,
   "metadata": {
    "execution": {
     "iopub.execute_input": "2020-08-30T08:21:35.849047Z",
     "iopub.status.busy": "2020-08-30T08:21:35.848184Z",
     "iopub.status.idle": "2020-08-30T08:21:35.853029Z",
     "shell.execute_reply": "2020-08-30T08:21:35.852307Z"
    },
    "papermill": {
     "duration": 0.178929,
     "end_time": "2020-08-30T08:21:35.853151",
     "exception": false,
     "start_time": "2020-08-30T08:21:35.674222",
     "status": "completed"
    },
    "tags": []
   },
   "outputs": [
    {
     "data": {
      "text/plain": [
       "array(['Ankel boot', 'Pullover', 'Trouser'], dtype='<U11')"
      ]
     },
     "execution_count": 26,
     "metadata": {},
     "output_type": "execute_result"
    }
   ],
   "source": [
    "np.array(class_names)[y_new]"
   ]
  },
  {
   "cell_type": "code",
   "execution_count": null,
   "metadata": {
    "papermill": {
     "duration": 0.165785,
     "end_time": "2020-08-30T08:21:36.187651",
     "exception": false,
     "start_time": "2020-08-30T08:21:36.021866",
     "status": "completed"
    },
    "tags": []
   },
   "outputs": [],
   "source": []
  }
 ],
 "metadata": {
  "kernelspec": {
   "display_name": "Python 3",
   "language": "python",
   "name": "python3"
  },
  "language_info": {
   "codemirror_mode": {
    "name": "ipython",
    "version": 3
   },
   "file_extension": ".py",
   "mimetype": "text/x-python",
   "name": "python",
   "nbconvert_exporter": "python",
   "pygments_lexer": "ipython3",
   "version": "3.7.6"
  },
  "papermill": {
   "duration": 146.540678,
   "end_time": "2020-08-30T08:21:36.463051",
   "environment_variables": {},
   "exception": null,
   "input_path": "__notebook__.ipynb",
   "output_path": "__notebook__.ipynb",
   "parameters": {},
   "start_time": "2020-08-30T08:19:09.922373",
   "version": "2.1.0"
  }
 },
 "nbformat": 4,
 "nbformat_minor": 4
}
