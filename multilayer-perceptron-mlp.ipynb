{
 "cells": [
  {
   "cell_type": "markdown",
   "execution_count": null,
   "metadata": {
    "papermill": {
     "duration": 0.01206,
     "end_time": "2020-09-03T19:47:43.689822",
     "exception": false,
     "start_time": "2020-09-03T19:47:43.677762",
     "status": "completed"
    },
    "tags": []
   },
   "source": [
    "1. Recall of linear classifier\n",
    "2. MLP with scikit-learn\n",
    "3. MLP with pytorch\n",
    "4. Test several MLP architectures\n",
    "5. Limits of MLP"
   ]
  },
  {
   "cell_type": "code",
   "execution_count": 1,
   "metadata": {
    "_cell_guid": "b1076dfc-b9ad-4769-8c92-a6c4dae69d19",
    "_uuid": "8f2839f25d086af736a60e9eeb907d3b93b6e0e5",
    "execution": {
     "iopub.execute_input": "2020-09-03T19:47:43.728027Z",
     "iopub.status.busy": "2020-09-03T19:47:43.722869Z",
     "iopub.status.idle": "2020-09-03T19:47:46.723431Z",
     "shell.execute_reply": "2020-09-03T19:47:46.721941Z"
    },
    "papermill": {
     "duration": 3.02287,
     "end_time": "2020-09-03T19:47:46.723762",
     "exception": false,
     "start_time": "2020-09-03T19:47:43.700892",
     "status": "completed"
    },
    "tags": []
   },
   "outputs": [
    {
     "name": "stdout",
     "output_type": "stream",
     "text": [
      "cpu\n"
     ]
    }
   ],
   "source": [
    "%matplotlib inline\n",
    "import os\n",
    "import numpy as np\n",
    "import warnings\n",
    "warnings.filterwarnings('ignore')\n",
    "import torch\n",
    "import torch.nn as nn\n",
    "import torch.nn.functional as F\n",
    "import torch.optim as optim\n",
    "from torch.optim import lr_scheduler\n",
    "from sklearn.neural_network import MLPClassifier\n",
    "import torchvision\n",
    "from torchvision import transforms\n",
    "from torchvision import datasets\n",
    "from torchvision import models\n",
    "\n",
    "import time\n",
    "import copy\n",
    "\n",
    "#from sklearn.datasets import fetch_openml\n",
    "\n",
    "#from sklearn.model_selection import train_test_split\n",
    "from sklearn.linear_model import LogisticRegression\n",
    "import matplotlib.pyplot as plt\n",
    "\n",
    "from sklearn.preprocessing import StandardScaler\n",
    "from sklearn.utils import check_random_state\n",
    "\n",
    "from pathlib import Path\n",
    "import matplotlib.pyplot as plt\n",
    "# Device configuration\n",
    "device = torch.device('cuda:0' if torch.cuda.is_available() else 'cpu')\n",
    "print(device)"
   ]
  },
  {
   "cell_type": "markdown",
   "execution_count": null,
   "metadata": {
    "papermill": {
     "duration": 0.010286,
     "end_time": "2020-09-03T19:47:46.745518",
     "exception": false,
     "start_time": "2020-09-03T19:47:46.735232",
     "status": "completed"
    },
    "tags": []
   },
   "source": [
    "# Dataset: MNIST Handwritten Digit Recognition"
   ]
  },
  {
   "cell_type": "code",
   "execution_count": 2,
   "metadata": {
    "_cell_guid": "79c7e3d0-c299-4dcb-8224-4455121ee9b0",
    "_uuid": "d629ff2d2480ee46fbb7e2d37f6b5fab8052498a",
    "execution": {
     "iopub.execute_input": "2020-09-03T19:47:46.774847Z",
     "iopub.status.busy": "2020-09-03T19:47:46.774032Z",
     "iopub.status.idle": "2020-09-03T19:47:46.779316Z",
     "shell.execute_reply": "2020-09-03T19:47:46.778680Z"
    },
    "papermill": {
     "duration": 0.023428,
     "end_time": "2020-09-03T19:47:46.779440",
     "exception": false,
     "start_time": "2020-09-03T19:47:46.756012",
     "status": "completed"
    },
    "tags": []
   },
   "outputs": [
    {
     "name": "stdout",
     "output_type": "stream",
     "text": [
      "Working dir is: /root/data/pystatml/dl_mnist_pytorch\n"
     ]
    }
   ],
   "source": [
    "WD = os.path.join(Path.home(), \"data\", \"pystatml\", \"dl_mnist_pytorch\")\n",
    "os.makedirs(WD, exist_ok=True)\n",
    "os.chdir(WD)\n",
    "print(\"Working dir is:\", os.getcwd())\n",
    "os.makedirs(\"data\", exist_ok=True)\n",
    "os.makedirs(\"models\", exist_ok=True)"
   ]
  },
  {
   "cell_type": "code",
   "execution_count": 3,
   "metadata": {
    "execution": {
     "iopub.execute_input": "2020-09-03T19:47:46.811860Z",
     "iopub.status.busy": "2020-09-03T19:47:46.811067Z",
     "iopub.status.idle": "2020-09-03T19:47:46.814987Z",
     "shell.execute_reply": "2020-09-03T19:47:46.814365Z"
    },
    "papermill": {
     "duration": 0.024967,
     "end_time": "2020-09-03T19:47:46.815119",
     "exception": false,
     "start_time": "2020-09-03T19:47:46.790152",
     "status": "completed"
    },
    "tags": []
   },
   "outputs": [],
   "source": [
    "def load_mnist(batch_size_train, batch_size_test):\n",
    "    train_loader = torch.utils.data.DataLoader(\n",
    "        datasets.MNIST('data', train=True, download=True,\n",
    "                       transform=transforms.Compose([transforms.ToTensor(),\n",
    "                                                     transforms.Normalize((0.1307,), (0.3081,)) # Mean and Std of the MNIST dataset\n",
    "                                                    ])),\n",
    "        batch_size=batch_size_train, shuffle=True)\n",
    "    val_loader = torch.utils.data.DataLoader(\n",
    "        datasets.MNIST('data', train=False, transform=transforms.Compose([transforms.ToTensor(),\n",
    "                                                                          transforms.Normalize((0.1307,), (0.3081,)) # Mean and Std of the MNIST dataset\n",
    "                                                                         ])),\n",
    "        batch_size=batch_size_test, shuffle=True)\n",
    "    return train_loader, val_loader"
   ]
  },
  {
   "cell_type": "code",
   "execution_count": 4,
   "metadata": {
    "execution": {
     "iopub.execute_input": "2020-09-03T19:47:46.843318Z",
     "iopub.status.busy": "2020-09-03T19:47:46.842440Z",
     "iopub.status.idle": "2020-09-03T19:48:01.990706Z",
     "shell.execute_reply": "2020-09-03T19:48:01.990018Z"
    },
    "papermill": {
     "duration": 15.16506,
     "end_time": "2020-09-03T19:48:01.990882",
     "exception": false,
     "start_time": "2020-09-03T19:47:46.825822",
     "status": "completed"
    },
    "tags": []
   },
   "outputs": [
    {
     "name": "stdout",
     "output_type": "stream",
     "text": [
      "Downloading http://yann.lecun.com/exdb/mnist/train-images-idx3-ubyte.gz to data/MNIST/raw/train-images-idx3-ubyte.gz\n"
     ]
    },
    {
     "data": {
      "application/vnd.jupyter.widget-view+json": {
       "model_id": "25acbfc0c6a44aa892cb36270a8e3eae",
       "version_major": 2,
       "version_minor": 0
      },
      "text/plain": [
       "HBox(children=(FloatProgress(value=1.0, bar_style='info', max=1.0), HTML(value='')))"
      ]
     },
     "metadata": {},
     "output_type": "display_data"
    },
    {
     "name": "stdout",
     "output_type": "stream",
     "text": [
      "Extracting data/MNIST/raw/train-images-idx3-ubyte.gz to data/MNIST/raw\n",
      "Downloading http://yann.lecun.com/exdb/mnist/train-labels-idx1-ubyte.gz to data/MNIST/raw/train-labels-idx1-ubyte.gz\n"
     ]
    },
    {
     "data": {
      "application/vnd.jupyter.widget-view+json": {
       "model_id": "5670c66cea6d4b08b98207363539a03c",
       "version_major": 2,
       "version_minor": 0
      },
      "text/plain": [
       "HBox(children=(FloatProgress(value=1.0, bar_style='info', max=1.0), HTML(value='')))"
      ]
     },
     "metadata": {},
     "output_type": "display_data"
    },
    {
     "name": "stdout",
     "output_type": "stream",
     "text": [
      "Extracting data/MNIST/raw/train-labels-idx1-ubyte.gz to data/MNIST/raw\n",
      "Downloading http://yann.lecun.com/exdb/mnist/t10k-images-idx3-ubyte.gz to data/MNIST/raw/t10k-images-idx3-ubyte.gz\n",
      "\n"
     ]
    },
    {
     "data": {
      "application/vnd.jupyter.widget-view+json": {
       "model_id": "a254d49311b54985b865a508f866a1d1",
       "version_major": 2,
       "version_minor": 0
      },
      "text/plain": [
       "HBox(children=(FloatProgress(value=1.0, bar_style='info', max=1.0), HTML(value='')))"
      ]
     },
     "metadata": {},
     "output_type": "display_data"
    },
    {
     "name": "stdout",
     "output_type": "stream",
     "text": [
      "Extracting data/MNIST/raw/t10k-images-idx3-ubyte.gz to data/MNIST/raw\n",
      "Downloading http://yann.lecun.com/exdb/mnist/t10k-labels-idx1-ubyte.gz to data/MNIST/raw/t10k-labels-idx1-ubyte.gz\n"
     ]
    },
    {
     "data": {
      "application/vnd.jupyter.widget-view+json": {
       "model_id": "ea8a957eda554711a5f556076ddbd897",
       "version_major": 2,
       "version_minor": 0
      },
      "text/plain": [
       "HBox(children=(FloatProgress(value=1.0, bar_style='info', max=1.0), HTML(value='')))"
      ]
     },
     "metadata": {},
     "output_type": "display_data"
    },
    {
     "name": "stdout",
     "output_type": "stream",
     "text": [
      "Extracting data/MNIST/raw/t10k-labels-idx1-ubyte.gz to data/MNIST/raw\n",
      "Processing...\n",
      "Done!\n"
     ]
    }
   ],
   "source": [
    "train_loader, val_loader = load_mnist(64, 10000)\n",
    "dataloaders = dict(train=train_loader, val=val_loader)"
   ]
  },
  {
   "cell_type": "code",
   "execution_count": 5,
   "metadata": {
    "execution": {
     "iopub.execute_input": "2020-09-03T19:48:02.027199Z",
     "iopub.status.busy": "2020-09-03T19:48:02.026264Z",
     "iopub.status.idle": "2020-09-03T19:48:02.037443Z",
     "shell.execute_reply": "2020-09-03T19:48:02.038165Z"
    },
    "papermill": {
     "duration": 0.034515,
     "end_time": "2020-09-03T19:48:02.038340",
     "exception": false,
     "start_time": "2020-09-03T19:48:02.003825",
     "status": "completed"
    },
    "tags": []
   },
   "outputs": [
    {
     "name": "stdout",
     "output_type": "stream",
     "text": [
      "Datasets shapes: {'train': torch.Size([60000, 28, 28]), 'val': torch.Size([10000, 28, 28])}\n",
      "N input features: 784 Output classes: 10\n"
     ]
    }
   ],
   "source": [
    "# Info about the dataset\n",
    "D_in = np.prod(dataloaders[\"train\"].dataset.data.shape[1:])\n",
    "D_out = len(dataloaders[\"train\"].dataset.targets.unique())\n",
    "print(\"Datasets shapes:\", {x: dataloaders[x].dataset.data.shape for x in ['train', 'val']})\n",
    "print(\"N input features:\", D_in, \"Output classes:\", D_out)"
   ]
  },
  {
   "cell_type": "code",
   "execution_count": 6,
   "metadata": {
    "execution": {
     "iopub.execute_input": "2020-09-03T19:48:02.074010Z",
     "iopub.status.busy": "2020-09-03T19:48:02.073126Z",
     "iopub.status.idle": "2020-09-03T19:48:04.141144Z",
     "shell.execute_reply": "2020-09-03T19:48:04.140500Z"
    },
    "papermill": {
     "duration": 2.090545,
     "end_time": "2020-09-03T19:48:04.141288",
     "exception": false,
     "start_time": "2020-09-03T19:48:02.050743",
     "status": "completed"
    },
    "tags": []
   },
   "outputs": [
    {
     "name": "stdout",
     "output_type": "stream",
     "text": [
      "\n",
      "Train batch: torch.Size([64, 1, 28, 28]) torch.Size([64])\n",
      "Val batch: torch.Size([10000, 1, 28, 28]) torch.Size([10000])\n"
     ]
    }
   ],
   "source": [
    "batch_idx, (example_data, example_targets) = next(enumerate(train_loader))\n",
    "print(\"Train batch:\", example_data.shape, example_targets.shape)\n",
    "batch_idx, (example_data, example_targets) = next(enumerate(val_loader))\n",
    "print(\"Val batch:\", example_data.shape, example_targets.shape)"
   ]
  },
  {
   "cell_type": "code",
   "execution_count": 7,
   "metadata": {
    "execution": {
     "iopub.execute_input": "2020-09-03T19:48:04.178844Z",
     "iopub.status.busy": "2020-09-03T19:48:04.177954Z",
     "iopub.status.idle": "2020-09-03T19:48:04.181847Z",
     "shell.execute_reply": "2020-09-03T19:48:04.181218Z"
    },
    "papermill": {
     "duration": 0.027793,
     "end_time": "2020-09-03T19:48:04.181979",
     "exception": false,
     "start_time": "2020-09-03T19:48:04.154186",
     "status": "completed"
    },
    "tags": []
   },
   "outputs": [],
   "source": [
    "def show_data_label_prediction(data, y_true, y_pred=None, shape=(2, 3)):\n",
    "    y_pred = [None] * len(y_true) if y_pred is None else y_pred\n",
    "    fig = plt.figure()\n",
    "    for i in range(np.prod(shape)):\n",
    "        plt.subplot(*shape, i+1)\n",
    "        plt.tight_layout()\n",
    "        plt.imshow(data[i][0], cmap='gray', interpolation='none')\n",
    "        plt.title(\"True: {} Pred: {}\".format(y_true[i], y_pred[i]))\n",
    "        plt.xticks([])\n",
    "        plt.yticks([])"
   ]
  },
  {
   "cell_type": "code",
   "execution_count": 8,
   "metadata": {
    "execution": {
     "iopub.execute_input": "2020-09-03T19:48:04.214685Z",
     "iopub.status.busy": "2020-09-03T19:48:04.213772Z",
     "iopub.status.idle": "2020-09-03T19:48:04.768415Z",
     "shell.execute_reply": "2020-09-03T19:48:04.768986Z"
    },
    "papermill": {
     "duration": 0.574423,
     "end_time": "2020-09-03T19:48:04.769157",
     "exception": false,
     "start_time": "2020-09-03T19:48:04.194734",
     "status": "completed"
    },
    "tags": []
   },
   "outputs": [
    {
     "data": {
      "image/png": "[encoded data removed]",
      "text/plain": [
       "<Figure size 432x288 with 6 Axes>"
      ]
     },
     "metadata": {},
     "output_type": "display_data"
    }
   ],
   "source": [
    "show_data_label_prediction(data=example_data, y_true=example_targets, y_pred=None,shape=(2, 3))"
   ]
  },
  {
   "cell_type": "markdown",
   "execution_count": null,
   "metadata": {
    "papermill": {
     "duration": 0.012242,
     "end_time": "2020-09-03T19:48:04.794099",
     "exception": false,
     "start_time": "2020-09-03T19:48:04.781857",
     "status": "completed"
    },
    "tags": []
   },
   "source": [
    "# Recall of linear classi\u001c",
    "er\n",
    "Binary logistic regression\n",
    "1. neuron as output layer\n",
    "        𝑓(𝑥) = 𝜎(𝑥𝑇𝑤)\n",
    "# Softmax Classifier (Multinomial Logistic Regression)\n",
    "   * Input 𝑥: a vector of dimension (0) (layer 0).\n",
    "   * Ouput 𝑓(𝑥) a vector of (1) (layer 1) possible labels\n",
    "* The model as (1) neurons as output layer\n",
    "        𝑓(𝑥) = softmax(𝑥𝑇𝑊 + 𝑏)"
   ]
  },
  {
   "cell_type": "code",
   "execution_count": 9,
   "metadata": {
    "execution": {
     "iopub.execute_input": "2020-09-03T19:48:04.829045Z",
     "iopub.status.busy": "2020-09-03T19:48:04.828236Z",
     "iopub.status.idle": "2020-09-03T19:48:04.833027Z",
     "shell.execute_reply": "2020-09-03T19:48:04.832395Z"
    },
    "papermill": {
     "duration": 0.026318,
     "end_time": "2020-09-03T19:48:04.833173",
     "exception": false,
     "start_time": "2020-09-03T19:48:04.806855",
     "status": "completed"
    },
    "tags": []
   },
   "outputs": [
    {
     "name": "stdout",
     "output_type": "stream",
     "text": [
      "(60000, 784) (60000,)\n"
     ]
    }
   ],
   "source": [
    "X_train = train_loader.dataset.data.numpy()\n",
    "#print(X_train.shape)\n",
    "X_train = X_train.reshape((X_train.shape[0], -1))\n",
    "y_train = train_loader.dataset.targets.numpy()\n",
    "X_test = val_loader.dataset.data.numpy()\n",
    "X_test = X_test.reshape((X_test.shape[0], -1))\n",
    "y_test = val_loader.dataset.targets.numpy()\n",
    "print(X_train.shape, y_train.shape)"
   ]
  },
  {
   "cell_type": "code",
   "execution_count": 10,
   "metadata": {
    "execution": {
     "iopub.execute_input": "2020-09-03T19:48:04.866876Z",
     "iopub.status.busy": "2020-09-03T19:48:04.866053Z",
     "iopub.status.idle": "2020-09-03T19:48:15.403916Z",
     "shell.execute_reply": "2020-09-03T19:48:15.403218Z"
    },
    "papermill": {
     "duration": 10.558056,
     "end_time": "2020-09-03T19:48:15.404050",
     "exception": false,
     "start_time": "2020-09-03T19:48:04.845994",
     "status": "completed"
    },
    "tags": []
   },
   "outputs": [
    {
     "name": "stdout",
     "output_type": "stream",
     "text": [
      "Test score with penalty: 0.9004\n"
     ]
    }
   ],
   "source": [
    "scaler = StandardScaler()\n",
    "X_train = scaler.fit_transform(X_train)\n",
    "X_test = scaler.transform(X_test)\n",
    "# Turn up tolerance for faster convergence\n",
    "clf = LogisticRegression(C=50., multi_class='multinomial', solver='sag', tol=0.1)\n",
    "clf.fit(X_train, y_train)\n",
    "#sparsity = np.mean(clf.coef_ == 0) * 100\n",
    "score = clf.score(X_test, y_test)\n",
    "print(\"Test score with penalty: %.4f\" % score)"
   ]
  },
  {
   "cell_type": "code",
   "execution_count": 11,
   "metadata": {
    "execution": {
     "iopub.execute_input": "2020-09-03T19:48:15.448938Z",
     "iopub.status.busy": "2020-09-03T19:48:15.441818Z",
     "iopub.status.idle": "2020-09-03T19:48:15.871864Z",
     "shell.execute_reply": "2020-09-03T19:48:15.871241Z"
    },
    "papermill": {
     "duration": 0.454802,
     "end_time": "2020-09-03T19:48:15.871997",
     "exception": false,
     "start_time": "2020-09-03T19:48:15.417195",
     "status": "completed"
    },
    "tags": []
   },
   "outputs": [
    {
     "data": {
      "image/png": "[encoded data removed]",
      "text/plain": [
       "<Figure size 720x360 with 10 Axes>"
      ]
     },
     "metadata": {},
     "output_type": "display_data"
    }
   ],
   "source": [
    "coef = clf.coef_.copy()\n",
    "plt.figure(figsize=(10, 5))\n",
    "scale = np.abs(coef).max()\n",
    "for i in range(10):\n",
    "    l1_plot = plt.subplot(2, 5, i + 1)\n",
    "    l1_plot.imshow(coef[i].reshape(28, 28), interpolation='nearest',\n",
    "    cmap=plt.cm.RdBu, vmin=-scale, vmax=scale)\n",
    "    l1_plot.set_xticks(())\n",
    "    l1_plot.set_yticks(())\n",
    "    l1_plot.set_xlabel('Class %i' % i)\n",
    "    \n",
    "plt.suptitle('Classification vector for...')\n",
    "plt.show()"
   ]
  },
  {
   "cell_type": "markdown",
   "execution_count": null,
   "metadata": {
    "papermill": {
     "duration": 0.012929,
     "end_time": "2020-09-03T19:48:15.899305",
     "exception": false,
     "start_time": "2020-09-03T19:48:15.886376",
     "status": "completed"
    },
    "tags": []
   },
   "source": [
    "# Model: Two Layer MLP"
   ]
  },
  {
   "cell_type": "code",
   "execution_count": 12,
   "metadata": {
    "execution": {
     "iopub.execute_input": "2020-09-03T19:48:15.933382Z",
     "iopub.status.busy": "2020-09-03T19:48:15.932604Z",
     "iopub.status.idle": "2020-09-03T19:48:26.065255Z",
     "shell.execute_reply": "2020-09-03T19:48:26.064608Z"
    },
    "papermill": {
     "duration": 10.152511,
     "end_time": "2020-09-03T19:48:26.065393",
     "exception": false,
     "start_time": "2020-09-03T19:48:15.912882",
     "status": "completed"
    },
    "tags": []
   },
   "outputs": [
    {
     "name": "stdout",
     "output_type": "stream",
     "text": [
      "Iteration 1, loss = 0.28828673\n",
      "Iteration 2, loss = 0.13388073\n",
      "Iteration 3, loss = 0.09366379\n",
      "Iteration 4, loss = 0.07317648\n",
      "Iteration 5, loss = 0.05340251\n"
     ]
    },
    {
     "data": {
      "text/plain": [
       "MLPClassifier(batch_size=64, learning_rate_init=0.01, max_iter=5,\n",
       "              random_state=1, solver='sgd', verbose=10)"
      ]
     },
     "execution_count": 12,
     "metadata": {},
     "output_type": "execute_result"
    }
   ],
   "source": [
    "mlp = MLPClassifier(hidden_layer_sizes=(100, ), max_iter=5, alpha=1e-4,\n",
    "solver='sgd', verbose=10, tol=1e-4, random_state=1,\n",
    "learning_rate_init=0.01, batch_size=64)\n",
    "mlp.fit(X_train, y_train)"
   ]
  },
  {
   "cell_type": "code",
   "execution_count": 13,
   "metadata": {
    "execution": {
     "iopub.execute_input": "2020-09-03T19:48:26.100879Z",
     "iopub.status.busy": "2020-09-03T19:48:26.100062Z",
     "iopub.status.idle": "2020-09-03T19:48:26.443134Z",
     "shell.execute_reply": "2020-09-03T19:48:26.443957Z"
    },
    "papermill": {
     "duration": 0.3646,
     "end_time": "2020-09-03T19:48:26.444161",
     "exception": false,
     "start_time": "2020-09-03T19:48:26.079561",
     "status": "completed"
    },
    "tags": []
   },
   "outputs": [
    {
     "name": "stdout",
     "output_type": "stream",
     "text": [
      "Training set score: 0.989067\n",
      "Test set score: 0.971900\n",
      "Coef shape= 2\n"
     ]
    }
   ],
   "source": [
    "print(\"Training set score: %f\" % mlp.score(X_train, y_train))\n",
    "print(\"Test set score: %f\" % mlp.score(X_test, y_test))\n",
    "print(\"Coef shape=\", len(mlp.coefs_))"
   ]
  },
  {
   "cell_type": "code",
   "execution_count": 14,
   "metadata": {
    "execution": {
     "iopub.execute_input": "2020-09-03T19:48:26.490526Z",
     "iopub.status.busy": "2020-09-03T19:48:26.489636Z",
     "iopub.status.idle": "2020-09-03T19:48:27.082814Z",
     "shell.execute_reply": "2020-09-03T19:48:27.082049Z"
    },
    "papermill": {
     "duration": 0.624374,
     "end_time": "2020-09-03T19:48:27.082936",
     "exception": false,
     "start_time": "2020-09-03T19:48:26.458562",
     "status": "completed"
    },
    "tags": []
   },
   "outputs": [
    {
     "data": {
      "image/png": "[encoded data removed]",
      "text/plain": [
       "<Figure size 432x288 with 16 Axes>"
      ]
     },
     "metadata": {},
     "output_type": "display_data"
    }
   ],
   "source": [
    "fig, axes = plt.subplots(4, 4)\n",
    "# use global min / max to ensure all weights are shown on the same scale\n",
    "vmin, vmax = mlp.coefs_[0].min(), mlp.coefs_[0].max()\n",
    "for coef, ax in zip(mlp.coefs_[0].T, axes.ravel()):\n",
    "    ax.matshow(coef.reshape(28, 28), cmap=plt.cm.gray, vmin=.5 * vmin,\n",
    "    vmax=.5 * vmax)\n",
    "    ax.set_xticks(())\n",
    "    ax.set_yticks(())\n",
    "plt.show()"
   ]
  },
  {
   "cell_type": "markdown",
   "execution_count": null,
   "metadata": {
    "papermill": {
     "duration": 0.014265,
     "end_time": "2020-09-03T19:48:27.112165",
     "exception": false,
     "start_time": "2020-09-03T19:48:27.097900",
     "status": "completed"
    },
    "tags": []
   },
   "source": [
    "# MLP with pytorch"
   ]
  },
  {
   "cell_type": "code",
   "execution_count": 15,
   "metadata": {
    "execution": {
     "iopub.execute_input": "2020-09-03T19:48:27.152851Z",
     "iopub.status.busy": "2020-09-03T19:48:27.151936Z",
     "iopub.status.idle": "2020-09-03T19:48:27.155750Z",
     "shell.execute_reply": "2020-09-03T19:48:27.155064Z"
    },
    "papermill": {
     "duration": 0.028898,
     "end_time": "2020-09-03T19:48:27.155872",
     "exception": false,
     "start_time": "2020-09-03T19:48:27.126974",
     "status": "completed"
    },
    "tags": []
   },
   "outputs": [],
   "source": [
    "class TwoLayerMLP(nn.Module):\n",
    "    def __init__(self, d_in, d_hidden, d_out):\n",
    "        super(TwoLayerMLP, self).__init__()\n",
    "        self.d_in = d_in\n",
    "        self.linear1 = nn.Linear(d_in, d_hidden)\n",
    "        self.linear2 = nn.Linear(d_hidden, d_out)\n",
    "    def forward(self, X):\n",
    "        X = X.view(-1, self.d_in)\n",
    "        X = self.linear1(X)\n",
    "        return F.log_softmax(self.linear2(X), dim=1)"
   ]
  },
  {
   "cell_type": "code",
   "execution_count": 16,
   "metadata": {
    "execution": {
     "iopub.execute_input": "2020-09-03T19:48:27.205033Z",
     "iopub.status.busy": "2020-09-03T19:48:27.194340Z",
     "iopub.status.idle": "2020-09-03T19:48:27.215922Z",
     "shell.execute_reply": "2020-09-03T19:48:27.215125Z"
    },
    "papermill": {
     "duration": 0.045203,
     "end_time": "2020-09-03T19:48:27.216050",
     "exception": false,
     "start_time": "2020-09-03T19:48:27.170847",
     "status": "completed"
    },
    "tags": []
   },
   "outputs": [],
   "source": [
    "def train_val_model(model, criterion, optimizer, dataloaders, num_epochs=25,\n",
    "    scheduler=None, log_interval=None):\n",
    "    since = time.time()\n",
    "    best_model_wts = copy.deepcopy(model.state_dict())\n",
    "    best_acc = 0.0\n",
    "    # Store losses and accuracies accross epochs\n",
    "    losses, accuracies = dict(train=[], val=[]), dict(train=[], val=[])\n",
    "    for epoch in range(num_epochs):\n",
    "        if log_interval is not None and epoch % log_interval == 0:\n",
    "            print('Epoch {}/{}'.format(epoch, num_epochs - 1))\n",
    "            print('-' * 10)\n",
    "            \n",
    "    # Each epoch has a training and validation phase\n",
    "    for phase in ['train', 'val']:\n",
    "        if phase == 'train':\n",
    "            model.train() # Set model to training mode\n",
    "        else:\n",
    "            model.eval() # Set model to evaluate mode\n",
    "        running_loss = 0.0\n",
    "        running_corrects = 0\n",
    "        # Iterate over data.\n",
    "        nsamples = 0\n",
    "        for inputs, labels in dataloaders[phase]:\n",
    "            inputs = inputs.to(device)\n",
    "            labels = labels.to(device)\n",
    "            nsamples += inputs.shape[0]\n",
    "            # zero the parameter gradients\n",
    "            optimizer.zero_grad()\n",
    "            # forward\n",
    "            # track history if only in train\n",
    "            with torch.set_grad_enabled(phase == 'train'):\n",
    "                outputs = model(inputs)\n",
    "                _, preds = torch.max(outputs, 1)\n",
    "                loss = criterion(outputs, labels)\n",
    "                # backward + optimize only if in training phase\n",
    "                if phase == 'train':\n",
    "                    loss.backward()\n",
    "                    optimizer.step()\n",
    "                    # statistics\n",
    "            running_loss += loss.item() * inputs.size(0)\n",
    "            running_corrects += torch.sum(preds == labels.data)\n",
    "        if scheduler is not None and phase == 'train':\n",
    "            scheduler.step()\n",
    "        #nsamples = dataloaders[phase].dataset.data.shape[0]\n",
    "        epoch_loss = running_loss / nsamples\n",
    "        epoch_acc = running_corrects.double() / nsamples\n",
    "        losses[phase].append(epoch_loss)\n",
    "        accuracies[phase].append(epoch_acc)\n",
    "        if log_interval is not None and epoch % log_interval == 0:\n",
    "            print('{} Loss: {:.4f} Acc: {:.2f}%'.format(\n",
    "                phase, epoch_loss, 100 * epoch_acc))\n",
    "        # deep copy the model\n",
    "        if phase == 'val' and epoch_acc > best_acc:\n",
    "            best_acc = epoch_acc\n",
    "            best_model_wts = copy.deepcopy(model.state_dict())\n",
    "            \n",
    "    if log_interval is not None and epoch % log_interval == 0:\n",
    "        print()\n",
    "        \n",
    "    time_elapsed = time.time() - since\n",
    "    print('Training complete in {:.0f}m {:.0f}s'.format(\n",
    "        time_elapsed // 60, time_elapsed % 60))\n",
    "    print('Best val Acc: {:.2f}%'.format(100 * best_acc))\n",
    "    # load best model weights\n",
    "    model.load_state_dict(best_model_wts)\n",
    "    return model, losses, accuracies"
   ]
  },
  {
   "cell_type": "code",
   "execution_count": 17,
   "metadata": {
    "execution": {
     "iopub.execute_input": "2020-09-03T19:48:27.253561Z",
     "iopub.status.busy": "2020-09-03T19:48:27.252706Z",
     "iopub.status.idle": "2020-09-03T19:48:27.262191Z",
     "shell.execute_reply": "2020-09-03T19:48:27.261417Z"
    },
    "papermill": {
     "duration": 0.031227,
     "end_time": "2020-09-03T19:48:27.262324",
     "exception": false,
     "start_time": "2020-09-03T19:48:27.231097",
     "status": "completed"
    },
    "tags": []
   },
   "outputs": [
    {
     "name": "stdout",
     "output_type": "stream",
     "text": [
      "False\n"
     ]
    }
   ],
   "source": [
    "model = TwoLayerMLP(D_in, 50, D_out).to(device)\n",
    "print(next(model.parameters()).is_cuda)\n",
    "optimizer = optim.SGD(model.parameters(), lr=0.01, momentum=0.5)\n",
    "criterion = nn.NLLLoss()"
   ]
  },
  {
   "cell_type": "code",
   "execution_count": 18,
   "metadata": {
    "execution": {
     "iopub.execute_input": "2020-09-03T19:48:27.303221Z",
     "iopub.status.busy": "2020-09-03T19:48:27.302312Z",
     "iopub.status.idle": "2020-09-03T19:48:47.327613Z",
     "shell.execute_reply": "2020-09-03T19:48:47.326978Z"
    },
    "papermill": {
     "duration": 20.050366,
     "end_time": "2020-09-03T19:48:47.327755",
     "exception": false,
     "start_time": "2020-09-03T19:48:27.277389",
     "status": "completed"
    },
    "tags": []
   },
   "outputs": [
    {
     "name": "stdout",
     "output_type": "stream",
     "text": [
      "torch.Size([50, 784])\n",
      "torch.Size([50])\n",
      "torch.Size([10, 50])\n",
      "torch.Size([10])\n",
      "Total number of parameters = 39760\n",
      "Epoch 0/0\n",
      "----------\n",
      "train Loss: 0.4422 Acc: 87.88%\n",
      "val Loss: 0.3047 Acc: 91.23%\n",
      "\n",
      "Training complete in 0m 20s\n",
      "Best val Acc: 91.23%\n",
      "False\n"
     ]
    }
   ],
   "source": [
    "# Explore the model\n",
    "for parameter in model.parameters():\n",
    "    print(parameter.shape)\n",
    "    \n",
    "print(\"Total number of parameters =\", np.sum([np.prod(parameter.shape) for parameter in model.parameters()]))\n",
    "model, losses, accuracies = train_val_model(model, criterion, optimizer, dataloaders,\n",
    "num_epochs=1, log_interval=1)\n",
    "print(next(model.parameters()).is_cuda)\n",
    "torch.save(model.state_dict(), 'models/mod-%s.pth' % model.__class__.__name__)"
   ]
  },
  {
   "cell_type": "code",
   "execution_count": 19,
   "metadata": {
    "execution": {
     "iopub.execute_input": "2020-09-03T19:48:47.367329Z",
     "iopub.status.busy": "2020-09-03T19:48:47.366509Z",
     "iopub.status.idle": "2020-09-03T19:48:49.250213Z",
     "shell.execute_reply": "2020-09-03T19:48:49.249559Z"
    },
    "papermill": {
     "duration": 1.907171,
     "end_time": "2020-09-03T19:48:49.250337",
     "exception": false,
     "start_time": "2020-09-03T19:48:47.343166",
     "status": "completed"
    },
    "tags": []
   },
   "outputs": [],
   "source": [
    "batch_idx, (example_data, example_targets) = next(enumerate(val_loader))\n",
    "example_data = example_data.to(device)\n",
    "with torch.no_grad():\n",
    "    output = model(example_data).cpu()\n",
    "example_data = example_data.cpu()"
   ]
  },
  {
   "cell_type": "code",
   "execution_count": 20,
   "metadata": {
    "execution": {
     "iopub.execute_input": "2020-09-03T19:48:49.291903Z",
     "iopub.status.busy": "2020-09-03T19:48:49.291046Z",
     "iopub.status.idle": "2020-09-03T19:48:50.427996Z",
     "shell.execute_reply": "2020-09-03T19:48:50.427344Z"
    },
    "papermill": {
     "duration": 1.162305,
     "end_time": "2020-09-03T19:48:50.428131",
     "exception": false,
     "start_time": "2020-09-03T19:48:49.265826",
     "status": "completed"
    },
    "tags": []
   },
   "outputs": [
    {
     "name": "stdout",
     "output_type": "stream",
     "text": [
      "Output shape= torch.Size([10000, 10]) label shape= torch.Size([10000])\n",
      "Accuracy = 91.23%\n"
     ]
    },
    {
     "data": {
      "image/png": "[encoded data removed]",
      "text/plain": [
       "<Figure size 432x288 with 12 Axes>"
      ]
     },
     "metadata": {},
     "output_type": "display_data"
    }
   ],
   "source": [
    "# print(output.is_cuda)\n",
    "# Softmax predictions\n",
    "preds = output.argmax(dim=1)\n",
    "print(\"Output shape=\", output.shape, \"label shape=\", preds.shape)\n",
    "print(\"Accuracy = {:.2f}%\".format((example_targets == preds).sum().item() * 100. / len(example_targets)))\n",
    "show_data_label_prediction(data=example_data, y_true=example_targets, y_pred=preds,shape=(3, 4))"
   ]
  },
  {
   "cell_type": "code",
   "execution_count": 21,
   "metadata": {
    "execution": {
     "iopub.execute_input": "2020-09-03T19:48:50.469447Z",
     "iopub.status.busy": "2020-09-03T19:48:50.468685Z",
     "iopub.status.idle": "2020-09-03T19:48:51.615502Z",
     "shell.execute_reply": "2020-09-03T19:48:51.614780Z"
    },
    "papermill": {
     "duration": 1.171404,
     "end_time": "2020-09-03T19:48:51.615651",
     "exception": false,
     "start_time": "2020-09-03T19:48:50.444247",
     "status": "completed"
    },
    "tags": []
   },
   "outputs": [
    {
     "name": "stdout",
     "output_type": "stream",
     "text": [
      "Nb errors = 877, (Error rate = 8.77%)\n"
     ]
    },
    {
     "data": {
      "image/png": "[encoded data removed]",
      "text/plain": [
       "<Figure size 432x288 with 12 Axes>"
      ]
     },
     "metadata": {},
     "output_type": "display_data"
    }
   ],
   "source": [
    "errors = example_targets != preds\n",
    "#print(errors, np.where(errors))\n",
    "print(\"Nb errors = {}, (Error rate = {:.2f}%)\".format(errors.sum(), 100 * errors.sum().item() / len(errors)))\n",
    "err_idx = np.where(errors)[0]\n",
    "show_data_label_prediction(data=example_data[err_idx], y_true=example_targets[err_idx],\n",
    "y_pred=preds[err_idx], shape=(3, 4))"
   ]
  },
  {
   "cell_type": "code",
   "execution_count": 22,
   "metadata": {
    "execution": {
     "iopub.execute_input": "2020-09-03T19:48:51.658914Z",
     "iopub.status.busy": "2020-09-03T19:48:51.657640Z",
     "iopub.status.idle": "2020-09-03T19:49:12.786059Z",
     "shell.execute_reply": "2020-09-03T19:49:12.786681Z"
    },
    "papermill": {
     "duration": 21.15467,
     "end_time": "2020-09-03T19:49:12.786872",
     "exception": false,
     "start_time": "2020-09-03T19:48:51.632202",
     "status": "completed"
    },
    "tags": []
   },
   "outputs": [
    {
     "name": "stdout",
     "output_type": "stream",
     "text": [
      "Epoch 0/9\n",
      "----------\n",
      "Epoch 2/9\n",
      "----------\n",
      "Epoch 4/9\n",
      "----------\n",
      "Epoch 6/9\n",
      "----------\n",
      "Epoch 8/9\n",
      "----------\n",
      "Training complete in 0m 21s\n",
      "Best val Acc: 91.78%\n"
     ]
    },
    {
     "data": {
      "image/png": "[encoded data removed]",
      "text/plain": [
       "<Figure size 432x288 with 1 Axes>"
      ]
     },
     "metadata": {
      "needs_background": "light"
     },
     "output_type": "display_data"
    }
   ],
   "source": [
    "model = TwoLayerMLP(D_in, 50, D_out)\n",
    "model.load_state_dict(torch.load('models/mod-%s.pth' % model.__class__.__name__))\n",
    "model.to(device)\n",
    "optimizer = optim.SGD(model.parameters(), lr=0.01, momentum=0.5)\n",
    "criterion = nn.NLLLoss()\n",
    "model, losses, accuracies = train_val_model(model, criterion, optimizer, dataloaders,\n",
    "num_epochs=10, log_interval=2)\n",
    "_ = plt.plot(losses['train'], '-b', losses['val'], '--r')"
   ]
  },
  {
   "cell_type": "markdown",
   "execution_count": null,
   "metadata": {
    "papermill": {
     "duration": 0.016471,
     "end_time": "2020-09-03T19:49:12.820610",
     "exception": false,
     "start_time": "2020-09-03T19:49:12.804139",
     "status": "completed"
    },
    "tags": []
   },
   "source": [
    "# Test several MLP architectures"
   ]
  },
  {
   "cell_type": "code",
   "execution_count": 23,
   "metadata": {
    "execution": {
     "iopub.execute_input": "2020-09-03T19:49:12.866396Z",
     "iopub.status.busy": "2020-09-03T19:49:12.865580Z",
     "iopub.status.idle": "2020-09-03T19:49:12.869522Z",
     "shell.execute_reply": "2020-09-03T19:49:12.868783Z"
    },
    "papermill": {
     "duration": 0.032241,
     "end_time": "2020-09-03T19:49:12.869668",
     "exception": false,
     "start_time": "2020-09-03T19:49:12.837427",
     "status": "completed"
    },
    "tags": []
   },
   "outputs": [],
   "source": [
    "class MLP(nn.Module):\n",
    "    def __init__(self, d_layer):\n",
    "        super(MLP, self).__init__()\n",
    "        self.d_layer = d_layer\n",
    "        layer_list = [nn.Linear(d_layer[l], d_layer[l+1]) for l in range(len(d_layer) - 1)]\n",
    "        self.linears = nn.ModuleList(layer_list)\n",
    "    def forward(self, X):\n",
    "        X = X.view(-1, self.d_layer[0])\n",
    "        # relu(Wl x) for all hidden layer\n",
    "        for layer in self.linears[:-1]:\n",
    "            X = F.relu(layer(X))\n",
    "            # softmax(Wl x) for output layer\n",
    "        return F.log_softmax(self.linears[-1](X), dim=1)"
   ]
  },
  {
   "cell_type": "code",
   "execution_count": 24,
   "metadata": {
    "execution": {
     "iopub.execute_input": "2020-09-03T19:49:12.912211Z",
     "iopub.status.busy": "2020-09-03T19:49:12.911380Z",
     "iopub.status.idle": "2020-09-03T19:49:38.665310Z",
     "shell.execute_reply": "2020-09-03T19:49:38.664617Z"
    },
    "papermill": {
     "duration": 25.778688,
     "end_time": "2020-09-03T19:49:38.665443",
     "exception": false,
     "start_time": "2020-09-03T19:49:12.886755",
     "status": "completed"
    },
    "tags": []
   },
   "outputs": [
    {
     "name": "stdout",
     "output_type": "stream",
     "text": [
      "Epoch 0/9\n",
      "----------\n",
      "Epoch 2/9\n",
      "----------\n",
      "Epoch 4/9\n",
      "----------\n",
      "Epoch 6/9\n",
      "----------\n",
      "Epoch 8/9\n",
      "----------\n",
      "Training complete in 0m 26s\n",
      "Best val Acc: 89.09%\n"
     ]
    },
    {
     "data": {
      "image/png": "[encoded data removed]",
      "text/plain": [
       "<Figure size 432x288 with 1 Axes>"
      ]
     },
     "metadata": {
      "needs_background": "light"
     },
     "output_type": "display_data"
    }
   ],
   "source": [
    "model = MLP([D_in, 512, 256, 128, 64, D_out]).to(device)\n",
    "optimizer = optim.SGD(model.parameters(), lr=0.01, momentum=0.5)\n",
    "criterion = nn.NLLLoss()\n",
    "model, losses, accuracies = train_val_model(model, criterion, optimizer, dataloaders,\n",
    "num_epochs=10, log_interval=2)\n",
    "_ = plt.plot(losses['train'], '-b', losses['val'], '--r')"
   ]
  },
  {
   "cell_type": "markdown",
   "execution_count": null,
   "metadata": {
    "papermill": {
     "duration": 0.016806,
     "end_time": "2020-09-03T19:49:38.699733",
     "exception": false,
     "start_time": "2020-09-03T19:49:38.682927",
     "status": "completed"
    },
    "tags": []
   },
   "source": [
    "# Reduce the size of training dataset"
   ]
  },
  {
   "cell_type": "code",
   "execution_count": 25,
   "metadata": {
    "execution": {
     "iopub.execute_input": "2020-09-03T19:49:38.741555Z",
     "iopub.status.busy": "2020-09-03T19:49:38.740329Z",
     "iopub.status.idle": "2020-09-03T19:49:38.799038Z",
     "shell.execute_reply": "2020-09-03T19:49:38.798370Z"
    },
    "papermill": {
     "duration": 0.082411,
     "end_time": "2020-09-03T19:49:38.799203",
     "exception": false,
     "start_time": "2020-09-03T19:49:38.716792",
     "status": "completed"
    },
    "tags": []
   },
   "outputs": [],
   "source": [
    "train_loader, val_loader = load_mnist(16, 1000)\n",
    "train_size = 10 * 16\n",
    "# Stratified sub-sampling\n",
    "targets = train_loader.dataset.targets.numpy()\n",
    "nclasses = len(set(targets))"
   ]
  },
  {
   "cell_type": "code",
   "execution_count": 26,
   "metadata": {
    "execution": {
     "iopub.execute_input": "2020-09-03T19:49:38.867729Z",
     "iopub.status.busy": "2020-09-03T19:49:38.866925Z",
     "iopub.status.idle": "2020-09-03T19:49:38.875396Z",
     "shell.execute_reply": "2020-09-03T19:49:38.874762Z"
    },
    "papermill": {
     "duration": 0.052157,
     "end_time": "2020-09-03T19:49:38.875523",
     "exception": false,
     "start_time": "2020-09-03T19:49:38.823366",
     "status": "completed"
    },
    "tags": []
   },
   "outputs": [],
   "source": [
    "indices = np.concatenate([np.random.choice(np.where(targets == lab)[0], int(train_size / nclasses),replace=False)\n",
    "                          for lab in set(targets)])"
   ]
  },
  {
   "cell_type": "code",
   "execution_count": 27,
   "metadata": {
    "execution": {
     "iopub.execute_input": "2020-09-03T19:49:38.918954Z",
     "iopub.status.busy": "2020-09-03T19:49:38.918164Z",
     "iopub.status.idle": "2020-09-03T19:49:38.922165Z",
     "shell.execute_reply": "2020-09-03T19:49:38.921433Z"
    },
    "papermill": {
     "duration": 0.027833,
     "end_time": "2020-09-03T19:49:38.922300",
     "exception": false,
     "start_time": "2020-09-03T19:49:38.894467",
     "status": "completed"
    },
    "tags": []
   },
   "outputs": [],
   "source": [
    "np.random.shuffle(indices)\n",
    "train_loader = torch.utils.data.DataLoader(train_loader.dataset, batch_size=16, \n",
    "                                           sampler=torch.utils.data.SubsetRandomSampler(indices))"
   ]
  },
  {
   "cell_type": "code",
   "execution_count": 28,
   "metadata": {
    "execution": {
     "iopub.execute_input": "2020-09-03T19:49:38.966679Z",
     "iopub.status.busy": "2020-09-03T19:49:38.965264Z",
     "iopub.status.idle": "2020-09-03T19:49:39.038682Z",
     "shell.execute_reply": "2020-09-03T19:49:39.037655Z"
    },
    "papermill": {
     "duration": 0.098658,
     "end_time": "2020-09-03T19:49:39.038841",
     "exception": false,
     "start_time": "2020-09-03T19:49:38.940183",
     "status": "completed"
    },
    "tags": []
   },
   "outputs": [
    {
     "name": "stdout",
     "output_type": "stream",
     "text": [
      "Train size= 160  Train label count= {0: 16, 1: 16, 2: 16, 3: 16, 4: 16, 5: 16, 6: 16, 7: 16, 8: 16, 9: 16}\n",
      "Batch sizes= [16, 16, 16, 16, 16, 16, 16, 16, 16, 16]\n"
     ]
    }
   ],
   "source": [
    "# Check train subsampling\n",
    "train_labels = np.concatenate([labels.numpy() for inputs, labels in train_loader])\n",
    "print(\"Train size=\", len(train_labels), \" Train label count=\", {lab:np.sum(train_labels == lab) for lab in set(train_labels)})\n",
    "print(\"Batch sizes=\", [inputs.size(0) for inputs, labels in train_loader])"
   ]
  },
  {
   "cell_type": "code",
   "execution_count": 29,
   "metadata": {
    "execution": {
     "iopub.execute_input": "2020-09-03T19:49:39.081726Z",
     "iopub.status.busy": "2020-09-03T19:49:39.080712Z",
     "iopub.status.idle": "2020-09-03T19:49:39.084797Z",
     "shell.execute_reply": "2020-09-03T19:49:39.084025Z"
    },
    "papermill": {
     "duration": 0.028471,
     "end_time": "2020-09-03T19:49:39.084926",
     "exception": false,
     "start_time": "2020-09-03T19:49:39.056455",
     "status": "completed"
    },
    "tags": []
   },
   "outputs": [],
   "source": [
    "# Put together train and val\n",
    "dataloaders = dict(train=train_loader, val=val_loader)"
   ]
  },
  {
   "cell_type": "code",
   "execution_count": 30,
   "metadata": {
    "execution": {
     "iopub.execute_input": "2020-09-03T19:49:39.130127Z",
     "iopub.status.busy": "2020-09-03T19:49:39.128848Z",
     "iopub.status.idle": "2020-09-03T19:49:39.135339Z",
     "shell.execute_reply": "2020-09-03T19:49:39.134580Z"
    },
    "papermill": {
     "duration": 0.032846,
     "end_time": "2020-09-03T19:49:39.135467",
     "exception": false,
     "start_time": "2020-09-03T19:49:39.102621",
     "status": "completed"
    },
    "tags": []
   },
   "outputs": [
    {
     "name": "stdout",
     "output_type": "stream",
     "text": [
      "Datasets shape {'train': torch.Size([60000, 28, 28]), 'val': torch.Size([10000, 28, 28])}\n",
      "N input features 784 N output 10\n"
     ]
    }
   ],
   "source": [
    "# Info about the dataset\n",
    "D_in = np.prod(dataloaders[\"train\"].dataset.data.shape[1:])\n",
    "D_out = len(dataloaders[\"train\"].dataset.targets.unique())\n",
    "print(\"Datasets shape\", {x: dataloaders[x].dataset.data.shape for x in ['train', 'val']})\n",
    "print(\"N input features\", D_in, \"N output\", D_out)"
   ]
  },
  {
   "cell_type": "code",
   "execution_count": 31,
   "metadata": {
    "execution": {
     "iopub.execute_input": "2020-09-03T19:49:39.178799Z",
     "iopub.status.busy": "2020-09-03T19:49:39.177806Z",
     "iopub.status.idle": "2020-09-03T19:49:39.187860Z",
     "shell.execute_reply": "2020-09-03T19:49:39.187080Z"
    },
    "papermill": {
     "duration": 0.034757,
     "end_time": "2020-09-03T19:49:39.187995",
     "exception": false,
     "start_time": "2020-09-03T19:49:39.153238",
     "status": "completed"
    },
    "tags": []
   },
   "outputs": [],
   "source": [
    "model = MLP([D_in, 512, 256, 128, 64, D_out]).to(device)\n",
    "optimizer = optim.SGD(model.parameters(), lr=0.01, momentum=0.5)\n",
    "criterion = nn.NLLLoss()"
   ]
  },
  {
   "cell_type": "code",
   "execution_count": 32,
   "metadata": {
    "execution": {
     "iopub.execute_input": "2020-09-03T19:49:39.231594Z",
     "iopub.status.busy": "2020-09-03T19:49:39.230397Z",
     "iopub.status.idle": "2020-09-03T19:49:41.715917Z",
     "shell.execute_reply": "2020-09-03T19:49:41.716564Z"
    },
    "papermill": {
     "duration": 2.510715,
     "end_time": "2020-09-03T19:49:41.716741",
     "exception": false,
     "start_time": "2020-09-03T19:49:39.206026",
     "status": "completed"
    },
    "tags": []
   },
   "outputs": [
    {
     "name": "stdout",
     "output_type": "stream",
     "text": [
      "Epoch 0/99\n",
      "----------\n",
      "Epoch 20/99\n",
      "----------\n",
      "Epoch 40/99\n",
      "----------\n",
      "Epoch 60/99\n",
      "----------\n",
      "Epoch 80/99\n",
      "----------\n",
      "Training complete in 0m 2s\n",
      "Best val Acc: 13.07%\n"
     ]
    },
    {
     "data": {
      "image/png": "[encoded data removed]",
      "text/plain": [
       "<Figure size 432x288 with 1 Axes>"
      ]
     },
     "metadata": {
      "needs_background": "light"
     },
     "output_type": "display_data"
    }
   ],
   "source": [
    "model, losses, accuracies = train_val_model(model, criterion, optimizer, dataloaders,\n",
    "num_epochs=100, log_interval=20)\n",
    "_ = plt.plot(losses['train'], '-b', losses['val'], '--r')"
   ]
  },
  {
   "cell_type": "code",
   "execution_count": 33,
   "metadata": {
    "execution": {
     "iopub.execute_input": "2020-09-03T19:49:41.762749Z",
     "iopub.status.busy": "2020-09-03T19:49:41.761689Z",
     "iopub.status.idle": "2020-09-03T19:49:44.092139Z",
     "shell.execute_reply": "2020-09-03T19:49:44.091454Z"
    },
    "papermill": {
     "duration": 2.357159,
     "end_time": "2020-09-03T19:49:44.092269",
     "exception": false,
     "start_time": "2020-09-03T19:49:41.735110",
     "status": "completed"
    },
    "tags": []
   },
   "outputs": [
    {
     "name": "stdout",
     "output_type": "stream",
     "text": [
      "Epoch 0/99\n",
      "----------\n",
      "Epoch 20/99\n",
      "----------\n",
      "Epoch 40/99\n",
      "----------\n",
      "Epoch 60/99\n",
      "----------\n",
      "Epoch 80/99\n",
      "----------\n",
      "Training complete in 0m 2s\n",
      "Best val Acc: 45.68%\n"
     ]
    },
    {
     "data": {
      "image/png": "[encoded data removed]",
      "text/plain": [
       "<Figure size 432x288 with 1 Axes>"
      ]
     },
     "metadata": {
      "needs_background": "light"
     },
     "output_type": "display_data"
    }
   ],
   "source": [
    "model = MLP([D_in, 512, 256, 128, 64, D_out]).to(device)\n",
    "optimizer = torch.optim.Adam(model.parameters(), lr=0.001)\n",
    "criterion = nn.NLLLoss()\n",
    "model, losses, accuracies = train_val_model(model, criterion, optimizer, dataloaders,\n",
    "num_epochs=100, log_interval=20)\n",
    "_ = plt.plot(losses['train'], '-b', losses['val'], '--r')"
   ]
  },
  {
   "cell_type": "code",
   "execution_count": null,
   "metadata": {
    "papermill": {
     "duration": 0.01959,
     "end_time": "2020-09-03T19:49:44.131110",
     "exception": false,
     "start_time": "2020-09-03T19:49:44.111520",
     "status": "completed"
    },
    "tags": []
   },
   "outputs": [],
   "source": []
  }
 ],
 "metadata": {
  "kernelspec": {
   "display_name": "Python 3",
   "language": "python",
   "name": "python3"
  },
  "language_info": {
   "codemirror_mode": {
    "name": "ipython",
    "version": 3
   },
   "file_extension": ".py",
   "mimetype": "text/x-python",
   "name": "python",
   "nbconvert_exporter": "python",
   "pygments_lexer": "ipython3",
   "version": "3.7.6"
  },
  "papermill": {
   "duration": 125.96058,
   "end_time": "2020-09-03T19:49:44.259477",
   "environment_variables": {},
   "exception": null,
   "input_path": "__notebook__.ipynb",
   "output_path": "__notebook__.ipynb",
   "parameters": {},
   "start_time": "2020-09-03T19:47:38.298897",
   "version": "2.1.0"
  },
  "widgets": {
   "application/vnd.jupyter.widget-state+json": {
    "state": {
     "023fd2a3f66446f581871c6efeaae24c": {
      "model_module": "@jupyter-widgets/base",
      "model_module_version": "1.2.0",
      "model_name": "LayoutModel",
      "state": {
       "_model_module": "@jupyter-widgets/base",
       "_model_module_version": "1.2.0",
       "_model_name": "LayoutModel",
       "_view_count": null,
       "_view_module": "@jupyter-widgets/base",
       "_view_module_version": "1.2.0",
       "_view_name": "LayoutView",
       "align_content": null,
       "align_items": null,
       "align_self": null,
       "border": null,
       "bottom": null,
       "display": null,
       "flex": null,
       "flex_flow": null,
       "grid_area": null,
       "grid_auto_columns": null,
       "grid_auto_flow": null,
       "grid_auto_rows": null,
       "grid_column": null,
       "grid_gap": null,
       "grid_row": null,
       "grid_template_areas": null,
       "grid_template_columns": null,
       "grid_template_rows": null,
       "height": null,
       "justify_content": null,
       "justify_items": null,
       "left": null,
       "margin": null,
       "max_height": null,
       "max_width": null,
       "min_height": null,
       "min_width": null,
       "object_fit": null,
       "object_position": null,
       "order": null,
       "overflow": null,
       "overflow_x": null,
       "overflow_y": null,
       "padding": null,
       "right": null,
       "top": null,
       "visibility": null,
       "width": null
      }
     },
     "0894f3a5066e4b1cbe582269f10f6601": {
      "model_module": "@jupyter-widgets/controls",
      "model_module_version": "1.5.0",
      "model_name": "ProgressStyleModel",
      "state": {
       "_model_module": "@jupyter-widgets/controls",
       "_model_module_version": "1.5.0",
       "_model_name": "ProgressStyleModel",
       "_view_count": null,
       "_view_module": "@jupyter-widgets/base",
       "_view_module_version": "1.2.0",
       "_view_name": "StyleView",
       "bar_color": null,
       "description_width": "initial"
      }
     },
     "0c1899d7ce7b4bbf9c1a52887590211f": {
      "model_module": "@jupyter-widgets/controls",
      "model_module_version": "1.5.0",
      "model_name": "ProgressStyleModel",
      "state": {
       "_model_module": "@jupyter-widgets/controls",
       "_model_module_version": "1.5.0",
       "_model_name": "ProgressStyleModel",
       "_view_count": null,
       "_view_module": "@jupyter-widgets/base",
       "_view_module_version": "1.2.0",
       "_view_name": "StyleView",
       "bar_color": null,
       "description_width": "initial"
      }
     },
     "0f98d3f5c1834102970d815d81ed2cf8": {
      "model_module": "@jupyter-widgets/base",
      "model_module_version": "1.2.0",
      "model_name": "LayoutModel",
      "state": {
       "_model_module": "@jupyter-widgets/base",
       "_model_module_version": "1.2.0",
       "_model_name": "LayoutModel",
       "_view_count": null,
       "_view_module": "@jupyter-widgets/base",
       "_view_module_version": "1.2.0",
       "_view_name": "LayoutView",
       "align_content": null,
       "align_items": null,
       "align_self": null,
       "border": null,
       "bottom": null,
       "display": null,
       "flex": null,
       "flex_flow": null,
       "grid_area": null,
       "grid_auto_columns": null,
       "grid_auto_flow": null,
       "grid_auto_rows": null,
       "grid_column": null,
       "grid_gap": null,
       "grid_row": null,
       "grid_template_areas": null,
       "grid_template_columns": null,
       "grid_template_rows": null,
       "height": null,
       "justify_content": null,
       "justify_items": null,
       "left": null,
       "margin": null,
       "max_height": null,
       "max_width": null,
       "min_height": null,
       "min_width": null,
       "object_fit": null,
       "object_position": null,
       "order": null,
       "overflow": null,
       "overflow_x": null,
       "overflow_y": null,
       "padding": null,
       "right": null,
       "top": null,
       "visibility": null,
       "width": null
      }
     },
     "25acbfc0c6a44aa892cb36270a8e3eae": {
      "model_module": "@jupyter-widgets/controls",
      "model_module_version": "1.5.0",
      "model_name": "HBoxModel",
      "state": {
       "_dom_classes": [],
       "_model_module": "@jupyter-widgets/controls",
       "_model_module_version": "1.5.0",
       "_model_name": "HBoxModel",
       "_view_count": null,
       "_view_module": "@jupyter-widgets/controls",
       "_view_module_version": "1.5.0",
       "_view_name": "HBoxView",
       "box_style": "",
       "children": [
        "IPY_MODEL_f321bd3b56c047298d7badf26fcd26bc",
        "IPY_MODEL_c48f89e156b3490b8900a8d7c8a904be"
       ],
       "layout": "IPY_MODEL_38b22ad104f94a29bd61491a8605e479"
      }
     },
     "38b22ad104f94a29bd61491a8605e479": {
      "model_module": "@jupyter-widgets/base",
      "model_module_version": "1.2.0",
      "model_name": "LayoutModel",
      "state": {
       "_model_module": "@jupyter-widgets/base",
       "_model_module_version": "1.2.0",
       "_model_name": "LayoutModel",
       "_view_count": null,
       "_view_module": "@jupyter-widgets/base",
       "_view_module_version": "1.2.0",
       "_view_name": "LayoutView",
       "align_content": null,
       "align_items": null,
       "align_self": null,
       "border": null,
       "bottom": null,
       "display": null,
       "flex": null,
       "flex_flow": null,
       "grid_area": null,
       "grid_auto_columns": null,
       "grid_auto_flow": null,
       "grid_auto_rows": null,
       "grid_column": null,
       "grid_gap": null,
       "grid_row": null,
       "grid_template_areas": null,
       "grid_template_columns": null,
       "grid_template_rows": null,
       "height": null,
       "justify_content": null,
       "justify_items": null,
       "left": null,
       "margin": null,
       "max_height": null,
       "max_width": null,
       "min_height": null,
       "min_width": null,
       "object_fit": null,
       "object_position": null,
       "order": null,
       "overflow": null,
       "overflow_x": null,
       "overflow_y": null,
       "padding": null,
       "right": null,
       "top": null,
       "visibility": null,
       "width": null
      }
     },
     "3d8c48fa0c314be387f083d66cdcf514": {
      "model_module": "@jupyter-widgets/base",
      "model_module_version": "1.2.0",
      "model_name": "LayoutModel",
      "state": {
       "_model_module": "@jupyter-widgets/base",
       "_model_module_version": "1.2.0",
       "_model_name": "LayoutModel",
       "_view_count": null,
       "_view_module": "@jupyter-widgets/base",
       "_view_module_version": "1.2.0",
       "_view_name": "LayoutView",
       "align_content": null,
       "align_items": null,
       "align_self": null,
       "border": null,
       "bottom": null,
       "display": null,
       "flex": null,
       "flex_flow": null,
       "grid_area": null,
       "grid_auto_columns": null,
       "grid_auto_flow": null,
       "grid_auto_rows": null,
       "grid_column": null,
       "grid_gap": null,
       "grid_row": null,
       "grid_template_areas": null,
       "grid_template_columns": null,
       "grid_template_rows": null,
       "height": null,
       "justify_content": null,
       "justify_items": null,
       "left": null,
       "margin": null,
       "max_height": null,
       "max_width": null,
       "min_height": null,
       "min_width": null,
       "object_fit": null,
       "object_position": null,
       "order": null,
       "overflow": null,
       "overflow_x": null,
       "overflow_y": null,
       "padding": null,
       "right": null,
       "top": null,
       "visibility": null,
       "width": null
      }
     },
     "428d405fefac4c04b1bd67aa1f6ae50d": {
      "model_module": "@jupyter-widgets/base",
      "model_module_version": "1.2.0",
      "model_name": "LayoutModel",
      "state": {
       "_model_module": "@jupyter-widgets/base",
       "_model_module_version": "1.2.0",
       "_model_name": "LayoutModel",
       "_view_count": null,
       "_view_module": "@jupyter-widgets/base",
       "_view_module_version": "1.2.0",
       "_view_name": "LayoutView",
       "align_content": null,
       "align_items": null,
       "align_self": null,
       "border": null,
       "bottom": null,
       "display": null,
       "flex": null,
       "flex_flow": null,
       "grid_area": null,
       "grid_auto_columns": null,
       "grid_auto_flow": null,
       "grid_auto_rows": null,
       "grid_column": null,
       "grid_gap": null,
       "grid_row": null,
       "grid_template_areas": null,
       "grid_template_columns": null,
       "grid_template_rows": null,
       "height": null,
       "justify_content": null,
       "justify_items": null,
       "left": null,
       "margin": null,
       "max_height": null,
       "max_width": null,
       "min_height": null,
       "min_width": null,
       "object_fit": null,
       "object_position": null,
       "order": null,
       "overflow": null,
       "overflow_x": null,
       "overflow_y": null,
       "padding": null,
       "right": null,
       "top": null,
       "visibility": null,
       "width": null
      }
     },
     "46ddea10dc1a46a5addee74fec2c5b22": {
      "model_module": "@jupyter-widgets/controls",
      "model_module_version": "1.5.0",
      "model_name": "FloatProgressModel",
      "state": {
       "_dom_classes": [],
       "_model_module": "@jupyter-widgets/controls",
       "_model_module_version": "1.5.0",
       "_model_name": "FloatProgressModel",
       "_view_count": null,
       "_view_module": "@jupyter-widgets/controls",
       "_view_module_version": "1.5.0",
       "_view_name": "ProgressView",
       "bar_style": "success",
       "description": "",
       "description_tooltip": null,
       "layout": "IPY_MODEL_c452f3052075490ba1d8574f547ad7e6",
       "max": 1.0,
       "min": 0.0,
       "orientation": "horizontal",
       "style": "IPY_MODEL_dfa01b3baba341078f6fb75ecaf55dc2",
       "value": 1.0
      }
     },
     "5162d52c635749cd8dd119ba1dd89de7": {
      "model_module": "@jupyter-widgets/controls",
      "model_module_version": "1.5.0",
      "model_name": "HTMLModel",
      "state": {
       "_dom_classes": [],
       "_model_module": "@jupyter-widgets/controls",
       "_model_module_version": "1.5.0",
       "_model_name": "HTMLModel",
       "_view_count": null,
       "_view_module": "@jupyter-widgets/controls",
       "_view_module_version": "1.5.0",
       "_view_name": "HTMLView",
       "description": "",
       "description_tooltip": null,
       "layout": "IPY_MODEL_9bf81cc7c8e942bb9e5c2c5c2b2ca573",
       "placeholder": "​",
       "style": "IPY_MODEL_ceae205c58294ac6af3b27eb936350c5",
       "value": " 8192/? [00:00&lt;00:00, 8552.22it/s]"
      }
     },
     "5670c66cea6d4b08b98207363539a03c": {
      "model_module": "@jupyter-widgets/controls",
      "model_module_version": "1.5.0",
      "model_name": "HBoxModel",
      "state": {
       "_dom_classes": [],
       "_model_module": "@jupyter-widgets/controls",
       "_model_module_version": "1.5.0",
       "_model_name": "HBoxModel",
       "_view_count": null,
       "_view_module": "@jupyter-widgets/controls",
       "_view_module_version": "1.5.0",
       "_view_name": "HBoxView",
       "box_style": "",
       "children": [
        "IPY_MODEL_46ddea10dc1a46a5addee74fec2c5b22",
        "IPY_MODEL_db614ea0c02b4f478977ec410e93f41a"
       ],
       "layout": "IPY_MODEL_428d405fefac4c04b1bd67aa1f6ae50d"
      }
     },
     "580f42aef0214151ab13e4ee12fa35a6": {
      "model_module": "@jupyter-widgets/base",
      "model_module_version": "1.2.0",
      "model_name": "LayoutModel",
      "state": {
       "_model_module": "@jupyter-widgets/base",
       "_model_module_version": "1.2.0",
       "_model_name": "LayoutModel",
       "_view_count": null,
       "_view_module": "@jupyter-widgets/base",
       "_view_module_version": "1.2.0",
       "_view_name": "LayoutView",
       "align_content": null,
       "align_items": null,
       "align_self": null,
       "border": null,
       "bottom": null,
       "display": null,
       "flex": null,
       "flex_flow": null,
       "grid_area": null,
       "grid_auto_columns": null,
       "grid_auto_flow": null,
       "grid_auto_rows": null,
       "grid_column": null,
       "grid_gap": null,
       "grid_row": null,
       "grid_template_areas": null,
       "grid_template_columns": null,
       "grid_template_rows": null,
       "height": null,
       "justify_content": null,
       "justify_items": null,
       "left": null,
       "margin": null,
       "max_height": null,
       "max_width": null,
       "min_height": null,
       "min_width": null,
       "object_fit": null,
       "object_position": null,
       "order": null,
       "overflow": null,
       "overflow_x": null,
       "overflow_y": null,
       "padding": null,
       "right": null,
       "top": null,
       "visibility": null,
       "width": null
      }
     },
     "59d41dced1844737bbb81f21d55709fe": {
      "model_module": "@jupyter-widgets/controls",
      "model_module_version": "1.5.0",
      "model_name": "ProgressStyleModel",
      "state": {
       "_model_module": "@jupyter-widgets/controls",
       "_model_module_version": "1.5.0",
       "_model_name": "ProgressStyleModel",
       "_view_count": null,
       "_view_module": "@jupyter-widgets/base",
       "_view_module_version": "1.2.0",
       "_view_name": "StyleView",
       "bar_color": null,
       "description_width": "initial"
      }
     },
     "5cb3ac990061438ebaf7a1a9e6663587": {
      "model_module": "@jupyter-widgets/base",
      "model_module_version": "1.2.0",
      "model_name": "LayoutModel",
      "state": {
       "_model_module": "@jupyter-widgets/base",
       "_model_module_version": "1.2.0",
       "_model_name": "LayoutModel",
       "_view_count": null,
       "_view_module": "@jupyter-widgets/base",
       "_view_module_version": "1.2.0",
       "_view_name": "LayoutView",
       "align_content": null,
       "align_items": null,
       "align_self": null,
       "border": null,
       "bottom": null,
       "display": null,
       "flex": null,
       "flex_flow": null,
       "grid_area": null,
       "grid_auto_columns": null,
       "grid_auto_flow": null,
       "grid_auto_rows": null,
       "grid_column": null,
       "grid_gap": null,
       "grid_row": null,
       "grid_template_areas": null,
       "grid_template_columns": null,
       "grid_template_rows": null,
       "height": null,
       "justify_content": null,
       "justify_items": null,
       "left": null,
       "margin": null,
       "max_height": null,
       "max_width": null,
       "min_height": null,
       "min_width": null,
       "object_fit": null,
       "object_position": null,
       "order": null,
       "overflow": null,
       "overflow_x": null,
       "overflow_y": null,
       "padding": null,
       "right": null,
       "top": null,
       "visibility": null,
       "width": null
      }
     },
     "5d194432005344e4ae60c6a98bb6cc12": {
      "model_module": "@jupyter-widgets/controls",
      "model_module_version": "1.5.0",
      "model_name": "FloatProgressModel",
      "state": {
       "_dom_classes": [],
       "_model_module": "@jupyter-widgets/controls",
       "_model_module_version": "1.5.0",
       "_model_name": "FloatProgressModel",
       "_view_count": null,
       "_view_module": "@jupyter-widgets/controls",
       "_view_module_version": "1.5.0",
       "_view_name": "ProgressView",
       "bar_style": "success",
       "description": "",
       "description_tooltip": null,
       "layout": "IPY_MODEL_f3f98025134e4864a530814792795935",
       "max": 1.0,
       "min": 0.0,
       "orientation": "horizontal",
       "style": "IPY_MODEL_0c1899d7ce7b4bbf9c1a52887590211f",
       "value": 1.0
      }
     },
     "5e357eb74e9a45aa859e1c7f03913e02": {
      "model_module": "@jupyter-widgets/controls",
      "model_module_version": "1.5.0",
      "model_name": "FloatProgressModel",
      "state": {
       "_dom_classes": [],
       "_model_module": "@jupyter-widgets/controls",
       "_model_module_version": "1.5.0",
       "_model_name": "FloatProgressModel",
       "_view_count": null,
       "_view_module": "@jupyter-widgets/controls",
       "_view_module_version": "1.5.0",
       "_view_name": "ProgressView",
       "bar_style": "info",
       "description": "",
       "description_tooltip": null,
       "layout": "IPY_MODEL_0f98d3f5c1834102970d815d81ed2cf8",
       "max": 1.0,
       "min": 0.0,
       "orientation": "horizontal",
       "style": "IPY_MODEL_0894f3a5066e4b1cbe582269f10f6601",
       "value": 1.0
      }
     },
     "7892b1b78fea4cdeb42a677f888985bf": {
      "model_module": "@jupyter-widgets/controls",
      "model_module_version": "1.5.0",
      "model_name": "DescriptionStyleModel",
      "state": {
       "_model_module": "@jupyter-widgets/controls",
       "_model_module_version": "1.5.0",
       "_model_name": "DescriptionStyleModel",
       "_view_count": null,
       "_view_module": "@jupyter-widgets/base",
       "_view_module_version": "1.2.0",
       "_view_name": "StyleView",
       "description_width": ""
      }
     },
     "8a1db2cf427a43479496cf041834048b": {
      "model_module": "@jupyter-widgets/base",
      "model_module_version": "1.2.0",
      "model_name": "LayoutModel",
      "state": {
       "_model_module": "@jupyter-widgets/base",
       "_model_module_version": "1.2.0",
       "_model_name": "LayoutModel",
       "_view_count": null,
       "_view_module": "@jupyter-widgets/base",
       "_view_module_version": "1.2.0",
       "_view_name": "LayoutView",
       "align_content": null,
       "align_items": null,
       "align_self": null,
       "border": null,
       "bottom": null,
       "display": null,
       "flex": null,
       "flex_flow": null,
       "grid_area": null,
       "grid_auto_columns": null,
       "grid_auto_flow": null,
       "grid_auto_rows": null,
       "grid_column": null,
       "grid_gap": null,
       "grid_row": null,
       "grid_template_areas": null,
       "grid_template_columns": null,
       "grid_template_rows": null,
       "height": null,
       "justify_content": null,
       "justify_items": null,
       "left": null,
       "margin": null,
       "max_height": null,
       "max_width": null,
       "min_height": null,
       "min_width": null,
       "object_fit": null,
       "object_position": null,
       "order": null,
       "overflow": null,
       "overflow_x": null,
       "overflow_y": null,
       "padding": null,
       "right": null,
       "top": null,
       "visibility": null,
       "width": null
      }
     },
     "96ab619dbaf340b597db05563e595a5f": {
      "model_module": "@jupyter-widgets/controls",
      "model_module_version": "1.5.0",
      "model_name": "DescriptionStyleModel",
      "state": {
       "_model_module": "@jupyter-widgets/controls",
       "_model_module_version": "1.5.0",
       "_model_name": "DescriptionStyleModel",
       "_view_count": null,
       "_view_module": "@jupyter-widgets/base",
       "_view_module_version": "1.2.0",
       "_view_name": "StyleView",
       "description_width": ""
      }
     },
     "97157bf0d5114c51a0787f2cde73921f": {
      "model_module": "@jupyter-widgets/base",
      "model_module_version": "1.2.0",
      "model_name": "LayoutModel",
      "state": {
       "_model_module": "@jupyter-widgets/base",
       "_model_module_version": "1.2.0",
       "_model_name": "LayoutModel",
       "_view_count": null,
       "_view_module": "@jupyter-widgets/base",
       "_view_module_version": "1.2.0",
       "_view_name": "LayoutView",
       "align_content": null,
       "align_items": null,
       "align_self": null,
       "border": null,
       "bottom": null,
       "display": null,
       "flex": null,
       "flex_flow": null,
       "grid_area": null,
       "grid_auto_columns": null,
       "grid_auto_flow": null,
       "grid_auto_rows": null,
       "grid_column": null,
       "grid_gap": null,
       "grid_row": null,
       "grid_template_areas": null,
       "grid_template_columns": null,
       "grid_template_rows": null,
       "height": null,
       "justify_content": null,
       "justify_items": null,
       "left": null,
       "margin": null,
       "max_height": null,
       "max_width": null,
       "min_height": null,
       "min_width": null,
       "object_fit": null,
       "object_position": null,
       "order": null,
       "overflow": null,
       "overflow_x": null,
       "overflow_y": null,
       "padding": null,
       "right": null,
       "top": null,
       "visibility": null,
       "width": null
      }
     },
     "9bf81cc7c8e942bb9e5c2c5c2b2ca573": {
      "model_module": "@jupyter-widgets/base",
      "model_module_version": "1.2.0",
      "model_name": "LayoutModel",
      "state": {
       "_model_module": "@jupyter-widgets/base",
       "_model_module_version": "1.2.0",
       "_model_name": "LayoutModel",
       "_view_count": null,
       "_view_module": "@jupyter-widgets/base",
       "_view_module_version": "1.2.0",
       "_view_name": "LayoutView",
       "align_content": null,
       "align_items": null,
       "align_self": null,
       "border": null,
       "bottom": null,
       "display": null,
       "flex": null,
       "flex_flow": null,
       "grid_area": null,
       "grid_auto_columns": null,
       "grid_auto_flow": null,
       "grid_auto_rows": null,
       "grid_column": null,
       "grid_gap": null,
       "grid_row": null,
       "grid_template_areas": null,
       "grid_template_columns": null,
       "grid_template_rows": null,
       "height": null,
       "justify_content": null,
       "justify_items": null,
       "left": null,
       "margin": null,
       "max_height": null,
       "max_width": null,
       "min_height": null,
       "min_width": null,
       "object_fit": null,
       "object_position": null,
       "order": null,
       "overflow": null,
       "overflow_x": null,
       "overflow_y": null,
       "padding": null,
       "right": null,
       "top": null,
       "visibility": null,
       "width": null
      }
     },
     "a254d49311b54985b865a508f866a1d1": {
      "model_module": "@jupyter-widgets/controls",
      "model_module_version": "1.5.0",
      "model_name": "HBoxModel",
      "state": {
       "_dom_classes": [],
       "_model_module": "@jupyter-widgets/controls",
       "_model_module_version": "1.5.0",
       "_model_name": "HBoxModel",
       "_view_count": null,
       "_view_module": "@jupyter-widgets/controls",
       "_view_module_version": "1.5.0",
       "_view_name": "HBoxView",
       "box_style": "",
       "children": [
        "IPY_MODEL_5e357eb74e9a45aa859e1c7f03913e02",
        "IPY_MODEL_a40629b761a34af2a0010f03c499ed3f"
       ],
       "layout": "IPY_MODEL_97157bf0d5114c51a0787f2cde73921f"
      }
     },
     "a40629b761a34af2a0010f03c499ed3f": {
      "model_module": "@jupyter-widgets/controls",
      "model_module_version": "1.5.0",
      "model_name": "HTMLModel",
      "state": {
       "_dom_classes": [],
       "_model_module": "@jupyter-widgets/controls",
       "_model_module_version": "1.5.0",
       "_model_name": "HTMLModel",
       "_view_count": null,
       "_view_module": "@jupyter-widgets/controls",
       "_view_module_version": "1.5.0",
       "_view_name": "HTMLView",
       "description": "",
       "description_tooltip": null,
       "layout": "IPY_MODEL_580f42aef0214151ab13e4ee12fa35a6",
       "placeholder": "​",
       "style": "IPY_MODEL_7892b1b78fea4cdeb42a677f888985bf",
       "value": " 1654784/? [00:17&lt;00:00, 242509.49it/s]"
      }
     },
     "c452f3052075490ba1d8574f547ad7e6": {
      "model_module": "@jupyter-widgets/base",
      "model_module_version": "1.2.0",
      "model_name": "LayoutModel",
      "state": {
       "_model_module": "@jupyter-widgets/base",
       "_model_module_version": "1.2.0",
       "_model_name": "LayoutModel",
       "_view_count": null,
       "_view_module": "@jupyter-widgets/base",
       "_view_module_version": "1.2.0",
       "_view_name": "LayoutView",
       "align_content": null,
       "align_items": null,
       "align_self": null,
       "border": null,
       "bottom": null,
       "display": null,
       "flex": null,
       "flex_flow": null,
       "grid_area": null,
       "grid_auto_columns": null,
       "grid_auto_flow": null,
       "grid_auto_rows": null,
       "grid_column": null,
       "grid_gap": null,
       "grid_row": null,
       "grid_template_areas": null,
       "grid_template_columns": null,
       "grid_template_rows": null,
       "height": null,
       "justify_content": null,
       "justify_items": null,
       "left": null,
       "margin": null,
       "max_height": null,
       "max_width": null,
       "min_height": null,
       "min_width": null,
       "object_fit": null,
       "object_position": null,
       "order": null,
       "overflow": null,
       "overflow_x": null,
       "overflow_y": null,
       "padding": null,
       "right": null,
       "top": null,
       "visibility": null,
       "width": null
      }
     },
     "c48f89e156b3490b8900a8d7c8a904be": {
      "model_module": "@jupyter-widgets/controls",
      "model_module_version": "1.5.0",
      "model_name": "HTMLModel",
      "state": {
       "_dom_classes": [],
       "_model_module": "@jupyter-widgets/controls",
       "_model_module_version": "1.5.0",
       "_model_name": "HTMLModel",
       "_view_count": null,
       "_view_module": "@jupyter-widgets/controls",
       "_view_module_version": "1.5.0",
       "_view_name": "HTMLView",
       "description": "",
       "description_tooltip": null,
       "layout": "IPY_MODEL_8a1db2cf427a43479496cf041834048b",
       "placeholder": "​",
       "style": "IPY_MODEL_96ab619dbaf340b597db05563e595a5f",
       "value": " 9920512/? [00:30&lt;00:00, 1124174.79it/s]"
      }
     },
     "ceae205c58294ac6af3b27eb936350c5": {
      "model_module": "@jupyter-widgets/controls",
      "model_module_version": "1.5.0",
      "model_name": "DescriptionStyleModel",
      "state": {
       "_model_module": "@jupyter-widgets/controls",
       "_model_module_version": "1.5.0",
       "_model_name": "DescriptionStyleModel",
       "_view_count": null,
       "_view_module": "@jupyter-widgets/base",
       "_view_module_version": "1.2.0",
       "_view_name": "StyleView",
       "description_width": ""
      }
     },
     "db614ea0c02b4f478977ec410e93f41a": {
      "model_module": "@jupyter-widgets/controls",
      "model_module_version": "1.5.0",
      "model_name": "HTMLModel",
      "state": {
       "_dom_classes": [],
       "_model_module": "@jupyter-widgets/controls",
       "_model_module_version": "1.5.0",
       "_model_name": "HTMLModel",
       "_view_count": null,
       "_view_module": "@jupyter-widgets/controls",
       "_view_module_version": "1.5.0",
       "_view_name": "HTMLView",
       "description": "",
       "description_tooltip": null,
       "layout": "IPY_MODEL_5cb3ac990061438ebaf7a1a9e6663587",
       "placeholder": "​",
       "style": "IPY_MODEL_e946bd4c625b46249d9c9ff34189de60",
       "value": " 32768/? [00:01&lt;00:00, 26363.97it/s]"
      }
     },
     "dfa01b3baba341078f6fb75ecaf55dc2": {
      "model_module": "@jupyter-widgets/controls",
      "model_module_version": "1.5.0",
      "model_name": "ProgressStyleModel",
      "state": {
       "_model_module": "@jupyter-widgets/controls",
       "_model_module_version": "1.5.0",
       "_model_name": "ProgressStyleModel",
       "_view_count": null,
       "_view_module": "@jupyter-widgets/base",
       "_view_module_version": "1.2.0",
       "_view_name": "StyleView",
       "bar_color": null,
       "description_width": "initial"
      }
     },
     "e946bd4c625b46249d9c9ff34189de60": {
      "model_module": "@jupyter-widgets/controls",
      "model_module_version": "1.5.0",
      "model_name": "DescriptionStyleModel",
      "state": {
       "_model_module": "@jupyter-widgets/controls",
       "_model_module_version": "1.5.0",
       "_model_name": "DescriptionStyleModel",
       "_view_count": null,
       "_view_module": "@jupyter-widgets/base",
       "_view_module_version": "1.2.0",
       "_view_name": "StyleView",
       "description_width": ""
      }
     },
     "ea8a957eda554711a5f556076ddbd897": {
      "model_module": "@jupyter-widgets/controls",
      "model_module_version": "1.5.0",
      "model_name": "HBoxModel",
      "state": {
       "_dom_classes": [],
       "_model_module": "@jupyter-widgets/controls",
       "_model_module_version": "1.5.0",
       "_model_name": "HBoxModel",
       "_view_count": null,
       "_view_module": "@jupyter-widgets/controls",
       "_view_module_version": "1.5.0",
       "_view_name": "HBoxView",
       "box_style": "",
       "children": [
        "IPY_MODEL_5d194432005344e4ae60c6a98bb6cc12",
        "IPY_MODEL_5162d52c635749cd8dd119ba1dd89de7"
       ],
       "layout": "IPY_MODEL_023fd2a3f66446f581871c6efeaae24c"
      }
     },
     "f321bd3b56c047298d7badf26fcd26bc": {
      "model_module": "@jupyter-widgets/controls",
      "model_module_version": "1.5.0",
      "model_name": "FloatProgressModel",
      "state": {
       "_dom_classes": [],
       "_model_module": "@jupyter-widgets/controls",
       "_model_module_version": "1.5.0",
       "_model_name": "FloatProgressModel",
       "_view_count": null,
       "_view_module": "@jupyter-widgets/controls",
       "_view_module_version": "1.5.0",
       "_view_name": "ProgressView",
       "bar_style": "info",
       "description": "",
       "description_tooltip": null,
       "layout": "IPY_MODEL_3d8c48fa0c314be387f083d66cdcf514",
       "max": 1.0,
       "min": 0.0,
       "orientation": "horizontal",
       "style": "IPY_MODEL_59d41dced1844737bbb81f21d55709fe",
       "value": 1.0
      }
     },
     "f3f98025134e4864a530814792795935": {
      "model_module": "@jupyter-widgets/base",
      "model_module_version": "1.2.0",
      "model_name": "LayoutModel",
      "state": {
       "_model_module": "@jupyter-widgets/base",
       "_model_module_version": "1.2.0",
       "_model_name": "LayoutModel",
       "_view_count": null,
       "_view_module": "@jupyter-widgets/base",
       "_view_module_version": "1.2.0",
       "_view_name": "LayoutView",
       "align_content": null,
       "align_items": null,
       "align_self": null,
       "border": null,
       "bottom": null,
       "display": null,
       "flex": null,
       "flex_flow": null,
       "grid_area": null,
       "grid_auto_columns": null,
       "grid_auto_flow": null,
       "grid_auto_rows": null,
       "grid_column": null,
       "grid_gap": null,
       "grid_row": null,
       "grid_template_areas": null,
       "grid_template_columns": null,
       "grid_template_rows": null,
       "height": null,
       "justify_content": null,
       "justify_items": null,
       "left": null,
       "margin": null,
       "max_height": null,
       "max_width": null,
       "min_height": null,
       "min_width": null,
       "object_fit": null,
       "object_position": null,
       "order": null,
       "overflow": null,
       "overflow_x": null,
       "overflow_y": null,
       "padding": null,
       "right": null,
       "top": null,
       "visibility": null,
       "width": null
      }
     }
    },
    "version_major": 2,
    "version_minor": 0
   }
  }
 },
 "nbformat": 4,
 "nbformat_minor": 4
}
