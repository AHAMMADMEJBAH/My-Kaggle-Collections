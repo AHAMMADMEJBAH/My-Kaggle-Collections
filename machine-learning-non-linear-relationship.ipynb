{
 "cells": [
  {
   "cell_type": "markdown",
   "execution_count": null,
   "metadata": {
    "papermill": {
     "duration": 0.009235,
     "end_time": "2020-09-01T10:37:44.742024",
     "exception": false,
     "start_time": "2020-09-01T10:37:44.732789",
     "status": "completed"
    },
    "tags": []
   },
   "source": [
    "# Import Libraries"
   ]
  },
  {
   "cell_type": "code",
   "execution_count": 1,
   "metadata": {
    "_cell_guid": "79c7e3d0-c299-4dcb-8224-4455121ee9b0",
    "_uuid": "d629ff2d2480ee46fbb7e2d37f6b5fab8052498a",
    "execution": {
     "iopub.execute_input": "2020-09-01T10:37:44.767868Z",
     "iopub.status.busy": "2020-09-01T10:37:44.766972Z",
     "iopub.status.idle": "2020-09-01T10:37:46.343616Z",
     "shell.execute_reply": "2020-09-01T10:37:46.342984Z"
    },
    "papermill": {
     "duration": 1.592002,
     "end_time": "2020-09-01T10:37:46.343745",
     "exception": false,
     "start_time": "2020-09-01T10:37:44.751743",
     "status": "completed"
    },
    "tags": []
   },
   "outputs": [],
   "source": [
    "import pandas as pd\n",
    "import numpy as np\n",
    "from sklearn.model_selection import train_test_split\n",
    "from sklearn.metrics import mean_squared_error,r2_score\n",
    "from sklearn.ensemble import RandomForestRegressor\n",
    "from sklearn.datasets import load_boston\n",
    "import seaborn as sns \n",
    "import matplotlib.pyplot as plt\n",
    "sns.set_style('whitegrid')\n",
    "%matplotlib inline"
   ]
  },
  {
   "cell_type": "markdown",
   "execution_count": null,
   "metadata": {
    "papermill": {
     "duration": 0.007584,
     "end_time": "2020-09-01T10:37:46.359741",
     "exception": false,
     "start_time": "2020-09-01T10:37:46.352157",
     "status": "completed"
    },
    "tags": []
   },
   "source": [
    "# Load Dataset"
   ]
  },
  {
   "cell_type": "code",
   "execution_count": 2,
   "metadata": {
    "execution": {
     "iopub.execute_input": "2020-09-01T10:37:46.380736Z",
     "iopub.status.busy": "2020-09-01T10:37:46.379784Z",
     "iopub.status.idle": "2020-09-01T10:37:46.383009Z",
     "shell.execute_reply": "2020-09-01T10:37:46.382455Z"
    },
    "papermill": {
     "duration": 0.015342,
     "end_time": "2020-09-01T10:37:46.383148",
     "exception": false,
     "start_time": "2020-09-01T10:37:46.367806",
     "status": "completed"
    },
    "tags": []
   },
   "outputs": [],
   "source": [
    "#datasets = pd.read_csv('../input/boston-housing/housing.data', delim_whitespace=True, header= None)"
   ]
  },
  {
   "cell_type": "code",
   "execution_count": 3,
   "metadata": {
    "execution": {
     "iopub.execute_input": "2020-09-01T10:37:46.404463Z",
     "iopub.status.busy": "2020-09-01T10:37:46.403745Z",
     "iopub.status.idle": "2020-09-01T10:37:46.419479Z",
     "shell.execute_reply": "2020-09-01T10:37:46.418750Z"
    },
    "papermill": {
     "duration": 0.028242,
     "end_time": "2020-09-01T10:37:46.419603",
     "exception": false,
     "start_time": "2020-09-01T10:37:46.391361",
     "status": "completed"
    },
    "tags": []
   },
   "outputs": [],
   "source": [
    "boston_data = load_boston()\n",
    "datasets = pd.DataFrame(boston_data.data, columns=boston_data.feature_names)"
   ]
  },
  {
   "cell_type": "code",
   "execution_count": 4,
   "metadata": {
    "execution": {
     "iopub.execute_input": "2020-09-01T10:37:46.441722Z",
     "iopub.status.busy": "2020-09-01T10:37:46.440976Z",
     "iopub.status.idle": "2020-09-01T10:37:46.443724Z",
     "shell.execute_reply": "2020-09-01T10:37:46.444198Z"
    },
    "papermill": {
     "duration": 0.015595,
     "end_time": "2020-09-01T10:37:46.444358",
     "exception": false,
     "start_time": "2020-09-01T10:37:46.428763",
     "status": "completed"
    },
    "tags": []
   },
   "outputs": [],
   "source": [
    "#columns_datasets =  ['CRIM', 'ZN' , 'INDUS', 'CHAS', 'NOX', 'RM', 'AGE', 'DIS', 'RAD', 'TAX', 'PTRATIO', 'B', 'LSTAT', 'MEDV']"
   ]
  },
  {
   "cell_type": "code",
   "execution_count": 5,
   "metadata": {
    "execution": {
     "iopub.execute_input": "2020-09-01T10:37:46.467659Z",
     "iopub.status.busy": "2020-09-01T10:37:46.467002Z",
     "iopub.status.idle": "2020-09-01T10:37:46.470269Z",
     "shell.execute_reply": "2020-09-01T10:37:46.469635Z"
    },
    "papermill": {
     "duration": 0.017594,
     "end_time": "2020-09-01T10:37:46.470384",
     "exception": false,
     "start_time": "2020-09-01T10:37:46.452790",
     "status": "completed"
    },
    "tags": []
   },
   "outputs": [],
   "source": [
    "#datasets.columns = columns_datasets"
   ]
  },
  {
   "cell_type": "code",
   "execution_count": 6,
   "metadata": {
    "execution": {
     "iopub.execute_input": "2020-09-01T10:37:46.506791Z",
     "iopub.status.busy": "2020-09-01T10:37:46.506039Z",
     "iopub.status.idle": "2020-09-01T10:37:46.518946Z",
     "shell.execute_reply": "2020-09-01T10:37:46.519498Z"
    },
    "papermill": {
     "duration": 0.040939,
     "end_time": "2020-09-01T10:37:46.519701",
     "exception": false,
     "start_time": "2020-09-01T10:37:46.478762",
     "status": "completed"
    },
    "tags": []
   },
   "outputs": [
    {
     "data": {
      "text/html": [
       "<div>\n",
       "<style scoped>\n",
       "    .dataframe tbody tr th:only-of-type {\n",
       "        vertical-align: middle;\n",
       "    }\n",
       "\n",
       "    .dataframe tbody tr th {\n",
       "        vertical-align: top;\n",
       "    }\n",
       "\n",
       "    .dataframe thead th {\n",
       "        text-align: right;\n",
       "    }\n",
       "</style>\n",
       "<table border=\"1\" class=\"dataframe\">\n",
       "  <thead>\n",
       "    <tr style=\"text-align: right;\">\n",
       "      <th></th>\n",
       "      <th>CRIM</th>\n",
       "      <th>ZN</th>\n",
       "      <th>INDUS</th>\n",
       "      <th>CHAS</th>\n",
       "      <th>NOX</th>\n",
       "      <th>RM</th>\n",
       "      <th>AGE</th>\n",
       "      <th>DIS</th>\n",
       "      <th>RAD</th>\n",
       "      <th>TAX</th>\n",
       "      <th>PTRATIO</th>\n",
       "      <th>B</th>\n",
       "      <th>LSTAT</th>\n",
       "    </tr>\n",
       "  </thead>\n",
       "  <tbody>\n",
       "    <tr>\n",
       "      <th>0</th>\n",
       "      <td>0.00632</td>\n",
       "      <td>18.0</td>\n",
       "      <td>2.31</td>\n",
       "      <td>0.0</td>\n",
       "      <td>0.538</td>\n",
       "      <td>6.575</td>\n",
       "      <td>65.2</td>\n",
       "      <td>4.0900</td>\n",
       "      <td>1.0</td>\n",
       "      <td>296.0</td>\n",
       "      <td>15.3</td>\n",
       "      <td>396.90</td>\n",
       "      <td>4.98</td>\n",
       "    </tr>\n",
       "    <tr>\n",
       "      <th>1</th>\n",
       "      <td>0.02731</td>\n",
       "      <td>0.0</td>\n",
       "      <td>7.07</td>\n",
       "      <td>0.0</td>\n",
       "      <td>0.469</td>\n",
       "      <td>6.421</td>\n",
       "      <td>78.9</td>\n",
       "      <td>4.9671</td>\n",
       "      <td>2.0</td>\n",
       "      <td>242.0</td>\n",
       "      <td>17.8</td>\n",
       "      <td>396.90</td>\n",
       "      <td>9.14</td>\n",
       "    </tr>\n",
       "    <tr>\n",
       "      <th>2</th>\n",
       "      <td>0.02729</td>\n",
       "      <td>0.0</td>\n",
       "      <td>7.07</td>\n",
       "      <td>0.0</td>\n",
       "      <td>0.469</td>\n",
       "      <td>7.185</td>\n",
       "      <td>61.1</td>\n",
       "      <td>4.9671</td>\n",
       "      <td>2.0</td>\n",
       "      <td>242.0</td>\n",
       "      <td>17.8</td>\n",
       "      <td>392.83</td>\n",
       "      <td>4.03</td>\n",
       "    </tr>\n",
       "    <tr>\n",
       "      <th>3</th>\n",
       "      <td>0.03237</td>\n",
       "      <td>0.0</td>\n",
       "      <td>2.18</td>\n",
       "      <td>0.0</td>\n",
       "      <td>0.458</td>\n",
       "      <td>6.998</td>\n",
       "      <td>45.8</td>\n",
       "      <td>6.0622</td>\n",
       "      <td>3.0</td>\n",
       "      <td>222.0</td>\n",
       "      <td>18.7</td>\n",
       "      <td>394.63</td>\n",
       "      <td>2.94</td>\n",
       "    </tr>\n",
       "    <tr>\n",
       "      <th>4</th>\n",
       "      <td>0.06905</td>\n",
       "      <td>0.0</td>\n",
       "      <td>2.18</td>\n",
       "      <td>0.0</td>\n",
       "      <td>0.458</td>\n",
       "      <td>7.147</td>\n",
       "      <td>54.2</td>\n",
       "      <td>6.0622</td>\n",
       "      <td>3.0</td>\n",
       "      <td>222.0</td>\n",
       "      <td>18.7</td>\n",
       "      <td>396.90</td>\n",
       "      <td>5.33</td>\n",
       "    </tr>\n",
       "  </tbody>\n",
       "</table>\n",
       "</div>"
      ],
      "text/plain": [
       "      CRIM    ZN  INDUS  CHAS    NOX     RM   AGE     DIS  RAD    TAX  \\\n",
       "0  0.00632  18.0   2.31   0.0  0.538  6.575  65.2  4.0900  1.0  296.0   \n",
       "1  0.02731   0.0   7.07   0.0  0.469  6.421  78.9  4.9671  2.0  242.0   \n",
       "2  0.02729   0.0   7.07   0.0  0.469  7.185  61.1  4.9671  2.0  242.0   \n",
       "3  0.03237   0.0   2.18   0.0  0.458  6.998  45.8  6.0622  3.0  222.0   \n",
       "4  0.06905   0.0   2.18   0.0  0.458  7.147  54.2  6.0622  3.0  222.0   \n",
       "\n",
       "   PTRATIO       B  LSTAT  \n",
       "0     15.3  396.90   4.98  \n",
       "1     17.8  396.90   9.14  \n",
       "2     17.8  392.83   4.03  \n",
       "3     18.7  394.63   2.94  \n",
       "4     18.7  396.90   5.33  "
      ]
     },
     "execution_count": 6,
     "metadata": {},
     "output_type": "execute_result"
    }
   ],
   "source": [
    "datasets.head()"
   ]
  },
  {
   "cell_type": "markdown",
   "execution_count": null,
   "metadata": {
    "papermill": {
     "duration": 0.0082,
     "end_time": "2020-09-01T10:37:46.536449",
     "exception": false,
     "start_time": "2020-09-01T10:37:46.528249",
     "status": "completed"
    },
    "tags": []
   },
   "source": [
    "# Decision Tree"
   ]
  },
  {
   "cell_type": "code",
   "execution_count": 7,
   "metadata": {
    "execution": {
     "iopub.execute_input": "2020-09-01T10:37:46.558602Z",
     "iopub.status.busy": "2020-09-01T10:37:46.557651Z",
     "iopub.status.idle": "2020-09-01T10:37:46.560875Z",
     "shell.execute_reply": "2020-09-01T10:37:46.560356Z"
    },
    "papermill": {
     "duration": 0.01618,
     "end_time": "2020-09-01T10:37:46.560992",
     "exception": false,
     "start_time": "2020-09-01T10:37:46.544812",
     "status": "completed"
    },
    "tags": []
   },
   "outputs": [],
   "source": [
    "from sklearn.tree import DecisionTreeRegressor"
   ]
  },
  {
   "cell_type": "code",
   "execution_count": 8,
   "metadata": {
    "execution": {
     "iopub.execute_input": "2020-09-01T10:37:46.589203Z",
     "iopub.status.busy": "2020-09-01T10:37:46.588244Z",
     "iopub.status.idle": "2020-09-01T10:37:46.591499Z",
     "shell.execute_reply": "2020-09-01T10:37:46.590924Z"
    },
    "papermill": {
     "duration": 0.021932,
     "end_time": "2020-09-01T10:37:46.591609",
     "exception": false,
     "start_time": "2020-09-01T10:37:46.569677",
     "status": "completed"
    },
    "tags": []
   },
   "outputs": [],
   "source": [
    "X = datasets[['LSTAT']].values\n",
    "y = boston_data.target"
   ]
  },
  {
   "cell_type": "code",
   "execution_count": 9,
   "metadata": {
    "execution": {
     "iopub.execute_input": "2020-09-01T10:37:46.615152Z",
     "iopub.status.busy": "2020-09-01T10:37:46.614267Z",
     "iopub.status.idle": "2020-09-01T10:37:46.617500Z",
     "shell.execute_reply": "2020-09-01T10:37:46.616921Z"
    },
    "papermill": {
     "duration": 0.017521,
     "end_time": "2020-09-01T10:37:46.617619",
     "exception": false,
     "start_time": "2020-09-01T10:37:46.600098",
     "status": "completed"
    },
    "tags": []
   },
   "outputs": [],
   "source": [
    "x_train, x_test, y_train, y_test = train_test_split(X, y, test_size = 0.3, random_state = 42)"
   ]
  },
  {
   "cell_type": "code",
   "execution_count": 10,
   "metadata": {
    "execution": {
     "iopub.execute_input": "2020-09-01T10:37:46.639878Z",
     "iopub.status.busy": "2020-09-01T10:37:46.639235Z",
     "iopub.status.idle": "2020-09-01T10:37:46.643391Z",
     "shell.execute_reply": "2020-09-01T10:37:46.642819Z"
    },
    "papermill": {
     "duration": 0.017174,
     "end_time": "2020-09-01T10:37:46.643503",
     "exception": false,
     "start_time": "2020-09-01T10:37:46.626329",
     "status": "completed"
    },
    "tags": []
   },
   "outputs": [],
   "source": [
    "tree_model = DecisionTreeRegressor(max_depth=5)"
   ]
  },
  {
   "cell_type": "code",
   "execution_count": 11,
   "metadata": {
    "execution": {
     "iopub.execute_input": "2020-09-01T10:37:46.667445Z",
     "iopub.status.busy": "2020-09-01T10:37:46.666781Z",
     "iopub.status.idle": "2020-09-01T10:37:46.673882Z",
     "shell.execute_reply": "2020-09-01T10:37:46.673272Z"
    },
    "papermill": {
     "duration": 0.021613,
     "end_time": "2020-09-01T10:37:46.673990",
     "exception": false,
     "start_time": "2020-09-01T10:37:46.652377",
     "status": "completed"
    },
    "tags": []
   },
   "outputs": [
    {
     "data": {
      "text/plain": [
       "DecisionTreeRegressor(max_depth=5)"
      ]
     },
     "execution_count": 11,
     "metadata": {},
     "output_type": "execute_result"
    }
   ],
   "source": [
    "tree_model.fit(X, y)"
   ]
  },
  {
   "cell_type": "code",
   "execution_count": 12,
   "metadata": {
    "execution": {
     "iopub.execute_input": "2020-09-01T10:37:46.697299Z",
     "iopub.status.busy": "2020-09-01T10:37:46.696633Z",
     "iopub.status.idle": "2020-09-01T10:37:46.699768Z",
     "shell.execute_reply": "2020-09-01T10:37:46.699146Z"
    },
    "papermill": {
     "duration": 0.01708,
     "end_time": "2020-09-01T10:37:46.699880",
     "exception": false,
     "start_time": "2020-09-01T10:37:46.682800",
     "status": "completed"
    },
    "tags": []
   },
   "outputs": [],
   "source": [
    "y_test_Predict = tree_model.predict(x_test)\n",
    "y_train_Predict = tree_model.predict(x_train)"
   ]
  },
  {
   "cell_type": "code",
   "execution_count": 13,
   "metadata": {
    "execution": {
     "iopub.execute_input": "2020-09-01T10:37:46.723614Z",
     "iopub.status.busy": "2020-09-01T10:37:46.722837Z",
     "iopub.status.idle": "2020-09-01T10:37:46.725957Z",
     "shell.execute_reply": "2020-09-01T10:37:46.726471Z"
    },
    "papermill": {
     "duration": 0.018075,
     "end_time": "2020-09-01T10:37:46.726610",
     "exception": false,
     "start_time": "2020-09-01T10:37:46.708535",
     "status": "completed"
    },
    "tags": []
   },
   "outputs": [
    {
     "name": "stdout",
     "output_type": "stream",
     "text": [
      "Mean Squared Error\t Train : 21.5316, Test: 19.9366\n"
     ]
    }
   ],
   "source": [
    "print('Mean Squared Error\\t Train : {0:0.4f}, Test: {1:.4f}'.format(mean_squared_error(y_train, y_train_Predict), mean_squared_error(y_test, y_test_Predict)))"
   ]
  },
  {
   "cell_type": "code",
   "execution_count": 14,
   "metadata": {
    "execution": {
     "iopub.execute_input": "2020-09-01T10:37:46.750649Z",
     "iopub.status.busy": "2020-09-01T10:37:46.749720Z",
     "iopub.status.idle": "2020-09-01T10:37:46.753479Z",
     "shell.execute_reply": "2020-09-01T10:37:46.752825Z"
    },
    "papermill": {
     "duration": 0.017942,
     "end_time": "2020-09-01T10:37:46.753607",
     "exception": false,
     "start_time": "2020-09-01T10:37:46.735665",
     "status": "completed"
    },
    "tags": []
   },
   "outputs": [
    {
     "name": "stdout",
     "output_type": "stream",
     "text": [
      "R Score\t Train : 0.7550, Test: 0.7324\n"
     ]
    }
   ],
   "source": [
    "print('R Score\\t Train : {0:0.4f}, Test: {1:.4f}'.format(r2_score(y_train, y_train_Predict), r2_score(y_test, y_test_Predict)))"
   ]
  },
  {
   "cell_type": "code",
   "execution_count": 15,
   "metadata": {
    "execution": {
     "iopub.execute_input": "2020-09-01T10:37:46.776376Z",
     "iopub.status.busy": "2020-09-01T10:37:46.775641Z",
     "iopub.status.idle": "2020-09-01T10:37:46.778747Z",
     "shell.execute_reply": "2020-09-01T10:37:46.778216Z"
    },
    "papermill": {
     "duration": 0.016423,
     "end_time": "2020-09-01T10:37:46.778858",
     "exception": false,
     "start_time": "2020-09-01T10:37:46.762435",
     "status": "completed"
    },
    "tags": []
   },
   "outputs": [],
   "source": [
    "idx = X.flatten().argsort()"
   ]
  },
  {
   "cell_type": "code",
   "execution_count": 16,
   "metadata": {
    "execution": {
     "iopub.execute_input": "2020-09-01T10:37:46.803161Z",
     "iopub.status.busy": "2020-09-01T10:37:46.802504Z",
     "iopub.status.idle": "2020-09-01T10:37:47.250661Z",
     "shell.execute_reply": "2020-09-01T10:37:47.250041Z"
    },
    "papermill": {
     "duration": 0.462923,
     "end_time": "2020-09-01T10:37:47.250780",
     "exception": false,
     "start_time": "2020-09-01T10:37:46.787857",
     "status": "completed"
    },
    "tags": []
   },
   "outputs": [
    {
     "data": {
      "image/png": "[encoded data removed]",
      "text/plain": [
       "<Figure size 720x576 with 1 Axes>"
      ]
     },
     "metadata": {
      "needs_background": "light"
     },
     "output_type": "display_data"
    }
   ],
   "source": [
    "plt.figure(figsize = (10, 8))\n",
    "plt.scatter(X[idx], y[idx])\n",
    "plt.plot(X[idx], tree_model.predict(X[idx]), color = 'k')\n",
    "plt.xlabel(\"% lower status of the population\")\n",
    "plt.ylabel(\"Median value of owner-occupied homes in $1000's\")\n",
    "plt.tight_layout()\n",
    "plt.show()"
   ]
  },
  {
   "cell_type": "markdown",
   "execution_count": null,
   "metadata": {
    "papermill": {
     "duration": 0.009481,
     "end_time": "2020-09-01T10:37:47.270073",
     "exception": false,
     "start_time": "2020-09-01T10:37:47.260592",
     "status": "completed"
    },
    "tags": []
   },
   "source": [
    "Using Max Depth = 5 is lead to overfitting,\n",
    "Now, Let's try max depth = 2"
   ]
  },
  {
   "cell_type": "code",
   "execution_count": 17,
   "metadata": {
    "execution": {
     "iopub.execute_input": "2020-09-01T10:37:47.297590Z",
     "iopub.status.busy": "2020-09-01T10:37:47.296870Z",
     "iopub.status.idle": "2020-09-01T10:37:47.745173Z",
     "shell.execute_reply": "2020-09-01T10:37:47.744595Z"
    },
    "papermill": {
     "duration": 0.465208,
     "end_time": "2020-09-01T10:37:47.745296",
     "exception": false,
     "start_time": "2020-09-01T10:37:47.280088",
     "status": "completed"
    },
    "tags": []
   },
   "outputs": [
    {
     "data": {
      "image/png": "[encoded data removed]",
      "text/plain": [
       "<Figure size 720x576 with 1 Axes>"
      ]
     },
     "metadata": {
      "needs_background": "light"
     },
     "output_type": "display_data"
    }
   ],
   "source": [
    "tree_model = DecisionTreeRegressor(max_depth=2)\n",
    "tree_model.fit(X, y)\n",
    "plt.figure(figsize = (10, 8))\n",
    "plt.scatter(X[idx], y[idx])\n",
    "plt.plot(X[idx], tree_model.predict(X[idx]), color = 'k')\n",
    "plt.xlabel(\"% lower status of the population\")\n",
    "plt.ylabel(\"Median value of owner-occupied homes in $1000's\")\n",
    "plt.tight_layout()\n",
    "plt.show()"
   ]
  },
  {
   "cell_type": "markdown",
   "execution_count": null,
   "metadata": {
    "papermill": {
     "duration": 0.009719,
     "end_time": "2020-09-01T10:37:47.765442",
     "exception": false,
     "start_time": "2020-09-01T10:37:47.755723",
     "status": "completed"
    },
    "tags": []
   },
   "source": [
    "# Random Forest"
   ]
  },
  {
   "cell_type": "code",
   "execution_count": 18,
   "metadata": {
    "execution": {
     "iopub.execute_input": "2020-09-01T10:37:47.790903Z",
     "iopub.status.busy": "2020-09-01T10:37:47.790041Z",
     "iopub.status.idle": "2020-09-01T10:37:47.792943Z",
     "shell.execute_reply": "2020-09-01T10:37:47.792413Z"
    },
    "papermill": {
     "duration": 0.017453,
     "end_time": "2020-09-01T10:37:47.793074",
     "exception": false,
     "start_time": "2020-09-01T10:37:47.775621",
     "status": "completed"
    },
    "tags": []
   },
   "outputs": [],
   "source": [
    "X = datasets.values"
   ]
  },
  {
   "cell_type": "code",
   "execution_count": 19,
   "metadata": {
    "execution": {
     "iopub.execute_input": "2020-09-01T10:37:47.823772Z",
     "iopub.status.busy": "2020-09-01T10:37:47.822825Z",
     "iopub.status.idle": "2020-09-01T10:37:47.826233Z",
     "shell.execute_reply": "2020-09-01T10:37:47.825712Z"
    },
    "papermill": {
     "duration": 0.021733,
     "end_time": "2020-09-01T10:37:47.826355",
     "exception": false,
     "start_time": "2020-09-01T10:37:47.804622",
     "status": "completed"
    },
    "tags": []
   },
   "outputs": [],
   "source": [
    "forest_model = RandomForestRegressor(n_estimators=500,\n",
    "                                    criterion='mse',\n",
    "                                    random_state = 42,\n",
    "                                    n_jobs= -1)"
   ]
  },
  {
   "cell_type": "code",
   "execution_count": 20,
   "metadata": {
    "execution": {
     "iopub.execute_input": "2020-09-01T10:37:47.852710Z",
     "iopub.status.busy": "2020-09-01T10:37:47.851982Z",
     "iopub.status.idle": "2020-09-01T10:37:47.855042Z",
     "shell.execute_reply": "2020-09-01T10:37:47.854422Z"
    },
    "papermill": {
     "duration": 0.018375,
     "end_time": "2020-09-01T10:37:47.855172",
     "exception": false,
     "start_time": "2020-09-01T10:37:47.836797",
     "status": "completed"
    },
    "tags": []
   },
   "outputs": [],
   "source": [
    "x_train, x_test, y_train, y_test = train_test_split(X, y, test_size = 0.3, random_state = 42)"
   ]
  },
  {
   "cell_type": "code",
   "execution_count": 21,
   "metadata": {
    "execution": {
     "iopub.execute_input": "2020-09-01T10:37:47.932088Z",
     "iopub.status.busy": "2020-09-01T10:37:47.911445Z",
     "iopub.status.idle": "2020-09-01T10:37:49.336951Z",
     "shell.execute_reply": "2020-09-01T10:37:49.336359Z"
    },
    "papermill": {
     "duration": 1.471712,
     "end_time": "2020-09-01T10:37:49.337101",
     "exception": false,
     "start_time": "2020-09-01T10:37:47.865389",
     "status": "completed"
    },
    "tags": []
   },
   "outputs": [
    {
     "data": {
      "text/plain": [
       "RandomForestRegressor(n_estimators=500, n_jobs=-1, random_state=42)"
      ]
     },
     "execution_count": 21,
     "metadata": {},
     "output_type": "execute_result"
    }
   ],
   "source": [
    "forest_model.fit(X, y)"
   ]
  },
  {
   "cell_type": "code",
   "execution_count": 22,
   "metadata": {
    "execution": {
     "iopub.execute_input": "2020-09-01T10:37:49.364751Z",
     "iopub.status.busy": "2020-09-01T10:37:49.363959Z",
     "iopub.status.idle": "2020-09-01T10:37:49.571851Z",
     "shell.execute_reply": "2020-09-01T10:37:49.571288Z"
    },
    "papermill": {
     "duration": 0.223615,
     "end_time": "2020-09-01T10:37:49.571968",
     "exception": false,
     "start_time": "2020-09-01T10:37:49.348353",
     "status": "completed"
    },
    "tags": []
   },
   "outputs": [],
   "source": [
    "y_train_Predict = forest_model.predict(x_train)"
   ]
  },
  {
   "cell_type": "code",
   "execution_count": 23,
   "metadata": {
    "execution": {
     "iopub.execute_input": "2020-09-01T10:37:49.597915Z",
     "iopub.status.busy": "2020-09-01T10:37:49.597037Z",
     "iopub.status.idle": "2020-09-01T10:37:49.804299Z",
     "shell.execute_reply": "2020-09-01T10:37:49.803687Z"
    },
    "papermill": {
     "duration": 0.221861,
     "end_time": "2020-09-01T10:37:49.804418",
     "exception": false,
     "start_time": "2020-09-01T10:37:49.582557",
     "status": "completed"
    },
    "tags": []
   },
   "outputs": [],
   "source": [
    "y_test_Predict = forest_model.predict(x_test)"
   ]
  },
  {
   "cell_type": "code",
   "execution_count": 24,
   "metadata": {
    "execution": {
     "iopub.execute_input": "2020-09-01T10:37:49.831959Z",
     "iopub.status.busy": "2020-09-01T10:37:49.831305Z",
     "iopub.status.idle": "2020-09-01T10:37:49.835229Z",
     "shell.execute_reply": "2020-09-01T10:37:49.834709Z"
    },
    "papermill": {
     "duration": 0.020318,
     "end_time": "2020-09-01T10:37:49.835348",
     "exception": false,
     "start_time": "2020-09-01T10:37:49.815030",
     "status": "completed"
    },
    "tags": []
   },
   "outputs": [
    {
     "name": "stdout",
     "output_type": "stream",
     "text": [
      "Mean Squared Error\t Train : 1.4623, Test: 1.1729\n"
     ]
    }
   ],
   "source": [
    "print('Mean Squared Error\\t Train : {0:0.4f}, Test: {1:.4f}'.format(mean_squared_error(y_train, y_train_Predict), mean_squared_error(y_test, y_test_Predict)))"
   ]
  },
  {
   "cell_type": "code",
   "execution_count": 25,
   "metadata": {
    "execution": {
     "iopub.execute_input": "2020-09-01T10:37:49.862444Z",
     "iopub.status.busy": "2020-09-01T10:37:49.861328Z",
     "iopub.status.idle": "2020-09-01T10:37:49.865267Z",
     "shell.execute_reply": "2020-09-01T10:37:49.866283Z"
    },
    "papermill": {
     "duration": 0.020015,
     "end_time": "2020-09-01T10:37:49.866467",
     "exception": false,
     "start_time": "2020-09-01T10:37:49.846452",
     "status": "completed"
    },
    "tags": []
   },
   "outputs": [
    {
     "name": "stdout",
     "output_type": "stream",
     "text": [
      "R Score\t Train : 0.9834, Test: 0.9843\n"
     ]
    }
   ],
   "source": [
    "print('R Score\\t Train : {0:0.4f}, Test: {1:.4f}'.format(r2_score(y_train, y_train_Predict), r2_score(y_test, y_test_Predict)))"
   ]
  },
  {
   "cell_type": "markdown",
   "execution_count": null,
   "metadata": {
    "papermill": {
     "duration": 0.010012,
     "end_time": "2020-09-01T10:37:49.887795",
     "exception": false,
     "start_time": "2020-09-01T10:37:49.877783",
     "status": "completed"
    },
    "tags": []
   },
   "source": [
    "# AdaBoost"
   ]
  },
  {
   "cell_type": "code",
   "execution_count": 26,
   "metadata": {
    "execution": {
     "iopub.execute_input": "2020-09-01T10:37:49.913824Z",
     "iopub.status.busy": "2020-09-01T10:37:49.913178Z",
     "iopub.status.idle": "2020-09-01T10:37:49.916622Z",
     "shell.execute_reply": "2020-09-01T10:37:49.916035Z"
    },
    "papermill": {
     "duration": 0.018466,
     "end_time": "2020-09-01T10:37:49.916735",
     "exception": false,
     "start_time": "2020-09-01T10:37:49.898269",
     "status": "completed"
    },
    "tags": []
   },
   "outputs": [],
   "source": [
    "from sklearn.ensemble import AdaBoostRegressor"
   ]
  },
  {
   "cell_type": "code",
   "execution_count": 27,
   "metadata": {
    "execution": {
     "iopub.execute_input": "2020-09-01T10:37:49.944130Z",
     "iopub.status.busy": "2020-09-01T10:37:49.943209Z",
     "iopub.status.idle": "2020-09-01T10:37:49.946068Z",
     "shell.execute_reply": "2020-09-01T10:37:49.945454Z"
    },
    "papermill": {
     "duration": 0.018301,
     "end_time": "2020-09-01T10:37:49.946178",
     "exception": false,
     "start_time": "2020-09-01T10:37:49.927877",
     "status": "completed"
    },
    "tags": []
   },
   "outputs": [],
   "source": [
    "adaBoost_model = AdaBoostRegressor(DecisionTreeRegressor(max_depth=4), \n",
    "                        n_estimators=500, random_state=42)"
   ]
  },
  {
   "cell_type": "code",
   "execution_count": 28,
   "metadata": {
    "execution": {
     "iopub.execute_input": "2020-09-01T10:37:49.972405Z",
     "iopub.status.busy": "2020-09-01T10:37:49.971473Z",
     "iopub.status.idle": "2020-09-01T10:37:50.992432Z",
     "shell.execute_reply": "2020-09-01T10:37:50.991895Z"
    },
    "papermill": {
     "duration": 1.035934,
     "end_time": "2020-09-01T10:37:50.992552",
     "exception": false,
     "start_time": "2020-09-01T10:37:49.956618",
     "status": "completed"
    },
    "tags": []
   },
   "outputs": [
    {
     "data": {
      "text/plain": [
       "AdaBoostRegressor(base_estimator=DecisionTreeRegressor(max_depth=4),\n",
       "                  n_estimators=500, random_state=42)"
      ]
     },
     "execution_count": 28,
     "metadata": {},
     "output_type": "execute_result"
    }
   ],
   "source": [
    "adaBoost_model.fit(x_train, y_train)"
   ]
  },
  {
   "cell_type": "code",
   "execution_count": 29,
   "metadata": {
    "execution": {
     "iopub.execute_input": "2020-09-01T10:37:51.019851Z",
     "iopub.status.busy": "2020-09-01T10:37:51.019199Z",
     "iopub.status.idle": "2020-09-01T10:37:51.122789Z",
     "shell.execute_reply": "2020-09-01T10:37:51.122097Z"
    },
    "papermill": {
     "duration": 0.119154,
     "end_time": "2020-09-01T10:37:51.122907",
     "exception": false,
     "start_time": "2020-09-01T10:37:51.003753",
     "status": "completed"
    },
    "tags": []
   },
   "outputs": [],
   "source": [
    "y_train_Predict = adaBoost_model.predict(x_train)\n",
    "y_test_Predict = adaBoost_model.predict(x_test)"
   ]
  },
  {
   "cell_type": "code",
   "execution_count": 30,
   "metadata": {
    "execution": {
     "iopub.execute_input": "2020-09-01T10:37:51.151027Z",
     "iopub.status.busy": "2020-09-01T10:37:51.150222Z",
     "iopub.status.idle": "2020-09-01T10:37:51.154094Z",
     "shell.execute_reply": "2020-09-01T10:37:51.153549Z"
    },
    "papermill": {
     "duration": 0.020325,
     "end_time": "2020-09-01T10:37:51.154210",
     "exception": false,
     "start_time": "2020-09-01T10:37:51.133885",
     "status": "completed"
    },
    "tags": []
   },
   "outputs": [
    {
     "name": "stdout",
     "output_type": "stream",
     "text": [
      "Mean Squared Error\t Train : 4.4567, Test: 13.2427\n"
     ]
    }
   ],
   "source": [
    "print('Mean Squared Error\\t Train : {0:0.4f}, Test: {1:.4f}'.format(mean_squared_error(y_train, y_train_Predict), mean_squared_error(y_test, y_test_Predict)))"
   ]
  },
  {
   "cell_type": "code",
   "execution_count": 31,
   "metadata": {
    "execution": {
     "iopub.execute_input": "2020-09-01T10:37:51.182746Z",
     "iopub.status.busy": "2020-09-01T10:37:51.181841Z",
     "iopub.status.idle": "2020-09-01T10:37:51.185875Z",
     "shell.execute_reply": "2020-09-01T10:37:51.185160Z"
    },
    "papermill": {
     "duration": 0.020854,
     "end_time": "2020-09-01T10:37:51.186021",
     "exception": false,
     "start_time": "2020-09-01T10:37:51.165167",
     "status": "completed"
    },
    "tags": []
   },
   "outputs": [
    {
     "name": "stdout",
     "output_type": "stream",
     "text": [
      "R Score\t Train : 0.9493, Test: 0.8223\n"
     ]
    }
   ],
   "source": [
    "print('R Score\\t Train : {0:0.4f}, Test: {1:.4f}'.format(r2_score(y_train, y_train_Predict), r2_score(y_test, y_test_Predict)))"
   ]
  },
  {
   "cell_type": "markdown",
   "execution_count": null,
   "metadata": {
    "papermill": {
     "duration": 0.011123,
     "end_time": "2020-09-01T10:37:51.208642",
     "exception": false,
     "start_time": "2020-09-01T10:37:51.197519",
     "status": "completed"
    },
    "tags": []
   },
   "source": [
    "# Feature Importance\n",
    " In this dataset there are 13 features.\n",
    "\n",
    "Are they all equally important?\n",
    "\n",
    "Which features are more important?\n",
    "\n",
    "Can scikit-learn help us with this?"
   ]
  },
  {
   "cell_type": "markdown",
   "execution_count": null,
   "metadata": {
    "papermill": {
     "duration": 0.010882,
     "end_time": "2020-09-01T10:37:51.231291",
     "exception": false,
     "start_time": "2020-09-01T10:37:51.220409",
     "status": "completed"
    },
    "tags": []
   },
   "source": [
    "# According to AdaBoost"
   ]
  },
  {
   "cell_type": "code",
   "execution_count": 32,
   "metadata": {
    "execution": {
     "iopub.execute_input": "2020-09-01T10:37:51.280086Z",
     "iopub.status.busy": "2020-09-01T10:37:51.267623Z",
     "iopub.status.idle": "2020-09-01T10:37:51.284443Z",
     "shell.execute_reply": "2020-09-01T10:37:51.283904Z"
    },
    "papermill": {
     "duration": 0.041492,
     "end_time": "2020-09-01T10:37:51.284562",
     "exception": false,
     "start_time": "2020-09-01T10:37:51.243070",
     "status": "completed"
    },
    "tags": []
   },
   "outputs": [
    {
     "data": {
      "text/plain": [
       "array([0.03284169, 0.0017967 , 0.01146074, 0.00209209, 0.03897159,\n",
       "       0.24219268, 0.01057968, 0.13055771, 0.01554554, 0.02348895,\n",
       "       0.04072215, 0.02430303, 0.42544745])"
      ]
     },
     "execution_count": 32,
     "metadata": {},
     "output_type": "execute_result"
    }
   ],
   "source": [
    "adaBoost_model.feature_importances_"
   ]
  },
  {
   "cell_type": "code",
   "execution_count": 33,
   "metadata": {
    "execution": {
     "iopub.execute_input": "2020-09-01T10:37:51.339338Z",
     "iopub.status.busy": "2020-09-01T10:37:51.338606Z",
     "iopub.status.idle": "2020-09-01T10:37:51.342026Z",
     "shell.execute_reply": "2020-09-01T10:37:51.341477Z"
    },
    "papermill": {
     "duration": 0.046473,
     "end_time": "2020-09-01T10:37:51.342171",
     "exception": false,
     "start_time": "2020-09-01T10:37:51.295698",
     "status": "completed"
    },
    "tags": []
   },
   "outputs": [],
   "source": [
    "result = pd.DataFrame(adaBoost_model.feature_importances_, datasets.columns)\n",
    "result.columns = ['feature']"
   ]
  },
  {
   "cell_type": "code",
   "execution_count": 34,
   "metadata": {
    "execution": {
     "iopub.execute_input": "2020-09-01T10:37:51.390128Z",
     "iopub.status.busy": "2020-09-01T10:37:51.389305Z",
     "iopub.status.idle": "2020-09-01T10:37:51.393827Z",
     "shell.execute_reply": "2020-09-01T10:37:51.393211Z"
    },
    "papermill": {
     "duration": 0.040089,
     "end_time": "2020-09-01T10:37:51.393936",
     "exception": false,
     "start_time": "2020-09-01T10:37:51.353847",
     "status": "completed"
    },
    "tags": []
   },
   "outputs": [
    {
     "data": {
      "text/html": [
       "<div>\n",
       "<style scoped>\n",
       "    .dataframe tbody tr th:only-of-type {\n",
       "        vertical-align: middle;\n",
       "    }\n",
       "\n",
       "    .dataframe tbody tr th {\n",
       "        vertical-align: top;\n",
       "    }\n",
       "\n",
       "    .dataframe thead th {\n",
       "        text-align: right;\n",
       "    }\n",
       "</style>\n",
       "<table border=\"1\" class=\"dataframe\">\n",
       "  <thead>\n",
       "    <tr style=\"text-align: right;\">\n",
       "      <th></th>\n",
       "      <th>feature</th>\n",
       "    </tr>\n",
       "  </thead>\n",
       "  <tbody>\n",
       "    <tr>\n",
       "      <th>LSTAT</th>\n",
       "      <td>0.425447</td>\n",
       "    </tr>\n",
       "    <tr>\n",
       "      <th>RM</th>\n",
       "      <td>0.242193</td>\n",
       "    </tr>\n",
       "    <tr>\n",
       "      <th>DIS</th>\n",
       "      <td>0.130558</td>\n",
       "    </tr>\n",
       "    <tr>\n",
       "      <th>PTRATIO</th>\n",
       "      <td>0.040722</td>\n",
       "    </tr>\n",
       "    <tr>\n",
       "      <th>NOX</th>\n",
       "      <td>0.038972</td>\n",
       "    </tr>\n",
       "    <tr>\n",
       "      <th>CRIM</th>\n",
       "      <td>0.032842</td>\n",
       "    </tr>\n",
       "    <tr>\n",
       "      <th>B</th>\n",
       "      <td>0.024303</td>\n",
       "    </tr>\n",
       "    <tr>\n",
       "      <th>TAX</th>\n",
       "      <td>0.023489</td>\n",
       "    </tr>\n",
       "    <tr>\n",
       "      <th>RAD</th>\n",
       "      <td>0.015546</td>\n",
       "    </tr>\n",
       "    <tr>\n",
       "      <th>INDUS</th>\n",
       "      <td>0.011461</td>\n",
       "    </tr>\n",
       "    <tr>\n",
       "      <th>AGE</th>\n",
       "      <td>0.010580</td>\n",
       "    </tr>\n",
       "    <tr>\n",
       "      <th>CHAS</th>\n",
       "      <td>0.002092</td>\n",
       "    </tr>\n",
       "    <tr>\n",
       "      <th>ZN</th>\n",
       "      <td>0.001797</td>\n",
       "    </tr>\n",
       "  </tbody>\n",
       "</table>\n",
       "</div>"
      ],
      "text/plain": [
       "          feature\n",
       "LSTAT    0.425447\n",
       "RM       0.242193\n",
       "DIS      0.130558\n",
       "PTRATIO  0.040722\n",
       "NOX      0.038972\n",
       "CRIM     0.032842\n",
       "B        0.024303\n",
       "TAX      0.023489\n",
       "RAD      0.015546\n",
       "INDUS    0.011461\n",
       "AGE      0.010580\n",
       "CHAS     0.002092\n",
       "ZN       0.001797"
      ]
     },
     "execution_count": 34,
     "metadata": {},
     "output_type": "execute_result"
    }
   ],
   "source": [
    "result.sort_values(by = 'feature', ascending=False)"
   ]
  },
  {
   "cell_type": "code",
   "execution_count": 35,
   "metadata": {
    "execution": {
     "iopub.execute_input": "2020-09-01T10:37:51.422239Z",
     "iopub.status.busy": "2020-09-01T10:37:51.421565Z",
     "iopub.status.idle": "2020-09-01T10:37:51.681643Z",
     "shell.execute_reply": "2020-09-01T10:37:51.680987Z"
    },
    "papermill": {
     "duration": 0.276284,
     "end_time": "2020-09-01T10:37:51.681756",
     "exception": false,
     "start_time": "2020-09-01T10:37:51.405472",
     "status": "completed"
    },
    "tags": []
   },
   "outputs": [
    {
     "data": {
      "text/plain": [
       "<matplotlib.axes._subplots.AxesSubplot at 0x7f1488468d10>"
      ]
     },
     "execution_count": 35,
     "metadata": {},
     "output_type": "execute_result"
    },
    {
     "data": {
      "image/png": "[encoded data removed]",
      "text/plain": [
       "<Figure size 432x288 with 1 Axes>"
      ]
     },
     "metadata": {
      "needs_background": "light"
     },
     "output_type": "display_data"
    }
   ],
   "source": [
    "result.sort_values(by = 'feature', ascending=False).plot(kind = 'bar')"
   ]
  },
  {
   "cell_type": "markdown",
   "execution_count": null,
   "metadata": {
    "papermill": {
     "duration": 0.011265,
     "end_time": "2020-09-01T10:37:51.704688",
     "exception": false,
     "start_time": "2020-09-01T10:37:51.693423",
     "status": "completed"
    },
    "tags": []
   },
   "source": [
    "# According to Random Forest"
   ]
  },
  {
   "cell_type": "code",
   "execution_count": 36,
   "metadata": {
    "execution": {
     "iopub.execute_input": "2020-09-01T10:37:51.733352Z",
     "iopub.status.busy": "2020-09-01T10:37:51.732400Z",
     "iopub.status.idle": "2020-09-01T10:37:51.841347Z",
     "shell.execute_reply": "2020-09-01T10:37:51.840660Z"
    },
    "papermill": {
     "duration": 0.12522,
     "end_time": "2020-09-01T10:37:51.841471",
     "exception": false,
     "start_time": "2020-09-01T10:37:51.716251",
     "status": "completed"
    },
    "tags": []
   },
   "outputs": [
    {
     "data": {
      "text/plain": [
       "array([0.03879629, 0.00115215, 0.00616303, 0.00085089, 0.02285895,\n",
       "       0.41691958, 0.01309308, 0.06470361, 0.0042883 , 0.01398824,\n",
       "       0.01655915, 0.01162375, 0.38900298])"
      ]
     },
     "execution_count": 36,
     "metadata": {},
     "output_type": "execute_result"
    }
   ],
   "source": [
    "forest_model.feature_importances_"
   ]
  },
  {
   "cell_type": "code",
   "execution_count": 37,
   "metadata": {
    "execution": {
     "iopub.execute_input": "2020-09-01T10:37:51.871155Z",
     "iopub.status.busy": "2020-09-01T10:37:51.870318Z",
     "iopub.status.idle": "2020-09-01T10:37:52.217629Z",
     "shell.execute_reply": "2020-09-01T10:37:52.216906Z"
    },
    "papermill": {
     "duration": 0.364544,
     "end_time": "2020-09-01T10:37:52.217747",
     "exception": false,
     "start_time": "2020-09-01T10:37:51.853203",
     "status": "completed"
    },
    "tags": []
   },
   "outputs": [
    {
     "data": {
      "image/png": "[encoded data removed]",
      "text/plain": [
       "<Figure size 432x288 with 1 Axes>"
      ]
     },
     "metadata": {
      "needs_background": "light"
     },
     "output_type": "display_data"
    }
   ],
   "source": [
    "result = pd.DataFrame(forest_model.feature_importances_, datasets.columns)\n",
    "result.columns = ['feature']\n",
    "result.sort_values(by='feature', ascending=False).plot(kind='bar');"
   ]
  },
  {
   "cell_type": "markdown",
   "execution_count": null,
   "metadata": {
    "papermill": {
     "duration": 0.012106,
     "end_time": "2020-09-01T10:37:52.241983",
     "exception": false,
     "start_time": "2020-09-01T10:37:52.229877",
     "status": "completed"
    },
    "tags": []
   },
   "source": [
    "# According to Decision Tree"
   ]
  },
  {
   "cell_type": "code",
   "execution_count": 38,
   "metadata": {
    "execution": {
     "iopub.execute_input": "2020-09-01T10:37:52.271985Z",
     "iopub.status.busy": "2020-09-01T10:37:52.271086Z",
     "iopub.status.idle": "2020-09-01T10:37:52.275647Z",
     "shell.execute_reply": "2020-09-01T10:37:52.274942Z"
    },
    "papermill": {
     "duration": 0.02169,
     "end_time": "2020-09-01T10:37:52.275770",
     "exception": false,
     "start_time": "2020-09-01T10:37:52.254080",
     "status": "completed"
    },
    "tags": []
   },
   "outputs": [],
   "source": [
    "tree = DecisionTreeRegressor(max_depth=3)\n",
    "tree.fit(x_train, y_train)\n",
    "\n",
    "y_train_pred = tree.predict(x_train)\n",
    "y_test_pred = tree.predict(x_test)"
   ]
  },
  {
   "cell_type": "code",
   "execution_count": 39,
   "metadata": {
    "execution": {
     "iopub.execute_input": "2020-09-01T10:37:52.316204Z",
     "iopub.status.busy": "2020-09-01T10:37:52.314898Z",
     "iopub.status.idle": "2020-09-01T10:37:52.540246Z",
     "shell.execute_reply": "2020-09-01T10:37:52.539672Z"
    },
    "papermill": {
     "duration": 0.252524,
     "end_time": "2020-09-01T10:37:52.540371",
     "exception": false,
     "start_time": "2020-09-01T10:37:52.287847",
     "status": "completed"
    },
    "tags": []
   },
   "outputs": [
    {
     "data": {
      "image/png": "[encoded data removed]",
      "text/plain": [
       "<Figure size 432x288 with 1 Axes>"
      ]
     },
     "metadata": {
      "needs_background": "light"
     },
     "output_type": "display_data"
    }
   ],
   "source": [
    "result = pd.DataFrame(tree.feature_importances_, datasets.columns)\n",
    "result.columns = ['feature']\n",
    "result.sort_values(by='feature', ascending=False).plot(kind='bar');"
   ]
  },
  {
   "cell_type": "code",
   "execution_count": null,
   "metadata": {
    "papermill": {
     "duration": 0.01171,
     "end_time": "2020-09-01T10:37:52.564423",
     "exception": false,
     "start_time": "2020-09-01T10:37:52.552713",
     "status": "completed"
    },
    "tags": []
   },
   "outputs": [],
   "source": []
  }
 ],
 "metadata": {
  "kernelspec": {
   "display_name": "Python 3",
   "language": "python",
   "name": "python3"
  },
  "language_info": {
   "codemirror_mode": {
    "name": "ipython",
    "version": 3
   },
   "file_extension": ".py",
   "mimetype": "text/x-python",
   "name": "python",
   "nbconvert_exporter": "python",
   "pygments_lexer": "ipython3",
   "version": "3.7.6"
  },
  "papermill": {
   "duration": 12.640381,
   "end_time": "2020-09-01T10:37:52.683805",
   "environment_variables": {},
   "exception": null,
   "input_path": "__notebook__.ipynb",
   "output_path": "__notebook__.ipynb",
   "parameters": {},
   "start_time": "2020-09-01T10:37:40.043424",
   "version": "2.1.0"
  }
 },
 "nbformat": 4,
 "nbformat_minor": 4
}
