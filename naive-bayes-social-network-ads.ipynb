{
 "cells": [
  {
   "cell_type": "markdown",
   "execution_count": null,
   "metadata": {
    "papermill": {
     "duration": 0.005608,
     "end_time": "2020-08-31T04:10:30.268417",
     "exception": false,
     "start_time": "2020-08-31T04:10:30.262809",
     "status": "completed"
    },
    "tags": []
   },
   "source": [
    "# Importing the libraries"
   ]
  },
  {
   "cell_type": "code",
   "execution_count": 1,
   "metadata": {
    "_cell_guid": "79c7e3d0-c299-4dcb-8224-4455121ee9b0",
    "_uuid": "d629ff2d2480ee46fbb7e2d37f6b5fab8052498a",
    "execution": {
     "iopub.execute_input": "2020-08-31T04:10:30.285435Z",
     "iopub.status.busy": "2020-08-31T04:10:30.280463Z",
     "iopub.status.idle": "2020-08-31T04:10:31.484922Z",
     "shell.execute_reply": "2020-08-31T04:10:31.483832Z"
    },
    "papermill": {
     "duration": 1.212122,
     "end_time": "2020-08-31T04:10:31.485045",
     "exception": false,
     "start_time": "2020-08-31T04:10:30.272923",
     "status": "completed"
    },
    "tags": []
   },
   "outputs": [],
   "source": [
    "import numpy as np\n",
    "import matplotlib.pyplot as plt\n",
    "import pandas as pd\n",
    "from sklearn.model_selection import train_test_split\n",
    "from sklearn.preprocessing import StandardScaler\n",
    "from sklearn.decomposition import PCA\n",
    "from sklearn.naive_bayes import GaussianNB\n",
    "from sklearn import metrics\n",
    "import matplotlib.pyplot as plt\n",
    "from sklearn.datasets import load_wine\n",
    "from sklearn.pipeline import make_pipeline\n",
    "%matplotlib inline"
   ]
  },
  {
   "cell_type": "code",
   "execution_count": 2,
   "metadata": {
    "execution": {
     "iopub.execute_input": "2020-08-31T04:10:31.499439Z",
     "iopub.status.busy": "2020-08-31T04:10:31.498815Z",
     "iopub.status.idle": "2020-08-31T04:10:31.500691Z",
     "shell.execute_reply": "2020-08-31T04:10:31.501121Z"
    },
    "papermill": {
     "duration": 0.011725,
     "end_time": "2020-08-31T04:10:31.501270",
     "exception": false,
     "start_time": "2020-08-31T04:10:31.489545",
     "status": "completed"
    },
    "tags": []
   },
   "outputs": [],
   "source": [
    "RANDOM_STATE = 42\n",
    "FIG_SIZE = (10, 7)"
   ]
  },
  {
   "cell_type": "markdown",
   "execution_count": null,
   "metadata": {
    "papermill": {
     "duration": 0.004101,
     "end_time": "2020-08-31T04:10:31.511518",
     "exception": false,
     "start_time": "2020-08-31T04:10:31.507417",
     "status": "completed"
    },
    "tags": []
   },
   "source": [
    "# Importing the dataset"
   ]
  },
  {
   "cell_type": "code",
   "execution_count": 3,
   "metadata": {
    "execution": {
     "iopub.execute_input": "2020-08-31T04:10:31.523360Z",
     "iopub.status.busy": "2020-08-31T04:10:31.522801Z",
     "iopub.status.idle": "2020-08-31T04:10:31.557581Z",
     "shell.execute_reply": "2020-08-31T04:10:31.556135Z"
    },
    "papermill": {
     "duration": 0.041852,
     "end_time": "2020-08-31T04:10:31.557710",
     "exception": false,
     "start_time": "2020-08-31T04:10:31.515858",
     "status": "completed"
    },
    "tags": []
   },
   "outputs": [],
   "source": [
    "dataset = pd.read_csv('../input/social-network-ads/Social_Network_Ads.csv')\n",
    "X = dataset.iloc[:, [2, 3]].values\n",
    "y = dataset.iloc[:, 4].values"
   ]
  },
  {
   "cell_type": "markdown",
   "execution_count": null,
   "metadata": {
    "papermill": {
     "duration": 0.004404,
     "end_time": "2020-08-31T04:10:31.566963",
     "exception": false,
     "start_time": "2020-08-31T04:10:31.562559",
     "status": "completed"
    },
    "tags": []
   },
   "source": [
    "# Splitting the dataset into the Training set and Test set"
   ]
  },
  {
   "cell_type": "code",
   "execution_count": 4,
   "metadata": {
    "execution": {
     "iopub.execute_input": "2020-08-31T04:10:31.581337Z",
     "iopub.status.busy": "2020-08-31T04:10:31.580519Z",
     "iopub.status.idle": "2020-08-31T04:10:31.584922Z",
     "shell.execute_reply": "2020-08-31T04:10:31.584350Z"
    },
    "papermill": {
     "duration": 0.013403,
     "end_time": "2020-08-31T04:10:31.585030",
     "exception": false,
     "start_time": "2020-08-31T04:10:31.571627",
     "status": "completed"
    },
    "tags": []
   },
   "outputs": [],
   "source": [
    "from sklearn.model_selection import train_test_split\n",
    "X_train, X_test, y_train, y_test = train_test_split(X, y, test_size = 0.25, random_state = 0)"
   ]
  },
  {
   "cell_type": "markdown",
   "execution_count": null,
   "metadata": {
    "papermill": {
     "duration": 0.004292,
     "end_time": "2020-08-31T04:10:31.593877",
     "exception": false,
     "start_time": "2020-08-31T04:10:31.589585",
     "status": "completed"
    },
    "tags": []
   },
   "source": [
    "# Feature Scaling\n",
    "\n",
    "### <b style=\"color:blue\"> Feature scaling is a method used to normalize the range of independent variables or features of data. In data processing, it is also known as data normalization and is generally performed during the data preprocessing step.</b>"
   ]
  },
  {
   "cell_type": "code",
   "execution_count": 5,
   "metadata": {
    "execution": {
     "iopub.execute_input": "2020-08-31T04:10:31.608182Z",
     "iopub.status.busy": "2020-08-31T04:10:31.607253Z",
     "iopub.status.idle": "2020-08-31T04:10:31.611643Z",
     "shell.execute_reply": "2020-08-31T04:10:31.611005Z"
    },
    "papermill": {
     "duration": 0.013685,
     "end_time": "2020-08-31T04:10:31.611780",
     "exception": false,
     "start_time": "2020-08-31T04:10:31.598095",
     "status": "completed"
    },
    "tags": []
   },
   "outputs": [],
   "source": [
    "from sklearn.preprocessing import StandardScaler\n",
    "sc = StandardScaler()\n",
    "X_train = sc.fit_transform(X_train)\n",
    "X_test = sc.transform(X_test)"
   ]
  },
  {
   "cell_type": "markdown",
   "execution_count": null,
   "metadata": {
    "papermill": {
     "duration": 0.004062,
     "end_time": "2020-08-31T04:10:31.620490",
     "exception": false,
     "start_time": "2020-08-31T04:10:31.616428",
     "status": "completed"
    },
    "tags": []
   },
   "source": [
    "# Fitting K-NN to the Training set"
   ]
  },
  {
   "cell_type": "code",
   "execution_count": 6,
   "metadata": {
    "execution": {
     "iopub.execute_input": "2020-08-31T04:10:31.703007Z",
     "iopub.status.busy": "2020-08-31T04:10:31.702236Z",
     "iopub.status.idle": "2020-08-31T04:10:31.706986Z",
     "shell.execute_reply": "2020-08-31T04:10:31.707656Z"
    },
    "papermill": {
     "duration": 0.083061,
     "end_time": "2020-08-31T04:10:31.707839",
     "exception": false,
     "start_time": "2020-08-31T04:10:31.624778",
     "status": "completed"
    },
    "tags": []
   },
   "outputs": [],
   "source": [
    "# Fit to data and predict using pipelined GNB and PCA.\n",
    "unscaled_clf = make_pipeline(PCA(n_components=2), GaussianNB())\n",
    "unscaled_clf.fit(X_train, y_train)\n",
    "pred_test = unscaled_clf.predict(X_test)"
   ]
  },
  {
   "cell_type": "markdown",
   "execution_count": null,
   "metadata": {
    "papermill": {
     "duration": 0.006153,
     "end_time": "2020-08-31T04:10:31.720759",
     "exception": false,
     "start_time": "2020-08-31T04:10:31.714606",
     "status": "completed"
    },
    "tags": []
   },
   "source": [
    "# Fit to data and predict using pipelined scaling, GNB and PCA."
   ]
  },
  {
   "cell_type": "code",
   "execution_count": 7,
   "metadata": {
    "execution": {
     "iopub.execute_input": "2020-08-31T04:10:31.736553Z",
     "iopub.status.busy": "2020-08-31T04:10:31.735570Z",
     "iopub.status.idle": "2020-08-31T04:10:31.740411Z",
     "shell.execute_reply": "2020-08-31T04:10:31.740987Z"
    },
    "papermill": {
     "duration": 0.015021,
     "end_time": "2020-08-31T04:10:31.741120",
     "exception": false,
     "start_time": "2020-08-31T04:10:31.726099",
     "status": "completed"
    },
    "tags": []
   },
   "outputs": [],
   "source": [
    "std_clf = make_pipeline(StandardScaler(), PCA(n_components=2), GaussianNB())\n",
    "std_clf.fit(X_train, y_train)\n",
    "pred_test_std = std_clf.predict(X_test)"
   ]
  },
  {
   "cell_type": "markdown",
   "execution_count": null,
   "metadata": {
    "papermill": {
     "duration": 0.004126,
     "end_time": "2020-08-31T04:10:31.749677",
     "exception": false,
     "start_time": "2020-08-31T04:10:31.745551",
     "status": "completed"
    },
    "tags": []
   },
   "source": [
    "\n",
    "# Show prediction accuracies in scaled and unscaled data."
   ]
  },
  {
   "cell_type": "code",
   "execution_count": 8,
   "metadata": {
    "execution": {
     "iopub.execute_input": "2020-08-31T04:10:31.762076Z",
     "iopub.status.busy": "2020-08-31T04:10:31.761165Z",
     "iopub.status.idle": "2020-08-31T04:10:31.768707Z",
     "shell.execute_reply": "2020-08-31T04:10:31.769197Z"
    },
    "papermill": {
     "duration": 0.015306,
     "end_time": "2020-08-31T04:10:31.769326",
     "exception": false,
     "start_time": "2020-08-31T04:10:31.754020",
     "status": "completed"
    },
    "tags": []
   },
   "outputs": [
    {
     "name": "stdout",
     "output_type": "stream",
     "text": [
      "\n",
      "Prediction accuracy for the normal test dataset with PCA\n",
      "90.00%\n",
      "\n",
      "\n",
      "\n",
      "Prediction accuracy for the standardized test dataset with PCA\n",
      "90.00%\n",
      "\n"
     ]
    }
   ],
   "source": [
    "print('\\nPrediction accuracy for the normal test dataset with PCA')\n",
    "print('{:.2%}\\n'.format(metrics.accuracy_score(y_test, pred_test)))\n",
    "print()\n",
    "print('\\nPrediction accuracy for the standardized test dataset with PCA')\n",
    "print('{:.2%}\\n'.format(metrics.accuracy_score(y_test, pred_test_std)))\n"
   ]
  },
  {
   "cell_type": "markdown",
   "execution_count": null,
   "metadata": {
    "papermill": {
     "duration": 0.004328,
     "end_time": "2020-08-31T04:10:31.778636",
     "exception": false,
     "start_time": "2020-08-31T04:10:31.774308",
     "status": "completed"
    },
    "tags": []
   },
   "source": [
    "# Extract PCA from pipeline"
   ]
  },
  {
   "cell_type": "code",
   "execution_count": 9,
   "metadata": {
    "execution": {
     "iopub.execute_input": "2020-08-31T04:10:31.791353Z",
     "iopub.status.busy": "2020-08-31T04:10:31.790476Z",
     "iopub.status.idle": "2020-08-31T04:10:31.795663Z",
     "shell.execute_reply": "2020-08-31T04:10:31.795236Z"
    },
    "papermill": {
     "duration": 0.012536,
     "end_time": "2020-08-31T04:10:31.795798",
     "exception": false,
     "start_time": "2020-08-31T04:10:31.783262",
     "status": "completed"
    },
    "tags": []
   },
   "outputs": [],
   "source": [
    "pca = unscaled_clf.named_steps['pca']\n",
    "pca_std = std_clf.named_steps['pca']"
   ]
  },
  {
   "cell_type": "markdown",
   "execution_count": null,
   "metadata": {
    "papermill": {
     "duration": 0.004228,
     "end_time": "2020-08-31T04:10:31.804781",
     "exception": false,
     "start_time": "2020-08-31T04:10:31.800553",
     "status": "completed"
    },
    "tags": []
   },
   "source": [
    "  # Show first principal components"
   ]
  },
  {
   "cell_type": "code",
   "execution_count": 10,
   "metadata": {
    "execution": {
     "iopub.execute_input": "2020-08-31T04:10:31.819814Z",
     "iopub.status.busy": "2020-08-31T04:10:31.818948Z",
     "iopub.status.idle": "2020-08-31T04:10:31.823573Z",
     "shell.execute_reply": "2020-08-31T04:10:31.823972Z"
    },
    "papermill": {
     "duration": 0.014919,
     "end_time": "2020-08-31T04:10:31.824109",
     "exception": false,
     "start_time": "2020-08-31T04:10:31.809190",
     "status": "completed"
    },
    "tags": []
   },
   "outputs": [
    {
     "name": "stdout",
     "output_type": "stream",
     "text": [
      "\n",
      "PC 1 without scaling:\n",
      " [0.70710678 0.70710678]\n",
      "\n",
      "PC 1 with scaling:\n",
      " [0.70710678 0.70710678]\n"
     ]
    }
   ],
   "source": [
    "print('\\nPC 1 without scaling:\\n', pca.components_[0])\n",
    "print('\\nPC 1 with scaling:\\n', pca_std.components_[0])"
   ]
  },
  {
   "cell_type": "markdown",
   "execution_count": null,
   "metadata": {
    "papermill": {
     "duration": 0.004506,
     "end_time": "2020-08-31T04:10:31.833322",
     "exception": false,
     "start_time": "2020-08-31T04:10:31.828816",
     "status": "completed"
    },
    "tags": []
   },
   "source": [
    "\n",
    "# Use PCA without and with scale on X_train data for visualization."
   ]
  },
  {
   "cell_type": "code",
   "execution_count": 11,
   "metadata": {
    "execution": {
     "iopub.execute_input": "2020-08-31T04:10:31.846582Z",
     "iopub.status.busy": "2020-08-31T04:10:31.845653Z",
     "iopub.status.idle": "2020-08-31T04:10:31.851928Z",
     "shell.execute_reply": "2020-08-31T04:10:31.851428Z"
    },
    "papermill": {
     "duration": 0.013739,
     "end_time": "2020-08-31T04:10:31.852038",
     "exception": false,
     "start_time": "2020-08-31T04:10:31.838299",
     "status": "completed"
    },
    "tags": []
   },
   "outputs": [],
   "source": [
    "X_train_transformed = pca.transform(X_train)\n",
    "scaler = std_clf.named_steps['standardscaler']\n",
    "X_train_std_transformed = pca_std.transform(scaler.transform(X_train))"
   ]
  },
  {
   "cell_type": "markdown",
   "execution_count": null,
   "metadata": {
    "papermill": {
     "duration": 0.004495,
     "end_time": "2020-08-31T04:10:31.861361",
     "exception": false,
     "start_time": "2020-08-31T04:10:31.856866",
     "status": "completed"
    },
    "tags": []
   },
   "source": [
    "# Visualize standardized vs. untouched dataset with PCA performed"
   ]
  },
  {
   "cell_type": "code",
   "execution_count": 12,
   "metadata": {
    "execution": {
     "iopub.execute_input": "2020-08-31T04:10:31.881606Z",
     "iopub.status.busy": "2020-08-31T04:10:31.880673Z",
     "iopub.status.idle": "2020-08-31T04:10:32.238293Z",
     "shell.execute_reply": "2020-08-31T04:10:32.238774Z"
    },
    "papermill": {
     "duration": 0.37266,
     "end_time": "2020-08-31T04:10:32.238910",
     "exception": false,
     "start_time": "2020-08-31T04:10:31.866250",
     "status": "completed"
    },
    "tags": []
   },
   "outputs": [
    {
     "data": {
      "image/png": "[encoded data removed]",
      "text/plain": [
       "<Figure size 720x504 with 2 Axes>"
      ]
     },
     "metadata": {
      "needs_background": "light"
     },
     "output_type": "display_data"
    }
   ],
   "source": [
    "fig, (ax1, ax2) = plt.subplots(ncols=2, figsize=FIG_SIZE)\n",
    "\n",
    "\n",
    "for l, c, m in zip(range(0, 3), ('blue', 'red', 'green'), ('^', 's', 'o')):\n",
    "    ax1.scatter(X_train_transformed[y_train == l, 0],\n",
    "                X_train_transformed[y_train == l, 1],\n",
    "                color=c,\n",
    "                label='class %s' % l,\n",
    "                alpha=0.5,\n",
    "                marker=m\n",
    "                )\n",
    "\n",
    "for l, c, m in zip(range(0, 3), ('blue', 'red', 'green'), ('^', 's', 'o')):\n",
    "    ax2.scatter(X_train_std_transformed[y_train == l, 0],\n",
    "                X_train_std_transformed[y_train == l, 1],\n",
    "                color=c,\n",
    "                label='class %s' % l,\n",
    "                alpha=0.5,\n",
    "                marker=m\n",
    "                )\n",
    "\n",
    "ax1.set_title('Training dataset after PCA')\n",
    "ax2.set_title('Standardized training dataset after PCA')\n",
    "\n",
    "for ax in (ax1, ax2):\n",
    "    ax.set_xlabel('1st principal component')\n",
    "    ax.set_ylabel('2nd principal component')\n",
    "    ax.legend(loc='upper right')\n",
    "    ax.grid()\n",
    "\n",
    "plt.tight_layout()\n",
    "\n",
    "plt.show()"
   ]
  },
  {
   "cell_type": "code",
   "execution_count": null,
   "metadata": {
    "papermill": {
     "duration": 0.005361,
     "end_time": "2020-08-31T04:10:32.249413",
     "exception": false,
     "start_time": "2020-08-31T04:10:32.244052",
     "status": "completed"
    },
    "tags": []
   },
   "outputs": [],
   "source": []
  }
 ],
 "metadata": {
  "kernelspec": {
   "display_name": "Python 3",
   "language": "python",
   "name": "python3"
  },
  "language_info": {
   "codemirror_mode": {
    "name": "ipython",
    "version": 3
   },
   "file_extension": ".py",
   "mimetype": "text/x-python",
   "name": "python",
   "nbconvert_exporter": "python",
   "pygments_lexer": "ipython3",
   "version": "3.7.6"
  },
  "papermill": {
   "duration": 6.379125,
   "end_time": "2020-08-31T04:10:32.362074",
   "environment_variables": {},
   "exception": null,
   "input_path": "__notebook__.ipynb",
   "output_path": "__notebook__.ipynb",
   "parameters": {},
   "start_time": "2020-08-31T04:10:25.982949",
   "version": "2.1.0"
  }
 },
 "nbformat": 4,
 "nbformat_minor": 4
}
