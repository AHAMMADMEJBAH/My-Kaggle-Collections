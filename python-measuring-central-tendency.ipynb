{
 "cells": [
  {
   "cell_type": "markdown",
   "execution_count": null,
   "metadata": {
    "papermill": {
     "duration": 0.005219,
     "end_time": "2020-08-31T19:34:41.383604",
     "exception": false,
     "start_time": "2020-08-31T19:34:41.378385",
     "status": "completed"
    },
    "tags": []
   },
   "source": [
    "<b style=\"color:blue\"> Mathematically central tendency means measuring the center or distribution of location of values of a data set. It gives an idea of the average value of the data in the data set and also an indication of how widely the values are spread in the data set. That in turn helps in evaluating the chances of a new input fitting into the existing data set and hence probability of success.</b>\n",
    "\n",
    "### There are three main measures of central tendency which can be calculated using the methods in pandas python library.\n",
    "\n",
    "* Mean - It is the Average value of the data which is a division of sum of the values with the number of values.\n",
    "* Median - It is the middle value in distribution when the values are arranged in ascending or descending order.\n",
    "* Mode - It is the most commonly occurring value in a distribution.\n"
   ]
  },
  {
   "cell_type": "markdown",
   "execution_count": null,
   "metadata": {
    "papermill": {
     "duration": 0.0036,
     "end_time": "2020-08-31T19:34:41.391847",
     "exception": false,
     "start_time": "2020-08-31T19:34:41.388247",
     "status": "completed"
    },
    "tags": []
   },
   "source": [
    "### Calculating Mean and Median"
   ]
  },
  {
   "cell_type": "code",
   "execution_count": 1,
   "metadata": {
    "_cell_guid": "79c7e3d0-c299-4dcb-8224-4455121ee9b0",
    "_uuid": "d629ff2d2480ee46fbb7e2d37f6b5fab8052498a",
    "execution": {
     "iopub.execute_input": "2020-08-31T19:34:41.417958Z",
     "iopub.status.busy": "2020-08-31T19:34:41.417173Z",
     "iopub.status.idle": "2020-08-31T19:34:41.420902Z",
     "shell.execute_reply": "2020-08-31T19:34:41.420305Z"
    },
    "papermill": {
     "duration": 0.025293,
     "end_time": "2020-08-31T19:34:41.421043",
     "exception": false,
     "start_time": "2020-08-31T19:34:41.395750",
     "status": "completed"
    },
    "tags": []
   },
   "outputs": [],
   "source": [
    "\n",
    "import pandas as pd\n",
    "import numpy as np\n",
    "\n",
    "#Create a Dictionary of series\n",
    "d = {'Name':pd.Series(['Tom','James','Ricky','Vin','Steve','Smith','Jack',\n",
    "   'Lee','Chanchal','Gasper','Naviya','Andres']),\n",
    "   'Age':pd.Series([25,26,25,23,30,29,23,34,40,30,51,46]),\n",
    "   'Rating':pd.Series([4.23,3.24,3.98,2.56,3.20,4.6,3.8,3.78,2.98,4.80,4.10,3.65])}\n",
    "\n",
    "#Create a DataFrame\n",
    "df = pd.DataFrame(d)"
   ]
  },
  {
   "cell_type": "code",
   "execution_count": 2,
   "metadata": {
    "execution": {
     "iopub.execute_input": "2020-08-31T19:34:41.437946Z",
     "iopub.status.busy": "2020-08-31T19:34:41.437164Z",
     "iopub.status.idle": "2020-08-31T19:34:41.454030Z",
     "shell.execute_reply": "2020-08-31T19:34:41.453262Z"
    },
    "papermill": {
     "duration": 0.02861,
     "end_time": "2020-08-31T19:34:41.454183",
     "exception": false,
     "start_time": "2020-08-31T19:34:41.425573",
     "status": "completed"
    },
    "tags": []
   },
   "outputs": [
    {
     "name": "stdout",
     "output_type": "stream",
     "text": [
      "Mean Values in the Distribution\n",
      "Age       31.833333\n",
      "Rating     3.743333\n",
      "dtype: float64\n",
      "*******************************\n",
      "Median Values in the Distribution\n",
      "Age       29.50\n",
      "Rating     3.79\n",
      "dtype: float64\n"
     ]
    }
   ],
   "source": [
    "print(\"Mean Values in the Distribution\")\n",
    "print(df.mean())\n",
    "print(\"*******************************\")\n",
    "print(\"Median Values in the Distribution\")\n",
    "print(df.median())"
   ]
  },
  {
   "cell_type": "markdown",
   "execution_count": null,
   "metadata": {
    "papermill": {
     "duration": 0.003898,
     "end_time": "2020-08-31T19:34:41.462392",
     "exception": false,
     "start_time": "2020-08-31T19:34:41.458494",
     "status": "completed"
    },
    "tags": []
   },
   "source": [
    "### Calculating Mode\n",
    "Mode may or may not be available in a distribution depending on whether the data is continous or whether there are values which has maximum frquency. We take a simple distribution below to find out the mode. Here we have a value which has maximum frequency in the distribution.\n"
   ]
  },
  {
   "cell_type": "code",
   "execution_count": 3,
   "metadata": {
    "execution": {
     "iopub.execute_input": "2020-08-31T19:34:41.481587Z",
     "iopub.status.busy": "2020-08-31T19:34:41.480578Z",
     "iopub.status.idle": "2020-08-31T19:34:41.495128Z",
     "shell.execute_reply": "2020-08-31T19:34:41.494465Z"
    },
    "papermill": {
     "duration": 0.028931,
     "end_time": "2020-08-31T19:34:41.495281",
     "exception": false,
     "start_time": "2020-08-31T19:34:41.466350",
     "status": "completed"
    },
    "tags": []
   },
   "outputs": [
    {
     "name": "stdout",
     "output_type": "stream",
     "text": [
      "        Name   Age  Rating\n",
      "0     Andres  23.0    2.56\n",
      "1   Chanchal  25.0    2.98\n",
      "2     Gasper  30.0    3.20\n",
      "3       Jack   NaN    3.24\n",
      "4      James   NaN    3.65\n",
      "5        Lee   NaN    3.78\n",
      "6     Naviya   NaN    3.80\n",
      "7      Ricky   NaN    3.98\n",
      "8      Smith   NaN    4.10\n",
      "9      Steve   NaN    4.23\n",
      "10       Tom   NaN    4.60\n",
      "11       Vin   NaN    4.80\n"
     ]
    }
   ],
   "source": [
    "print(df.mode())"
   ]
  },
  {
   "cell_type": "code",
   "execution_count": null,
   "metadata": {
    "papermill": {
     "duration": 0.004011,
     "end_time": "2020-08-31T19:34:41.503829",
     "exception": false,
     "start_time": "2020-08-31T19:34:41.499818",
     "status": "completed"
    },
    "tags": []
   },
   "outputs": [],
   "source": []
  }
 ],
 "metadata": {
  "kernelspec": {
   "display_name": "Python 3",
   "language": "python",
   "name": "python3"
  },
  "language_info": {
   "codemirror_mode": {
    "name": "ipython",
    "version": 3
   },
   "file_extension": ".py",
   "mimetype": "text/x-python",
   "name": "python",
   "nbconvert_exporter": "python",
   "pygments_lexer": "ipython3",
   "version": "3.7.6"
  },
  "papermill": {
   "duration": 5.205587,
   "end_time": "2020-08-31T19:34:41.616567",
   "environment_variables": {},
   "exception": null,
   "input_path": "__notebook__.ipynb",
   "output_path": "__notebook__.ipynb",
   "parameters": {},
   "start_time": "2020-08-31T19:34:36.410980",
   "version": "2.1.0"
  }
 },
 "nbformat": 4,
 "nbformat_minor": 4
}
